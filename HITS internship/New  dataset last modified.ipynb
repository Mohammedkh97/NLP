{
 "cells": [
  {
   "cell_type": "code",
   "execution_count": 1,
   "id": "7129f425",
   "metadata": {},
   "outputs": [],
   "source": [
    "import os\n",
    "import spacy \n",
    "import pickle\n",
    "import random\n",
    "import nltk\n",
    "import pandas as pd\n",
    "import numpy as np\n",
    "import nltk\n",
    "from __future__ import unicode_literals, print_function\n",
    "import plac\n",
    "import random\n",
    "from pathlib import Path\n",
    "import spacy\n",
    "from tqdm import tqdm\n",
    "from nltk.stem import PorterStemmer, WordNetLemmatizer\n",
    "from nltk.corpus import stopwords\n",
    "from nltk.tokenize import word_tokenize, sent_tokenize\n",
    "from nltk.corpus import stopwords\n",
    "from nltk.stem import SnowballStemmer\n",
    "from nltk.tokenize import word_tokenize\n",
    "import json\n",
    "import csv\n",
    "import pandas as pd"
   ]
  },
  {
   "cell_type": "code",
   "execution_count": null,
   "id": "fdd871a7",
   "metadata": {},
   "outputs": [],
   "source": []
  },
  {
   "cell_type": "code",
   "execution_count": 3,
   "id": "a0981372",
   "metadata": {},
   "outputs": [],
   "source": [
    "with open(\"IT Skills.txt\", \"r\") as file , open( 'IT Skills_no spaces.txt', 'w') as new:\n",
    "    #Lines = file.readlines()\n",
    "    for line in file:\n",
    "        if line.strip():\n",
    "            new.write(line)\n",
    "    \n",
    "    "
   ]
  },
  {
   "cell_type": "code",
   "execution_count": 133,
   "id": "bc993cad",
   "metadata": {},
   "outputs": [
    {
     "name": "stderr",
     "output_type": "stream",
     "text": [
      "IOPub data rate exceeded.\n",
      "The notebook server will temporarily stop sending output\n",
      "to the client in order to avoid crashing it.\n",
      "To change this limit, set the config variable\n",
      "`--NotebookApp.iopub_data_rate_limit`.\n",
      "\n",
      "Current values:\n",
      "NotebookApp.iopub_data_rate_limit=1000000.0 (bytes/sec)\n",
      "NotebookApp.rate_limit_window=3.0 (secs)\n",
      "\n"
     ]
    }
   ],
   "source": [
    "with open( 'IT Skills_no spaces.txt', 'r') as file:\n",
    "    #for Lines in file:\n",
    "    Lines = file.readlines()\n",
    "    print(Lines)"
   ]
  },
  {
   "cell_type": "code",
   "execution_count": 225,
   "id": "83632d34",
   "metadata": {},
   "outputs": [
    {
     "data": {
      "text/plain": [
       "\"454:::Cyber Security Analyst (SOC Analyst);Cyber Security Analyst (SOC Analyst);;Cyber Security Analyst;CYBER SECURITY PROGRAM ANALYST;MANAGEMENT ANALYST, Federal Grade;IT CYBER PROGRAM OFFICER;IT CYBER SOFTWARE PROJECT INTERN;LOGISTICS MANAGER:::Cyber Security Analyst (SOC Analyst) Cyber Security Analyst (SOC Analyst) - Federal Aviation Administration(FAA) Warrenton, VA Excels at cyber security, network security, system security, INFOSEC, program management, project management, intrusion detection, vulnerability management, operations management, strategic planning, complex problem solving, resource management, budget administration, firewalls, cloud computing, risk management, root cause analysis, intrusion detection, operations management, data gathering, analysis, resource allocation, needs assessment, process improvement, security tools and communication. Ability to multitask in fast-paced and stressful environments. Known as a resourceful, detail-oriented individual with the ability to implement creativity in highly demanding situations. Skilled in planning, achieving goals, fact checking, and professionalism. Work Experience Cyber Security Analyst (SOC Analyst) Federal Aviation Administration(FAA) - Warrenton, VA March 2018 to Present  Monitor numerous sources of collected security data including system security event logs, system Internet Protocol (IP) data flows, Intrusion Detection System (IDS) alerts and payload, and system performance monitoring services.  Coordinate with applicable stakeholders to develop security event remediation strategies and Plans of Actions and Milestones (POAMs) and findings.  Provide proactive event monitoring/event management/configuration of the following security tools for targeted threats and malicious activity including but not limited to: Splunk, Tenable, Palo Alto Networks, AKAMAI Luna Portal, Solaris, QRadar, McAfee EPO, Nessus, Sourcefire Defense Center and Bigfix, Anti-Virus, HIPS, password management tools, web proxies.  Coordinate with other NAS monitoring entities to obtain all required event information and full situational awareness.  Perform security event correlation and risk determination functions to define event response needs  Fluent in a variety of web application protocols, operating systems and networking technologies  Experience with parsing/analysis of large data sets (e.g. vulnerability scan results)  Perform National Airspace System (NAS system) security event response functions.  Use information provided via event monitoring and detection to coordinate FAA responses to resolved detected events.  Establish and maintain security event tickets throughout the event lifecycle.  Coordinate with applicable stakeholders to develop security event remediation strategies and timelines.  Conduct security event telephone conferences as required to provide situational awareness to appropriate entities. Cyber Security Analyst (SOC Analyst) Veterans Affairs - Kearneysville, WV September 2017 to Present  Provide proactive event monitoring/event management/configuration of the following security tools for targeted threats and malicious activity including but not limited to: Splunk, Tenable NESSUS, Palo Alto Networks, Solaris, QRadar, McAfee EPO, Nessus, Netscout, Sourcefire Defense Center and Bigfix.  Monitor numerous sources of collected security data including system security event logs, system Internet Protocol (IP) data flows, Intrusion Detection System (IDS) alerts and payload, and system performance monitoring services.  Coordinate with applicable stakeholders to develop security event remediation strategies and timelines.  Review audit logs and identify any unusual or suspect behavior.  Provide targeted attack detection and analysis, including the development of custom signatures and log queries and analytics for the identification of targeted attacks.  Develop and execute custom scripts to identify host-based indicators of compromise.  Provide advanced technical capabilities to senior leadership, including Big Data Analytics, and Predictive Intelligence.  Provide proactive APT hunting, incident response support, and advanced analytic capabilities  Profile and track APT actors that pose a threat to the organization in coordination with threat intelligence support teams.  Support the incident response process by providing advanced analysis services when requested to include recommending containment and remediation processes, independent analysis of security events, and reporting of identified incidents to Incident Handling (IH). Dept of Treasury March 2017 to November 2017 3/2017 to 11/2017 Information Technology Security  Ensures the integration of IT security programs and services.  Developed solutions to integration / interoperability issues; designing, developing, and managing IT security systems that meet current and future business requirements, and apply or extend, enhance, or optimize the existing architecture.  Communicating complex technical requirements to non-technical personnel; and preparing and presenting briefings to senior management officials on complex/controversial issues.  Evaluates the effectiveness of installed systems and services; and providing advice on and devising solutions to a wide range of IT issues.  Managed and established network security practices; developed contingency and recovery plans; Managed domain name services; providing intranet, Internet, or extra-net gateways; and coordinating other actions to ensure the implementation of networks that support mission requirements.  Facilitate the implementation of major projects such as: upgrading from hubs to switches; consolidating regional networks; and redesigning network infrastructure in response to changes in network technologies or network security requirements.  Developing incident response plans to ensure continuous availability and accessibility of network resources in the event of breach of network and emergencies.  Managing the design of network architectures, including: evaluating and defining infrastructure requirements; selecting hardware and software components; assembling installation teams; coordinating network implementation planning; and overseeing testing and implementation. Cyber Security Analyst VERIS GROUP LLC/COAL FIRE - Vienna, VA September 2016 to March 2017  Assist with the transition from Certification & Accreditation RMF process; Reviews compliance reviews and documentation for new or noncompliant systems including FIPS-199 system categorizations, E-Authentication risk assessments, Privacy Threshold Assessment, Privacy Impact Analysis, and Security Controls Assessments.  Collaborates with the Federal ISSOs to complete A&A artifacts including System Security Plans, Configuration Management Plans, Business Impact Analysis, Business Continuity Plans, FedRamp cloud migration and support the ATO process.  Work with system stakeholders in identifying and evaluating administrative, technical, and operational security risks, threats, weaknesses and vulnerabilities associated with information systems.  Provide support to System, Information, and Data Owners and assist with Security Control integration and incorporation into the SDLC.  Development of security controls assessment and business continuity testing strategies;  Provide cybersecurity technical advisory services regarding Federal and commercial leading practices, relevant strategic initiatives, and emerging technologies/trends.  Stay current on updated on Federal policies, regulations, FISMA compliance and standards, and Cyber Security requirements. Supported Cyber Defense Leads and working groups and meet, at a minimum, Information Assurance Manager Intelligence Community, and Senior Government Officials.  Led and collaborated with senior government managers of IA issues.  Led Information assurance architect, planning, configure, deploy, maintain, and upgrade COTS/GOTS and custom toolsets like Tenable NESSUS and Splunk to address vulnerabilities and/or implement security controls.  Subject Matter expert in engineering knowledge of enterprise IT and security solutions to design, develop and/or implement solutions to ensure they are consistent with enterprise architecture security policies and support full spectrum military cyberspace operations.  Designs, tests, and implements secure operating systems, networks, security monitoring, tuning and management of IT security systems and applications, incident response, digital forensics, loss prevention, and eDiscovery actions.  Includes security control design and solution planning at the system, mission, and enterprise level, security-in-depth/defense-in- depth, and other related IAM/ISSO/ISSE support functions.  Involved in a wide range of security issues including architectures, firewalls, electronic data traffic, and network access.  Researches and evaluates cyber capabilities and new security tools and products against operational requirements and introduces them to the enterprise in alignment with IT security strategy, and to support the offensive and defensive capability design and troubleshoot and problem solve technical and non-technical issues. CYBER SECURITY PROGRAM ANALYST DELTA RESOURCES - Alexandria, VA November 2015 to September 2016 DEVELOPING AND APPLYING INFORMATION ASSURANCE AND CYBERSECURITY:  Serve as a subject matter expert and interface between 40+ DoD agencies, field activities and Enterprise Wide Cybersecurity Solutions Steering Group (ESSG) meetings and discussions.  Categorize DISA, NGA, NSA, US CYBERCOM, US Airforce, US Navy and US Marine Corps information systems in accordance with FIPS 199, CNSSI 1253, and NAVINTEL IA guidance. Selected security controls in accordance with NIST SP 800-53 and CNSSI 1253 guidance.  Document the implementation details of the selected security controls in the System Security Plan. Developed test procedures, based on NIST SP 800-53A guidance, and assess security controls to determine whether they are operating as intended.  Offered a broad understanding of cybersecurity concepts and principles as related to DoD/Federal governance and policy documents, and the DoD action office.  Maintain a comprehension of ESSG portfolio programs. Evaluate project plans, uncover obstacles and develop sound recommendations for new policies and procedures to mitigate challenges.  Perform comprehensive security assessments of identified and applied security controls, providing summaries of assessments in reports that address technical evaluations and results, identify weaknesses or deficiencies and recommend corrective actions for risk mitigation.  Provide security policy interpretation, conduct audits, and formulate positions across a wide range of information security issues and project management activities.  Serve as a principal advisor on all matters, technical and otherwise, involving the security of assigned information systems.  Perform and provide risk tradeoff analysis to implement policies, processes, models, assessments and standards needed to recommend risk acceptance authorization for complex systems and mission enablement.  Perform host and network-based security control assessments, determine risk and prepare reports. Provide knowledge of system and application security threats and vulnerabilities, and skills in network security architecture and systems security engineering concepts. Balance security compliance with program cost, schedules, performance and need.  Perform complex network analysis and assessments based on correlation of disparate security relevant data sources.  Actively develop and apply Information Assurance/Cybersecurity principles, policies, practices, standards and controls, including Risk Management Framework (RMF), and determine how a security system should work. MEETING FACILITATION, ENCOURAGING RESULTS AND HELPING OTHERS PERSEVERE:  Host a minimum of two meetings per year with all Agency and Field Activities (A/FAs) represented to provide current information regarding DoD cybersecurity initiatives and solicit A/FA feedback, positions and needs.  Hold two to three regional meetings and/or site visits annually to gain a first-hand comprehension of A/FA cybersecurity operating environments and requirements.  Develop meeting agendas, handle logistics, facilitate discussions, take detailed notes, draft minutes, and document/track action items.  Ensure the ESSG Co-Chairs remain informed of all activities.  Employ diplomacy and tact in building consensus, balancing competing requirements/priorities, and promoting transparency with other government agencies/stakeholders.  Provide expert advisory services to the ESSG Co-Chairs regarding cybersecurity issues of interest to A/FAs.  Actively collaborate with other working group staffs, including other ESSG support staff at DoD CIO and USCYBERCOM and the Command, Control, Communications, Computers and Cybersecurity Leadership Board (C5LB).  Lead the initiative to encourage information sharing among government agencies and build a collaborative network of partnered organizations.  Managed collaborative efforts surrounding Cyber Security Awareness and developed / implemented new business that increased customer satisfaction. COMMUNICATION AND TECHNOLOGICAL PROGRAMS:  Maintain ongoing contact with DoD agency and field activity cybersecurity leads.  Ensure the ESSG SharePoint portal is maintained by posting current A/FA documents and update access lists.  Analyzed information security, network layers engineering and architecture are compliance with NIST and FISMA policy standards.  Author and present briefings, reports and presentations to the Department of Defense - Chief Information Office (DOD-CIO) leadership, senior policymakers and national security staff.  Manage the design and implementation of complex workflows within the SharePoint portal. MANAGEMENT ANALYST, Federal Grade DEPARTMENT OF THE NAVY - Mechanicsburg, PA May 2015 to November 2015 GS-0343-12 ADMINISTRATIVE, PROGRAM MANAGEMENT AND PROGRAMMATIC ACTIONS:  Served as a Management Analyst on the NAVSUP Manpower Management Team overseeing the validity, guidance and reporting manpower data associated with various databases and metrics.  Coordinated the impact of billet and organizational changes with manpower and comptroller staff.  Conducted reviews and coordinated manpower and comptroller input for form development.  Provided acquisition report budget submission and delivered direct support to the manpower manager for change implementation.  Reviewed and coordinated billet mapping to support IW analysis and generate Program Objectives Memorandum (POM) updates.  Utilized the IW output to provide quantitative data for manpower statistics and forecasts changes in TFMMS and NAVSUP organizations with the IW.  Assisted in completing cost estimates to support in-sourcing initiatives and maintain archives.  Interfaced with NAVSUP Echelon III manpower personnel, field organizations and external organizations at NAVMAC, OPNAV, and various manpower and strategic sourcing organizations to implement improved workflow processes and updates.  Delivered comprehensive knowledge of qualitative and quantitative techniques for analyzing and measuring the effectiveness, efficiency and productivity of functions and activities and applications of techniques to effectively apply BCA and economic analysis development.  Developed project scope, evaluations, reports and recommendations.  Oversaw general administrative practices, manpower projects and studies requiring analysis of interrelated system issues.  Efficiently managed critical databases, to include the Total Force Manpower Management System (TFMMS), Total Workforce Management System (TWMS), TFMMS Micro Manpower Application (TMMCA), Intelligent Workbook (IW), Defense Civilian Personnel Data System (DCPDS), Total Records and Information Management (TRIM), and Navy Database of Competitive Sourcing (NAVDOCS).  Utilized NAVSUP enterprise to manage manpower databases and evaluate proposed changes. ACTIVE STUDIES AND THE DEVELOPMENT/IMPLEMENTATION OF INFORMATION TECHNOLOGY SYSTEMS / DATA:  Developed procedures and established methods to respond to the Chief of Naval Operations (OPNAV), identifying trends and creating solutions to synchronize billet information in various Navy databases.  Managed data and metrics associated with Total Force initiatives.  Compiled, tracked and reported information being developed in response to manpower initiatives, and updated civilian position records maintained in TFMMS using direct input from a variety of sources.  Received and processed requests from field activities to maintain Unit Identification Codes and acquire new ones.  Provided comprehensive knowledge of personal computers.  Developed and maintained sophisticated manpower database systems to update, analyze and display management information in support of manpower metrics.  Delivered extensive knowledge of MS programs to manage data between systems, including TMMCA, TWMA, TFMMS, NAVDOCS, TRIM and IW.  Developed a working team and contractors in executing a program's testing defect and deployment strategies in Customer Relationship Management (CRM) applications.  Facilitated the interoperability of Microsoft Dynamics CRM applications with various IT Navy business departments.  Performed analysis and reconstruction of packet capture data in support of cyber defense and root cause analysis.  Developed strategies for archiving the extensive data products generated by each manpower study.  Updated an Excel-based database of civilian and military billets for the purpose of maintaining NAVSUP local interest data elements for reports and metrics. CREATIVE THINKING, PROBLEM SOLVING AND ANALYSIS:  Conducted studies and analysis to implement DoD, Navy and NAVSUP guidance for a spectrum of manpower issues.  Evaluated the effectiveness and accuracy of activity reporting across the NAVSUP enterprise using a variety of databases and tools. Used knowledge and experience to look at situations objectively, setting aside any biases, and determining the best long-term solutions.  Analyzed patterns of non-compliance and took appropriate administrative/programmatic actions to minimize security risks and insider threats.  Possessed forensics knowledge, including sound disk and memory imaging and artifact analysis. IT CYBER PROGRAM OFFICER NATIONAL GEOSPATIAL INTELLIGENCE AGENCY - Springfield, VA June 2009 to May 2014 Federal Grade: GS-0341-13 PROGRAM MANAGEMENT, JUDGEMENT CALLS AND LEADERSHIP:  Served as the Program Advisor/Team Lead at the National Geospatial-Intelligence Agency (NGA) from 2012 to 2014, Staff Officer at NGA from 2010 to 2012, and IT Program Manager at NGA from 2009 to 2010.  Engaged in program management, problem solving and records management.  Participated in subsequent implementation of adopted recommendations, including staff training, performing operational effectiveness reviews, refining systems and writing operational manuals. Provided administrative support for the director, deputy director and chief of staff of the Military Readiness office and served as the Primary Information Officer of Records management. Participated in monthly award fee briefings with contractors and validated contractor invoices.  Served as a Program Manager/Program Advisor Analyst Team Lead at Enterprise Business Contract Administration Program Office Information Technology/Information Systems (IT/IS) and was responsible for providing oversight on the IT hardware, IT systems support and IT software development life cycle (SDLC), also supported business processes and the deployment of portals and online forms.  Managed the TRAVEL Net deployment database program's strategic testing and deployment customer implementation and support, emergency procedures, and troubleshooting.  Collaborated with testing and acceptance processes.  Led the deployment IT software database and software projects and initiatives.  Monitored testing operations activities and Software Application Products (SAP) initiatives and operates deployment-related operations and maintenance services.  Working with working groups and integrated office teams to develop functional specifications to create and implement more efficient and effective business analytical processes and automated approaches to provide efficient service to customers.  Provided technical expertise to Cloud computing security on data acquisition, integration, aggregation and delivery in support of program goals; integrating industry best practices into the Cloud computing security's processes; and acting as a strong partner in developing the ESSG Co-Chair's information management and delivery strategy.  Collaborated with stakeholders and team members to define and document requirements for new projects.  Established and implemented information security project goals and success factors;  Developed project plans, budgets and schedules with input and buy-in from key stakeholders and team members.  Led project teams, which will include internal groups and outside consultants, to successfully achieve program/project goals in the most cost-effective and time-saving manner possible.  Monitored and measured project progress and communicated project status information to all stakeholders, performing risk management, issue resolution and conflict management, and controlling project scope and quality.  Participated in negotiations for complex and sensitive agreements with partners and contractors.  Delivered exemplary leadership during the reintegration of more than 2K NGA government, military and contracted employees returning from global deployments.  Provided military forces in Afghanistan with key information to support informed decision making.  Directed the Deployment Review Board challenged with vetting all Geospatial/Imagery Analysts and Hybrid Analysts for a down-range mission.  Partnered with the Deployed Review Board (DRB), working with program managers to review and evaluate candidates for Imagery Analyst and Geospatial Analyst jobs for civilian, military and contracted individuals.  Tracked current metrics of NGA Volunteer Deployer Team personnel in collaboration with the Combat Operations Support team.  Managed the cost, schedule and technical performance of IT Acquisitions within the Enterprise Business Contract Administration, defining and defending funding requirements, developing procedures, performing technical evaluations and tracking expenditures.  Managed invoice validation and marketing research efforts, resulting in a $70K savings. BUSINESS CONTINUITY PLANNING/DISASTER RECOVERY PLANNING ASSESSMENT AND REPORTING:  Responsibility for Business Contingency planning efforts with a major focus on assuring the adequacy of business unit contingency plans for critical business areas, functions and applications. Maintained operations, asset protection, and loss mitigation in the event of a disruption, coordinating activities of technology resources with the company's business units and development groups, as required.  Collaborated with business unit management to enhance contingency plans, mitigating the effect of a technology system or application failure or problem. Key objectives are that business units can continue to manage the firm's assets, satisfy our regulatory obligations, and maintain our presence in the market place.  Provided direct communications between the BCP Project Office, Information technology Operations, Technology architecture and Engineering Systems, Systems Application Program Management, and the Military Support Directorate(MSR). Participated in appropriate business unit and development planning meetings and activities. Facilitated timely identification, escalation, resolution, and follow-up for all outstanding issues.  Assisted the department in enhancing, formalizing, and standardizing the business planning process, including forecasting and tracking mechanisms, across all business units, to facilitate timely accommodation of future company recovery requirements and opportunities.  Coordinated and maintained comprehensive business contingency plans and validation methodology, to ensure the firm's ability to recovery, in the event of an unforeseen disruption to facilities, technology systems, or applications.  Performed all departmental administrative activities, including staff meeting attendance, monthly status reporting, budgeting, strategic planning, expense processing, documentation, and other activities, as assigned, in a timely manner.  Provided Business Continuity Planning documentation and training to all employees having a need to understand the Business Continuity Planning process.  Performed periodic reviews and tests of established Business Continuity Plans and procedures, reporting findings to management and making recommendations for improvements as needed. DATABASE ADMINISTRATOR, NOC/SOC/VULNERABILITIES ASSESSMENT AND REPORTING:  Monitored and analyzed Security Event, network traffic and log analysis, prioritization and differentiation between potential intrusion attempts, determination of false alarms, insider threat and APT detection, malware analysis/forensics, determining IOCs, classification and prioritizing events post-triage, conducting security event notifications.  Created and tracked investigations to resolution., Threat Intelligence Monitoring and Reporting.  Monitored the CSOC mailbox to detect phishing attacks and analyzing suspicious emails.  Reported and documented indicators of compromise (IOCs), including command and control channels, for malicious code. Analyzed suspicious web or email files for malicious code discovered through the CSOC's own analysis or reported to the CSOC. Provided recommendations for specific tactical Internet filtering or other measures to mitigate cyber threats.  Developing, implementing, and disseminating new security content, such as cyber threat indicators and IOCs, based on cyber threat intelligence and the results of the CSOSA CSOC's own analysis.  Performed security monitoring in compliance with NIST Risk Management Framework platforms and tools like NESSUS, TRIPWIRE, through rule creation and engineering to reduce false positives and discover previously unknown threats.  Documented and distributed reports to leadership detailing all security events related to network security matters. Performed incident responders in the steps to take to investigate and resolve computer security incidents  Conducted NIST-compliant incident response activities including log analysis, forensic analysis.  Conducted vulnerability and compliance scanning and operating and maintaining vulnerability management and compliance scanning tools and the resulting data and reports.  Offered knowledge of the capabilities and limitations of particular Computer Network Defense (CND) tools, tactics, techniques and procedures. Led and guided assigned team members on all aspects of deployment and data management/IT system administration program activities.  Acted as a program liaison with technical program office, business analysts and with data center operations staffs and supporting partners.  Managed the quality and timeliness of data management projects as assigned and coordinates assigned projects with other integrated project teams.  Monitored and managed programs and software project status, schedules, and measures of success for assigned projects.  Shared and collaborated with various offices across IT Business Process integration, the Office of Chief Information Office, and security offices other offices: to ensure transition is fully operational and maintained for tactical and strategical IT services deployment.  Developed IT Software Development Life Cycle policy and shared with different stakeholders, various offices to support business processes implementation.  Organized and developed software system development in creating various automated work flow in a logical manner that helped reduce costs and increase profitability that nurture customer relationships and satisfaction across the agency.  Kept abreast in new technology capabilities to support in demand IT deployment management processes to end users.  Defined performance metrics and developed charts to showcase findings, providing senior leadership with critical insights and a projected savings of $500K.  Developed a comprehensive trip report detailing the deployment process for the Defense Intelligence Agency.  Designed specialized databases for tracking feedback on potential candidates in addition to reviewing and enhancing business processes. Documented NIST 800-53 security controls  Reviewed assessment and implementing of risk management security programs.  Documented security violations and maintained security databases. ANALYSIS AND PROCEDURAL DESIGN:  Provided exceptional research and analysis, problem solving and solution development abilities. Managed quantitative and qualitative analysis and developed complex data structure analysis to generate business insights and support strategy.  Conducted in-depth analysis of business processes, assessing a large volume of complex data to identify negative trends and capitalize on improvement opportunities.  Played a critical role in business continuity plan/disaster recovery plan development, working with intelligence staff to refine plans and providing key data to offices through the directorate.  Developed detailed recommendations following extensive data analysis. IT CYBER SOFTWARE PROJECT INTERN US ARMY - Chantilly, VA June 2008 to July 2009  Delivered key program assistance, research and analysis in IT Project Management for the enterprise war-fighter operations Program, including management of IT software and hardware acquisition projects within the Communications Directorate.  Maintains organization's cybersecurity effectiveness and efficiency by defining, delivering, and supporting strategic plans for implementing information technologies.  Directs technological research by studying organization goals, strategies, practices, and user projects. Completes projects by coordinating network security resources and timetables with user departments and data center.  Verifies application results by conducting system audits of technologies implemented.  Contributed security software engineering expertise in the development of products through the IT software lifecycle, from requirements definition through successful deployment.  Partnered with multiple organizations in the National Reconnaissance Office to implement IT processes. LOGISTICS MANAGER US ARMY - Fort Carson, CO March 1999 to June 2008 FORT SILL, OKLAHOMA, REPUBLIC OF KOREA, IRAQ  Assist company managers in creating a more productive, cost-effective and profitable enterprise  Provided statistical analyses and strategies to devise numerous possible solutions  Processed purchase orders, monitor deliveries, and reconcile purchasing discrepancies  Processed and verified accuracy of invoices  Reviewed price proposals, review agreements, and purchase orders for conformance to company policy  Negotiated prices, discount terms, delivery arrangements, and agreements with vendors  Created and analyzed reports for areas that are managed within the department.  Coordinated projects to ensure timely and smooth implementation  Proactively identify areas to improve the company operation efficiency and initiate projects to achieve such improvements and developed logistical Standard Operating Procedures(SOP) to stay on top of purchasing orders.  Conducts research, and attend conferences, professional association meetings and technical symposium to gain awareness of the latest information security technological developments.  Determined project scope and collaborated with IT security team members to develop project plan, including schedules and budgets of up to $450K.  Served a deployment to Iraq in 2005/2006, and Korea in 2003/2004.  Recognized with an Army Achievement Medal and coin for excellence in successfully managing the research in IT Threat Security. CREATIVE THINKING, PROBLEM SOLVING AND ANALYTICAL TECHNIQUES:  Demonstrated outstanding analysis and problem-solving techniques.  Engaged in network planning and organization, problem solving and cyber security data tracking/analysis.  Set priorities quickly and moved forward confidently without having all desired information necessary. Handled decision making in a methodical and calculated way, investigating all available data in an organized manner and taking consistent, logical action. COMMUNICATION AND PRESENTATIONS:  Delivered outstanding written and verbal communication skills with all cyber security professionals.  Volunteered to speak at the networking event with other cyber professionals, sharing personal experiences of challenges in combat in support of Operation Iraqi Freedom.  US Army EEO Representative and provided EEO briefing on sexual harassment, recruitment, Application & Hiring, Job Referrals, Job Assignments & Promotions, Pay and Benefits, Discipline & Discharge, and Reasonable Accommodation & Disability.  Led and facilitated meeting on Emerging Security threats research program. Education Bachelor of Science in Cyber Security University of Maryland University College Adelphi, MD Associates in Metro Manila University of Maryland University College Adelphi, MD Skills NESSUS (7 years), SAP (5 years), SPLUNK (2 years), MICROSOFT SHAREPOINT (Less than 1 year), SHAREPOINT (Less than 1 year), Nist (Less than 1 year), Siem (Less than 1 year), Cyber Security (Less than 1 year), Information Security (Less than 1 year) Links https://www.linkedin.com/in/emer-zapanta-8ba38319 Military Service Service Country: Branch: United States Army Rank: Staff Sergeant Commendations: Additional Information TECHNICAL SKILLS MS Office (Word, Excel, PowerPoint, Access, Outlook), SharePoint, Nmap, Nessus, Splunk, Wireshark, , SAP Products, Web Intelligence 4.0, AKAMAI Luna Portal, Big Fix\\n\""
      ]
     },
     "execution_count": 225,
     "metadata": {},
     "output_type": "execute_result"
    }
   ],
   "source": [
    "Lines[453]"
   ]
  },
  {
   "cell_type": "code",
   "execution_count": null,
   "id": "a673fc92",
   "metadata": {},
   "outputs": [],
   "source": [
    "res = '1:::Senior Systems Administrator;Systems Administrator II:::Senior Systems Administrator Brownsville, TX Authorized to work in United States for any employer Work Experience Senior Systems Administrator Trico Products - Brownsville, TX October 2016 to October 2018 Senior Systems Administrator for Trico Products Corporation: Technical lead for the Infrastructure Group at the following Locations:  North America Locations: Brownville, Tx where I was based, Rochester Hills, MI, Logansport, IN, Marion, SC and Matamoros Tamaulipas Mexico.  Global Locations: UK, China, Australia, Argentina, Brazil Performed the following duties:  Project Manager  Technical Lead  Team Leader Projects Implemented:  Global MPLS service provider replacement  Global Router replacement  Cisco Nexus 3k and 9k core switch installations at 2 Datacenters  EMC VxRail HCI deployment at New Datacenter - Migration of virtual servers to new centralized Datacenter, Implemented new cloud backup system  Office 365 Global implementation and Email migration to Cloud including Skype and OneDrive  Carbon Black Antivirus Deployment Skills:  Cisco Routing and Switching configuration, implementation and troubleshooting  LAN/WAN support and troubleshooting  MPLS, BGP,EIGRP,OSPF  DHCP, DNS, WINS, Active Directory Administration  Motorola WING Wireless network configuration  VMware vSphere 5.0, 5.5, 6.5 Install, Configure, Manage  VxRail 4.5 , VSAN 6.5 Install, Configure, Manage  Cisco UCS and HP ProLiant Rack Servers  Windows Server 2008 R2, 2012R2, 2016  Windows 7 and Windows 10 Systems Administrator II Trico Products - Brownsville, TX June 2007 to October 2016 Systems Administrator for Trico Products Responsibilities:  Windows Server Administration  Citrix Xenapp Administration  Windows XP, Windows 7 OS support  LAN/WAN support and troubleshooting Education Associate in Drafting Technology University of Texas at Brownsville Brownsville, TXAugust 1990 to May 1993'"
   ]
  },
  {
   "cell_type": "code",
   "execution_count": null,
   "id": "6fc36480",
   "metadata": {},
   "outputs": [],
   "source": [
    "# dictionary of lists\n",
    "r1 = list(res)\n",
    "r1 = res.split(':::')\n",
    "r2 = r1[1].split(';')\n",
    "job_title = r2[0]\n",
    "job_title\n"
   ]
  },
  {
   "cell_type": "code",
   "execution_count": null,
   "id": "64c61d4b",
   "metadata": {},
   "outputs": [],
   "source": [
    "# dictionary of lists\n",
    "r1 = list(res)\n",
    "r1 = res.split(':::')\n",
    "r2 = r1[1].split(';')\n",
    "job_title = r2[0]\n",
    "job_title\n",
    "cv_descrption = r1[2]\n",
    "cv_descrption"
   ]
  },
  {
   "cell_type": "code",
   "execution_count": null,
   "id": "dda72f75",
   "metadata": {},
   "outputs": [],
   "source": [
    "i = \"'1:::Senior Systems Administrator;Systems Administrator II:::Senior Systems Administrator Brownsville, TX Authorized to work in United States for any employer Work Experience Senior Systems Administrator Trico Products - Brownsville,\"\n",
    "clean_line = re.sub(r'I+[\\W]:+|[\\W]:+|\\d:+', ' ',i)\n",
    "clean_line"
   ]
  },
  {
   "cell_type": "code",
   "execution_count": null,
   "id": "ece09a6d",
   "metadata": {},
   "outputs": [],
   "source": [
    "mydata = []\n",
    "with open('IT Skills.txt', 'rt') as f:\n",
    "    data = f.readlines(1000000)\n",
    "for i in data:\n",
    "    #clean_line = i[:100].replace(':::','')\n",
    "    clean_line = re.sub(r'I+[\\W]:+|[\\W]:+|\\d:+', ' ',i)\n",
    "    if clean_line != '\\n':\n",
    "        print(clean_line)\n",
    "        mydata.append(clean_line)\n",
    "        \n",
    "print(mydata)"
   ]
  },
  {
   "cell_type": "code",
   "execution_count": null,
   "id": "140dcf07",
   "metadata": {},
   "outputs": [],
   "source": [
    "mydata[0]"
   ]
  },
  {
   "cell_type": "code",
   "execution_count": null,
   "id": "f2e51caa",
   "metadata": {},
   "outputs": [],
   "source": [
    "with open(\"IT Skills.txt\", \"r\") as file , open( 'IT Skills_no spaces.txt', 'w') as new:\n",
    "    #Lines = file.readlines()\n",
    "    for line in file:\n",
    "        if line.strip():\n",
    "            new.write(line)\n"
   ]
  },
  {
   "cell_type": "code",
   "execution_count": null,
   "id": "c96225fe",
   "metadata": {},
   "outputs": [],
   "source": [
    "with open( 'IT Skills_no spaces.txt', 'r') as file:\n",
    "    for Lines in file:\n",
    "        Lines = file.readlines(1000000)\n",
    "    print(Lines)"
   ]
  },
  {
   "cell_type": "code",
   "execution_count": null,
   "id": "7c35deaf",
   "metadata": {},
   "outputs": [],
   "source": [
    "data =[]\n",
    "for res in range(len(Lines)):\n",
    "    r1 = Lines[res].split(':::')\n",
    "    r2 = r1[1].split(';')\n",
    "    job_title = r2[0]\n",
    "    #data.append(job_title)\n",
    "    cv_descrp = f'{job_title} , {r1[2]}'\n",
    "    data.append(cv_descrp)\n",
    "print(job_title)\n",
    "cv_descrp"
   ]
  },
  {
   "cell_type": "code",
   "execution_count": null,
   "id": "7942aeba",
   "metadata": {},
   "outputs": [],
   "source": [
    "data[3]"
   ]
  },
  {
   "cell_type": "code",
   "execution_count": 217,
   "id": "a34162ac",
   "metadata": {},
   "outputs": [],
   "source": [
    "data =[]\n",
    "jobtitles=[]\n",
    "for res in range(len(Lines)):\n",
    "    r1 = Lines[res].split(':::')\n",
    "    job_title = r1[1]\n",
    "    jobtitles.append(job_title)\n",
    "    cv_descrp = r1[2]\n",
    "    data.append(cv_descrp)"
   ]
  },
  {
   "cell_type": "code",
   "execution_count": 228,
   "id": "049a9931",
   "metadata": {},
   "outputs": [
    {
     "name": "stdout",
     "output_type": "stream",
     "text": [
      "\n"
     ]
    },
    {
     "data": {
      "text/plain": [
       "'\\n'"
      ]
     },
     "execution_count": 228,
     "metadata": {},
     "output_type": "execute_result"
    }
   ],
   "source": [
    "print(jobtitles[2438])\n",
    "data[2438]"
   ]
  },
  {
   "cell_type": "code",
   "execution_count": 206,
   "id": "a4bd2f02",
   "metadata": {},
   "outputs": [
    {
     "name": "stderr",
     "output_type": "stream",
     "text": [
      "IOPub data rate exceeded.\n",
      "The notebook server will temporarily stop sending output\n",
      "to the client in order to avoid crashing it.\n",
      "To change this limit, set the config variable\n",
      "`--NotebookApp.iopub_data_rate_limit`.\n",
      "\n",
      "Current values:\n",
      "NotebookApp.iopub_data_rate_limit=1000000.0 (bytes/sec)\n",
      "NotebookApp.rate_limit_window=3.0 (secs)\n",
      "\n"
     ]
    }
   ],
   "source": [
    "mydata=[]\n",
    "for i in Lines:\n",
    "    #clean_line = i[:100].replace(':::','')\n",
    "    clean_line = re.sub(r'I+[\\W]:+|[\\W]:+|\\d:+;|\\d:','',i)\n",
    "    if clean_line != '\\n':\n",
    "        print(clean_line)\n",
    "        mydata.append(clean_line)\n",
    "        \n",
    "print(mydata)"
   ]
  },
  {
   "cell_type": "code",
   "execution_count": 216,
   "id": "31428aab",
   "metadata": {},
   "outputs": [
    {
     "data": {
      "text/plain": [
       "'Senior Systems Administrator;Systems Administrator Senior Systems Administrator Brownsville, TX Authorized to work in United States for any employer Work Experience Senior Systems Administrator Trico Products - Brownsville, TX October 2016 to October 2018 Senior Systems Administrator for Trico Products Corporation: Technical lead for the Infrastructure Group at the following Locations:  North America Locations: Brownville, Tx where I was based, Rochester Hills, MI, Logansport, IN, Marion, SC and Matamoros Tamaulipas Mexico.  Global Locations: UK, China, Australia, Argentina, Brazil Performed the following duties:  Project Manager  Technical Lead  Team Leader Projects Implemented:  Global MPLS service provider replacement  Global Router replacement  Cisco Nexus 3k and 9k core switch installations at 2 Datacenters  EMC VxRail HCI deployment at New Datacenter - Migration of virtual servers to new centralized Datacenter, Implemented new cloud backup system  Office 365 Global implementation and Email migration to Cloud including Skype and OneDrive  Carbon Black Antivirus Deployment Skills:  Cisco Routing and Switching configuration, implementation and troubleshooting  LAN/WAN support and troubleshooting  MPLS, BGP,EIGRP,OSPF  DHCP, DNS, WINS, Active Directory Administration  Motorola WING Wireless network configuration  VMware vSphere 5.0, 5.5, 6.5 Install, Configure, Manage  VxRail 4.5 , VSAN 6.5 Install, Configure, Manage  Cisco UCS and HP ProLiant Rack Servers  Windows Server 2008 R2, 2012R2, 2016  Windows 7 and Windows 10 Systems Administrator II Trico Products - Brownsville, TX June 2007 to October 2016 Systems Administrator for Trico Products Responsibilities:  Windows Server Administration  Citrix Xenapp Administration  Windows XP, Windows 7 OS support  LAN/WAN support and troubleshooting Education Associate in Drafting Technology University of Texas at Brownsville Brownsville, TXAugust 1990 to May 1993\\n'"
      ]
     },
     "execution_count": 216,
     "metadata": {},
     "output_type": "execute_result"
    }
   ],
   "source": [
    "mydata[0]"
   ]
  },
  {
   "cell_type": "code",
   "execution_count": 208,
   "id": "8e272eb1",
   "metadata": {},
   "outputs": [
    {
     "data": {
      "text/plain": [
       "\"13Digital Communications and Database Specialist;Marketing Assistant;Executive Assistant;Human Resources AssistantDigital Communications and Database Specialist Digital Communications and Database Specialist - Arts for Learning, Woodruff Arts Center Smyrna, GA - Work Experience Digital Communications and Database Specialist Arts for Learning, Woodruff Arts Center - March 2010 to Present Oversees all updates and maintenance to the organization's website and leverages the site specifically to support the Sales Department and its sales initiatives?  Assists with front-end build out and development of website utilizing our content management platform,Sitecore?  Handles the creation of new website pages, modules, and interactive elements?  Develop the look and feel of websites through wireframes, mockups, prototypes, specifications, and final deliverable?  Creates graphics for website, newsletters and brochures as needed, using Adobe Creative Suite 6?  Creates the e-link newsletters and works with the marketing department to ensure these go out as scheduled to 7000 + customers?  Participate in efforts to integrate marketing and communications and in efforts to continuously improve the corporate website and digital presence.?  Manages Scheduling Solution and Website Redesign projects?  Compiles website analytics data and creates reports for Marketing Committee meetings using Google Analytics?  Maintains all Arts for Learning's constituent lists and related databases through Tessitura Software Data Management System?  Implements and assists in the architectural design and conversion of systems that may be involved or become part of the database systems.?  Acts as liaison for Tessitura Power Users Group, Technology Council and Web Power Users?  Takes part in managing all contacts in the Tessitura database, including being responsible for assigning attributes and updating profiles where applicable?  Prepares and assist in editing data reports for sales, programming and development?  Creates ad-hoc reports for sales and development team?  Trains staff on the use of the company's standard software applications/databases, as well as standards?  Identifies and recommends procedures, solutions and improvements for accuracy, integrity and efficiency of database programs and their usage.?  Create and document processes and procedures for the Sales Team?  Provides support to end-users on database systems.?  Oversees database procedures, which may include confirming use of accurate entry processes; identifying and eliminating duplicate records; archiving of records.?  Generates all necessary contract documents, and distributing contract documents to the appropriate parties?  Serve as the point-of-contact for YA roster artists for the purpose of maintaining artist records in scheduling database, website, other duties as assigned? ? Digital Communications and Database Coordinator? Database Responsibilities:?  See job description above? Digital Communications Responsibilities:?  Oversees all updates and maintenance to the organization's website; Maintains website content and creates any new website pages or graphics, modules and interactive elements.?  Provides support on all online campaigns and promotions.?  Supports any Woodruff Arts Center Web-based initiative as needed.?  Remains knowledgeable of current and new Web-based technology available and how it can enhance the audience's experience with the site.?  Creates and maintains electronic site evaluation forms on Surveymonkey.com?  Helps plan for the long-term growth of the site with team members and outside vendors.? ? Database Coordinator?  Manage a part-time Data Entry Assistant?  Verify the accuracy of all information contained in confirmed program requests prior to processing, communicating regularly with Program Sales Associates?  Create new forms for the sales team?  Provides software training to all staff?  Created and maintain electronic site evaluation forms on Surveymonkey.com?  Process all confirmed program requests in a timely manner by entering all required data into scheduling database, generating contract documents and other paper work as necessary to insure the successful scheduling of requested programs.?  Process Cobb county FS-213 forms?  Serve as the point-of-contact for assigned artists for the purpose of maintaining artist records in scheduling database, website, and calendar of availability.?  Implemented Google calendars for all artists?  Maintain Google calendars for 70 artists?  Maintain Share Point site for Young Audiences?  Work closely with Accounting Coordinator to ensure that all Sales Orders are entered into the database systems correctly.?  Send weekly engagement reminders to artist for any scheduled performances?  Attend Young Audiences Artists performances to get a better understanding of our artists and their programs?  Attend Conferences to help promote Young Audiences artists and programs?  Assist in the implementation of strategic sales initiatives as determined by Program Sales Manager?  Assist Marketing & Communications Team with promotional efforts as assigned?  Assist with special programs/projects as determined.?  Assist with special events?  Prepare and assist in editing data reports as required.?  Other duties as assigned. Marketing Assistant Community South Lending - December 2007 to September 2008 Updated Marketing budget system: updated monthly to inform salesmen of budget and any expenses have incurred?  Compiled and updated sales database using Constant Contact?  Sent out and prepared marketing materials: compiled weekly and monthly marketing materials and sent out to salesmen's customers and potential clients?  Compiled monthly reports?  Coordinated and maintained company recognition program: gathered all recognition requests and inform supervisors, sent out appropriate gifts and gather all information and photos for newsletter?  Prepared and printed flyer materials for salesmen: updated specific materials with the correct information for each individual salesman Executive Assistant InfoMart, Inc - September 2006 to September 2007 Assistant to the President and Vice President?  Created memo's and correspondence for company-wide emails?  Managed professional and personal executive calendar?  Prepared expense reports and reconcile billing?  Arranged travel plans Human Resources Assistant Yancey Bros Co - April 2002 to July 2006 Compiled and distributed monthly supervisors report?  Entered new employee information for medical insurance?  Compiled reports for department billing and auditing using vlookup?  Processed all new hire paperwork (make personnel and confidential files, enter all important information into ADP)?  Helped administer employee benefits (BCBS, FSA, 401K, Prudential Life Insurance, HSA, EAP, etc.)?  Entered employee benefit deductions in ADP?  Typed memos for department manager?  Helped in planning our yearly employee appreciation day's?  Helped with our Quarterly Yancey Newsletter (Pictures, Articles, etc?  Helped with mail distribution when needed, filing, faxing, copying, retiree medical reimbursements, matching donation, billing, quarterly employee surveys, updated company phone lists, sent out applicant turn down letters, & other various administrative tasks.?  Managed all aspects of D.O.T. - audited and managed all files, kept up with drug screen results, schedule physical's, ran outdated MVR's, updated information in our system Education Marketing CHATTAHOOCHEE TECH COLLEGE August 2008 Business KENNESAW STATE UNIVERSITY September 2006 Additional Information KEY SKILLS? Office Skills? Project Management ? Database Implementation ? Database Maintenance? Web Content Management ? Database Administration ? Records Management? Email Marketing ? Graphic Design ? Reporting/Spreadsheets? ? Computer Skills? Sitecore ? Sharepoint ? Tessitura ? HTML/CSS/FTP? Adobe Photoshop ? Microsoft Office ? Google Analytics ? File Maker Pro (AMP)? Adobe Illustrator ? Campaigner ? Contactology ? Report Smith? Adobe Acrobat\\n\""
      ]
     },
     "execution_count": 208,
     "metadata": {},
     "output_type": "execute_result"
    }
   ],
   "source": [
    "mydata[43]"
   ]
  },
  {
   "cell_type": "code",
   "execution_count": 209,
   "id": "b8dac9bf",
   "metadata": {},
   "outputs": [
    {
     "data": {
      "text/plain": [
       "2448"
      ]
     },
     "execution_count": 209,
     "metadata": {},
     "output_type": "execute_result"
    }
   ],
   "source": [
    "len(data)"
   ]
  },
  {
   "cell_type": "code",
   "execution_count": 211,
   "id": "50d3e3d3",
   "metadata": {},
   "outputs": [
    {
     "name": "stdout",
     "output_type": "stream",
     "text": [
      "Researcher/ Data Analyst;Teaching Assistant;Oracle ERP and Database Administrator\n"
     ]
    }
   ],
   "source": [
    "import re\n",
    "cleanedData=[]\n",
    "\n",
    "for cv in range(len(data)):\n",
    "    cleanedCV = re.sub(r'I+[\\W]:+|[\\W]:+|\\d:+;|\\d:', ' ',data[cv])\n",
    "    cleanedCV = re.sub('(@[A-Za-z0-9]+)|([^0-9A-Za-z \\t])|(\\w+:\\/\\/\\S+)|^rt|http.+?\"', \"\", data[cv])\n",
    "    cleanedData.append(cleanedCV)\n",
    "dict = {'Text': cleanedData, 'title':jobtitles }  \n",
    "df = pd.DataFrame(dict) \n",
    "df.to_csv('job_skills_it.csv')\n",
    "print(job_title)"
   ]
  },
  {
   "cell_type": "code",
   "execution_count": 236,
   "id": "47d3d1bc",
   "metadata": {},
   "outputs": [
    {
     "data": {
      "text/plain": [
       "2448"
      ]
     },
     "execution_count": 236,
     "metadata": {},
     "output_type": "execute_result"
    }
   ],
   "source": [
    "len(cleanedData)"
   ]
  },
  {
   "cell_type": "code",
   "execution_count": 237,
   "id": "f742c511",
   "metadata": {},
   "outputs": [
    {
     "data": {
      "text/plain": [
       "'contractor;IT Security Analyst;Desktop Support Technician'"
      ]
     },
     "execution_count": 237,
     "metadata": {},
     "output_type": "execute_result"
    }
   ],
   "source": [
    "jobtitles[454]"
   ]
  },
  {
   "cell_type": "code",
   "execution_count": 242,
   "id": "7cb0b319",
   "metadata": {
    "scrolled": true
   },
   "outputs": [
    {
     "data": {
      "text/html": [
       "<div>\n",
       "<style scoped>\n",
       "    .dataframe tbody tr th:only-of-type {\n",
       "        vertical-align: middle;\n",
       "    }\n",
       "\n",
       "    .dataframe tbody tr th {\n",
       "        vertical-align: top;\n",
       "    }\n",
       "\n",
       "    .dataframe thead th {\n",
       "        text-align: right;\n",
       "    }\n",
       "</style>\n",
       "<table border=\"1\" class=\"dataframe\">\n",
       "  <thead>\n",
       "    <tr style=\"text-align: right;\">\n",
       "      <th></th>\n",
       "      <th>Unnamed: 0</th>\n",
       "      <th>Text</th>\n",
       "      <th>title</th>\n",
       "    </tr>\n",
       "  </thead>\n",
       "  <tbody>\n",
       "    <tr>\n",
       "      <th>0</th>\n",
       "      <td>0</td>\n",
       "      <td>Senior Systems Administrator Brownsville TX Au...</td>\n",
       "      <td>Senior Systems Administrator;Systems Administr...</td>\n",
       "    </tr>\n",
       "    <tr>\n",
       "      <th>1</th>\n",
       "      <td>1</td>\n",
       "      <td>Systems Administrator Metairie LA Driven Techn...</td>\n",
       "      <td>Systems Administrator</td>\n",
       "    </tr>\n",
       "    <tr>\n",
       "      <th>2</th>\n",
       "      <td>2</td>\n",
       "      <td>Systems Administrator Systems Administrator  N...</td>\n",
       "      <td>Systems Administrator;Computer Systems Assistant</td>\n",
       "    </tr>\n",
       "    <tr>\n",
       "      <th>3</th>\n",
       "      <td>3</td>\n",
       "      <td>Jobseeker Computer technician Hightstown NJ Ov...</td>\n",
       "      <td>;Systems Administrator;Network Administrator</td>\n",
       "    </tr>\n",
       "    <tr>\n",
       "      <th>4</th>\n",
       "      <td>4</td>\n",
       "      <td>Systems Administrator Systems Administrator  B...</td>\n",
       "      <td>Systems Administrator;Field Systems Technician</td>\n",
       "    </tr>\n",
       "    <tr>\n",
       "      <th>...</th>\n",
       "      <td>...</td>\n",
       "      <td>...</td>\n",
       "      <td>...</td>\n",
       "    </tr>\n",
       "    <tr>\n",
       "      <th>2440</th>\n",
       "      <td>2439</td>\n",
       "      <td>Digital Communications and Database Specialist...</td>\n",
       "      <td>Digital Communications and Database Specialist...</td>\n",
       "    </tr>\n",
       "    <tr>\n",
       "      <th>2441</th>\n",
       "      <td>2440</td>\n",
       "      <td>Database Volunteer Union NJ  Work Experience D...</td>\n",
       "      <td>Database Volunteer;Cashier and Customer Service</td>\n",
       "    </tr>\n",
       "    <tr>\n",
       "      <th>2442</th>\n",
       "      <td>2441</td>\n",
       "      <td>Database Administrator Houston TX  Over 4 year...</td>\n",
       "      <td>Database Administrator;Database Administrator;DBA</td>\n",
       "    </tr>\n",
       "    <tr>\n",
       "      <th>2443</th>\n",
       "      <td>2442</td>\n",
       "      <td>Risk Analyst Database Analyst Risk Analyst Dat...</td>\n",
       "      <td>Risk Analyst/ Database Analyst;Math Tutor;Math...</td>\n",
       "    </tr>\n",
       "    <tr>\n",
       "      <th>2444</th>\n",
       "      <td>2443</td>\n",
       "      <td>Researcher Data Analyst Researcher Programmer ...</td>\n",
       "      <td>Researcher/ Data Analyst;Teaching Assistant;Or...</td>\n",
       "    </tr>\n",
       "  </tbody>\n",
       "</table>\n",
       "<p>2445 rows × 3 columns</p>\n",
       "</div>"
      ],
      "text/plain": [
       "     Unnamed: 0                                               Text  \\\n",
       "0             0  Senior Systems Administrator Brownsville TX Au...   \n",
       "1             1  Systems Administrator Metairie LA Driven Techn...   \n",
       "2             2  Systems Administrator Systems Administrator  N...   \n",
       "3             3  Jobseeker Computer technician Hightstown NJ Ov...   \n",
       "4             4  Systems Administrator Systems Administrator  B...   \n",
       "...         ...                                                ...   \n",
       "2440       2439  Digital Communications and Database Specialist...   \n",
       "2441       2440  Database Volunteer Union NJ  Work Experience D...   \n",
       "2442       2441  Database Administrator Houston TX  Over 4 year...   \n",
       "2443       2442  Risk Analyst Database Analyst Risk Analyst Dat...   \n",
       "2444       2443  Researcher Data Analyst Researcher Programmer ...   \n",
       "\n",
       "                                                  title  \n",
       "0     Senior Systems Administrator;Systems Administr...  \n",
       "1                                 Systems Administrator  \n",
       "2      Systems Administrator;Computer Systems Assistant  \n",
       "3          ;Systems Administrator;Network Administrator  \n",
       "4        Systems Administrator;Field Systems Technician  \n",
       "...                                                 ...  \n",
       "2440  Digital Communications and Database Specialist...  \n",
       "2441    Database Volunteer;Cashier and Customer Service  \n",
       "2442  Database Administrator;Database Administrator;DBA  \n",
       "2443  Risk Analyst/ Database Analyst;Math Tutor;Math...  \n",
       "2444  Researcher/ Data Analyst;Teaching Assistant;Or...  \n",
       "\n",
       "[2445 rows x 3 columns]"
      ]
     },
     "execution_count": 242,
     "metadata": {},
     "output_type": "execute_result"
    }
   ],
   "source": [
    "myData = pd.read_csv('job_skills_it.csv')\n",
    "myData"
   ]
  },
  {
   "cell_type": "code",
   "execution_count": 5,
   "id": "6199ae62",
   "metadata": {},
   "outputs": [],
   "source": [
    "a=np.random.randn(2,3) \n",
    "b=np.random.randn(2,1) "
   ]
  },
  {
   "cell_type": "code",
   "execution_count": 10,
   "id": "ef308f9b",
   "metadata": {},
   "outputs": [],
   "source": [
    "c = a+b"
   ]
  },
  {
   "cell_type": "code",
   "execution_count": 11,
   "id": "0d23bcc7",
   "metadata": {},
   "outputs": [
    {
     "data": {
      "text/plain": [
       "array([[ 0.16605352, -0.76783805, -1.33010116],\n",
       "       [-0.76480795, -0.68317634, -0.86271885]])"
      ]
     },
     "execution_count": 11,
     "metadata": {},
     "output_type": "execute_result"
    }
   ],
   "source": [
    "c"
   ]
  },
  {
   "cell_type": "code",
   "execution_count": 14,
   "id": "ee24f874",
   "metadata": {},
   "outputs": [
    {
     "data": {
      "text/plain": [
       "array([[4, 1],\n",
       "       [1, 9]])"
      ]
     },
     "execution_count": 14,
     "metadata": {},
     "output_type": "execute_result"
    }
   ],
   "source": [
    "a=np.array([[2,1],[1,3]])\n",
    "\n",
    "a*a\n"
   ]
  },
  {
   "cell_type": "code",
   "execution_count": null,
   "id": "cd601b1d",
   "metadata": {},
   "outputs": [],
   "source": []
  }
 ],
 "metadata": {
  "kernelspec": {
   "display_name": "Python 3 (ipykernel)",
   "language": "python",
   "name": "python3"
  },
  "language_info": {
   "codemirror_mode": {
    "name": "ipython",
    "version": 3
   },
   "file_extension": ".py",
   "mimetype": "text/x-python",
   "name": "python",
   "nbconvert_exporter": "python",
   "pygments_lexer": "ipython3",
   "version": "3.9.13"
  }
 },
 "nbformat": 4,
 "nbformat_minor": 5
}
