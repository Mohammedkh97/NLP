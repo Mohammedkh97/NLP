{
 "cells": [
  {
   "cell_type": "code",
   "execution_count": 1,
   "id": "14005855",
   "metadata": {},
   "outputs": [],
   "source": [
    "import os\n",
    "import spacy \n",
    "import pickle\n",
    "import random\n",
    "import nltk\n",
    "import pandas as pd\n",
    "import numpy as np\n",
    "import nltk\n",
    "from __future__ import unicode_literals, print_function\n",
    "import plac\n",
    "import random\n",
    "from pathlib import Path\n",
    "import spacy\n",
    "from tqdm import tqdm\n",
    "from nltk.stem import PorterStemmer, WordNetLemmatizer\n",
    "from nltk.corpus import stopwords\n",
    "from nltk.tokenize import word_tokenize, sent_tokenize\n",
    "from nltk.corpus import stopwords\n",
    "from nltk.stem import SnowballStemmer\n",
    "from nltk.tokenize import word_tokenize\n",
    "import json"
   ]
  },
  {
   "cell_type": "code",
   "execution_count": 2,
   "id": "e51077af",
   "metadata": {},
   "outputs": [],
   "source": [
    "#!pip install jsonlines"
   ]
  },
  {
   "cell_type": "markdown",
   "id": "ef9a1d63",
   "metadata": {},
   "source": [
    "Resume Dataset:"
   ]
  },
  {
   "cell_type": "code",
   "execution_count": 3,
   "id": "2349da87",
   "metadata": {},
   "outputs": [
    {
     "data": {
      "text/html": [
       "<div>\n",
       "<style scoped>\n",
       "    .dataframe tbody tr th:only-of-type {\n",
       "        vertical-align: middle;\n",
       "    }\n",
       "\n",
       "    .dataframe tbody tr th {\n",
       "        vertical-align: top;\n",
       "    }\n",
       "\n",
       "    .dataframe thead th {\n",
       "        text-align: right;\n",
       "    }\n",
       "</style>\n",
       "<table border=\"1\" class=\"dataframe\">\n",
       "  <thead>\n",
       "    <tr style=\"text-align: right;\">\n",
       "      <th></th>\n",
       "      <th>Category</th>\n",
       "      <th>Resume</th>\n",
       "    </tr>\n",
       "  </thead>\n",
       "  <tbody>\n",
       "    <tr>\n",
       "      <th>0</th>\n",
       "      <td>Data Science</td>\n",
       "      <td>Skills * Programming Languages: Python (pandas...</td>\n",
       "    </tr>\n",
       "    <tr>\n",
       "      <th>1</th>\n",
       "      <td>Data Science</td>\n",
       "      <td>Education Details \\r\\nMay 2013 to May 2017 B.E...</td>\n",
       "    </tr>\n",
       "    <tr>\n",
       "      <th>2</th>\n",
       "      <td>Data Science</td>\n",
       "      <td>Areas of Interest Deep Learning, Control Syste...</td>\n",
       "    </tr>\n",
       "    <tr>\n",
       "      <th>3</th>\n",
       "      <td>Data Science</td>\n",
       "      <td>Skills â¢ R â¢ Python â¢ SAP HANA â¢ Table...</td>\n",
       "    </tr>\n",
       "    <tr>\n",
       "      <th>4</th>\n",
       "      <td>Data Science</td>\n",
       "      <td>Education Details \\r\\n MCA   YMCAUST,  Faridab...</td>\n",
       "    </tr>\n",
       "    <tr>\n",
       "      <th>...</th>\n",
       "      <td>...</td>\n",
       "      <td>...</td>\n",
       "    </tr>\n",
       "    <tr>\n",
       "      <th>957</th>\n",
       "      <td>Testing</td>\n",
       "      <td>Computer Skills: â¢ Proficient in MS office (...</td>\n",
       "    </tr>\n",
       "    <tr>\n",
       "      <th>958</th>\n",
       "      <td>Testing</td>\n",
       "      <td>â Willingness to accept the challenges. â ...</td>\n",
       "    </tr>\n",
       "    <tr>\n",
       "      <th>959</th>\n",
       "      <td>Testing</td>\n",
       "      <td>PERSONAL SKILLS â¢ Quick learner, â¢ Eagerne...</td>\n",
       "    </tr>\n",
       "    <tr>\n",
       "      <th>960</th>\n",
       "      <td>Testing</td>\n",
       "      <td>COMPUTER SKILLS &amp; SOFTWARE KNOWLEDGE MS-Power ...</td>\n",
       "    </tr>\n",
       "    <tr>\n",
       "      <th>961</th>\n",
       "      <td>Testing</td>\n",
       "      <td>Skill Set OS Windows XP/7/8/8.1/10 Database MY...</td>\n",
       "    </tr>\n",
       "  </tbody>\n",
       "</table>\n",
       "<p>962 rows × 2 columns</p>\n",
       "</div>"
      ],
      "text/plain": [
       "         Category                                             Resume\n",
       "0    Data Science  Skills * Programming Languages: Python (pandas...\n",
       "1    Data Science  Education Details \\r\\nMay 2013 to May 2017 B.E...\n",
       "2    Data Science  Areas of Interest Deep Learning, Control Syste...\n",
       "3    Data Science  Skills â¢ R â¢ Python â¢ SAP HANA â¢ Table...\n",
       "4    Data Science  Education Details \\r\\n MCA   YMCAUST,  Faridab...\n",
       "..            ...                                                ...\n",
       "957       Testing  Computer Skills: â¢ Proficient in MS office (...\n",
       "958       Testing  â Willingness to accept the challenges. â ...\n",
       "959       Testing  PERSONAL SKILLS â¢ Quick learner, â¢ Eagerne...\n",
       "960       Testing  COMPUTER SKILLS & SOFTWARE KNOWLEDGE MS-Power ...\n",
       "961       Testing  Skill Set OS Windows XP/7/8/8.1/10 Database MY...\n",
       "\n",
       "[962 rows x 2 columns]"
      ]
     },
     "execution_count": 3,
     "metadata": {},
     "output_type": "execute_result"
    }
   ],
   "source": [
    "data_1 = pd.read_csv(r\"UpdatedResumeDataSet.csv\")\n",
    "data_1"
   ]
  },
  {
   "cell_type": "code",
   "execution_count": 4,
   "id": "219f63af",
   "metadata": {},
   "outputs": [
    {
     "data": {
      "text/plain": [
       "'Skills * Programming Languages: Python (pandas, numpy, scipy, scikit-learn, matplotlib), Sql, Java, JavaScript/JQuery. * Machine learning: Regression, SVM, NaÃ¯ve Bayes, KNN, Random Forest, Decision Trees, Boosting techniques, Cluster Analysis, Word Embedding, Sentiment Analysis, Natural Language processing, Dimensionality reduction, Topic Modelling (LDA, NMF), PCA & Neural Nets. * Database Visualizations: Mysql, SqlServer, Cassandra, Hbase, ElasticSearch D3.js, DC.js, Plotly, kibana, matplotlib, ggplot, Tableau. * Others: Regular Expression, HTML, CSS, Angular 6, Logstash, Kafka, Python Flask, Git, Docker, computer vision - Open CV and understanding of Deep learning.Education Details \\r\\n\\r\\nData Science Assurance Associate \\r\\n\\r\\nData Science Assurance Associate - Ernst & Young LLP\\r\\nSkill Details \\r\\nJAVASCRIPT- Exprience - 24 months\\r\\njQuery- Exprience - 24 months\\r\\nPython- Exprience - 24 monthsCompany Details \\r\\ncompany - Ernst & Young LLP\\r\\ndescription - Fraud Investigations and Dispute Services   Assurance\\r\\nTECHNOLOGY ASSISTED REVIEW\\r\\nTAR (Technology Assisted Review) assists in accelerating the review process and run analytics and generate reports.\\r\\n* Core member of a team helped in developing automated review platform tool from scratch for assisting E discovery domain, this tool implements predictive coding and topic modelling by automating reviews, resulting in reduced labor costs and time spent during the lawyers review.\\r\\n* Understand the end to end flow of the solution, doing research and development for classification models, predictive analysis and mining of the information present in text data. Worked on analyzing the outputs and precision monitoring for the entire tool.\\r\\n* TAR assists in predictive coding, topic modelling from the evidence by following EY standards. Developed the classifier models in order to identify \"red flags\" and fraud-related issues.\\r\\n\\r\\nTools & Technologies: Python, scikit-learn, tfidf, word2vec, doc2vec, cosine similarity, NaÃ¯ve Bayes, LDA, NMF for topic modelling, Vader and text blob for sentiment analysis. Matplot lib, Tableau dashboard for reporting.\\r\\n\\r\\nMULTIPLE DATA SCIENCE AND ANALYTIC PROJECTS (USA CLIENTS)\\r\\nTEXT ANALYTICS - MOTOR VEHICLE CUSTOMER REVIEW DATA * Received customer feedback survey data for past one year. Performed sentiment (Positive, Negative & Neutral) and time series analysis on customer comments across all 4 categories.\\r\\n* Created heat map of terms by survey category based on frequency of words * Extracted Positive and Negative words across all the Survey categories and plotted Word cloud.\\r\\n* Created customized tableau dashboards for effective reporting and visualizations.\\r\\nCHATBOT * Developed a user friendly chatbot for one of our Products which handle simple questions about hours of operation, reservation options and so on.\\r\\n* This chat bot serves entire product related questions. Giving overview of tool via QA platform and also give recommendation responses so that user question to build chain of relevant answer.\\r\\n* This too has intelligence to build the pipeline of questions as per user requirement and asks the relevant /recommended questions.\\r\\n\\r\\nTools & Technologies: Python, Natural language processing, NLTK, spacy, topic modelling, Sentiment analysis, Word Embedding, scikit-learn, JavaScript/JQuery, SqlServer\\r\\n\\r\\nINFORMATION GOVERNANCE\\r\\nOrganizations to make informed decisions about all of the information they store. The integrated Information Governance portfolio synthesizes intelligence across unstructured data sources and facilitates action to ensure organizations are best positioned to counter information risk.\\r\\n* Scan data from multiple sources of formats and parse different file formats, extract Meta data information, push results for indexing elastic search and created customized, interactive dashboards using kibana.\\r\\n* Preforming ROT Analysis on the data which give information of data which helps identify content that is either Redundant, Outdated, or Trivial.\\r\\n* Preforming full-text search analysis on elastic search with predefined methods which can tag as (PII) personally identifiable information (social security numbers, addresses, names, etc.) which frequently targeted during cyber-attacks.\\r\\nTools & Technologies: Python, Flask, Elastic Search, Kibana\\r\\n\\r\\nFRAUD ANALYTIC PLATFORM\\r\\nFraud Analytics and investigative platform to review all red flag cases.\\r\\nâ\\x80¢ FAP is a Fraud Analytics and investigative platform with inbuilt case manager and suite of Analytics for various ERP systems.\\r\\n* It can be used by clients to interrogate their Accounting systems for identifying the anomalies which can be indicators of fraud by running advanced analytics\\r\\nTools & Technologies: HTML, JavaScript, SqlServer, JQuery, CSS, Bootstrap, Node.js, D3.js, DC.js'"
      ]
     },
     "execution_count": 4,
     "metadata": {},
     "output_type": "execute_result"
    }
   ],
   "source": [
    "data_1['Resume'][0]"
   ]
  },
  {
   "cell_type": "code",
   "execution_count": 5,
   "id": "8a00eeb7",
   "metadata": {},
   "outputs": [
    {
     "data": {
      "text/plain": [
       "['tok2vec', 'tagger', 'parser', 'attribute_ruler', 'lemmatizer', 'ner']"
      ]
     },
     "execution_count": 5,
     "metadata": {},
     "output_type": "execute_result"
    }
   ],
   "source": [
    "nlp = spacy.load(\"en_core_web_lg\")\n",
    "nlp.pipe_names"
   ]
  },
  {
   "cell_type": "markdown",
   "id": "d90c878a",
   "metadata": {},
   "source": [
    "Skills Dataset to make the entities from Resume Dataset:"
   ]
  },
  {
   "cell_type": "code",
   "execution_count": 6,
   "id": "b51cee1d",
   "metadata": {},
   "outputs": [
    {
     "data": {
      "text/plain": [
       "<spacy.pipeline.entityruler.EntityRuler at 0x1b6ee51a480>"
      ]
     },
     "execution_count": 6,
     "metadata": {},
     "output_type": "execute_result"
    }
   ],
   "source": [
    "skill_pattern_path = r'jz_skill_patterns.jsonl'\n",
    "ruler = nlp.add_pipe(\"entity_ruler\")\n",
    "ruler.from_disk(skill_pattern_path)"
   ]
  },
  {
   "cell_type": "code",
   "execution_count": 7,
   "id": "912d8499",
   "metadata": {},
   "outputs": [],
   "source": [
    "import re\n",
    "clean = []\n",
    "for i in range(data_1.shape[0]):\n",
    "    review = re.sub(\n",
    "        '(@[A-Za-z0-9]+)|([^0-9A-Za-z \\t])|(\\w+:\\/\\/\\S+)|^rt|http.+?\"',\" \",\n",
    "        str(data_1[\"Resume\"].iloc[i])\n",
    "    )\n",
    "    review = review.lower()\n",
    "    review = review.split()\n",
    "    lm = WordNetLemmatizer()\n",
    "    review = [\n",
    "        lm.lemmatize(word)\n",
    "        for word in review\n",
    "        if not word in set(stopwords.words(\"english\"))\n",
    "    ]\n",
    "    review = \" \".join(review)\n",
    "    clean.append(review)"
   ]
  },
  {
   "cell_type": "code",
   "execution_count": 8,
   "id": "14a5ecea",
   "metadata": {},
   "outputs": [],
   "source": [
    "def normalizing_data(dataFrame , data):\n",
    "    clean = []\n",
    "    for i in range(dataFrame.shape[0]):\n",
    "        review = re.sub(\n",
    "        '(@[A-Za-z0-9]+)|([^0-9A-Za-z \\t])|(\\w+:\\/\\/\\S+)|^rt|http.+?\"',\n",
    "        \" \",\n",
    "        str(data.iloc[i])\n",
    "        )\n",
    "        review = review.lower()\n",
    "        review = review.split()\n",
    "        lm = WordNetLemmatizer()\n",
    "        review = [\n",
    "            lm.lemmatize(word)\n",
    "            for word in review\n",
    "            if not word in set(stopwords.words(\"english\"))\n",
    "            ]\n",
    "        review = \" \".join(review)\n",
    "        clean.append(review)"
   ]
  },
  {
   "cell_type": "code",
   "execution_count": null,
   "id": "c279b4f7",
   "metadata": {},
   "outputs": [],
   "source": []
  },
  {
   "cell_type": "code",
   "execution_count": 9,
   "id": "7d6af771",
   "metadata": {},
   "outputs": [],
   "source": [
    "def get_skills(text):\n",
    "    doc = nlp(text)\n",
    "    myset = []\n",
    "    subset = []\n",
    "    for ent in doc.ents:\n",
    "        if ent.label_ == \"SKILL\":\n",
    "            subset.append(ent.text)\n",
    "    myset.append(subset)\n",
    "    return subset"
   ]
  },
  {
   "cell_type": "code",
   "execution_count": 10,
   "id": "f6bdbad9",
   "metadata": {},
   "outputs": [],
   "source": [
    "def unique_skills(x):\n",
    "    return list(set(x))"
   ]
  },
  {
   "cell_type": "code",
   "execution_count": 11,
   "id": "3acc2621",
   "metadata": {},
   "outputs": [
    {
     "data": {
      "text/html": [
       "<div>\n",
       "<style scoped>\n",
       "    .dataframe tbody tr th:only-of-type {\n",
       "        vertical-align: middle;\n",
       "    }\n",
       "\n",
       "    .dataframe tbody tr th {\n",
       "        vertical-align: top;\n",
       "    }\n",
       "\n",
       "    .dataframe thead th {\n",
       "        text-align: right;\n",
       "    }\n",
       "</style>\n",
       "<table border=\"1\" class=\"dataframe\">\n",
       "  <thead>\n",
       "    <tr style=\"text-align: right;\">\n",
       "      <th></th>\n",
       "      <th>Category</th>\n",
       "      <th>Resume</th>\n",
       "      <th>Resume_Cleaned</th>\n",
       "      <th>skills</th>\n",
       "    </tr>\n",
       "  </thead>\n",
       "  <tbody>\n",
       "    <tr>\n",
       "      <th>0</th>\n",
       "      <td>Data Science</td>\n",
       "      <td>Skills * Programming Languages: Python (pandas...</td>\n",
       "      <td>skill programming language python panda numpy ...</td>\n",
       "      <td>[angular, mysql, computer vision, elasticsearc...</td>\n",
       "    </tr>\n",
       "    <tr>\n",
       "      <th>1</th>\n",
       "      <td>Data Science</td>\n",
       "      <td>Education Details \\r\\nMay 2013 to May 2017 B.E...</td>\n",
       "      <td>education detail may 2013 may 2017 b e uit rgp...</td>\n",
       "      <td>[machine learning, outlier, business, feature ...</td>\n",
       "    </tr>\n",
       "    <tr>\n",
       "      <th>2</th>\n",
       "      <td>Data Science</td>\n",
       "      <td>Areas of Interest Deep Learning, Control Syste...</td>\n",
       "      <td>area interest deep learning control system des...</td>\n",
       "      <td>[mysql, segmentation, analytics, github, segme...</td>\n",
       "    </tr>\n",
       "    <tr>\n",
       "      <th>3</th>\n",
       "      <td>Data Science</td>\n",
       "      <td>Skills â¢ R â¢ Python â¢ SAP HANA â¢ Table...</td>\n",
       "      <td>skill r python sap hana tableau sap hana sql s...</td>\n",
       "      <td>[data processing, segmentation, analytics, seg...</td>\n",
       "    </tr>\n",
       "    <tr>\n",
       "      <th>4</th>\n",
       "      <td>Data Science</td>\n",
       "      <td>Education Details \\r\\n MCA   YMCAUST,  Faridab...</td>\n",
       "      <td>education detail mca ymcaust faridabad haryana...</td>\n",
       "      <td>[data analysis, python, data structure, databa...</td>\n",
       "    </tr>\n",
       "  </tbody>\n",
       "</table>\n",
       "</div>"
      ],
      "text/plain": [
       "       Category                                             Resume  \\\n",
       "0  Data Science  Skills * Programming Languages: Python (pandas...   \n",
       "1  Data Science  Education Details \\r\\nMay 2013 to May 2017 B.E...   \n",
       "2  Data Science  Areas of Interest Deep Learning, Control Syste...   \n",
       "3  Data Science  Skills â¢ R â¢ Python â¢ SAP HANA â¢ Table...   \n",
       "4  Data Science  Education Details \\r\\n MCA   YMCAUST,  Faridab...   \n",
       "\n",
       "                                      Resume_Cleaned  \\\n",
       "0  skill programming language python panda numpy ...   \n",
       "1  education detail may 2013 may 2017 b e uit rgp...   \n",
       "2  area interest deep learning control system des...   \n",
       "3  skill r python sap hana tableau sap hana sql s...   \n",
       "4  education detail mca ymcaust faridabad haryana...   \n",
       "\n",
       "                                              skills  \n",
       "0  [angular, mysql, computer vision, elasticsearc...  \n",
       "1  [machine learning, outlier, business, feature ...  \n",
       "2  [mysql, segmentation, analytics, github, segme...  \n",
       "3  [data processing, segmentation, analytics, seg...  \n",
       "4  [data analysis, python, data structure, databa...  "
      ]
     },
     "execution_count": 11,
     "metadata": {},
     "output_type": "execute_result"
    }
   ],
   "source": [
    "data_1[\"Resume_Cleaned\"] = clean\n",
    "data_1[\"skills\"] = data_1[\"Resume_Cleaned\"].str.lower().apply(get_skills)\n",
    "data_1[\"skills\"] = data_1[\"skills\"].apply(unique_skills)\n",
    "data_1.head()"
   ]
  },
  {
   "cell_type": "code",
   "execution_count": 12,
   "id": "d84c207f",
   "metadata": {},
   "outputs": [
    {
     "data": {
      "text/plain": [
       "0    skill programming language python panda numpy ...\n",
       "1    education detail may 2013 may 2017 b e uit rgp...\n",
       "2    area interest deep learning control system des...\n",
       "3    skill r python sap hana tableau sap hana sql s...\n",
       "4    education detail mca ymcaust faridabad haryana...\n",
       "Name: Resume_Cleaned, dtype: object"
      ]
     },
     "execution_count": 12,
     "metadata": {},
     "output_type": "execute_result"
    }
   ],
   "source": [
    "clean_data_resume = data_1['Resume_Cleaned']\n",
    "clean_data_resume.head()"
   ]
  },
  {
   "cell_type": "code",
   "execution_count": 13,
   "id": "a84535b1",
   "metadata": {},
   "outputs": [
    {
     "data": {
      "text/plain": [
       "(962,)"
      ]
     },
     "execution_count": 13,
     "metadata": {},
     "output_type": "execute_result"
    }
   ],
   "source": [
    "clean_data_resume.shape"
   ]
  },
  {
   "cell_type": "code",
   "execution_count": 14,
   "id": "8765fdf8",
   "metadata": {},
   "outputs": [
    {
     "data": {
      "text/plain": [
       "0                 business\n",
       "1                 software\n",
       "2       project management\n",
       "3                marketing\n",
       "4              engineering\n",
       "               ...        \n",
       "5184              security\n",
       "5185              software\n",
       "5186                  None\n",
       "5187              security\n",
       "5188              security\n",
       "Name: skills, Length: 5189, dtype: object"
      ]
     },
     "execution_count": 14,
     "metadata": {},
     "output_type": "execute_result"
    }
   ],
   "source": [
    "skills = pd.read_csv(r'Dataset.csv')\n",
    "Dataset_skills = skills['skills']\n",
    "Dataset_skills"
   ]
  },
  {
   "cell_type": "code",
   "execution_count": 15,
   "id": "3a42162e",
   "metadata": {},
   "outputs": [],
   "source": [
    "#Dataset_skills.to_csv('worked_skills.csv')"
   ]
  },
  {
   "cell_type": "code",
   "execution_count": 16,
   "id": "45c29a98",
   "metadata": {},
   "outputs": [
    {
     "data": {
      "text/html": [
       "<div>\n",
       "<style scoped>\n",
       "    .dataframe tbody tr th:only-of-type {\n",
       "        vertical-align: middle;\n",
       "    }\n",
       "\n",
       "    .dataframe tbody tr th {\n",
       "        vertical-align: top;\n",
       "    }\n",
       "\n",
       "    .dataframe thead th {\n",
       "        text-align: right;\n",
       "    }\n",
       "</style>\n",
       "<table border=\"1\" class=\"dataframe\">\n",
       "  <thead>\n",
       "    <tr style=\"text-align: right;\">\n",
       "      <th></th>\n",
       "      <th>Unnamed: 0</th>\n",
       "      <th>skills</th>\n",
       "    </tr>\n",
       "  </thead>\n",
       "  <tbody>\n",
       "    <tr>\n",
       "      <th>0</th>\n",
       "      <td>0</td>\n",
       "      <td>business</td>\n",
       "    </tr>\n",
       "    <tr>\n",
       "      <th>1</th>\n",
       "      <td>1</td>\n",
       "      <td>software</td>\n",
       "    </tr>\n",
       "    <tr>\n",
       "      <th>2</th>\n",
       "      <td>2</td>\n",
       "      <td>project management</td>\n",
       "    </tr>\n",
       "    <tr>\n",
       "      <th>3</th>\n",
       "      <td>3</td>\n",
       "      <td>marketing</td>\n",
       "    </tr>\n",
       "    <tr>\n",
       "      <th>4</th>\n",
       "      <td>4</td>\n",
       "      <td>engineering</td>\n",
       "    </tr>\n",
       "    <tr>\n",
       "      <th>...</th>\n",
       "      <td>...</td>\n",
       "      <td>...</td>\n",
       "    </tr>\n",
       "    <tr>\n",
       "      <th>5184</th>\n",
       "      <td>5184</td>\n",
       "      <td>security</td>\n",
       "    </tr>\n",
       "    <tr>\n",
       "      <th>5185</th>\n",
       "      <td>5185</td>\n",
       "      <td>software</td>\n",
       "    </tr>\n",
       "    <tr>\n",
       "      <th>5186</th>\n",
       "      <td>5186</td>\n",
       "      <td>None</td>\n",
       "    </tr>\n",
       "    <tr>\n",
       "      <th>5187</th>\n",
       "      <td>5187</td>\n",
       "      <td>security</td>\n",
       "    </tr>\n",
       "    <tr>\n",
       "      <th>5188</th>\n",
       "      <td>5188</td>\n",
       "      <td>security</td>\n",
       "    </tr>\n",
       "  </tbody>\n",
       "</table>\n",
       "<p>5189 rows × 2 columns</p>\n",
       "</div>"
      ],
      "text/plain": [
       "      Unnamed: 0              skills\n",
       "0              0            business\n",
       "1              1            software\n",
       "2              2  project management\n",
       "3              3           marketing\n",
       "4              4         engineering\n",
       "...          ...                 ...\n",
       "5184        5184            security\n",
       "5185        5185            software\n",
       "5186        5186                None\n",
       "5187        5187            security\n",
       "5188        5188            security\n",
       "\n",
       "[5189 rows x 2 columns]"
      ]
     },
     "execution_count": 16,
     "metadata": {},
     "output_type": "execute_result"
    }
   ],
   "source": [
    "Dataset_skills = pd.read_csv(r'worked_skills.csv')\n",
    "Dataset_skills"
   ]
  },
  {
   "cell_type": "code",
   "execution_count": 17,
   "id": "6efa286f",
   "metadata": {},
   "outputs": [
    {
     "name": "stdout",
     "output_type": "stream",
     "text": [
      "Deep Learning SKILL\n",
      "Control System Design, Programming ORG\n",
      "Python SKILL\n",
      "Electric Machinery ORG\n",
      "Web Development, Analytics Technical Activities ORG\n",
      "Hindustan Aeronautics Limited ORG\n",
      "Bangalore GPE\n",
      "4 weeks DATE\n",
      "Satish PERSON\n",
      "Mirage 2000 ORG\n",
      "Technical Skills Programming Matlab ORG\n",
      "Python SKILL\n",
      "Java GPE\n",
      "Python WebFrameWork-Django ORG\n",
      "Flask FAC\n",
      "Languages NORP\n",
      "MIPOWER ORG\n",
      "Github GPE\n",
      "Jupyter Notebook WORK_OF_ART\n",
      "MySQL SKILL\n",
      "Python SKILL\n",
      "Software SKILL\n",
      "Pycharm ORG\n",
      "Java GPE\n",
      "Eclipse SKILL\n",
      "Operating Systems SKILL\n",
      "Windows SKILL\n",
      "Ubuntu PRODUCT\n",
      "Debian-Kali NORP\n",
      "Linux SKILL\n",
      "January 2019 DATE\n",
      "Electrical and Electronics Engineering  Manipal Institute of Technology ORG\n",
      "January 2015 DATE\n",
      "January 2013 DATE\n",
      "DATA SCIENCE SKILL\n",
      "DATA SCIENCE SKILL\n",
      "Exprience - Less than 1 year months PERSON\n",
      "Exprience - Less than 1 year months PERSON\n",
      "Casino ORG\n",
      "Macau GPE\n",
      "segment SKILL\n",
      "segmentation SKILL\n",
      "marketing SKILL\n",
      "business SKILL\n"
     ]
    }
   ],
   "source": [
    "annot = nlp(data_1['Resume'][2])\n",
    "for entity in annot.ents:\n",
    "    print(entity.text, entity.label_)"
   ]
  },
  {
   "cell_type": "code",
   "execution_count": null,
   "id": "26b00d63",
   "metadata": {},
   "outputs": [],
   "source": [
    "skill = []\n",
    "for i in data_1['skills']:\n",
    "    for j in i:\n",
    "        skill.append(j)\n",
    "print(len(skill))\n",
    "skill = list(set(skill))\n",
    "print(skill)"
   ]
  },
  {
   "cell_type": "code",
   "execution_count": null,
   "id": "3fcfcbb0",
   "metadata": {},
   "outputs": [],
   "source": [
    "len(skill)"
   ]
  },
  {
   "cell_type": "code",
   "execution_count": null,
   "id": "d7b10c6c",
   "metadata": {},
   "outputs": [],
   "source": [
    "# reading skills from json file \n",
    "import json\n",
    "\n",
    "f = open('jz_skill_patterns.jsonl', 'r')\n",
    "skills_data = []\n",
    "for line in f:\n",
    "    f_line = json.loads(line)\n",
    "    dummy = []\n",
    "    for i in f_line['pattern']:\n",
    "        dummy.append(list(i.values())[0].lower())\n",
    "    dummy = ' '.join(dummy)\n",
    "    skills_data.append(dummy)\n",
    "    \n",
    "print(len(skills_data))\n",
    "print(skills_data)\n",
    "skills_data = list(set(skills_data))\n",
    "print(len(skills_data))\n",
    "print(skills_data)"
   ]
  },
  {
   "cell_type": "code",
   "execution_count": null,
   "id": "2c5a4609",
   "metadata": {},
   "outputs": [],
   "source": [
    "for n in range(len(skills_data)):\n",
    "    skills_data[n] = re.sub(r'\\(|\\)', '', skills_data[n])\n",
    "print(skills_data)"
   ]
  },
  {
   "cell_type": "code",
   "execution_count": null,
   "id": "41587baf",
   "metadata": {},
   "outputs": [],
   "source": [
    "import csv\n",
    "# list of name, degree, score \n",
    "skills_Data = skills_data\n",
    "#Type = ['Skill'] \n",
    "     \n",
    "# dictionary of lists  \n",
    "dict = {'Text': skills_Data, 'Type': 'SKILL'}  \n",
    "       \n",
    "df = pd.DataFrame(dict) \n",
    "    \n",
    "# saving the dataframe \n",
    "df.to_csv('jobzilla_skills_it.csv')"
   ]
  },
  {
   "cell_type": "code",
   "execution_count": null,
   "id": "6e6083d6",
   "metadata": {},
   "outputs": [],
   "source": [
    "jobzilla_skills_it = pd.read_csv(r'jobzilla_skills_it.csv')\n",
    "unnamed_cols = jobzilla_skills_it.columns.str.contains('Unnamed')\n",
    "NEW_jobzilla_skills_it = jobzilla_skills_it.drop(jobzilla_skills_it[jobzilla_skills_it.columns[unnamed_cols]], axis=1)\n",
    "NEW_jobzilla_skills_it.to_csv('jobzilla_skills_it.csv')\n",
    "NEW_jobzilla_skills_it"
   ]
  },
  {
   "cell_type": "code",
   "execution_count": null,
   "id": "5697803c",
   "metadata": {},
   "outputs": [],
   "source": [
    "Dataset_skills = skills['skills']\n",
    "Dataset_skills"
   ]
  },
  {
   "cell_type": "code",
   "execution_count": null,
   "id": "a6e36e3f",
   "metadata": {},
   "outputs": [],
   "source": [
    "myData_Skills = pd.concat([Dataset_skills ,NEW_jobzilla_skills_it['Text']])\n",
    "myData_Skills"
   ]
  },
  {
   "cell_type": "code",
   "execution_count": null,
   "id": "6f43189a",
   "metadata": {},
   "outputs": [],
   "source": [
    "myData_Skills.shape"
   ]
  },
  {
   "cell_type": "code",
   "execution_count": null,
   "id": "4b5ede3d",
   "metadata": {},
   "outputs": [],
   "source": [
    "myData_Skills.duplicated().sum()"
   ]
  },
  {
   "cell_type": "code",
   "execution_count": null,
   "id": "6c2baf71",
   "metadata": {},
   "outputs": [],
   "source": [
    "myData_Skills.drop_duplicates(inplace=True)\n",
    "myData_Skills"
   ]
  },
  {
   "cell_type": "code",
   "execution_count": null,
   "id": "8e2a8f60",
   "metadata": {},
   "outputs": [],
   "source": [
    "myData_Skills = myData_Skills.to_csv(r'myData_Skills.csv')\n"
   ]
  },
  {
   "cell_type": "code",
   "execution_count": null,
   "id": "a6f5fc54",
   "metadata": {},
   "outputs": [],
   "source": [
    "myData_Skills = pd.read_csv(r'myData_Skills.csv')\n",
    "myData_Skills"
   ]
  },
  {
   "cell_type": "code",
   "execution_count": null,
   "id": "a4ffdfaa",
   "metadata": {},
   "outputs": [],
   "source": [
    "TotalSkills = myData_Skills['0']"
   ]
  },
  {
   "cell_type": "code",
   "execution_count": null,
   "id": "544825cf",
   "metadata": {},
   "outputs": [],
   "source": [
    "#Type = 'SKILLS'\n",
    "'''\n",
    "with open(\"D:\\Mechatronics Department\\HITS internship\\Skills.csv\", \"w\", encoding=\"utf-8\") as csv_file:\n",
    "    csv_writer = csv.writer(csv_file)\n",
    "    csv_writer.writerow(['Text', 'Type'])\n",
    "    for job in myData_Skills['0']: #skills['skills']\n",
    "        csv_writer.writerow([job, Type])\n",
    "'''        \n",
    "SKILLS = myData_Skills\n",
    "# dictionary of lists  \n",
    "dict = {'Text': skills_Data, 'Type': 'SKILL'}  \n",
    "df = pd.DataFrame(dict) \n",
    "# saving the dataframe \n",
    "df.to_csv('Skills.csv') "
   ]
  },
  {
   "cell_type": "code",
   "execution_count": null,
   "id": "d988b08e",
   "metadata": {
    "scrolled": false
   },
   "outputs": [],
   "source": [
    "myData_Skills = pd.read_csv(r'Skills.csv')\n",
    "myData_Skills = myData_Skills['Text']\n",
    "myData_Skills"
   ]
  },
  {
   "cell_type": "code",
   "execution_count": null,
   "id": "b44ac6a3",
   "metadata": {},
   "outputs": [],
   "source": [
    "for n, i in enumerate(myData_Skills):\n",
    "    dummy = re.sub('\\'$|\\'(?= )|\\\"|\\/ |\\*', '', i) # remove any ' \" * / \n",
    "    dummy = re.sub(r'\\/', ' ', dummy) # remove and two words sperated with / char with space like A/B to AB\n",
    "    dummy = re.sub(r'  |^ ', '', dummy) # remove more that one white space\n",
    "    if '+' in i:\n",
    "        dummy = dummy.replace('+', '\\+') # change ++ to \\+\\+\n",
    "    myData_Skills[n] = dummy \n",
    "myData_Skills.head()"
   ]
  },
  {
   "cell_type": "code",
   "execution_count": null,
   "id": "b054e6c9",
   "metadata": {},
   "outputs": [],
   "source": [
    "with open(\"skills list.txt\", 'r') as file:\n",
    "    SKILLS = file.readlines()\n",
    "    print(SKILLS)"
   ]
  },
  {
   "cell_type": "code",
   "execution_count": null,
   "id": "206c4f52",
   "metadata": {},
   "outputs": [],
   "source": [
    "type(SKILLS)"
   ]
  },
  {
   "cell_type": "code",
   "execution_count": null,
   "id": "c44ede1e",
   "metadata": {},
   "outputs": [],
   "source": []
  },
  {
   "cell_type": "code",
   "execution_count": null,
   "id": "4a9a500a",
   "metadata": {},
   "outputs": [],
   "source": [
    "with open(\"skills list.txt\", 'r') as file:\n",
    "    SKILLS = file.readlines()  \n",
    "# dictionary of lists\n",
    "dict = {'Text': SKILLS, 'Type': 'SKILL'}        \n",
    "df = pd.DataFrame(dict) \n",
    "# saving the dataframe\n",
    "df.to_csv('new skills.csv')"
   ]
  },
  {
   "cell_type": "code",
   "execution_count": 461,
   "id": "0a7ddaa8",
   "metadata": {},
   "outputs": [
    {
     "data": {
      "text/html": [
       "<div>\n",
       "<style scoped>\n",
       "    .dataframe tbody tr th:only-of-type {\n",
       "        vertical-align: middle;\n",
       "    }\n",
       "\n",
       "    .dataframe tbody tr th {\n",
       "        vertical-align: top;\n",
       "    }\n",
       "\n",
       "    .dataframe thead th {\n",
       "        text-align: right;\n",
       "    }\n",
       "</style>\n",
       "<table border=\"1\" class=\"dataframe\">\n",
       "  <thead>\n",
       "    <tr style=\"text-align: right;\">\n",
       "      <th></th>\n",
       "      <th>Unnamed: 0</th>\n",
       "      <th>Text</th>\n",
       "      <th>Type</th>\n",
       "    </tr>\n",
       "  </thead>\n",
       "  <tbody>\n",
       "    <tr>\n",
       "      <th>0</th>\n",
       "      <td>0</td>\n",
       "      <td>3d math\\n</td>\n",
       "      <td>SKILL</td>\n",
       "    </tr>\n",
       "    <tr>\n",
       "      <th>1</th>\n",
       "      <td>1</td>\n",
       "      <td>3d modeling software\\n</td>\n",
       "      <td>SKILL</td>\n",
       "    </tr>\n",
       "    <tr>\n",
       "      <th>2</th>\n",
       "      <td>2</td>\n",
       "      <td>3d modeling\\n</td>\n",
       "      <td>SKILL</td>\n",
       "    </tr>\n",
       "    <tr>\n",
       "      <th>3</th>\n",
       "      <td>3</td>\n",
       "      <td>3d packaging\\n</td>\n",
       "      <td>SKILL</td>\n",
       "    </tr>\n",
       "    <tr>\n",
       "      <th>4</th>\n",
       "      <td>4</td>\n",
       "      <td>3d particles and dynamics\\n</td>\n",
       "      <td>SKILL</td>\n",
       "    </tr>\n",
       "    <tr>\n",
       "      <th>...</th>\n",
       "      <td>...</td>\n",
       "      <td>...</td>\n",
       "      <td>...</td>\n",
       "    </tr>\n",
       "    <tr>\n",
       "      <th>639</th>\n",
       "      <td>639</td>\n",
       "      <td>Audio Editing software\\n</td>\n",
       "      <td>NaN</td>\n",
       "    </tr>\n",
       "    <tr>\n",
       "      <th>640</th>\n",
       "      <td>640</td>\n",
       "      <td>FPGA</td>\n",
       "      <td>NaN</td>\n",
       "    </tr>\n",
       "    <tr>\n",
       "      <th>641</th>\n",
       "      <td>641</td>\n",
       "      <td>Field Programmable Gate Arrays</td>\n",
       "      <td>NaN</td>\n",
       "    </tr>\n",
       "    <tr>\n",
       "      <th>642</th>\n",
       "      <td>642</td>\n",
       "      <td>Software Architecture</td>\n",
       "      <td>NaN</td>\n",
       "    </tr>\n",
       "    <tr>\n",
       "      <th>643</th>\n",
       "      <td>643</td>\n",
       "      <td>ETL</td>\n",
       "      <td>NaN</td>\n",
       "    </tr>\n",
       "  </tbody>\n",
       "</table>\n",
       "<p>644 rows × 3 columns</p>\n",
       "</div>"
      ],
      "text/plain": [
       "     Unnamed: 0                            Text   Type\n",
       "0             0                       3d math\\n  SKILL\n",
       "1             1          3d modeling software\\n  SKILL\n",
       "2             2                   3d modeling\\n  SKILL\n",
       "3             3                  3d packaging\\n  SKILL\n",
       "4             4     3d particles and dynamics\\n  SKILL\n",
       "..          ...                             ...    ...\n",
       "639         639        Audio Editing software\\n    NaN\n",
       "640         640                            FPGA    NaN\n",
       "641         641  Field Programmable Gate Arrays    NaN\n",
       "642         642           Software Architecture    NaN\n",
       "643         643                             ETL    NaN\n",
       "\n",
       "[644 rows x 3 columns]"
      ]
     },
     "execution_count": 461,
     "metadata": {},
     "output_type": "execute_result"
    }
   ],
   "source": [
    "Skills = pd.read_csv(r'new skills.csv')\n",
    "Skills"
   ]
  },
  {
   "cell_type": "code",
   "execution_count": 462,
   "id": "a197eafb",
   "metadata": {},
   "outputs": [
    {
     "data": {
      "text/plain": [
       "'Computer Vision\\n'"
      ]
     },
     "execution_count": 462,
     "metadata": {},
     "output_type": "execute_result"
    }
   ],
   "source": [
    "Skills['Text'][100]"
   ]
  },
  {
   "cell_type": "code",
   "execution_count": 463,
   "id": "a13de2e7",
   "metadata": {},
   "outputs": [
    {
     "data": {
      "text/plain": [
       "0                             3d math\n",
       "1                3d modeling software\n",
       "2                         3d modeling\n",
       "3                        3d packaging\n",
       "4           3d particles and dynamics\n",
       "                    ...              \n",
       "639            audio editing software\n",
       "640                              fpga\n",
       "641    field programmable gate arrays\n",
       "642             software architecture\n",
       "643                               etl\n",
       "Name: Text, Length: 644, dtype: object"
      ]
     },
     "execution_count": 463,
     "metadata": {},
     "output_type": "execute_result"
    }
   ],
   "source": [
    "NewSkills = pd.read_csv(r'new skills.csv')\n",
    "NewSkills = Skills['Text'].str.strip()\n",
    "NewSkills = NewSkills.str.lower()\n",
    "NewSkills"
   ]
  },
  {
   "cell_type": "code",
   "execution_count": 464,
   "id": "d7f22374",
   "metadata": {},
   "outputs": [
    {
     "data": {
      "text/plain": [
       "10                 algorithms\n",
       "11    autonomous driving cars\n",
       "12                   auditing\n",
       "13                    autocad\n",
       "14                 automotive\n",
       "Name: Text, dtype: object"
      ]
     },
     "execution_count": 464,
     "metadata": {},
     "output_type": "execute_result"
    }
   ],
   "source": [
    "NewSkills[10:15]"
   ]
  },
  {
   "cell_type": "code",
   "execution_count": 465,
   "id": "76910719",
   "metadata": {},
   "outputs": [
    {
     "data": {
      "text/plain": [
       "0                             3d math\n",
       "1                3d modeling software\n",
       "2                         3d modeling\n",
       "3                        3d packaging\n",
       "4           3d particles and dynamics\n",
       "                    ...              \n",
       "639            audio editing software\n",
       "640                              fpga\n",
       "641    field programmable gate arrays\n",
       "642             software architecture\n",
       "643                               etl\n",
       "Name: Text, Length: 614, dtype: object"
      ]
     },
     "execution_count": 465,
     "metadata": {},
     "output_type": "execute_result"
    }
   ],
   "source": [
    "NewSkills.duplicated().sum()\n",
    "NewSkills.drop_duplicates(inplace=True)\n",
    "NewSkills"
   ]
  },
  {
   "cell_type": "code",
   "execution_count": 466,
   "id": "a4089dc4",
   "metadata": {},
   "outputs": [
    {
     "data": {
      "text/plain": [
       "0"
      ]
     },
     "execution_count": 466,
     "metadata": {},
     "output_type": "execute_result"
    }
   ],
   "source": [
    "NewSkills.duplicated().sum()"
   ]
  },
  {
   "cell_type": "code",
   "execution_count": 467,
   "id": "d3ece5fe",
   "metadata": {},
   "outputs": [
    {
     "data": {
      "text/plain": [
       "0                      3d math\n",
       "1         3d modeling software\n",
       "2                  3d modeling\n",
       "3                 3d packaging\n",
       "4    3d particles and dynamics\n",
       "Name: Text, dtype: object"
      ]
     },
     "execution_count": 467,
     "metadata": {},
     "output_type": "execute_result"
    }
   ],
   "source": [
    "for n, i in enumerate(NewSkills):\n",
    "    dummy = re.sub('\\'$|\\'(?= )|\\\"\\/ |\\*', '', i) # remove any ' \" * / \n",
    "    dummy = re.sub(r'\\/', ' ', dummy) # remove and two words sperated with / char with space like A/B to AB\n",
    "    dummy = re.sub(r'  |^ ', '', dummy) # remove more that one white space\n",
    "    if '+' in i:\n",
    "        dummy = dummy.replace('+', '\\+') # change ++ to \\+\\+\n",
    "    NewSkills[n] = dummy\n",
    "NewSkills.head()"
   ]
  },
  {
   "cell_type": "code",
   "execution_count": null,
   "id": "ea435b49",
   "metadata": {},
   "outputs": [],
   "source": [
    "NewSkills[10:100].to_csv('samples of skills.csv')"
   ]
  },
  {
   "cell_type": "code",
   "execution_count": 468,
   "id": "fac9d03f",
   "metadata": {},
   "outputs": [
    {
     "name": "stdout",
     "output_type": "stream",
     "text": [
      "<callable_iterator object at 0x000001B6B96AD250>\n"
     ]
    }
   ],
   "source": [
    "sentence = 'skill programming language python panda numpy scipy scikit learn matplotlib sql java javascript jquery machine learning regression svm na bayes knn random forest decision tree boosting technique cluster analysis word embedding sentiment analysis natural language processing dimensionality reduction topic modelling lda nmf pca neural net database visualization mysql sqlserver cassandra hbase elasticsearch d3 j dc j plotly kibana matplotlib ggplot tableau others regular expression html cs angular 6 logstash kafka python flask git docker computer vision open cv understanding deep learning education detail data science assurance associate data science assurance associate ernst young llp skill detail javascript exprience 24 month jquery exprience 24 month python exprience 24 monthscompany detail company ernst young llp description fraud investigation dispute service assurance technology assisted review tar technology assisted review assist accelerating review process run analytics generate report core member team helped developing automated review platform tool scratch assisting e discovery domain tool implement predictive coding topic modelling automating review resulting reduced labor cost time spent lawyer review understand end end flow solution research development classification model predictive analysis mining information present text data worked analyzing output precision monitoring entire tool tar assist predictive coding topic modelling evidence following ey standard developed classifier model order identify red flag fraud related issue tool technology python scikit learn tfidf word2vec doc2vec cosine similarity na bayes lda nmf topic modelling vader text blob sentiment analysis matplot lib tableau dashboard reporting multiple data science analytic project usa client text analytics motor vehicle customer review data received customer feedback survey data past one year performed sentiment positive negative neutral time series analysis customer comment across 4 category created heat map term survey category based frequency word extracted positive negative word across survey category plotted word cloud created customized tableau dashboard effective reporting visualization chatbot developed user friendly chatbot one product handle simple question hour operation reservation option chat bot serf entire product related question giving overview tool via qa platform also give recommendation response user question build chain relevant answer intelligence build pipeline question per user requirement asks relevant recommended question tool technology python natural language processing nltk spacy topic modelling sentiment analysis word embedding scikit learn javascript jquery sqlserver information governance organization make informed decision information store integrated information governance portfolio synthesizes intelligence across unstructured data source facilitates action ensure organization best positioned counter information risk scan data multiple source format parse different file format extract meta data information push result indexing elastic search created customized interactive dashboard using kibana preforming rot analysis data give information data help identify content either redundant outdated trivial preforming full text search analysis elastic search predefined method tag pii personally identifiable information social security number address name etc frequently targeted cyber attack tool technology python flask elastic search kibana fraud analytic platform fraud analytics investigative platform review red flag case fap fraud analytics investigative platform inbuilt case manager suite analytics various erp system used client interrogate accounting system identifying anomaly indicator fraud'\n",
    "annot = re.finditer(rf'\\bartificial intelligence\\b', sentence)\n",
    "print(annot)"
   ]
  },
  {
   "cell_type": "code",
   "execution_count": 469,
   "id": "b4f461f8",
   "metadata": {},
   "outputs": [
    {
     "data": {
      "text/plain": [
       "pandas.core.series.Series"
      ]
     },
     "execution_count": 469,
     "metadata": {},
     "output_type": "execute_result"
    }
   ],
   "source": [
    "type(NewSkills)"
   ]
  },
  {
   "cell_type": "code",
   "execution_count": 470,
   "id": "2b002239",
   "metadata": {},
   "outputs": [
    {
     "data": {
      "text/plain": [
       "True"
      ]
     },
     "execution_count": 470,
     "metadata": {},
     "output_type": "execute_result"
    }
   ],
   "source": [
    "(NewSkills.eq('python')).any()"
   ]
  },
  {
   "cell_type": "code",
   "execution_count": 471,
   "id": "220c17b2",
   "metadata": {
    "scrolled": true
   },
   "outputs": [
    {
     "data": {
      "text/plain": [
       "0                      3d math\n",
       "1         3d modeling software\n",
       "2                  3d modeling\n",
       "3                 3d packaging\n",
       "4    3d particles and dynamics\n",
       "Name: Text, dtype: object"
      ]
     },
     "execution_count": 471,
     "metadata": {},
     "output_type": "execute_result"
    }
   ],
   "source": [
    "# NewSkills[NewSkills=='']\n",
    "# NewSkills[129]\n",
    "# NewSkills.drop(labels=129, axis=0, inplace=True)\n",
    "NewSkills.head()"
   ]
  },
  {
   "cell_type": "code",
   "execution_count": 472,
   "id": "921bc8c3",
   "metadata": {},
   "outputs": [
    {
     "data": {
      "text/plain": [
       "'cvs (concurrent versions system)'"
      ]
     },
     "execution_count": 472,
     "metadata": {},
     "output_type": "execute_result"
    }
   ],
   "source": [
    "NewSkills[100]"
   ]
  },
  {
   "cell_type": "code",
   "execution_count": 473,
   "id": "0c9b2e6f",
   "metadata": {
    "scrolled": false
   },
   "outputs": [
    {
     "name": "stderr",
     "output_type": "stream",
     "text": [
      "100%|██████████| 1/1 [00:00<00:00, 38.56it/s]"
     ]
    },
    {
     "name": "stdout",
     "output_type": "stream",
     "text": [
      "Wall time: 30.9 ms\n"
     ]
    },
    {
     "name": "stderr",
     "output_type": "stream",
     "text": [
      "\n"
     ]
    },
    {
     "data": {
      "text/plain": [
       "[['algorithms autonomous driving cars auditing autocad automotive art arduino ai artificial intelligence audio video processing analytical skill dobe photoshop',\n",
       "  {'entities': [(0, 10, 'SKILL'),\n",
       "    (11, 34, 'SKILL'),\n",
       "    (35, 43, 'SKILL'),\n",
       "    (44, 51, 'SKILL'),\n",
       "    (52, 62, 'SKILL'),\n",
       "    (63, 66, 'SKILL'),\n",
       "    (67, 74, 'SKILL'),\n",
       "    (75, 77, 'SKILL'),\n",
       "    (78, 101, 'SKILL')]}]]"
      ]
     },
     "execution_count": 473,
     "metadata": {},
     "output_type": "execute_result"
    }
   ],
   "source": [
    "%%time\n",
    "import re\n",
    "from tqdm import tqdm\n",
    "resume_sample = ['algorithms autonomous driving cars auditing autocad automotive art arduino ai artificial intelligence audio video processing analytical skill dobe photoshop']\n",
    "label = 'SKILL'\n",
    "sample_data = []\n",
    "for sentence in tqdm(resume_sample):\n",
    "    data_entities = {'entities': []}\n",
    "    for skill in NewSkills:\n",
    "#       print(skill)\n",
    "        for i in re.finditer(rf'\\b{skill}\\b', sentence):\n",
    "            data_entities['entities'].append((i.start(), i.end(), label))\n",
    "            #print(i.start(), i.end(), skill)\n",
    "\n",
    "    sample_data.append([sentence, data_entities])\n",
    "sample_data"
   ]
  },
  {
   "cell_type": "code",
   "execution_count": 474,
   "id": "47f1fb1c",
   "metadata": {},
   "outputs": [
    {
     "data": {
      "text/plain": [
       "1"
      ]
     },
     "execution_count": 474,
     "metadata": {},
     "output_type": "execute_result"
    }
   ],
   "source": [
    "len(sample_data)"
   ]
  },
  {
   "cell_type": "code",
   "execution_count": 475,
   "id": "e8a1de0f",
   "metadata": {},
   "outputs": [
    {
     "data": {
      "text/plain": [
       "['algorithms autonomous driving cars auditing autocad automotive art arduino ai artificial intelligence audio video processing analytical skill dobe photoshop',\n",
       " {'entities': [(0, 10, 'SKILL'),\n",
       "   (11, 34, 'SKILL'),\n",
       "   (35, 43, 'SKILL'),\n",
       "   (44, 51, 'SKILL'),\n",
       "   (52, 62, 'SKILL'),\n",
       "   (63, 66, 'SKILL'),\n",
       "   (67, 74, 'SKILL'),\n",
       "   (75, 77, 'SKILL'),\n",
       "   (78, 101, 'SKILL')]}]"
      ]
     },
     "execution_count": 475,
     "metadata": {},
     "output_type": "execute_result"
    }
   ],
   "source": [
    "sample_data[0]"
   ]
  },
  {
   "cell_type": "code",
   "execution_count": 476,
   "id": "b01ef886",
   "metadata": {},
   "outputs": [
    {
     "data": {
      "text/plain": [
       "[['skill programming language python panda numpy scipy scikit learn matplotlib sql java javascript jquery machine learning regression svm na bayes knn random forest decision tree boosting technique cluster analysis word embedding sentiment analysis natural language processing dimensionality reduction topic modelling lda nmf pca neural net database visualization mysql sqlserver cassandra hbase elasticsearch d3 j dc j plotly kibana matplotlib ggplot tableau others regular expression html cs angular 6 logstash kafka python flask git docker computer vision open cv understanding deep learning education detail data science assurance associate data science assurance associate ernst young llp skill detail javascript exprience 24 month jquery exprience 24 month python exprience 24 monthscompany detail company ernst young llp description fraud investigation dispute service assurance technology assisted review tar technology assisted review assist accelerating review process run analytics generate report core member team helped developing automated review platform tool scratch assisting e discovery domain tool implement predictive coding topic modelling automating review resulting reduced labor cost time spent lawyer review understand end end flow solution research development classification model predictive analysis mining information present text data worked analyzing output precision monitoring entire tool tar assist predictive coding topic modelling evidence following ey standard developed classifier model order identify red flag fraud related issue tool technology python scikit learn tfidf word2vec doc2vec cosine similarity na bayes lda nmf topic modelling vader text blob sentiment analysis matplot lib tableau dashboard reporting multiple data science analytic project usa client text analytics motor vehicle customer review data received customer feedback survey data past one year performed sentiment positive negative neutral time series analysis customer comment across 4 category created heat map term survey category based frequency word extracted positive negative word across survey category plotted word cloud created customized tableau dashboard effective reporting visualization chatbot developed user friendly chatbot one product handle simple question hour operation reservation option chat bot serf entire product related question giving overview tool via qa platform also give recommendation response user question build chain relevant answer intelligence build pipeline question per user requirement asks relevant recommended question tool technology python natural language processing nltk spacy topic modelling sentiment analysis word embedding scikit learn javascript jquery sqlserver information governance organization make informed decision information store integrated information governance portfolio synthesizes intelligence across unstructured data source facilitates action ensure organization best positioned counter information risk scan data multiple source format parse different file format extract meta data information push result indexing elastic search created customized interactive dashboard using kibana preforming rot analysis data give information data help identify content either redundant outdated trivial preforming full text search analysis elastic search predefined method tag pii personally identifiable information social security number address name etc frequently targeted cyber attack tool technology python flask elastic search kibana fraud analytic platform fraud analytics investigative platform review red flag case fap fraud analytics investigative platform inbuilt case manager suite analytics various erp system used client interrogate accounting system identifying anomaly indicator fraud running advanced analytics tool technology html javascript sqlserver jquery cs bootstrap node j d3 j dc j',\n",
       "  {'entities': [[540, 555, 'SKILL'],\n",
       "    [533, 539, 'SKILL'],\n",
       "    [529, 532, 'SKILL'],\n",
       "    [483, 487, 'SKILL'],\n",
       "    [3813, 3817, 'SKILL'],\n",
       "    [80, 84, 'SKILL'],\n",
       "    [85, 95, 'SKILL'],\n",
       "    [704, 714, 'SKILL'],\n",
       "    [2697, 2707, 'SKILL'],\n",
       "    [3818, 3828, 'SKILL'],\n",
       "    [96, 102, 'SKILL'],\n",
       "    [734, 740, 'SKILL'],\n",
       "    [2708, 2714, 'SKILL'],\n",
       "    [3839, 3845, 'SKILL'],\n",
       "    [103, 119, 'SKILL'],\n",
       "    [361, 366, 'SKILL'],\n",
       "    [246, 273, 'SKILL'],\n",
       "    [2595, 2622, 'SKILL'],\n",
       "    [27, 33, 'SKILL'],\n",
       "    [516, 522, 'SKILL'],\n",
       "    [760, 766, 'SKILL'],\n",
       "    [1582, 1588, 'SKILL'],\n",
       "    [2588, 2594, 'SKILL'],\n",
       "    [3474, 3480, 'SKILL'],\n",
       "    [1263, 1271, 'SKILL'],\n",
       "    [76, 79, 'SKILL'],\n",
       "    [3392, 3400, 'SKILL'],\n",
       "    [449, 456, 'SKILL'],\n",
       "    [1723, 1730, 'SKILL'],\n",
       "    [2159, 2166, 'SKILL'],\n",
       "    [338, 346, 'SKILL'],\n",
       "    [578, 591, 'SKILL'],\n",
       "    [609, 621, 'SKILL'],\n",
       "    [642, 654, 'SKILL'],\n",
       "    [1760, 1772, 'SKILL'],\n",
       "    [1135, 1141, 'SKILL'],\n",
       "    [1441, 1447, 'SKILL'],\n",
       "    [523, 528, 'SKILL'],\n",
       "    [3481, 3486, 'SKILL'],\n",
       "    [333, 337, 'SKILL']]}]]"
      ]
     },
     "execution_count": 476,
     "metadata": {},
     "output_type": "execute_result"
    }
   ],
   "source": [
    "sentence = 'skill programming language python panda numpy scipy scikit learn matplotlib sql java javascript jquery machine learning regression svm na bayes knn random forest decision tree boosting technique cluster analysis word embedding sentiment analysis natural language processing dimensionality reduction topic modelling lda nmf pca neural net database visualization mysql sqlserver cassandra hbase elasticsearch d3 j dc j plotly kibana matplotlib ggplot tableau others regular expression html cs angular 6 logstash kafka python flask git docker computer vision open cv understanding deep learning education detail data science assurance associate data science assurance associate ernst young llp skill detail javascript exprience 24 month jquery exprience 24 month python exprience 24 monthscompany detail company ernst young llp description fraud investigation dispute service assurance technology assisted review tar technology assisted review assist accelerating review process run analytics generate report core member team helped developing automated review platform tool scratch assisting e discovery domain tool implement predictive coding topic modelling automating review resulting reduced labor cost time spent lawyer review understand end end flow solution research development classification model predictive analysis mining information present text data worked analyzing output precision monitoring entire tool tar assist predictive coding topic modelling evidence following ey standard developed classifier model order identify red flag fraud related issue tool technology python scikit learn tfidf word2vec doc2vec cosine similarity na bayes lda nmf topic modelling vader text blob sentiment analysis matplot lib tableau dashboard reporting multiple data science analytic project usa client text analytics motor vehicle customer review data received customer feedback survey data past one year performed sentiment positive negative neutral time series analysis customer comment across 4 category created heat map term survey category based frequency word extracted positive negative word across survey category plotted word cloud created customized tableau dashboard effective reporting visualization chatbot developed user friendly chatbot one product handle simple question hour operation reservation option chat bot serf entire product related question giving overview tool via qa platform also give recommendation response user question build chain relevant answer intelligence build pipeline question per user requirement asks relevant recommended question tool technology python natural language processing nltk spacy topic modelling sentiment analysis word embedding scikit learn javascript jquery sqlserver information governance organization make informed decision information store integrated information governance portfolio synthesizes intelligence across unstructured data source facilitates action ensure organization best positioned counter information risk scan data multiple source format parse different file format extract meta data information push result indexing elastic search created customized interactive dashboard using kibana preforming rot analysis data give information data help identify content either redundant outdated trivial preforming full text search analysis elastic search predefined method tag pii personally identifiable information social security number address name etc frequently targeted cyber attack tool technology python flask elastic search kibana fraud analytic platform fraud analytics investigative platform review red flag case fap fraud analytics investigative platform inbuilt case manager suite analytics various erp system used client interrogate accounting system identifying anomaly indicator fraud running advanced analytics tool technology html javascript sqlserver jquery cs bootstrap node j d3 j dc j'\n",
    "sample_data=[]\n",
    "data_entities = {'entities': []}\n",
    "for skill in NewSkills:\n",
    "    for i in re.finditer(rf'\\b{skill}\\b', sentence):\n",
    "        data_entities['entities'].append([i.start(), i.end(), label])\n",
    "#         print(i.start(), i.end(), skill, sentence[i.start():i.end()])\n",
    "sample_data.append([sentence, data_entities])\n",
    "sample_data"
   ]
  },
  {
   "cell_type": "code",
   "execution_count": null,
   "id": "75dbb33f",
   "metadata": {},
   "outputs": [],
   "source": [
    "sentence[642:654]"
   ]
  },
  {
   "cell_type": "code",
   "execution_count": 610,
   "id": "798bfa7e",
   "metadata": {
    "collapsed": true
   },
   "outputs": [
    {
     "data": {
      "text/plain": [
       "\"import spacy\\nfrom spacy.tokens import DocBin\\nfrom tqdm import tqdm\\nnlp = spacy.blank('en') # load a new spacy model\\ndb = DocBin() # create a DocBin object\\nfrom spacy.util import filter_spans\\n\\nfor text, annot in tqdm(output_data): # data in previous format\\n    doc = nlp.make_doc(text) # create doc object from text\\n    ents = []\\n    for start, end, label in annot['entities']: # add character indexes\\n        span = doc.char_span(start, end, label=label, alignment_mode='contract')\\n        if span is None:\\n            print('Skipping entity')\\n            print(start, end, label, text[start:end])\\n        else:\\n            ents.append(span)\\n            \\n    filtered_ents = filter_spans(ents)    \\n    try:\\n        doc.ents = ents # label the text with the ents\\n        db.add(doc)\\n    except:\\n        print(text, annot)\\ndb.to_disk('./TRAINSET.spacy') # save the docbin object\""
      ]
     },
     "execution_count": 610,
     "metadata": {},
     "output_type": "execute_result"
    }
   ],
   "source": [
    "'''import spacy\n",
    "from spacy.tokens import DocBin\n",
    "from tqdm import tqdm\n",
    "nlp = spacy.blank('en') # load a new spacy model\n",
    "db = DocBin() # create a DocBin object\n",
    "from spacy.util import filter_spans\n",
    "\n",
    "for text, annot in tqdm(output_data): # data in previous format\n",
    "    doc = nlp.make_doc(text) # create doc object from text\n",
    "    ents = []\n",
    "    for start, end, label in annot['entities']: # add character indexes\n",
    "        span = doc.char_span(start, end, label=label, alignment_mode='contract')\n",
    "        if span is None:\n",
    "            print('Skipping entity')\n",
    "            print(start, end, label, text[start:end])\n",
    "        else:\n",
    "            ents.append(span)\n",
    "            \n",
    "    filtered_ents = filter_spans(ents)    \n",
    "    try:\n",
    "        doc.ents = ents # label the text with the ents\n",
    "        db.add(doc)\n",
    "    except:\n",
    "        print(text, annot)\n",
    "db.to_disk('./TRAINSET.spacy') # save the docbin object'''"
   ]
  },
  {
   "cell_type": "code",
   "execution_count": 477,
   "id": "5c6719ba",
   "metadata": {},
   "outputs": [],
   "source": [
    "def annotate_the_data(data, skills, label='SKILLS'):\n",
    "    output_data = []\n",
    "    for cv in tqdm(data):\n",
    "        data_entities = {'entities': []}\n",
    "        for skill in skills:\n",
    "            for i in re.finditer(rf'\\b{skill}\\b', cv):\n",
    "                data_entities['entities'].append((i.start(), i.end(), label))\n",
    "        output_data.append([cv, data_entities])\n",
    "    return output_data"
   ]
  },
  {
   "cell_type": "code",
   "execution_count": 531,
   "id": "8f731f27",
   "metadata": {},
   "outputs": [
    {
     "name": "stderr",
     "output_type": "stream",
     "text": [
      "100%|██████████| 962/962 [00:48<00:00, 19.84it/s]\n"
     ]
    }
   ],
   "source": [
    "%%time\n",
    "output_data = annotate_the_data(data_1[\"Resume_Cleaned\"], NewSkills, label='SKILL')"
   ]
  },
  {
   "cell_type": "code",
   "execution_count": 539,
   "id": "ef13f1e9",
   "metadata": {
    "scrolled": true
   },
   "outputs": [
    {
     "name": "stdout",
     "output_type": "stream",
     "text": [
      "['skill r python sap hana tableau sap hana sql sap hana pal m sql sap lumira c linear programming data modelling advance analytics scm analytics retail analytics social medium analytics nlp education detail january 2017 january 2018 pgdm business analytics great lake institute management illinois institute technology january 2013 bachelor engineering electronics communication bengaluru karnataka new horizon college engineering bangalore visvesvaraya technological university data science consultant consultant deloitte usi skill detail linear programming exprience 6 month retail exprience 6 month retail marketing exprience 6 month scm exprience 6 month sql exprience le 1 year month deep learning exprience le 1 year month machine learning exprience le 1 year month python exprience le 1 year month r exprience le 1 year monthscompany detail company deloitte usi description project involved analysing historic deal coming insight optimize future deal role given raw data carried end end analysis presented insight client key responsibility extract data client system across geography understand build report tableau infer meaningful insight optimize price find process blockade technical environment r tableau industry cross industry service area cross industry product project name handwriting recognition consultant 3 month project involved taking handwritten image converting digital text image object detection sentence creation role developing sentence correction functionality key responsibility gather data large enough capture english word train lstm model word technical environment python industry finance service area financial service bi development project name swift consultant 8 month project develop analytics infrastructure top sap 4 would user view financial report respective department reporting also included forecasting expense role leading offshore team key responsibility design develop data model reporting develop etl data flow validate various report technical environment sap hana tableau sap ao industry healthcare analytics service area life science product development project name clinical healthcare system consultant 2 month project develop analytics infrastructure top argus would allow user query faster provide advance analytics capability role involved design deploy phase performed lot data restructuring built model insight key responsibility design develop data model reporting develop deploy analytical model validate various report technical environment data modelling sap hana tableau nlp industry fmcg service area trade promotion project name consumption based planning flower food consultant 8 month project involved setting crm cbp module role involved key data decomposition activity setting base future year forecast course project developed various model carried key performance improvement key responsibility design develop hana model decomposition develop data flow forecast developed various view reporting customer sale fund validate various report bobj technical environment data modelling sap hana bobj time series forecasting internal initiative industry fmcg customer segmentation rfm analysis consultant 3 month initiative involved setting hana python interface advance analytics python course successfully segmented data five core segment using k mean carried rfm analysis python also developed algorithm categorize new customer defined bucket technical environment anaconda3 python3 6 hana sps12 industry telecom invoice state detection consultant 1 month initiative reduce manual effort verifying closed open invoice manually involved development decision tree classify open closed invoice enabled effort reduction 60 technical environment r sap pal sap hana sps12 accenture experience industry analytics cross industry process analytics sap senior developer 19 month accenture solution pvt ltd india project involved development sap analytics tool process analytics ipa role develop database object data model provide operational insight client role developed various finance related kpis spearheaded various deployment introduced sap predictive analytics reduce development time reuse functionality kpis prepared production planning report key responsibility involved information gather phase designed implemented sap hana data modelling using attribute view analytic view calculation view developed various kpi individually using complex sql script calculation view created procedure hana database took ownership developed dashboard functionality involved building data processing algorithm executed r server cluster analysis technical environment r sap hana sql industry cross industry accenture testing accelerator sap database developer 21 month accenture solution pvt ltd india role taken care development activity atas tool also completed various deployment product apart activity also actively involved maintenance database server production quality key responsibility analyzing business requirement understanding scope getting requirement clarified interacting business transform requirement generate attribute mapping document reviewing mapping specification documentation create update database object like table view stored procedure function package monitored sql server error log application log sql server agent prepared data flow diagram entity relationship diagram using uml responsible designing developing normalization database table experience performance tuning using sql profiler involved qa uat knowledge transfer support activity technical environment sql server 2008 2014 visual studio 2010 window server performance monitor sql server profiler c pl sql sql', {'entities': [(1652, 1654, 'SKILL'), (363, 376, 'SKILL'), (1901, 1907, 'SKILL'), (2296, 2302, 'SKILL'), (2388, 2394, 'SKILL'), (2866, 2872, 'SKILL'), (5138, 5151, 'SKILL'), (351, 362, 'SKILL'), (1613, 1620, 'SKILL'), (4037, 4044, 'SKILL'), (1835, 1846, 'SKILL'), (3077, 3088, 'SKILL'), (2038, 2048, 'SKILL'), (2127, 2137, 'SKILL'), (727, 743, 'SKILL'), (184, 187, 'SKILL'), (2534, 2537, 'SKILL'), (5434, 5452, 'SKILL'), (2612, 2620, 'SKILL'), (4194, 4202, 'SKILL'), (8, 14, 'SKILL'), (770, 776, 'SKILL'), (1597, 1603, 'SKILL'), (3210, 3216, 'SKILL'), (3245, 3251, 'SKILL'), (3339, 3345, 'SKILL'), (6, 7, 'SKILL'), (803, 804, 'SKILL'), (1205, 1206, 'SKILL'), (3708, 3709, 'SKILL'), (4571, 4572, 'SKILL'), (4619, 4620, 'SKILL'), (143, 149, 'SKILL'), (575, 581, 'SKILL'), (600, 606, 'SKILL'), (41, 44, 'SKILL'), (60, 63, 'SKILL'), (657, 660, 'SKILL'), (4409, 4412, 'SKILL'), (4630, 4633, 'SKILL'), (5242, 5245, 'SKILL'), (5279, 5282, 'SKILL'), (5459, 5462, 'SKILL'), (5546, 5549, 'SKILL'), (5620, 5623, 'SKILL'), (5645, 5648, 'SKILL'), (5649, 5652, 'SKILL'), (4668, 4675, 'SKILL'), (24, 31, 'SKILL'), (1113, 1120, 'SKILL'), (1207, 1214, 'SKILL'), (2014, 2021, 'SKILL'), (2526, 2533, 'SKILL'), (15, 18, 'SKILL'), (32, 35, 'SKILL'), (45, 48, 'SKILL'), (64, 67, 'SKILL'), (1750, 1753, 'SKILL'), (2005, 2008, 'SKILL'), (2022, 2025, 'SKILL'), (2517, 2520, 'SKILL'), (3051, 3054, 'SKILL'), (3710, 3713, 'SKILL'), (3718, 3721, 'SKILL'), (3806, 3809, 'SKILL'), (3898, 3901, 'SKILL'), (4100, 4103, 'SKILL'), (4284, 4287, 'SKILL'), (4621, 4624, 'SKILL'), (4688, 4691, 'SKILL'), (5642, 5648, 'SKILL'), (75, 76, 'SKILL'), (5640, 5641, 'SKILL'), (1680, 1685, 'SKILL'), (3952, 3960, 'SKILL'), (4460, 4468, 'SKILL'), (4692, 4700, 'SKILL'), (4892, 4900, 'SKILL'), (5166, 5174, 'SKILL'), (5408, 5416, 'SKILL'), (5315, 5322, 'SKILL'), (5343, 5350, 'SKILL'), (687, 700, 'SKILL'), (4536, 4551, 'SKILL'), (3098, 3108, 'SKILL'), (3177, 3187, 'SKILL'), (3523, 3533, 'SKILL'), (1945, 1948, 'SKILL'), (1945, 1948, 'SKILL'), (477, 489, 'SKILL')]}]\n"
     ]
    }
   ],
   "source": [
    "print(output_data[3])"
   ]
  },
  {
   "cell_type": "code",
   "execution_count": 596,
   "id": "748bb2bc",
   "metadata": {},
   "outputs": [],
   "source": [
    "def train_dev_split(all_annotated_data, percent=0.15):\n",
    "  # shuffle the data\n",
    "    data = all_annotated_data.copy()\n",
    "    random.shuffle(data)\n",
    "\n",
    "  # split the data to train, dev sets \n",
    "    split_len = int(len(data) * (1-percent))\n",
    "    train_data = data[:split_len]\n",
    "    dev_data   = data[split_len:]\n",
    "    return train_data, dev_data"
   ]
  },
  {
   "cell_type": "code",
   "execution_count": 606,
   "id": "9d46a270",
   "metadata": {},
   "outputs": [],
   "source": [
    "import spacy\n",
    "from spacy.tokens import DocBin\n",
    "from tqdm import tqdm\n",
    "nlp = spacy.blank('en') # load a new spacy model\n",
    "db = DocBin() # create a DocBin object\n",
    "def make_spacy_file(annotated_data, file_path):\n",
    "    nlp = spacy.blank('en') # load a new spacy model\n",
    "    db = DocBin() # create a DocBin object\n",
    "    for text, annot in tqdm(annotated_data): # data in previous format\n",
    "        doc = nlp.make_doc(text) # create doc object from text\n",
    "        ents = []\n",
    "        for start, end, label in annot['entities']: # add character indexes\n",
    "            span = doc.char_span(start, end, label=label, alignment_mode='expand')\n",
    "            if span is None:\n",
    "                print('Skipping entity')\n",
    "                # print(span, start, end, label, text[start:end])\n",
    "            else:\n",
    "                ents.append(span)\n",
    "        try:\n",
    "            filtered = filter_spans(ents)\n",
    "            doc.ents = filtered # label the text with the ents\n",
    "            db.add(doc)\n",
    "        except:\n",
    "            print(text, annot)\n",
    "    db.to_disk(f'{file_path}.spacy') # save the docbin object"
   ]
  },
  {
   "cell_type": "code",
   "execution_count": 607,
   "id": "d883c5e2",
   "metadata": {},
   "outputs": [
    {
     "name": "stdout",
     "output_type": "stream",
     "text": [
      "769 193\n"
     ]
    }
   ],
   "source": [
    "train_data, test_data = train_dev_split(output_data, percent=0.2)\n",
    "print(len(train_data) , len(test_data))"
   ]
  },
  {
   "cell_type": "code",
   "execution_count": 608,
   "id": "c5d985f8",
   "metadata": {},
   "outputs": [],
   "source": [
    "train_path = 'train'\n",
    "dev_path   = 'dev'"
   ]
  },
  {
   "cell_type": "code",
   "execution_count": 487,
   "id": "3996315b",
   "metadata": {},
   "outputs": [],
   "source": [
    "\n",
    "dev_path  = "
   ]
  },
  {
   "cell_type": "code",
   "execution_count": 609,
   "id": "1d27668d",
   "metadata": {},
   "outputs": [
    {
     "name": "stderr",
     "output_type": "stream",
     "text": [
      "100%|██████████| 769/769 [00:01<00:00, 715.17it/s]\n",
      "100%|██████████| 193/193 [00:00<00:00, 517.04it/s]\n"
     ]
    }
   ],
   "source": [
    "make_spacy_file(train_data, train_path)\n",
    "make_spacy_file(test_data, dev_path)"
   ]
  },
  {
   "cell_type": "code",
   "execution_count": 611,
   "id": "ae2f869d",
   "metadata": {},
   "outputs": [
    {
     "data": {
      "text/plain": [
       "['skill m office photoshop sql server education detail june 2015 bachelor yashwantrao chavan maharashtra university sale manager sale manager skill detail m office exprience 6 month m sql server exprience 6 month photoshop exprience 6 month sql exprience 6 month sql server exprience 6 monthscompany detail company nature work description generating lead call suggesting residential property per client budget specification building relationship channel partner meeting client project presentation follow site visit deal closure worked icici merchant service hg payroll sale manager 16th jan 2017 till 30th aug 2018 nature work sale po edc machine sme loan loan electronic payment acquiring new merchant retaing existing merchant cold calling casa team icici bank generating lead field visit providing demo retailer shopkeeper sme corporate merchant closing signup worked mahal pvt ltd sr sale executive 04th mar 2016 03 jan 2017 nature work calling lead gegenerat interacting client call suggesting property flat bunglows n plot row house per requirement meeting new channel partner maintain relationship channel partner lead achieving monthly target maintaining report updating senior daily activity company bookmyflat com description arranging site visit client lead generated closing deal suggesting appropriate residential property client per budget',\n",
       " {'entities': [(483, 495, 'SKILL'),\n",
       "   (25, 28, 'SKILL'),\n",
       "   (182, 185, 'SKILL'),\n",
       "   (239, 242, 'SKILL'),\n",
       "   (261, 264, 'SKILL')]}]"
      ]
     },
     "execution_count": 611,
     "metadata": {},
     "output_type": "execute_result"
    }
   ],
   "source": [
    "train_data[0]"
   ]
  },
  {
   "cell_type": "code",
   "execution_count": 612,
   "id": "3a5fa6ff",
   "metadata": {},
   "outputs": [
    {
     "name": "stdout",
     "output_type": "stream",
     "text": [
      "\u001b[38;5;2m[+] Auto-filled config with all values\u001b[0m\n",
      "\u001b[38;5;2m[+] Saved config\u001b[0m\n",
      "config.cfg\n",
      "You can now add your data and train your pipeline:\n",
      "python -m spacy train config.cfg --paths.train ./train.spacy --paths.dev ./dev.spacy\n"
     ]
    }
   ],
   "source": [
    "!python -m spacy init fill-config base_config.cfg config.cfg"
   ]
  },
  {
   "cell_type": "code",
   "execution_count": 624,
   "id": "9446cb4b",
   "metadata": {
    "scrolled": false
   },
   "outputs": [
    {
     "name": "stdout",
     "output_type": "stream",
     "text": [
      "\u001b[38;5;4m[i] Saving to output directory: model_output\u001b[0m\n",
      "\u001b[38;5;4m[i] Using CPU\u001b[0m\n",
      "\u001b[1m\n",
      "=========================== Initializing pipeline ===========================\u001b[0m\n",
      "\u001b[38;5;2m[+] Initialized pipeline\u001b[0m\n",
      "\u001b[1m\n",
      "============================= Training pipeline =============================\u001b[0m\n",
      "\u001b[38;5;4m[i] Pipeline: ['tok2vec', 'ner']\u001b[0m\n",
      "\u001b[38;5;4m[i] Initial learn rate: 0.001\u001b[0m\n",
      "\u001b[38;5;3m[!] Saving logs is disabled because training_log.jsonl already\n",
      "exists.\u001b[0m\n",
      "E    #       LOSS TOK2VEC  LOSS NER  ENTS_F  ENTS_P  ENTS_R  SCORE \n",
      "---  ------  ------------  --------  ------  ------  ------  ------\n",
      "  0       0          0.00    254.67    0.10    0.30    0.06    0.00\n",
      "  0     200         22.16   5620.41   90.89   95.34   86.85    0.91\n",
      "  0     400         35.63   1152.28   95.87   96.52   95.23    0.96\n",
      "  0     600         56.83    750.74   96.08   98.08   94.16    0.96\n",
      "  1     800        117.67    638.46   96.35   95.14   97.59    0.96\n",
      "  1    1000        142.69    397.52   96.69   98.75   94.72    0.97\n",
      "  1    1200        175.29    367.93   98.03   99.46   96.64    0.98\n",
      "  1    1400        134.07    267.92   98.81   99.28   98.35    0.99\n",
      "  2    1600        278.32    261.19   98.71   99.06   98.37    0.99\n",
      "  2    1800        193.98    177.91   97.80   99.30   96.35    0.98\n",
      "  2    2000        224.16    166.23   99.01   99.11   98.91    0.99\n",
      "  3    2200        308.57    226.31   99.11   99.28   98.93    0.99\n",
      "  3    2400        291.55    150.04   99.02   99.43   98.60    0.99\n",
      "  3    2600        288.66    110.38   98.89   99.72   98.08    0.99\n",
      "  3    2800        361.43    103.19   99.47   99.30   99.63    0.99\n",
      "  4    3000        158.10     90.30   99.26   99.44   99.09    0.99\n",
      "  4    3200        395.82    114.21   99.70   99.67   99.73    1.00\n",
      "  4    3400        606.45    130.50   99.76   99.54   99.98    1.00\n",
      "  5    3600        588.03     96.87   99.53   99.40   99.65    1.00\n",
      "  5    3800        194.20     95.16   99.56   99.42   99.71    1.00\n",
      "  6    4000        455.83    166.31   99.84   99.96   99.73    1.00\n",
      "  6    4200        966.27    110.45   99.87   99.83   99.92    1.00\n",
      "  7    4400        204.80     66.07   99.89   99.84   99.94    1.00\n",
      "  8    4600        251.84    110.37   99.89   99.92   99.86    1.00\n",
      "  8    4800       1849.52     87.82   99.87   99.88   99.86    1.00\n",
      "  9    5000        111.35     39.27   99.93   99.86  100.00    1.00\n",
      " 10    5200        121.41     37.05   99.89   99.90   99.88    1.00\n",
      " 10    5400        138.19     44.84   99.91   99.94   99.88    1.00\n",
      " 11    5600        582.64     79.55   99.73   99.73   99.73    1.00\n",
      " 11    5800        500.06     80.35   99.93   99.90   99.96    1.00\n",
      " 12    6000        176.42     58.20   99.84   99.83   99.86    1.00\n",
      " 13    6200         77.34     16.84   99.89   99.94   99.84    1.00\n",
      " 13    6400        262.18     47.40   99.89  100.00   99.79    1.00\n",
      " 14    6600        176.89     44.78   99.89   99.96   99.83    1.00\n",
      "\u001b[38;5;2m[+] Saved pipeline to output directory\u001b[0m\n",
      "model_output\\model-last\n",
      "Wall time: 1h 4min 1s\n"
     ]
    },
    {
     "name": "stderr",
     "output_type": "stream",
     "text": [
      "[2023-03-08 13:23:21,042] [INFO] Set up nlp object from config\n",
      "[2023-03-08 13:23:21,052] [INFO] Pipeline: ['tok2vec', 'ner']\n",
      "[2023-03-08 13:23:21,052] [INFO] Created vocabulary\n",
      "[2023-03-08 13:23:22,162] [INFO] Added vectors: en_core_web_lg\n",
      "[2023-03-08 13:23:23,082] [INFO] Finished initializing nlp object\n",
      "[2023-03-08 13:23:27,782] [INFO] Initialized pipeline components: ['tok2vec', 'ner']\n"
     ]
    }
   ],
   "source": [
    "%%time\n",
    "!python -m spacy train config.cfg --output ./model_output --paths.train ./train.spacy --paths.dev ./dev.spacy"
   ]
  },
  {
   "cell_type": "code",
   "execution_count": 625,
   "id": "cc3a8444",
   "metadata": {},
   "outputs": [
    {
     "name": "stdout",
     "output_type": "stream",
     "text": [
      "769 193\n"
     ]
    }
   ],
   "source": [
    "print(len(train_data) , len(test_data))"
   ]
  },
  {
   "cell_type": "code",
   "execution_count": 626,
   "id": "c439d74a",
   "metadata": {},
   "outputs": [
    {
     "data": {
      "text/plain": [
       "{'epoch': 11,\n",
       " 'step': 5800,\n",
       " 'losses': {'tok2vec': 112.573921654, 'ner': 20.8146250369},\n",
       " 'scores': {'ents_f': 99.7585513078,\n",
       "  'ents_p': 99.6382636656,\n",
       "  'ents_r': 99.8791297341},\n",
       " 'score': 0.9975855131}"
      ]
     },
     "execution_count": 626,
     "metadata": {},
     "output_type": "execute_result"
    }
   ],
   "source": [
    "f = open('training_log.jsonl', 'r')\n",
    "\n",
    "for line in f:\n",
    "    f_line = json.loads(line)\n",
    "f_line"
   ]
  },
  {
   "cell_type": "code",
   "execution_count": 627,
   "id": "ed95814a",
   "metadata": {
    "scrolled": true
   },
   "outputs": [
    {
     "name": "stdout",
     "output_type": "stream",
     "text": [
      "['epoch', 'step', 'losses', 'scores', 'score']\n",
      "{'epoch': [], 'step': [], 'losses': [], 'scores': [], 'score': []}\n",
      "\n",
      " {'epoch': [0, 0, 0, 1, 1, 1, 1, 2, 2, 2, 2, 3, 3, 3, 3, 4, 4, 4, 5, 5, 6, 6, 7, 8, 8, 9, 10, 10, 11], 'step': [200, 400, 600, 800, 1000, 1200, 1400, 1600, 1800, 2000, 2200, 2400, 2600, 2800, 3000, 3200, 3400, 3600, 3800, 4000, 4200, 4400, 4600, 4800, 5000, 5200, 5400, 5600, 5800], 'losses': [{'tok2vec': 25.7890432709, 'ner': 4685.1134768997}, {'tok2vec': 44.803616385, 'ner': 958.7312354074}, {'tok2vec': 82.3440565103, 'ner': 656.506755439}, {'tok2vec': 101.4838313209, 'ner': 461.691731742}, {'tok2vec': 83.7431972975, 'ner': 244.8225935059}, {'tok2vec': 164.8761005926, 'ner': 350.084502251}, {'tok2vec': 141.7892385766, 'ner': 228.3929902627}, {'tok2vec': 193.8643192558, 'ner': 228.8416952035}, {'tok2vec': 167.9341755273, 'ner': 236.3189659022}, {'tok2vec': 155.3077225835, 'ner': 110.3270071852}, {'tok2vec': 189.3559566161, 'ner': 88.2318026738}, {'tok2vec': 153.3025467313, 'ner': 118.7458722678}, {'tok2vec': 140.0052422543, 'ner': 124.1223995202}, {'tok2vec': 116.5894557799, 'ner': 116.6342837506}, {'tok2vec': 91.6861964946, 'ner': 75.4551613292}, {'tok2vec': 339.2517083772, 'ner': 85.9490429209}, {'tok2vec': 104.9780056927, 'ner': 90.4929886972}, {'tok2vec': 343.1049330053, 'ner': 125.3651808744}, {'tok2vec': 100.3289873919, 'ner': 65.4101313406}, {'tok2vec': 458.206412406, 'ner': 79.5179079741}, {'tok2vec': 484.6566818079, 'ner': 81.6239038158}, {'tok2vec': 152.2421038079, 'ner': 68.2532582729}, {'tok2vec': 106.0877374373, 'ner': 47.27351761}, {'tok2vec': 181.6418456823, 'ner': 82.5878631854}, {'tok2vec': 277.2060286891, 'ner': 66.8200718475}, {'tok2vec': 91.9173491319, 'ner': 32.2545164698}, {'tok2vec': 63.7227369916, 'ner': 22.9511266868}, {'tok2vec': 171.8052188119, 'ner': 51.5213528098}, {'tok2vec': 112.573921654, 'ner': 20.8146250369}], 'scores': [{'ents_f': 91.1288581912, 'ents_p': 98.140399814, 'ents_r': 85.0523771152}, {'ents_f': 94.1765059035, 'ents_p': 93.5586481113, 'ents_r': 94.8025785657}, {'ents_f': 96.0193003619, 'ents_p': 95.8266452648, 'ents_r': 96.212731668}, {'ents_f': 97.403393989, 'ents_p': 98.8792029888, 'ents_r': 95.9709911362}, {'ents_f': 97.0118706508, 'ents_p': 98.5856905158, 'ents_r': 95.4875100725}, {'ents_f': 96.1119111294, 'ents_p': 98.1925178646, 'ents_r': 94.1176470588}, {'ents_f': 98.5657370518, 'ents_p': 97.4783293932, 'ents_r': 99.6776792909}, {'ents_f': 99.0929248135, 'ents_p': 99.1528842275, 'ents_r': 99.0330378727}, {'ents_f': 99.2326332795, 'ents_p': 99.4736842105, 'ents_r': 98.992747784}, {'ents_f': 99.5375025136, 'ents_p': 99.3576876756, 'ents_r': 99.7179693795}, {'ents_f': 99.6173212487, 'ents_p': 99.5972613774, 'ents_r': 99.6373892023}, {'ents_f': 99.4350282486, 'ents_p': 99.5957962813, 'ents_r': 99.2747784045}, {'ents_f': 99.5361968139, 'ents_p': 99.6366572467, 'ents_r': 99.4359387591}, {'ents_f': 99.6581540318, 'ents_p': 99.4781212365, 'ents_r': 99.8388396454}, {'ents_f': 99.575843264, 'ents_p': 99.8379910895, 'ents_r': 99.3150684932}, {'ents_f': 99.6168582375, 'ents_p': 99.7174000807, 'ents_r': 99.5165189363}, {'ents_f': 99.0763052209, 'ents_p': 98.7590072058, 'ents_r': 99.3956486704}, {'ents_f': 99.7381671702, 'ents_p': 99.7180829642, 'ents_r': 99.7582594682}, {'ents_f': 99.7982243745, 'ents_p': 99.9595796281, 'ents_r': 99.6373892023}, {'ents_f': 99.6977634495, 'ents_p': 99.7178557033, 'ents_r': 99.6776792909}, {'ents_f': 100.0, 'ents_p': 100.0, 'ents_r': 100.0}, {'ents_f': 99.8992544832, 'ents_p': 99.9193873438, 'ents_r': 99.8791297341}, {'ents_f': 99.7187625552, 'ents_p': 99.4391025641, 'ents_r': 100.0}, {'ents_f': 99.9798508966, 'ents_p': 100.0, 'ents_r': 99.9597099114}, {'ents_f': 99.9597261377, 'ents_p': 99.9194847021, 'ents_r': 100.0}, {'ents_f': 100.0, 'ents_p': 100.0, 'ents_r': 100.0}, {'ents_f': 99.8792270531, 'ents_p': 99.7988736927, 'ents_r': 99.9597099114}, {'ents_f': 99.9798590131, 'ents_p': 99.9597261377, 'ents_r': 100.0}, {'ents_f': 99.7585513078, 'ents_p': 99.6382636656, 'ents_r': 99.8791297341}], 'score': [0.9112885819, 0.941765059, 0.9601930036, 0.9740339399, 0.9701187065, 0.9611191113, 0.9856573705, 0.9909292481, 0.9923263328, 0.9953750251, 0.9961732125, 0.9943502825, 0.9953619681, 0.9965815403, 0.9957584326, 0.9961685824, 0.9907630522, 0.9973816717, 0.9979822437, 0.9969776345, 1.0, 0.9989925448, 0.9971876256, 0.999798509, 0.9995972614, 1.0, 0.9987922705, 0.9997985901, 0.9975855131]}\n"
     ]
    }
   ],
   "source": [
    "f = open('training_log.jsonl', 'r')\n",
    "\n",
    "f_line = json.loads(f.readline())\n",
    "logs_keys = list(f_line.keys())\n",
    "print(logs_keys)\n",
    "logs_out = {}\n",
    "for i in logs_keys:\n",
    "    logs_out[i]=[]\n",
    "print(logs_out)    \n",
    "for line in f:\n",
    "    f_line = json.loads(line)    \n",
    "    for i in logs_keys:\n",
    "        logs_out[i].append(f_line[i])\n",
    "print('\\n' , logs_out)"
   ]
  },
  {
   "cell_type": "code",
   "execution_count": 628,
   "id": "97180c2c",
   "metadata": {},
   "outputs": [
    {
     "name": "stdout",
     "output_type": "stream",
     "text": [
      "[4685.1134768997, 958.7312354074, 656.506755439, 461.691731742, 244.8225935059, 350.084502251, 228.3929902627, 228.8416952035, 236.3189659022, 110.3270071852, 88.2318026738, 118.7458722678, 124.1223995202, 116.6342837506, 75.4551613292, 85.9490429209, 90.4929886972, 125.3651808744, 65.4101313406, 79.5179079741, 81.6239038158, 68.2532582729, 47.27351761, 82.5878631854, 66.8200718475, 32.2545164698, 22.9511266868, 51.5213528098, 20.8146250369]\n"
     ]
    },
    {
     "data": {
      "text/plain": [
       "29"
      ]
     },
     "execution_count": 628,
     "metadata": {},
     "output_type": "execute_result"
    }
   ],
   "source": [
    "#loss = list(logs_out['losses'])\n",
    "losses = []\n",
    "for loss in logs_out['losses']:\n",
    "    losses.append(loss['ner'])\n",
    "print(losses)\n",
    "len(losses)"
   ]
  },
  {
   "cell_type": "code",
   "execution_count": 629,
   "id": "53c611cc",
   "metadata": {},
   "outputs": [
    {
     "name": "stdout",
     "output_type": "stream",
     "text": [
      "[91.12885818999999, 94.1765059, 96.01930036, 97.40339399, 97.01187064999999, 96.11191113000001, 98.56573705, 99.09292481, 99.23263328, 99.53750251, 99.61732125, 99.43502825, 99.53619680999999, 99.65815403, 99.57584326, 99.61685824, 99.07630522000001, 99.73816717, 99.79822437, 99.69776345, 100.0, 99.89925448, 99.71876256, 99.9798509, 99.95972614, 100.0, 99.87922705, 99.97985901, 99.75855131]\n"
     ]
    },
    {
     "data": {
      "text/plain": [
       "29"
      ]
     },
     "execution_count": 629,
     "metadata": {},
     "output_type": "execute_result"
    }
   ],
   "source": [
    "score = list(logs_out['score'])\n",
    "scores = []\n",
    "for score in logs_out['score']:\n",
    "    scores.append(score*100)\n",
    "print(scores)\n",
    "len(scores)"
   ]
  },
  {
   "cell_type": "code",
   "execution_count": 630,
   "id": "dd4339eb",
   "metadata": {},
   "outputs": [
    {
     "name": "stdout",
     "output_type": "stream",
     "text": [
      "[85.0523771152, 94.8025785657, 96.212731668, 95.9709911362, 95.4875100725, 94.1176470588, 99.6776792909, 99.0330378727, 98.992747784, 99.7179693795, 99.6373892023, 99.2747784045, 99.4359387591, 99.8388396454, 99.3150684932, 99.5165189363, 99.3956486704, 99.7582594682, 99.6373892023, 99.6776792909, 100.0, 99.8791297341, 100.0, 99.9597099114, 100.0, 100.0, 99.9597099114, 100.0, 99.8791297341]\n"
     ]
    },
    {
     "data": {
      "text/plain": [
       "29"
      ]
     },
     "execution_count": 630,
     "metadata": {},
     "output_type": "execute_result"
    }
   ],
   "source": [
    "recall = []\n",
    "for loss in logs_out['scores']:\n",
    "    recall.append(loss['ents_r'])\n",
    "print(recall)\n",
    "len(recall)"
   ]
  },
  {
   "cell_type": "code",
   "execution_count": 631,
   "id": "ecc16fc9",
   "metadata": {},
   "outputs": [
    {
     "name": "stdout",
     "output_type": "stream",
     "text": [
      "[91.1288581912, 94.1765059035, 96.0193003619, 97.403393989, 97.0118706508, 96.1119111294, 98.5657370518, 99.0929248135, 99.2326332795, 99.5375025136, 99.6173212487, 99.4350282486, 99.5361968139, 99.6581540318, 99.575843264, 99.6168582375, 99.0763052209, 99.7381671702, 99.7982243745, 99.6977634495, 100.0, 99.8992544832, 99.7187625552, 99.9798508966, 99.9597261377, 100.0, 99.8792270531, 99.9798590131, 99.7585513078]\n"
     ]
    },
    {
     "data": {
      "text/plain": [
       "29"
      ]
     },
     "execution_count": 631,
     "metadata": {},
     "output_type": "execute_result"
    }
   ],
   "source": [
    "F_Score = []\n",
    "for loss in logs_out['scores']:\n",
    "    F_Score.append(loss['ents_f'])\n",
    "print(F_Score)\n",
    "len(F_Score)"
   ]
  },
  {
   "cell_type": "code",
   "execution_count": 632,
   "id": "a23566d5",
   "metadata": {},
   "outputs": [
    {
     "name": "stdout",
     "output_type": "stream",
     "text": [
      "[98.140399814, 93.5586481113, 95.8266452648, 98.8792029888, 98.5856905158, 98.1925178646, 97.4783293932, 99.1528842275, 99.4736842105, 99.3576876756, 99.5972613774, 99.5957962813, 99.6366572467, 99.4781212365, 99.8379910895, 99.7174000807, 98.7590072058, 99.7180829642, 99.9595796281, 99.7178557033, 100.0, 99.9193873438, 99.4391025641, 100.0, 99.9194847021, 100.0, 99.7988736927, 99.9597261377, 99.6382636656]\n"
     ]
    },
    {
     "data": {
      "text/plain": [
       "29"
      ]
     },
     "execution_count": 632,
     "metadata": {},
     "output_type": "execute_result"
    }
   ],
   "source": [
    "precision = []\n",
    "for loss in logs_out['scores']:\n",
    "    precision.append(loss['ents_p'])\n",
    "print(precision)\n",
    "len(precision)"
   ]
  },
  {
   "cell_type": "code",
   "execution_count": 633,
   "id": "7a3d20dc",
   "metadata": {},
   "outputs": [
    {
     "data": {
      "text/plain": [
       "<matplotlib.legend.Legend at 0x1b6b9e5d9d0>"
      ]
     },
     "execution_count": 633,
     "metadata": {},
     "output_type": "execute_result"
    },
    {
     "data": {
      "image/png": "[encoded data removed]",
      "text/plain": [
       "<Figure size 1200x1200 with 1 Axes>"
      ]
     },
     "metadata": {},
     "output_type": "display_data"
    }
   ],
   "source": [
    "import matplotlib.pyplot as plt\n",
    "plt.figure(figsize=(12, 12))\n",
    "plt.style.use('ggplot')\n",
    "plt.subplot(2,2,1)\n",
    "plt.plot(losses)\n",
    "#plt.plot(recalls)\n",
    "plt.title('Loss of the Model')\n",
    "plt.ylabel('Steps of epoch', fontsize=12)\n",
    "plt.xlabel('No. of Epochs', fontsize=12)\n",
    "plt.legend(['train loss'], loc='lower right', prop={'size': 12})"
   ]
  },
  {
   "cell_type": "code",
   "execution_count": 634,
   "id": "43008296",
   "metadata": {},
   "outputs": [
    {
     "data": {
      "text/plain": [
       "<matplotlib.legend.Legend at 0x1b6ba08bca0>"
      ]
     },
     "execution_count": 634,
     "metadata": {},
     "output_type": "execute_result"
    },
    {
     "data": {
      "image/png": "[encoded data removed]",
      "text/plain": [
       "<Figure size 1200x1200 with 1 Axes>"
      ]
     },
     "metadata": {},
     "output_type": "display_data"
    }
   ],
   "source": [
    "import matplotlib.pyplot as plt\n",
    "plt.figure(figsize=(12, 12))\n",
    "plt.style.use('ggplot')\n",
    "plt.subplot(2,2,1)\n",
    "plt.plot(F_Score)           \n",
    "plt.plot(recall)\n",
    "plt.plot(precision)           \n",
    "plt.title('Accuracy of the Model')\n",
    "plt.ylabel('Steps of epoch', fontsize=12)\n",
    "plt.xlabel('No. of Epochs', fontsize=12)\n",
    "plt.legend(['F Score', 'Recall','Precision'], loc='lower right', prop={'size': 12})"
   ]
  },
  {
   "cell_type": "code",
   "execution_count": 635,
   "id": "3507e584",
   "metadata": {},
   "outputs": [],
   "source": [
    "model = spacy.load('model_output\\model-best') #load the model"
   ]
  },
  {
   "cell_type": "code",
   "execution_count": 636,
   "id": "8f9c5622",
   "metadata": {},
   "outputs": [],
   "source": [
    "resume_sample = 'Systems Administrator  Engineer Systems Administrator  Engineer  WellsFargo Toms Rivers NJ Linux Unix Systems Administrator Engineer  Talented and passionate system engineer with 6 years plus of experience as a systems engineer Strong analytical and troubleshooting abilities with a deep understanding of Linux Red Hat networking virtualization management cloud computing AWS DevOps automation with puppet and Ansible and more Excellent interpersonal skills with experience working with teams to productively troubleshoot and resolve challenging technical issues CAREER PROFILE  Expertise in RHEL 567  Racking and stacking of Servers for provisioning  Experience with setting different RAID levels  Experience with building hypervisors by installing VMWare ESXi on bare metal machines  Experience in provisioning servers using pxeboot and kickstart to automate installation of OS  Expertise in configuring managing and troubleshooting of different servers such as NFS NIS with autofs Yum Repository Server DNS DHCP FTP Samba LDAP LAMP  Experience in disk partitioning using FDISK  Creation and Management of Physical Volumes Volume Groups Logical Volumes using LVM  Creating various file systems on logical volumes as well as resizing which includes extending and shrinking using LVM  Experience with configuring monitoring and troubleshooting of different file systems such as EXT 2 3 4 and XFS as well as upgrading file systems as needed using tune FS  Experience in Installation Configuration Backup Recovery Maintenance Support of Red Hat Linux and other flavors  Applying patches for security fixes using Ansible blade logic Redhat Satellite Server  Experience with Yum and RPM to install various Packages on Redhat Linux Environments as well as actively applying Security Patches to keep Production  Development  Configuration of NIC Bonding for redundancy and performance such as Round Robin and Active backup to increase network bandwidth and redundancy for NIC Cards  Experience with creating and managing virtual machines clusters and migration of VMs from host to host using vmotion on Vcenter  Wrote Scripts for Day to Day tasks such as groupuser administration start up and shutdown scripts Crontabs  Experience with configuring an ansible server for automation writing adhoc commands and playbooks for user management and creating servers  Deployment and system build configuration using ansible and puppet as well as monitoring and setting sensors using Nagios  Experience in using various network protocols like SSH SCP SFTP HTTP TCPIP UDP FTP SMTP  Experience with Kernel tuning as needed especially for virtual memory swap space  Excellent verbal and written communication skills with experience in direct internal and external client relationship management  Ability to learn and adapt to new and different technologies to a working depth quickly and efficiently  247 customer support and service delivery experience Authorized to work in United States for any employer Work Experience Systems Administrator  Engineer WellsFargo Toms Rivers NJ January 2016 to Present  Knowledge of AWS administration which includes deploying and configuring EC2 instances and S3 and managing IAM roles  Installing maintaining administration and troubleshooting of Linux and Unix Systems  Working directly with Vendor to decommission thousands of servers and networking equipment following Company rules and regulations  Working with vendors to replace server parts and ordering new hardware  Keeping track of system inventory commissioning and decommissioning HP assets and deleting data from servers  Ensuring data destructions before decommissioning assets  Securing SSH with key based authentication with RSA encryption  Setting up autofs mounting for home directories with NIS and LDAP configurations  Providing direct user support for level 2 and level 3 issues via email and ticket system  Providing timely and responsive assistance to company employees by troubleshooting problems as reported the helpdesk ticketing system  Experienced using network traffic monitoring tools such as Wireshark and tcpdump  Performing automated installations of operating systems over the network for various distributions such as Redhat CentOS Ubuntu Fedora as well as Server Provisioning tool such as HPSA  Working with different storage containers creating RAID levels 0 1 5 6 10 to achieve redundancy and performance  Compile opensource software from source code Generate necessary RPM packages for proper documentation and replication across server environment  Performing daily system monitoring verifying the integrity and availability of all hardware server resources systems and key processes reviewing system and application logs and verifying completion of scheduled jobs such as backups  Performing filesystem checks and repairing when needed  Repairing and rebuilding existing servers as per project requirement  Responsible for backing up all systems using NetBackup 75 and restoring files in the event of data loss  Setup cron jobs schedules for various backup and monitoring tasks supported with enterprise backups using Netbackup  Monitoring Netbackup queue for failed backup jobs and taking actions to fix them  Responsible for User management which includes creating modifying renewing user accounts and groups on Linux NIS Ldap as well as Active directory  Setting up NIS domains master server slave and clients and resolving authentication issues  Mounting user home directories through automount and setting up quota system  Installation of ESXi Hypervisor Servers VSphere clients and Vcenter Servers  Installing ESXI servers 55 60  Building Vcenter and adding ESXI servers to it  Creating moving and cloning VMs using Vcenter Vsphere as well as Vmotion  Automating all aspects of VMware VSphere infrastructure with VMware VRealize Orchestrator  Testing and Deploying security patches to number of systems on Dev and Production environment  Perform software package installation upgrades and updates using yum and rpm commands  Maintaining inventory of all incoming and outgoing equipment  Monitoring the UPS systems for generated alerts  Monitoring the infrastructure health using Nagios and proprietary data center monitoring tools  Working with different file systems such as ext3 ext4 xfs and NFS partitioning using fdisk parted to create different partitions creating and fixing file systems  Maintaining the YUM repository server for patch management as well as securing Linux systems using local repository and installing upgrading applications on Linux Systems  Helping with user management such as creating modifying and disabling accounts I set up home directories on servers added users to appropriate groups and assigned sudo access when requested  Created and managed Logical Volume using LVM to create volumes on the volume groups and file systems  Performing physical to virtual machine conversions  Performing critical system administration tasks from Single user mode  Creating mount points for database administrators Supported MySQL database  Configure NTP client on servers to synchronize time zone with the NTP server  Responding to the alerts generated by Nagios such as network connectivity issues critical system services application availability high CPU spikes and systems resources being maxed out  Researches evaluates and recommends software and hardware products  Actively participated in data center operations building scaling servers from ordering hardware to racking them up Ability to pick up heavy equipment  Solid understanding and working knowledge of storage technologies such as SAN NAS and ISCSI  Troubleshooting Linux network security related issues capturing packets using tools such as IPtables firewall TCP wrappers NMAP  Troubleshooting and maintaining of TCPIP Apache HTTPS SMTP and DNS applications  Installing and managing new servers which includes racking stacking cabling running fiber and LAN patch  Configured multiple websites on one Apache http server using VirtualHost containers  Creatingupdating iptables rules on Linux systems using hostbased firewall  Solving issues related to user logon NFS and server connectivity  Configuring NFS server and mount exported NFS resources at the client side  Experience with bash scripting  Creating and modifying bash scripts to automate my daily tasks  Setup NFS and Samba File sharing setup on Linux for Windows servers and machines  Conducting system performance tuning and capacity planning  Solving challenging issues through solid problemsolving approach  Monitored system logs and activity on all servers  Resolved systems and process issues reported by Site scope  Worked with HP Integrated Lights Out ILO Dell IDRAC IBM IMM and Oracle ILOM software to remotely manage troubleshoot and repair servers  Developing and maintaining installation and configuration procedures  Researching and recommending innovative and where possible automating approaches for system administration tasks  Configuring network adapters for IP addresses and resolving routing related issues  Experience configuring and troubleshooting TCPIP DHCP DNS FTP SSH LDAP NTP etc  Configuring and managing VSFTP servers  Ticket assessmentprioritization on daily basis on RT platform  Daily system monitoring using Nagios XI and SolarWinds monitoring resolving reported issues  Installed and configure openstack Linux Systems Administrator KPMG  Montville NJ February 2013 to November 2015  Installing and managing new servers which includes racking stacking cabling running fiber and LAN patch  Responsible for installation of ESXi on bare metal servers  Experience Troubleshooting and providing problems resolution of software issues  Performed systemmonitoring tools like TOP SAR VMSTAT IOSTAT to report systems usage and performance  Performing automated installations and deployed rpm packages using automation tools such as Server Automation and PXEboot with customized kick start files  Strongly experienced in Installing Performing and maintaining RAID Technologies with different RAID levels and attempt to recover data on disk  Performed Systems Security Administration and User administration using Role Based Access control and provided SUDO access to various users and groups for elevated access  Create user and group accounts network configuration manage passwords and permissions  Performed daily system monitoring verifying the integrity and availability of all hardware server resources system processes viewing system and application logs and verify completion of scheduled jobs  Attached NAS DAS storage to Linux and ESXI servers creating standard partitions creating physical volumes group volumes logical volumes and extendingreducing logical volumes  Server startup and shutdown issues as well the services on the Linux Servers Managing file systems utilization using script scheduling as cron job  Maintain file system and host security using chmod chown chgrp iptables  Configured network adapters for IP addresses and resolving routing related issues  Hands on experience of troubleshooting Network memory CPU Swap File system issues TCPIP and SMTP in Linux servers  Performed software package installation upgrades and updates using yum and rpm commands  Tested and Deployed security patches to number of systems on Development and Production environments  Performing critical system administration tasks from Single user mode  Configured NFS server and mounted exported NFS resources at the client side  Experience supporting 247 production computing environments Experience providing oncall and weekend support  Performed Setting up secured password less SSH authentication on servers using SSH key pair  Monitored system logs and activity on all servers  Configure NTP client on servers to synchronize time zone with the NTP server  Participated in weekly meetings and documentation of the environment Linux Systems Administrator Comcast  Philadelphia PA March 2012 to December 2013  Managed and maintained files directories groups and user accounts  Performed OS installations and configuration for testing and implementing server environment  Created simple Linux scripts incorporating Bash and Python for server maintenance and backups  Leveraged Spiceworks to deploy a ticketing help desk for client use in a Windows environment  Leveraged OS Ticket to deploy a support ticket system for client use in a Linux environment  Configured a gmail account to act as an SMTP server in order to send emails to clients and administrators for ticket updates  Responded to level 1 tickets and escalated tickets where necessary  Installed and configured various Linux services including FTP HTTP PostgreSQL MariaDB PHP DNS DHCP  Utilized Remote Desktop Manager and SSH to access test and production environments remotely  Monitored application processes on Linux servers and troubleshooted application slowness Education Masters Skills DNS 6 years LDAP 5 years'"
   ]
  },
  {
   "cell_type": "code",
   "execution_count": 637,
   "id": "dbebb793",
   "metadata": {},
   "outputs": [],
   "source": [
    "clean = []\n",
    "\n",
    "review = re.sub('(@[A-Za-z0-9]+)|([^0-9A-Za-z \\t])|(\\w+:\\/\\/\\S+)|^rt|http.+?\"', \" \", str(resume_sample))\n",
    "review = re.sub(r'(@[A-Za-z0-9]+)|([^0-9A-Za-z \\t])|(\\w+:\\/\\/\\S+)|^rt|http.+?|\\s+|\"',' ',resume_sample)\n",
    "review = review.lower()\n",
    "review = review.split()\n",
    "lm = WordNetLemmatizer()\n",
    "review = [lm.lemmatize(word) for word in review if not word in set(stopwords.words(\"english\"))]\n",
    "review = \" \".join(review)\n",
    "clean.append(review)"
   ]
  },
  {
   "cell_type": "code",
   "execution_count": 638,
   "id": "fc028cdf",
   "metadata": {
    "scrolled": true
   },
   "outputs": [
    {
     "data": {
      "text/plain": [
       "'system administrator engineer system administrator engineer wellsfargo tom river nj linux unix system administrator engineer talented passionate system engineer 6 year plus experience system engineer strong analytical troubleshooting ability deep understanding linux red hat networking virtualization management cloud computing aws devops automation puppet ansible excellent interpersonal skill experience working team productively troubleshoot resolve challenging technical issue career profile expertise rhel 567 racking stacking server provisioning experience setting different raid level experience building hypervisors installing vmware esxi bare metal machine experience provisioning server using pxeboot kickstart automate installation o expertise configuring managing troubleshooting different server nfs ni autofs yum repository server dns dhcp ftp samba ldap lamp experience disk partitioning using fdisk creation management physical volume volume group logical volume using lvm creating various file system logical volume well resizing includes extending shrinking using lvm experience configuring monitoring troubleshooting different file system ext 2 3 4 xfs well upgrading file system needed using tune f experience installation configuration backup recovery maintenance support red hat linux flavor applying patch security fix using ansible blade logic redhat satellite server experience yum rpm install various package redhat linux environment well actively applying security patch keep production development configuration nic bonding redundancy performance round robin active backup increase network bandwidth redundancy nic card experience creating managing virtual machine cluster migration vms host host using vmotion vcenter wrote script day day task groupuser administration start shutdown script crontabs experience configuring ansible server automation writing adhoc command playbook user management creating server deployment system build configuration using ansible puppet well monitoring setting sensor using nagios experience using various network protocol like ssh scp sftp http tcpip udp ftp smtp experience kernel tuning needed especially virtual memory swap space excellent verbal written communication skill experience direct internal external client relationship management ability learn adapt new different technology working depth quickly efficiently 247 customer support service delivery experience authorized work united state employer work experience system administrator engineer wellsfargo tom river nj january 2016 present knowledge aws administration includes deploying configuring ec2 instance s3 managing iam role installing maintaining administration troubleshooting linux unix system working directly vendor decommission thousand server networking equipment following company rule regulation working vendor replace server part ordering new hardware keeping track system inventory commissioning decommissioning hp asset deleting data server ensuring data destruction decommissioning asset securing ssh key based authentication rsa encryption setting autofs mounting home directory ni ldap configuration providing direct user support level 2 level 3 issue via email ticket system providing timely responsive assistance company employee troubleshooting problem reported helpdesk ticketing system experienced using network traffic monitoring tool wireshark tcpdump performing automated installation operating system network various distribution redhat centos ubuntu fedora well server provisioning tool hpsa working different storage container creating raid level 0 1 5 6 10 achieve redundancy performance compile opensource software source code generate necessary rpm package proper documentation replication across server environment performing daily system monitoring verifying integrity availability hardware server resource system key process reviewing system application log verifying completion scheduled job backup performing filesystem check repairing needed repairing rebuilding existing server per project requirement responsible backing system using netbackup 75 restoring file event data loss setup cron job schedule various backup monitoring task supported enterprise backup using netbackup monitoring netbackup queue failed backup job taking action fix responsible user management includes creating modifying renewing user account group linux ni ldap well active directory setting ni domain master server slave client resolving authentication issue mounting user home directory automount setting quota system installation esxi hypervisor server vsphere client vcenter server installing esxi server 55 60 building vcenter adding esxi server creating moving cloning vms using vcenter vsphere well vmotion automating aspect vmware vsphere infrastructure vmware vrealize orchestrator testing deploying security patch number system dev production environment perform software package installation upgrade update using yum rpm command maintaining inventory incoming outgoing equipment monitoring ups system generated alert monitoring infrastructure health using nagios proprietary data center monitoring tool working different file system ext3 ext4 xfs nfs partitioning using fdisk parted create different partition creating fixing file system maintaining yum repository server patch management well securing linux system using local repository installing upgrading application linux system helping user management creating modifying disabling account set home directory server added user appropriate group assigned sudo access requested created managed logical volume using lvm create volume volume group file system performing physical virtual machine conversion performing critical system administration task single user mode creating mount point database administrator supported mysql database configure ntp client server synchronize time zone ntp server responding alert generated nagios network connectivity issue critical system service application availability high cpu spike system resource maxed research evaluates recommends software hardware product actively participated data center operation building scaling server ordering hardware racking ability pick heavy equipment solid understanding working knowledge storage technology san na iscsi troubleshooting linux network security related issue capturing packet using tool iptables firewall tcp wrapper nmap troubleshooting maintaining tcpip apache http smtp dns application installing managing new server includes racking stacking cabling running fiber lan patch configured multiple website one apache server using virtualhost container creatingupdating iptables rule linux system using hostbased firewall solving issue related user logon nfs server connectivity configuring nfs server mount exported nfs resource client side experience bash scripting creating modifying bash script automate daily task setup nfs samba file sharing setup linux window server machine conducting system performance tuning capacity planning solving challenging issue solid problemsolving approach monitored system log activity server resolved system process issue reported site scope worked hp integrated light ilo dell idrac ibm imm oracle ilom software remotely manage troubleshoot repair server developing maintaining installation configuration procedure researching recommending innovative possible automating approach system administration task configuring network adapter ip address resolving routing related issue experience configuring troubleshooting tcpip dhcp dns ftp ssh ldap ntp etc configuring managing vsftp server ticket assessmentprioritization daily basis rt platform daily system monitoring using nagios xi solarwinds monitoring resolving reported issue installed configure openstack linux system administrator kpmg montville nj february 2013 november 2015 installing managing new server includes racking stacking cabling running fiber lan patch responsible installation esxi bare metal server experience troubleshooting providing problem resolution software issue performed systemmonitoring tool like top sar vmstat iostat report system usage performance performing automated installation deployed rpm package using automation tool server automation pxeboot customized kick start file strongly experienced installing performing maintaining raid technology different raid level attempt recover data disk performed system security administration user administration using role based access control provided sudo access various user group elevated access create user group account network configuration manage password permission performed daily system monitoring verifying integrity availability hardware server resource system process viewing system application log verify completion scheduled job attached na da storage linux esxi server creating standard partition creating physical volume group volume logical volume extendingreducing logical volume server startup shutdown issue well service linux server managing file system utilization using script scheduling cron job maintain file system host security using chmod chown chgrp iptables configured network adapter ip address resolving routing related issue hand experience troubleshooting network memory cpu swap file system issue tcpip smtp linux server performed software package installation upgrade update using yum rpm command tested deployed security patch number system development production environment performing critical system administration task single user mode configured nfs server mounted exported nfs resource client side experience supporting 247 production computing environment experience providing oncall weekend support performed setting secured password le ssh authentication server using ssh key pair monitored system log activity server configure ntp client server synchronize time zone ntp server participated weekly meeting documentation environment linux system administrator comcast philadelphia pa march 2012 december 2013 managed maintained file directory group user account performed o installation configuration testing implementing server environment created simple linux script incorporating bash python server maintenance backup leveraged spiceworks deploy ticketing help desk client use window environment leveraged o ticket deploy support ticket system client use linux environment configured gmail account act smtp server order send email client administrator ticket update responded level 1 ticket escalated ticket necessary installed configured various linux service including ftp http postgresql mariadb php dns dhcp utilized remote desktop manager ssh access test production environment remotely monitored application process linux server troubleshooted application slowness education master skill dns 6 year ldap 5 year'"
      ]
     },
     "execution_count": 638,
     "metadata": {},
     "output_type": "execute_result"
    }
   ],
   "source": [
    "clean[0]"
   ]
  },
  {
   "cell_type": "code",
   "execution_count": 639,
   "id": "b44e24cd",
   "metadata": {
    "scrolled": false
   },
   "outputs": [
    {
     "data": {
      "text/plain": [
       "'system administrator engineer system administrator engineer wellsfargo tom river nj linux unix system administrator engineer talented passionate system engineer 6 year plus experience system engineer strong analytical troubleshooting ability deep understanding linux red hat networking virtualization management cloud computing aws devops automation puppet ansible excellent interpersonal skill experience working team productively troubleshoot resolve challenging technical issue career profile expertise rhel 567 racking stacking server provisioning experience setting different raid level experience building hypervisors installing vmware esxi bare metal machine experience provisioning server using pxeboot kickstart automate installation o expertise configuring managing troubleshooting different server nfs ni autofs yum repository server dns dhcp ftp samba ldap lamp experience disk partitioning using fdisk creation management physical volume volume group logical volume using lvm creating various file system logical volume well resizing includes extending shrinking using lvm experience configuring monitoring troubleshooting different file system ext 2 3 4 xfs well upgrading file system needed using tune f experience installation configuration backup recovery maintenance support red hat linux flavor applying patch security fix using ansible blade logic redhat satellite server experience yum rpm install various package redhat linux environment well actively applying security patch keep production development configuration nic bonding redundancy performance round robin active backup increase network bandwidth redundancy nic card experience creating managing virtual machine cluster migration vms host host using vmotion vcenter wrote script day day task groupuser administration start shutdown script crontabs experience configuring ansible server automation writing adhoc command playbook user management creating server deployment system build configuration using ansible puppet well monitoring setting sensor using nagios experience using various network protocol like ssh scp sftp http tcpip udp ftp smtp experience kernel tuning needed especially virtual memory swap space excellent verbal written communication skill experience direct internal external client relationship management ability learn adapt new different technology working depth quickly efficiently 247 customer support service delivery experience authorized work united state employer work experience system administrator engineer wellsfargo tom river nj january 2016 present knowledge aws administration includes deploying configuring ec2 instance s3 managing iam role installing maintaining administration troubleshooting linux unix system working directly vendor decommission thousand server networking equipment following company rule regulation working vendor replace server part ordering new hardware keeping track system inventory commissioning decommissioning hp asset deleting data server ensuring data destruction decommissioning asset securing ssh key based authentication rsa encryption setting autofs mounting home directory ni ldap configuration providing direct user support level 2 level 3 issue via email ticket system providing timely responsive assistance company employee troubleshooting problem reported helpdesk ticketing system experienced using network traffic monitoring tool wireshark tcpdump performing automated installation operating system network various distribution redhat centos ubuntu fedora well server provisioning tool hpsa working different storage container creating raid level 0 1 5 6 10 achieve redundancy performance compile opensource software source code generate necessary rpm package proper documentation replication across server environment performing daily system monitoring verifying integrity availability hardware server resource system key process reviewing system application log verifying completion scheduled job backup performing filesystem check repairing needed repairing rebuilding existing server per project requirement responsible backing system using netbackup 75 restoring file event data loss setup cron job schedule various backup monitoring task supported enterprise backup using netbackup monitoring netbackup queue failed backup job taking action fix responsible user management includes creating modifying renewing user account group linux ni ldap well active directory setting ni domain master server slave client resolving authentication issue mounting user home directory automount setting quota system installation esxi hypervisor server vsphere client vcenter server installing esxi server 55 60 building vcenter adding esxi server creating moving cloning vms using vcenter vsphere well vmotion automating aspect vmware vsphere infrastructure vmware vrealize orchestrator testing deploying security patch number system dev production environment perform software package installation upgrade update using yum rpm command maintaining inventory incoming outgoing equipment monitoring ups system generated alert monitoring infrastructure health using nagios proprietary data center monitoring tool working different file system ext3 ext4 xfs nfs partitioning using fdisk parted create different partition creating fixing file system maintaining yum repository server patch management well securing linux system using local repository installing upgrading application linux system helping user management creating modifying disabling account set home directory server added user appropriate group assigned sudo access requested created managed logical volume using lvm create volume volume group file system performing physical virtual machine conversion performing critical system administration task single user mode creating mount point database administrator supported mysql database configure ntp client server synchronize time zone ntp server responding alert generated nagios network connectivity issue critical system service application availability high cpu spike system resource maxed research evaluates recommends software hardware product actively participated data center operation building scaling server ordering hardware racking ability pick heavy equipment solid understanding working knowledge storage technology san na iscsi troubleshooting linux network security related issue capturing packet using tool iptables firewall tcp wrapper nmap troubleshooting maintaining tcpip apache http smtp dns application installing managing new server includes racking stacking cabling running fiber lan patch configured multiple website one apache server using virtualhost container creatingupdating iptables rule linux system using hostbased firewall solving issue related user logon nfs server connectivity configuring nfs server mount exported nfs resource client side experience bash scripting creating modifying bash script automate daily task setup nfs samba file sharing setup linux window server machine conducting system performance tuning capacity planning solving challenging issue solid problemsolving approach monitored system log activity server resolved system process issue reported site scope worked hp integrated light ilo dell idrac ibm imm oracle ilom software remotely manage troubleshoot repair server developing maintaining installation configuration procedure researching recommending innovative possible automating approach system administration task configuring network adapter ip address resolving routing related issue experience configuring troubleshooting tcpip dhcp dns ftp ssh ldap ntp etc configuring managing vsftp server ticket assessmentprioritization daily basis rt platform daily system monitoring using nagios xi solarwinds monitoring resolving reported issue installed configure openstack linux system administrator kpmg montville nj february 2013 november 2015 installing managing new server includes racking stacking cabling running fiber lan patch responsible installation esxi bare metal server experience troubleshooting providing problem resolution software issue performed systemmonitoring tool like top sar vmstat iostat report system usage performance performing automated installation deployed rpm package using automation tool server automation pxeboot customized kick start file strongly experienced installing performing maintaining raid technology different raid level attempt recover data disk performed system security administration user administration using role based access control provided sudo access various user group elevated access create user group account network configuration manage password permission performed daily system monitoring verifying integrity availability hardware server resource system process viewing system application log verify completion scheduled job attached na da storage linux esxi server creating standard partition creating physical volume group volume logical volume extendingreducing logical volume server startup shutdown issue well service linux server managing file system utilization using script scheduling cron job maintain file system host security using chmod chown chgrp iptables configured network adapter ip address resolving routing related issue hand experience troubleshooting network memory cpu swap file system issue tcpip smtp linux server performed software package installation upgrade update using yum rpm command tested deployed security patch number system development production environment performing critical system administration task single user mode configured nfs server mounted exported nfs resource client side experience supporting 247 production computing environment experience providing oncall weekend support performed setting secured password le ssh authentication server using ssh key pair monitored system log activity server configure ntp client server synchronize time zone ntp server participated weekly meeting documentation environment linux system administrator comcast philadelphia pa march 2012 december 2013 managed maintained file directory group user account performed o installation configuration testing implementing server environment created simple linux script incorporating bash python server maintenance backup leveraged spiceworks deploy ticketing help desk client use window environment leveraged o ticket deploy support ticket system client use linux environment configured gmail account act smtp server order send email client administrator ticket update responded level 1 ticket escalated ticket necessary installed configured various linux service including ftp http postgresql mariadb php dns dhcp utilized remote desktop manager ssh access test production environment remotely monitored application process linux server troubleshooted application slowness education master skill dns 6 year ldap 5 year'"
      ]
     },
     "execution_count": 639,
     "metadata": {},
     "output_type": "execute_result"
    }
   ],
   "source": [
    "resume_clean = ''.join(clean)\n",
    "resume_clean"
   ]
  },
  {
   "cell_type": "code",
   "execution_count": 640,
   "id": "361447c4",
   "metadata": {
    "scrolled": false
   },
   "outputs": [
    {
     "name": "stdout",
     "output_type": "stream",
     "text": [
      "31\n"
     ]
    },
    {
     "data": {
      "text/plain": [
       "{'Skill                         - APACHE',\n",
       " 'Skill                         - AUTOMATE INSTALLATION',\n",
       " 'Skill                         - AUTOMATION',\n",
       " 'Skill                         - AWS',\n",
       " 'Skill                         - AWS ADMINISTRATION',\n",
       " 'Skill                         - BASH',\n",
       " 'Skill                         - COMMUNICATION',\n",
       " 'Skill                         - CONFIGURATION',\n",
       " 'Skill                         - CPU',\n",
       " 'Skill                         - DATABASE',\n",
       " 'Skill                         - DEVOPS',\n",
       " 'Skill                         - DHCP',\n",
       " 'Skill                         - DOCUMENTATION',\n",
       " 'Skill                         - KERNEL TUNING',\n",
       " 'Skill                         - LINUX',\n",
       " 'Skill                         - MARIADB',\n",
       " 'Skill                         - MAXED',\n",
       " 'Skill                         - MYSQL',\n",
       " 'Skill                         - ORACLE',\n",
       " 'Skill                         - PERFORMANCE TUNING',\n",
       " 'Skill                         - PHP',\n",
       " 'Skill                         - PLANNING',\n",
       " 'Skill                         - POSTGRESQL',\n",
       " 'Skill                         - PYTHON',\n",
       " 'Skill                         - RESEARCH',\n",
       " 'Skill                         - ROUTING',\n",
       " 'Skill                         - SECURITY',\n",
       " 'Skill                         - TESTING',\n",
       " 'Skill                         - TROUBLESHOOTING',\n",
       " 'Skill                         - UNIX',\n",
       " 'Skill                         - WRITING'}"
      ]
     },
     "execution_count": 640,
     "metadata": {},
     "output_type": "execute_result"
    }
   ],
   "source": [
    "resume = model(resume_clean)\n",
    "skills = []\n",
    "for ent in resume.ents:\n",
    "    x = f'{ent.label_.capitalize():{30}}- {ent.text.upper()}'\n",
    "    #x = f'{ent.label_.upper():{30}}- {ent.text.capitalize()}'\n",
    "    skills.append(x)\n",
    "'''entities = list(resume.ents)\n",
    "skill_list=[]\n",
    "for i in entities:\n",
    "     skill_list.append(i.text.capitalize())'''\n",
    "print(len(set(skills)))\n",
    "set(skills)"
   ]
  },
  {
   "cell_type": "code",
   "execution_count": 641,
   "id": "d3e7712f",
   "metadata": {
    "scrolled": true
   },
   "outputs": [
    {
     "data": {
      "text/html": [
       "<span class=\"tex2jax_ignore\"><div class=\"entities\" style=\"line-height: 2.5; direction: ltr\">system administrator engineer system administrator engineer wellsfargo tom river nj \n",
       "<mark class=\"entity\" style=\"background: #ddd; padding: 0.45em 0.6em; margin: 0 0.25em; line-height: 1; border-radius: 0.35em;\">\n",
       "    linux\n",
       "    <span style=\"font-size: 0.8em; font-weight: bold; line-height: 1; border-radius: 0.35em; vertical-align: middle; margin-left: 0.5rem\">SKILL</span>\n",
       "</mark>\n",
       " \n",
       "<mark class=\"entity\" style=\"background: #ddd; padding: 0.45em 0.6em; margin: 0 0.25em; line-height: 1; border-radius: 0.35em;\">\n",
       "    unix\n",
       "    <span style=\"font-size: 0.8em; font-weight: bold; line-height: 1; border-radius: 0.35em; vertical-align: middle; margin-left: 0.5rem\">SKILL</span>\n",
       "</mark>\n",
       " system administrator engineer talented passionate system engineer 6 year plus experience system engineer strong analytical \n",
       "<mark class=\"entity\" style=\"background: #ddd; padding: 0.45em 0.6em; margin: 0 0.25em; line-height: 1; border-radius: 0.35em;\">\n",
       "    troubleshooting\n",
       "    <span style=\"font-size: 0.8em; font-weight: bold; line-height: 1; border-radius: 0.35em; vertical-align: middle; margin-left: 0.5rem\">SKILL</span>\n",
       "</mark>\n",
       " ability deep understanding \n",
       "<mark class=\"entity\" style=\"background: #ddd; padding: 0.45em 0.6em; margin: 0 0.25em; line-height: 1; border-radius: 0.35em;\">\n",
       "    linux\n",
       "    <span style=\"font-size: 0.8em; font-weight: bold; line-height: 1; border-radius: 0.35em; vertical-align: middle; margin-left: 0.5rem\">SKILL</span>\n",
       "</mark>\n",
       " red hat networking virtualization management cloud computing \n",
       "<mark class=\"entity\" style=\"background: #ddd; padding: 0.45em 0.6em; margin: 0 0.25em; line-height: 1; border-radius: 0.35em;\">\n",
       "    aws\n",
       "    <span style=\"font-size: 0.8em; font-weight: bold; line-height: 1; border-radius: 0.35em; vertical-align: middle; margin-left: 0.5rem\">SKILL</span>\n",
       "</mark>\n",
       " \n",
       "<mark class=\"entity\" style=\"background: #ddd; padding: 0.45em 0.6em; margin: 0 0.25em; line-height: 1; border-radius: 0.35em;\">\n",
       "    devops\n",
       "    <span style=\"font-size: 0.8em; font-weight: bold; line-height: 1; border-radius: 0.35em; vertical-align: middle; margin-left: 0.5rem\">SKILL</span>\n",
       "</mark>\n",
       " \n",
       "<mark class=\"entity\" style=\"background: #ddd; padding: 0.45em 0.6em; margin: 0 0.25em; line-height: 1; border-radius: 0.35em;\">\n",
       "    automation\n",
       "    <span style=\"font-size: 0.8em; font-weight: bold; line-height: 1; border-radius: 0.35em; vertical-align: middle; margin-left: 0.5rem\">SKILL</span>\n",
       "</mark>\n",
       " puppet ansible excellent interpersonal skill experience working team productively troubleshoot resolve challenging technical issue career profile expertise rhel 567 racking stacking server provisioning experience setting different raid level experience building hypervisors installing vmware esxi bare metal machine experience provisioning server using pxeboot kickstart \n",
       "<mark class=\"entity\" style=\"background: #ddd; padding: 0.45em 0.6em; margin: 0 0.25em; line-height: 1; border-radius: 0.35em;\">\n",
       "    automate installation\n",
       "    <span style=\"font-size: 0.8em; font-weight: bold; line-height: 1; border-radius: 0.35em; vertical-align: middle; margin-left: 0.5rem\">SKILL</span>\n",
       "</mark>\n",
       " o expertise configuring managing \n",
       "<mark class=\"entity\" style=\"background: #ddd; padding: 0.45em 0.6em; margin: 0 0.25em; line-height: 1; border-radius: 0.35em;\">\n",
       "    troubleshooting\n",
       "    <span style=\"font-size: 0.8em; font-weight: bold; line-height: 1; border-radius: 0.35em; vertical-align: middle; margin-left: 0.5rem\">SKILL</span>\n",
       "</mark>\n",
       " different server nfs ni autofs yum repository server dns \n",
       "<mark class=\"entity\" style=\"background: #ddd; padding: 0.45em 0.6em; margin: 0 0.25em; line-height: 1; border-radius: 0.35em;\">\n",
       "    dhcp\n",
       "    <span style=\"font-size: 0.8em; font-weight: bold; line-height: 1; border-radius: 0.35em; vertical-align: middle; margin-left: 0.5rem\">SKILL</span>\n",
       "</mark>\n",
       " ftp samba ldap lamp experience disk partitioning using fdisk creation management physical volume volume group logical volume using lvm creating various file system logical volume well resizing includes extending shrinking using lvm experience configuring monitoring \n",
       "<mark class=\"entity\" style=\"background: #ddd; padding: 0.45em 0.6em; margin: 0 0.25em; line-height: 1; border-radius: 0.35em;\">\n",
       "    troubleshooting\n",
       "    <span style=\"font-size: 0.8em; font-weight: bold; line-height: 1; border-radius: 0.35em; vertical-align: middle; margin-left: 0.5rem\">SKILL</span>\n",
       "</mark>\n",
       " different file system ext 2 3 4 xfs well upgrading file system needed using tune f experience installation \n",
       "<mark class=\"entity\" style=\"background: #ddd; padding: 0.45em 0.6em; margin: 0 0.25em; line-height: 1; border-radius: 0.35em;\">\n",
       "    configuration\n",
       "    <span style=\"font-size: 0.8em; font-weight: bold; line-height: 1; border-radius: 0.35em; vertical-align: middle; margin-left: 0.5rem\">SKILL</span>\n",
       "</mark>\n",
       " backup recovery maintenance support red hat \n",
       "<mark class=\"entity\" style=\"background: #ddd; padding: 0.45em 0.6em; margin: 0 0.25em; line-height: 1; border-radius: 0.35em;\">\n",
       "    linux\n",
       "    <span style=\"font-size: 0.8em; font-weight: bold; line-height: 1; border-radius: 0.35em; vertical-align: middle; margin-left: 0.5rem\">SKILL</span>\n",
       "</mark>\n",
       " flavor applying patch \n",
       "<mark class=\"entity\" style=\"background: #ddd; padding: 0.45em 0.6em; margin: 0 0.25em; line-height: 1; border-radius: 0.35em;\">\n",
       "    security\n",
       "    <span style=\"font-size: 0.8em; font-weight: bold; line-height: 1; border-radius: 0.35em; vertical-align: middle; margin-left: 0.5rem\">SKILL</span>\n",
       "</mark>\n",
       " fix using ansible blade logic redhat satellite server experience yum rpm install various package redhat \n",
       "<mark class=\"entity\" style=\"background: #ddd; padding: 0.45em 0.6em; margin: 0 0.25em; line-height: 1; border-radius: 0.35em;\">\n",
       "    linux\n",
       "    <span style=\"font-size: 0.8em; font-weight: bold; line-height: 1; border-radius: 0.35em; vertical-align: middle; margin-left: 0.5rem\">SKILL</span>\n",
       "</mark>\n",
       " environment well actively applying \n",
       "<mark class=\"entity\" style=\"background: #ddd; padding: 0.45em 0.6em; margin: 0 0.25em; line-height: 1; border-radius: 0.35em;\">\n",
       "    security\n",
       "    <span style=\"font-size: 0.8em; font-weight: bold; line-height: 1; border-radius: 0.35em; vertical-align: middle; margin-left: 0.5rem\">SKILL</span>\n",
       "</mark>\n",
       " patch keep production development \n",
       "<mark class=\"entity\" style=\"background: #ddd; padding: 0.45em 0.6em; margin: 0 0.25em; line-height: 1; border-radius: 0.35em;\">\n",
       "    configuration\n",
       "    <span style=\"font-size: 0.8em; font-weight: bold; line-height: 1; border-radius: 0.35em; vertical-align: middle; margin-left: 0.5rem\">SKILL</span>\n",
       "</mark>\n",
       " nic bonding redundancy performance round robin active backup increase network bandwidth redundancy nic card experience creating managing virtual machine cluster migration vms host host using vmotion vcenter wrote script day day task groupuser administration start shutdown script crontabs experience configuring ansible server \n",
       "<mark class=\"entity\" style=\"background: #ddd; padding: 0.45em 0.6em; margin: 0 0.25em; line-height: 1; border-radius: 0.35em;\">\n",
       "    automation\n",
       "    <span style=\"font-size: 0.8em; font-weight: bold; line-height: 1; border-radius: 0.35em; vertical-align: middle; margin-left: 0.5rem\">SKILL</span>\n",
       "</mark>\n",
       " \n",
       "<mark class=\"entity\" style=\"background: #ddd; padding: 0.45em 0.6em; margin: 0 0.25em; line-height: 1; border-radius: 0.35em;\">\n",
       "    writing\n",
       "    <span style=\"font-size: 0.8em; font-weight: bold; line-height: 1; border-radius: 0.35em; vertical-align: middle; margin-left: 0.5rem\">SKILL</span>\n",
       "</mark>\n",
       " adhoc command playbook user management creating server deployment system build \n",
       "<mark class=\"entity\" style=\"background: #ddd; padding: 0.45em 0.6em; margin: 0 0.25em; line-height: 1; border-radius: 0.35em;\">\n",
       "    configuration\n",
       "    <span style=\"font-size: 0.8em; font-weight: bold; line-height: 1; border-radius: 0.35em; vertical-align: middle; margin-left: 0.5rem\">SKILL</span>\n",
       "</mark>\n",
       " using ansible puppet well monitoring setting sensor using nagios experience using various network protocol like ssh scp sftp http tcpip udp ftp smtp experience \n",
       "<mark class=\"entity\" style=\"background: #ddd; padding: 0.45em 0.6em; margin: 0 0.25em; line-height: 1; border-radius: 0.35em;\">\n",
       "    kernel tuning\n",
       "    <span style=\"font-size: 0.8em; font-weight: bold; line-height: 1; border-radius: 0.35em; vertical-align: middle; margin-left: 0.5rem\">SKILL</span>\n",
       "</mark>\n",
       " needed especially virtual memory swap space excellent verbal written \n",
       "<mark class=\"entity\" style=\"background: #ddd; padding: 0.45em 0.6em; margin: 0 0.25em; line-height: 1; border-radius: 0.35em;\">\n",
       "    communication\n",
       "    <span style=\"font-size: 0.8em; font-weight: bold; line-height: 1; border-radius: 0.35em; vertical-align: middle; margin-left: 0.5rem\">SKILL</span>\n",
       "</mark>\n",
       " skill experience direct internal external client relationship management ability learn adapt new different technology working depth quickly efficiently 247 customer support service delivery experience authorized work united state employer work experience system administrator engineer wellsfargo tom river nj january 2016 present knowledge \n",
       "<mark class=\"entity\" style=\"background: #ddd; padding: 0.45em 0.6em; margin: 0 0.25em; line-height: 1; border-radius: 0.35em;\">\n",
       "    aws administration\n",
       "    <span style=\"font-size: 0.8em; font-weight: bold; line-height: 1; border-radius: 0.35em; vertical-align: middle; margin-left: 0.5rem\">SKILL</span>\n",
       "</mark>\n",
       " includes deploying configuring ec2 instance s3 managing iam role installing maintaining administration \n",
       "<mark class=\"entity\" style=\"background: #ddd; padding: 0.45em 0.6em; margin: 0 0.25em; line-height: 1; border-radius: 0.35em;\">\n",
       "    troubleshooting\n",
       "    <span style=\"font-size: 0.8em; font-weight: bold; line-height: 1; border-radius: 0.35em; vertical-align: middle; margin-left: 0.5rem\">SKILL</span>\n",
       "</mark>\n",
       " \n",
       "<mark class=\"entity\" style=\"background: #ddd; padding: 0.45em 0.6em; margin: 0 0.25em; line-height: 1; border-radius: 0.35em;\">\n",
       "    linux\n",
       "    <span style=\"font-size: 0.8em; font-weight: bold; line-height: 1; border-radius: 0.35em; vertical-align: middle; margin-left: 0.5rem\">SKILL</span>\n",
       "</mark>\n",
       " \n",
       "<mark class=\"entity\" style=\"background: #ddd; padding: 0.45em 0.6em; margin: 0 0.25em; line-height: 1; border-radius: 0.35em;\">\n",
       "    unix\n",
       "    <span style=\"font-size: 0.8em; font-weight: bold; line-height: 1; border-radius: 0.35em; vertical-align: middle; margin-left: 0.5rem\">SKILL</span>\n",
       "</mark>\n",
       " system working directly vendor decommission thousand server networking equipment following company rule regulation working vendor replace server part ordering new hardware keeping track system inventory commissioning decommissioning hp asset deleting data server ensuring data destruction decommissioning asset securing ssh key based authentication rsa encryption setting autofs mounting home directory ni ldap \n",
       "<mark class=\"entity\" style=\"background: #ddd; padding: 0.45em 0.6em; margin: 0 0.25em; line-height: 1; border-radius: 0.35em;\">\n",
       "    configuration\n",
       "    <span style=\"font-size: 0.8em; font-weight: bold; line-height: 1; border-radius: 0.35em; vertical-align: middle; margin-left: 0.5rem\">SKILL</span>\n",
       "</mark>\n",
       " providing direct user support level 2 level 3 issue via email ticket system providing timely responsive assistance company employee \n",
       "<mark class=\"entity\" style=\"background: #ddd; padding: 0.45em 0.6em; margin: 0 0.25em; line-height: 1; border-radius: 0.35em;\">\n",
       "    troubleshooting\n",
       "    <span style=\"font-size: 0.8em; font-weight: bold; line-height: 1; border-radius: 0.35em; vertical-align: middle; margin-left: 0.5rem\">SKILL</span>\n",
       "</mark>\n",
       " problem reported helpdesk ticketing system experienced using network traffic monitoring tool wireshark tcpdump performing automated installation operating system network various distribution redhat centos ubuntu fedora well server provisioning tool hpsa working different storage container creating raid level 0 1 5 6 10 achieve redundancy performance compile opensource software source code generate necessary rpm package proper \n",
       "<mark class=\"entity\" style=\"background: #ddd; padding: 0.45em 0.6em; margin: 0 0.25em; line-height: 1; border-radius: 0.35em;\">\n",
       "    documentation\n",
       "    <span style=\"font-size: 0.8em; font-weight: bold; line-height: 1; border-radius: 0.35em; vertical-align: middle; margin-left: 0.5rem\">SKILL</span>\n",
       "</mark>\n",
       " replication across server environment performing daily system monitoring verifying integrity availability hardware server resource system key process reviewing system application log verifying completion scheduled job backup performing filesystem check repairing needed repairing rebuilding existing server per project requirement responsible backing system using netbackup 75 restoring file event data loss setup cron job schedule various backup monitoring task supported enterprise backup using netbackup monitoring netbackup queue failed backup job taking action fix responsible user management includes creating modifying renewing user account group \n",
       "<mark class=\"entity\" style=\"background: #ddd; padding: 0.45em 0.6em; margin: 0 0.25em; line-height: 1; border-radius: 0.35em;\">\n",
       "    linux\n",
       "    <span style=\"font-size: 0.8em; font-weight: bold; line-height: 1; border-radius: 0.35em; vertical-align: middle; margin-left: 0.5rem\">SKILL</span>\n",
       "</mark>\n",
       " ni ldap well active directory setting ni domain master server slave client resolving authentication issue mounting user home directory automount setting quota system installation esxi hypervisor server vsphere client vcenter server installing esxi server 55 60 building vcenter adding esxi server creating moving cloning vms using vcenter vsphere well vmotion automating aspect vmware vsphere infrastructure vmware vrealize orchestrator \n",
       "<mark class=\"entity\" style=\"background: #ddd; padding: 0.45em 0.6em; margin: 0 0.25em; line-height: 1; border-radius: 0.35em;\">\n",
       "    testing\n",
       "    <span style=\"font-size: 0.8em; font-weight: bold; line-height: 1; border-radius: 0.35em; vertical-align: middle; margin-left: 0.5rem\">SKILL</span>\n",
       "</mark>\n",
       " deploying \n",
       "<mark class=\"entity\" style=\"background: #ddd; padding: 0.45em 0.6em; margin: 0 0.25em; line-height: 1; border-radius: 0.35em;\">\n",
       "    security\n",
       "    <span style=\"font-size: 0.8em; font-weight: bold; line-height: 1; border-radius: 0.35em; vertical-align: middle; margin-left: 0.5rem\">SKILL</span>\n",
       "</mark>\n",
       " patch number system dev production environment perform software package installation upgrade update using yum rpm command maintaining inventory incoming outgoing equipment monitoring ups system generated alert monitoring infrastructure health using nagios proprietary data center monitoring tool working different file system ext3 ext4 xfs nfs partitioning using fdisk parted create different partition creating fixing file system maintaining yum repository server patch management well securing \n",
       "<mark class=\"entity\" style=\"background: #ddd; padding: 0.45em 0.6em; margin: 0 0.25em; line-height: 1; border-radius: 0.35em;\">\n",
       "    linux\n",
       "    <span style=\"font-size: 0.8em; font-weight: bold; line-height: 1; border-radius: 0.35em; vertical-align: middle; margin-left: 0.5rem\">SKILL</span>\n",
       "</mark>\n",
       " system using local repository installing upgrading application \n",
       "<mark class=\"entity\" style=\"background: #ddd; padding: 0.45em 0.6em; margin: 0 0.25em; line-height: 1; border-radius: 0.35em;\">\n",
       "    linux\n",
       "    <span style=\"font-size: 0.8em; font-weight: bold; line-height: 1; border-radius: 0.35em; vertical-align: middle; margin-left: 0.5rem\">SKILL</span>\n",
       "</mark>\n",
       " system helping user management creating modifying disabling account set home directory server added user appropriate group assigned sudo access requested created managed logical volume using lvm create volume volume group file system performing physical virtual machine conversion performing critical system administration task single user mode creating mount point \n",
       "<mark class=\"entity\" style=\"background: #ddd; padding: 0.45em 0.6em; margin: 0 0.25em; line-height: 1; border-radius: 0.35em;\">\n",
       "    database\n",
       "    <span style=\"font-size: 0.8em; font-weight: bold; line-height: 1; border-radius: 0.35em; vertical-align: middle; margin-left: 0.5rem\">SKILL</span>\n",
       "</mark>\n",
       " administrator supported \n",
       "<mark class=\"entity\" style=\"background: #ddd; padding: 0.45em 0.6em; margin: 0 0.25em; line-height: 1; border-radius: 0.35em;\">\n",
       "    mysql\n",
       "    <span style=\"font-size: 0.8em; font-weight: bold; line-height: 1; border-radius: 0.35em; vertical-align: middle; margin-left: 0.5rem\">SKILL</span>\n",
       "</mark>\n",
       " \n",
       "<mark class=\"entity\" style=\"background: #ddd; padding: 0.45em 0.6em; margin: 0 0.25em; line-height: 1; border-radius: 0.35em;\">\n",
       "    database\n",
       "    <span style=\"font-size: 0.8em; font-weight: bold; line-height: 1; border-radius: 0.35em; vertical-align: middle; margin-left: 0.5rem\">SKILL</span>\n",
       "</mark>\n",
       " configure ntp client server synchronize time zone ntp server responding alert generated nagios network connectivity issue critical system service application availability high cpu spike system resource \n",
       "<mark class=\"entity\" style=\"background: #ddd; padding: 0.45em 0.6em; margin: 0 0.25em; line-height: 1; border-radius: 0.35em;\">\n",
       "    maxed\n",
       "    <span style=\"font-size: 0.8em; font-weight: bold; line-height: 1; border-radius: 0.35em; vertical-align: middle; margin-left: 0.5rem\">SKILL</span>\n",
       "</mark>\n",
       " \n",
       "<mark class=\"entity\" style=\"background: #ddd; padding: 0.45em 0.6em; margin: 0 0.25em; line-height: 1; border-radius: 0.35em;\">\n",
       "    research\n",
       "    <span style=\"font-size: 0.8em; font-weight: bold; line-height: 1; border-radius: 0.35em; vertical-align: middle; margin-left: 0.5rem\">SKILL</span>\n",
       "</mark>\n",
       " evaluates recommends software hardware product actively participated data center operation building scaling server ordering hardware racking ability pick heavy equipment solid understanding working knowledge storage technology san na iscsi \n",
       "<mark class=\"entity\" style=\"background: #ddd; padding: 0.45em 0.6em; margin: 0 0.25em; line-height: 1; border-radius: 0.35em;\">\n",
       "    troubleshooting\n",
       "    <span style=\"font-size: 0.8em; font-weight: bold; line-height: 1; border-radius: 0.35em; vertical-align: middle; margin-left: 0.5rem\">SKILL</span>\n",
       "</mark>\n",
       " \n",
       "<mark class=\"entity\" style=\"background: #ddd; padding: 0.45em 0.6em; margin: 0 0.25em; line-height: 1; border-radius: 0.35em;\">\n",
       "    linux\n",
       "    <span style=\"font-size: 0.8em; font-weight: bold; line-height: 1; border-radius: 0.35em; vertical-align: middle; margin-left: 0.5rem\">SKILL</span>\n",
       "</mark>\n",
       " network \n",
       "<mark class=\"entity\" style=\"background: #ddd; padding: 0.45em 0.6em; margin: 0 0.25em; line-height: 1; border-radius: 0.35em;\">\n",
       "    security\n",
       "    <span style=\"font-size: 0.8em; font-weight: bold; line-height: 1; border-radius: 0.35em; vertical-align: middle; margin-left: 0.5rem\">SKILL</span>\n",
       "</mark>\n",
       " related issue capturing packet using tool iptables firewall tcp wrapper nmap \n",
       "<mark class=\"entity\" style=\"background: #ddd; padding: 0.45em 0.6em; margin: 0 0.25em; line-height: 1; border-radius: 0.35em;\">\n",
       "    troubleshooting\n",
       "    <span style=\"font-size: 0.8em; font-weight: bold; line-height: 1; border-radius: 0.35em; vertical-align: middle; margin-left: 0.5rem\">SKILL</span>\n",
       "</mark>\n",
       " maintaining tcpip \n",
       "<mark class=\"entity\" style=\"background: #ddd; padding: 0.45em 0.6em; margin: 0 0.25em; line-height: 1; border-radius: 0.35em;\">\n",
       "    apache\n",
       "    <span style=\"font-size: 0.8em; font-weight: bold; line-height: 1; border-radius: 0.35em; vertical-align: middle; margin-left: 0.5rem\">SKILL</span>\n",
       "</mark>\n",
       " http smtp dns application installing managing new server includes racking stacking cabling running fiber lan patch configured multiple website one \n",
       "<mark class=\"entity\" style=\"background: #ddd; padding: 0.45em 0.6em; margin: 0 0.25em; line-height: 1; border-radius: 0.35em;\">\n",
       "    apache\n",
       "    <span style=\"font-size: 0.8em; font-weight: bold; line-height: 1; border-radius: 0.35em; vertical-align: middle; margin-left: 0.5rem\">SKILL</span>\n",
       "</mark>\n",
       " server using virtualhost container creatingupdating iptables rule \n",
       "<mark class=\"entity\" style=\"background: #ddd; padding: 0.45em 0.6em; margin: 0 0.25em; line-height: 1; border-radius: 0.35em;\">\n",
       "    linux\n",
       "    <span style=\"font-size: 0.8em; font-weight: bold; line-height: 1; border-radius: 0.35em; vertical-align: middle; margin-left: 0.5rem\">SKILL</span>\n",
       "</mark>\n",
       " system using hostbased firewall solving issue related user logon nfs server connectivity configuring nfs server mount exported nfs resource client side experience \n",
       "<mark class=\"entity\" style=\"background: #ddd; padding: 0.45em 0.6em; margin: 0 0.25em; line-height: 1; border-radius: 0.35em;\">\n",
       "    bash\n",
       "    <span style=\"font-size: 0.8em; font-weight: bold; line-height: 1; border-radius: 0.35em; vertical-align: middle; margin-left: 0.5rem\">SKILL</span>\n",
       "</mark>\n",
       " scripting creating modifying \n",
       "<mark class=\"entity\" style=\"background: #ddd; padding: 0.45em 0.6em; margin: 0 0.25em; line-height: 1; border-radius: 0.35em;\">\n",
       "    bash\n",
       "    <span style=\"font-size: 0.8em; font-weight: bold; line-height: 1; border-radius: 0.35em; vertical-align: middle; margin-left: 0.5rem\">SKILL</span>\n",
       "</mark>\n",
       " script automate daily task setup nfs samba file sharing setup \n",
       "<mark class=\"entity\" style=\"background: #ddd; padding: 0.45em 0.6em; margin: 0 0.25em; line-height: 1; border-radius: 0.35em;\">\n",
       "    linux\n",
       "    <span style=\"font-size: 0.8em; font-weight: bold; line-height: 1; border-radius: 0.35em; vertical-align: middle; margin-left: 0.5rem\">SKILL</span>\n",
       "</mark>\n",
       " window server machine conducting system \n",
       "<mark class=\"entity\" style=\"background: #ddd; padding: 0.45em 0.6em; margin: 0 0.25em; line-height: 1; border-radius: 0.35em;\">\n",
       "    performance tuning\n",
       "    <span style=\"font-size: 0.8em; font-weight: bold; line-height: 1; border-radius: 0.35em; vertical-align: middle; margin-left: 0.5rem\">SKILL</span>\n",
       "</mark>\n",
       " capacity \n",
       "<mark class=\"entity\" style=\"background: #ddd; padding: 0.45em 0.6em; margin: 0 0.25em; line-height: 1; border-radius: 0.35em;\">\n",
       "    planning\n",
       "    <span style=\"font-size: 0.8em; font-weight: bold; line-height: 1; border-radius: 0.35em; vertical-align: middle; margin-left: 0.5rem\">SKILL</span>\n",
       "</mark>\n",
       " solving challenging issue solid problemsolving approach monitored system log activity server resolved system process issue reported site scope worked hp integrated light ilo dell idrac ibm imm \n",
       "<mark class=\"entity\" style=\"background: #ddd; padding: 0.45em 0.6em; margin: 0 0.25em; line-height: 1; border-radius: 0.35em;\">\n",
       "    oracle\n",
       "    <span style=\"font-size: 0.8em; font-weight: bold; line-height: 1; border-radius: 0.35em; vertical-align: middle; margin-left: 0.5rem\">SKILL</span>\n",
       "</mark>\n",
       " ilom software remotely manage troubleshoot repair server developing maintaining installation \n",
       "<mark class=\"entity\" style=\"background: #ddd; padding: 0.45em 0.6em; margin: 0 0.25em; line-height: 1; border-radius: 0.35em;\">\n",
       "    configuration\n",
       "    <span style=\"font-size: 0.8em; font-weight: bold; line-height: 1; border-radius: 0.35em; vertical-align: middle; margin-left: 0.5rem\">SKILL</span>\n",
       "</mark>\n",
       " procedure researching recommending innovative possible automating approach system administration task configuring network adapter ip address resolving \n",
       "<mark class=\"entity\" style=\"background: #ddd; padding: 0.45em 0.6em; margin: 0 0.25em; line-height: 1; border-radius: 0.35em;\">\n",
       "    routing\n",
       "    <span style=\"font-size: 0.8em; font-weight: bold; line-height: 1; border-radius: 0.35em; vertical-align: middle; margin-left: 0.5rem\">SKILL</span>\n",
       "</mark>\n",
       " related issue experience configuring \n",
       "<mark class=\"entity\" style=\"background: #ddd; padding: 0.45em 0.6em; margin: 0 0.25em; line-height: 1; border-radius: 0.35em;\">\n",
       "    troubleshooting\n",
       "    <span style=\"font-size: 0.8em; font-weight: bold; line-height: 1; border-radius: 0.35em; vertical-align: middle; margin-left: 0.5rem\">SKILL</span>\n",
       "</mark>\n",
       " tcpip \n",
       "<mark class=\"entity\" style=\"background: #ddd; padding: 0.45em 0.6em; margin: 0 0.25em; line-height: 1; border-radius: 0.35em;\">\n",
       "    dhcp\n",
       "    <span style=\"font-size: 0.8em; font-weight: bold; line-height: 1; border-radius: 0.35em; vertical-align: middle; margin-left: 0.5rem\">SKILL</span>\n",
       "</mark>\n",
       " dns ftp ssh ldap ntp etc configuring managing vsftp server ticket assessmentprioritization daily basis rt platform daily system monitoring using nagios xi solarwinds monitoring resolving reported issue installed configure openstack \n",
       "<mark class=\"entity\" style=\"background: #ddd; padding: 0.45em 0.6em; margin: 0 0.25em; line-height: 1; border-radius: 0.35em;\">\n",
       "    linux\n",
       "    <span style=\"font-size: 0.8em; font-weight: bold; line-height: 1; border-radius: 0.35em; vertical-align: middle; margin-left: 0.5rem\">SKILL</span>\n",
       "</mark>\n",
       " system administrator kpmg montville nj february 2013 november 2015 installing managing new server includes racking stacking cabling running fiber lan patch responsible installation esxi bare metal server experience \n",
       "<mark class=\"entity\" style=\"background: #ddd; padding: 0.45em 0.6em; margin: 0 0.25em; line-height: 1; border-radius: 0.35em;\">\n",
       "    troubleshooting\n",
       "    <span style=\"font-size: 0.8em; font-weight: bold; line-height: 1; border-radius: 0.35em; vertical-align: middle; margin-left: 0.5rem\">SKILL</span>\n",
       "</mark>\n",
       " providing problem resolution software issue performed systemmonitoring tool like top sar vmstat iostat report system usage performance performing automated installation deployed rpm package using \n",
       "<mark class=\"entity\" style=\"background: #ddd; padding: 0.45em 0.6em; margin: 0 0.25em; line-height: 1; border-radius: 0.35em;\">\n",
       "    automation\n",
       "    <span style=\"font-size: 0.8em; font-weight: bold; line-height: 1; border-radius: 0.35em; vertical-align: middle; margin-left: 0.5rem\">SKILL</span>\n",
       "</mark>\n",
       " tool server \n",
       "<mark class=\"entity\" style=\"background: #ddd; padding: 0.45em 0.6em; margin: 0 0.25em; line-height: 1; border-radius: 0.35em;\">\n",
       "    automation\n",
       "    <span style=\"font-size: 0.8em; font-weight: bold; line-height: 1; border-radius: 0.35em; vertical-align: middle; margin-left: 0.5rem\">SKILL</span>\n",
       "</mark>\n",
       " pxeboot customized kick start file strongly experienced installing performing maintaining raid technology different raid level attempt recover data disk performed system \n",
       "<mark class=\"entity\" style=\"background: #ddd; padding: 0.45em 0.6em; margin: 0 0.25em; line-height: 1; border-radius: 0.35em;\">\n",
       "    security\n",
       "    <span style=\"font-size: 0.8em; font-weight: bold; line-height: 1; border-radius: 0.35em; vertical-align: middle; margin-left: 0.5rem\">SKILL</span>\n",
       "</mark>\n",
       " administration user administration using role based access control provided sudo access various user group elevated access create user group account network \n",
       "<mark class=\"entity\" style=\"background: #ddd; padding: 0.45em 0.6em; margin: 0 0.25em; line-height: 1; border-radius: 0.35em;\">\n",
       "    configuration\n",
       "    <span style=\"font-size: 0.8em; font-weight: bold; line-height: 1; border-radius: 0.35em; vertical-align: middle; margin-left: 0.5rem\">SKILL</span>\n",
       "</mark>\n",
       " manage password permission performed daily system monitoring verifying integrity availability hardware server resource system process viewing system application log verify completion scheduled job attached na da storage \n",
       "<mark class=\"entity\" style=\"background: #ddd; padding: 0.45em 0.6em; margin: 0 0.25em; line-height: 1; border-radius: 0.35em;\">\n",
       "    linux\n",
       "    <span style=\"font-size: 0.8em; font-weight: bold; line-height: 1; border-radius: 0.35em; vertical-align: middle; margin-left: 0.5rem\">SKILL</span>\n",
       "</mark>\n",
       " esxi server creating standard partition creating physical volume group volume logical volume extendingreducing logical volume server startup shutdown issue well service \n",
       "<mark class=\"entity\" style=\"background: #ddd; padding: 0.45em 0.6em; margin: 0 0.25em; line-height: 1; border-radius: 0.35em;\">\n",
       "    linux\n",
       "    <span style=\"font-size: 0.8em; font-weight: bold; line-height: 1; border-radius: 0.35em; vertical-align: middle; margin-left: 0.5rem\">SKILL</span>\n",
       "</mark>\n",
       " server managing file system utilization using script scheduling cron job maintain file system host \n",
       "<mark class=\"entity\" style=\"background: #ddd; padding: 0.45em 0.6em; margin: 0 0.25em; line-height: 1; border-radius: 0.35em;\">\n",
       "    security\n",
       "    <span style=\"font-size: 0.8em; font-weight: bold; line-height: 1; border-radius: 0.35em; vertical-align: middle; margin-left: 0.5rem\">SKILL</span>\n",
       "</mark>\n",
       " using chmod chown chgrp iptables configured network adapter ip address resolving \n",
       "<mark class=\"entity\" style=\"background: #ddd; padding: 0.45em 0.6em; margin: 0 0.25em; line-height: 1; border-radius: 0.35em;\">\n",
       "    routing\n",
       "    <span style=\"font-size: 0.8em; font-weight: bold; line-height: 1; border-radius: 0.35em; vertical-align: middle; margin-left: 0.5rem\">SKILL</span>\n",
       "</mark>\n",
       " related issue hand experience \n",
       "<mark class=\"entity\" style=\"background: #ddd; padding: 0.45em 0.6em; margin: 0 0.25em; line-height: 1; border-radius: 0.35em;\">\n",
       "    troubleshooting\n",
       "    <span style=\"font-size: 0.8em; font-weight: bold; line-height: 1; border-radius: 0.35em; vertical-align: middle; margin-left: 0.5rem\">SKILL</span>\n",
       "</mark>\n",
       " network memory \n",
       "<mark class=\"entity\" style=\"background: #ddd; padding: 0.45em 0.6em; margin: 0 0.25em; line-height: 1; border-radius: 0.35em;\">\n",
       "    cpu\n",
       "    <span style=\"font-size: 0.8em; font-weight: bold; line-height: 1; border-radius: 0.35em; vertical-align: middle; margin-left: 0.5rem\">SKILL</span>\n",
       "</mark>\n",
       " swap file system issue tcpip smtp \n",
       "<mark class=\"entity\" style=\"background: #ddd; padding: 0.45em 0.6em; margin: 0 0.25em; line-height: 1; border-radius: 0.35em;\">\n",
       "    linux\n",
       "    <span style=\"font-size: 0.8em; font-weight: bold; line-height: 1; border-radius: 0.35em; vertical-align: middle; margin-left: 0.5rem\">SKILL</span>\n",
       "</mark>\n",
       " server performed software package installation upgrade update using yum rpm command tested deployed \n",
       "<mark class=\"entity\" style=\"background: #ddd; padding: 0.45em 0.6em; margin: 0 0.25em; line-height: 1; border-radius: 0.35em;\">\n",
       "    security\n",
       "    <span style=\"font-size: 0.8em; font-weight: bold; line-height: 1; border-radius: 0.35em; vertical-align: middle; margin-left: 0.5rem\">SKILL</span>\n",
       "</mark>\n",
       " patch number system development production environment performing critical system administration task single user mode configured nfs server mounted exported nfs resource client side experience supporting 247 production computing environment experience providing oncall weekend support performed setting secured password le ssh authentication server using ssh key pair monitored system log activity server configure ntp client server synchronize time zone ntp server participated weekly meeting \n",
       "<mark class=\"entity\" style=\"background: #ddd; padding: 0.45em 0.6em; margin: 0 0.25em; line-height: 1; border-radius: 0.35em;\">\n",
       "    documentation\n",
       "    <span style=\"font-size: 0.8em; font-weight: bold; line-height: 1; border-radius: 0.35em; vertical-align: middle; margin-left: 0.5rem\">SKILL</span>\n",
       "</mark>\n",
       " environment \n",
       "<mark class=\"entity\" style=\"background: #ddd; padding: 0.45em 0.6em; margin: 0 0.25em; line-height: 1; border-radius: 0.35em;\">\n",
       "    linux\n",
       "    <span style=\"font-size: 0.8em; font-weight: bold; line-height: 1; border-radius: 0.35em; vertical-align: middle; margin-left: 0.5rem\">SKILL</span>\n",
       "</mark>\n",
       " system administrator comcast philadelphia pa march 2012 december 2013 managed maintained file directory group user account performed o installation \n",
       "<mark class=\"entity\" style=\"background: #ddd; padding: 0.45em 0.6em; margin: 0 0.25em; line-height: 1; border-radius: 0.35em;\">\n",
       "    configuration\n",
       "    <span style=\"font-size: 0.8em; font-weight: bold; line-height: 1; border-radius: 0.35em; vertical-align: middle; margin-left: 0.5rem\">SKILL</span>\n",
       "</mark>\n",
       " \n",
       "<mark class=\"entity\" style=\"background: #ddd; padding: 0.45em 0.6em; margin: 0 0.25em; line-height: 1; border-radius: 0.35em;\">\n",
       "    testing\n",
       "    <span style=\"font-size: 0.8em; font-weight: bold; line-height: 1; border-radius: 0.35em; vertical-align: middle; margin-left: 0.5rem\">SKILL</span>\n",
       "</mark>\n",
       " implementing server environment created simple \n",
       "<mark class=\"entity\" style=\"background: #ddd; padding: 0.45em 0.6em; margin: 0 0.25em; line-height: 1; border-radius: 0.35em;\">\n",
       "    linux\n",
       "    <span style=\"font-size: 0.8em; font-weight: bold; line-height: 1; border-radius: 0.35em; vertical-align: middle; margin-left: 0.5rem\">SKILL</span>\n",
       "</mark>\n",
       " script incorporating \n",
       "<mark class=\"entity\" style=\"background: #ddd; padding: 0.45em 0.6em; margin: 0 0.25em; line-height: 1; border-radius: 0.35em;\">\n",
       "    bash\n",
       "    <span style=\"font-size: 0.8em; font-weight: bold; line-height: 1; border-radius: 0.35em; vertical-align: middle; margin-left: 0.5rem\">SKILL</span>\n",
       "</mark>\n",
       " \n",
       "<mark class=\"entity\" style=\"background: #ddd; padding: 0.45em 0.6em; margin: 0 0.25em; line-height: 1; border-radius: 0.35em;\">\n",
       "    python\n",
       "    <span style=\"font-size: 0.8em; font-weight: bold; line-height: 1; border-radius: 0.35em; vertical-align: middle; margin-left: 0.5rem\">SKILL</span>\n",
       "</mark>\n",
       " server maintenance backup leveraged spiceworks deploy ticketing help desk client use window environment leveraged o ticket deploy support ticket system client use \n",
       "<mark class=\"entity\" style=\"background: #ddd; padding: 0.45em 0.6em; margin: 0 0.25em; line-height: 1; border-radius: 0.35em;\">\n",
       "    linux\n",
       "    <span style=\"font-size: 0.8em; font-weight: bold; line-height: 1; border-radius: 0.35em; vertical-align: middle; margin-left: 0.5rem\">SKILL</span>\n",
       "</mark>\n",
       " environment configured gmail account act smtp server order send email client administrator ticket update responded level 1 ticket escalated ticket necessary installed configured various \n",
       "<mark class=\"entity\" style=\"background: #ddd; padding: 0.45em 0.6em; margin: 0 0.25em; line-height: 1; border-radius: 0.35em;\">\n",
       "    linux\n",
       "    <span style=\"font-size: 0.8em; font-weight: bold; line-height: 1; border-radius: 0.35em; vertical-align: middle; margin-left: 0.5rem\">SKILL</span>\n",
       "</mark>\n",
       " service including ftp http \n",
       "<mark class=\"entity\" style=\"background: #ddd; padding: 0.45em 0.6em; margin: 0 0.25em; line-height: 1; border-radius: 0.35em;\">\n",
       "    postgresql\n",
       "    <span style=\"font-size: 0.8em; font-weight: bold; line-height: 1; border-radius: 0.35em; vertical-align: middle; margin-left: 0.5rem\">SKILL</span>\n",
       "</mark>\n",
       " \n",
       "<mark class=\"entity\" style=\"background: #ddd; padding: 0.45em 0.6em; margin: 0 0.25em; line-height: 1; border-radius: 0.35em;\">\n",
       "    mariadb\n",
       "    <span style=\"font-size: 0.8em; font-weight: bold; line-height: 1; border-radius: 0.35em; vertical-align: middle; margin-left: 0.5rem\">SKILL</span>\n",
       "</mark>\n",
       " \n",
       "<mark class=\"entity\" style=\"background: #ddd; padding: 0.45em 0.6em; margin: 0 0.25em; line-height: 1; border-radius: 0.35em;\">\n",
       "    php\n",
       "    <span style=\"font-size: 0.8em; font-weight: bold; line-height: 1; border-radius: 0.35em; vertical-align: middle; margin-left: 0.5rem\">SKILL</span>\n",
       "</mark>\n",
       " dns \n",
       "<mark class=\"entity\" style=\"background: #ddd; padding: 0.45em 0.6em; margin: 0 0.25em; line-height: 1; border-radius: 0.35em;\">\n",
       "    dhcp\n",
       "    <span style=\"font-size: 0.8em; font-weight: bold; line-height: 1; border-radius: 0.35em; vertical-align: middle; margin-left: 0.5rem\">SKILL</span>\n",
       "</mark>\n",
       " utilized remote desktop manager ssh access test production environment remotely monitored application process \n",
       "<mark class=\"entity\" style=\"background: #ddd; padding: 0.45em 0.6em; margin: 0 0.25em; line-height: 1; border-radius: 0.35em;\">\n",
       "    linux\n",
       "    <span style=\"font-size: 0.8em; font-weight: bold; line-height: 1; border-radius: 0.35em; vertical-align: middle; margin-left: 0.5rem\">SKILL</span>\n",
       "</mark>\n",
       " server troubleshooted application slowness education master skill dns 6 year ldap 5 year</div></span>"
      ],
      "text/plain": [
       "<IPython.core.display.HTML object>"
      ]
     },
     "metadata": {},
     "output_type": "display_data"
    }
   ],
   "source": [
    "from spacy import displacy\n",
    "displacy.render(resume, style='ent', jupyter=True)"
   ]
  },
  {
   "cell_type": "markdown",
   "id": "ee596a0b",
   "metadata": {},
   "source": [
    "### Convert PDF to text:"
   ]
  },
  {
   "cell_type": "code",
   "execution_count": null,
   "id": "fc552c0a",
   "metadata": {},
   "outputs": [],
   "source": [
    "#!pip install PyPDF2"
   ]
  },
  {
   "cell_type": "code",
   "execution_count": null,
   "id": "44505f91",
   "metadata": {},
   "outputs": [],
   "source": [
    "#!pip install textract"
   ]
  },
  {
   "cell_type": "code",
   "execution_count": 642,
   "id": "9b464464",
   "metadata": {
    "scrolled": true
   },
   "outputs": [
    {
     "name": "stdout",
     "output_type": "stream",
     "text": [
      "3014\n"
     ]
    },
    {
     "data": {
      "text/plain": [
       "\"Up To Date CV  \\n10/2022  : 2/2023  2/2023 : InProgress  \\n10/2016  : 7/2021 \\n1/2023   \\n \\n \\n \\nProfile :  \\nI am Interested  in Artificial intelligence (AI)  and Data Analysis , loves working with data and converting it into knowledge that can use in a lot of \\nhelpful applications in the real world . I graduated from Computer Engineering  and joined advanced  data analysis course  from Udacity , after that  \\nI joined a 4 -Month Diploma from NTI to improve my skills in Machine learning and deploy  that on cloud . \\nExperienc e\\n• Machine Learning Engineer  Internship  at HITS Solutions : \\n• Prepare d and annotated data  on IOB format to  use that in train CRF Classifie r  \\n• Implemented Named Entity Recognition (NER)  to extract sk ills from  resume using CR F Classifie r \\n• Classif ied skills into a specific category  using a Multi -label Classifier  \\n \\nEducatio n\\n• Diploma, Machine learning on cloud 4 -Month Program:    \\n  National Telecommunication Institute (NTI), Egypt  \\n• AWS Dat a Center    \\n• Programming Essential Course (python) PCAP  \\n• AWS Cloud Foundation    \\n• Machine learnin g on cloud  \\n• Natural Language Processing (NLP)   \\n• Soft skills , Business English , and Project Management    \\n \\n• B. Sc. In Electrical Engineering  (GPA: 3.77 ) Distinct         \\n  Computer Engineering Department, Faculty of Engineering, Ahram Canadian University (ACU), Egypt  \\n  Graduation Project:   Real -Time Traffic Rules Violation Detection  using Yolo v5    \\n  Projects:   \\n• Income classification  using different machine learning a lgorithms .  \\n• Design ER diagram for faculty  database and create that database by using SQL commands.  \\n• Connect four game using C++ . \\n• Create a primitive website for a co -working space by  HTML , CSS , JavaScript, PHP \\nTools and Technologies:   \\nTechnical Knowledge:  \\n• Data Structures and Algorithms  \\n• Relational Database Management Systems.  \\n• Data Cleaning, manipulation, and visualization  \\n• Probability, Statistics, Linear Algebra  \\n• Machine Learning  \\n• Cloud Foundation  \\n Programming Languages and Frameworks:  \\n• Python , C++ \\n• SQL  \\n• Pandas , NumPy , Matplotlib , and Seaborn  \\n• Scikit -learn , NLTK , TensorFlow, and Kera's  \\n• Tableau  \\n• Web scraping ( Beautiful Soup ) \\n• AWS cloud  services  \\nCertifications\\n•  AWS Certified Cloud Practitioner        \\n Courses : \\n• Advanced Data Analysis Nanodegree Program  from Udacity  powered by  Egypt  Future Work is \\nDigital  (FWD ).      \\n• Analyze A/B Test Results using Python.   \\n• Query a Digital Music Store Database.   \\n• Flight  Delays and Cancellations  data  visualization using Tableau.  \\n• Data Analysis Professional Nanodegree Program from Udacity powered by  Egypt  Future Work is \\nDigital  (FWD ).  \\n• Investigate a Medical Appointment No Shows Dataset  \\n• Explore U.S. bike share data systems using Python.   \\n +20 1 125656625  \\nAsyut , Egypt   \\n  Ahmed  Omar   \\n  ahmedomarnagar@gmail.com  \\nahmedomar524  \\n \\n \\n \\n \\n \\n \\nAhmed Omar  \\nML Engineer  \\n7/2022 : 10/2022 \\n4/2022 : 5/2022 \\n\""
      ]
     },
     "execution_count": 642,
     "metadata": {},
     "output_type": "execute_result"
    }
   ],
   "source": [
    "# importing required modules\n",
    "from PyPDF2 import PdfReader\n",
    " \n",
    "# creating a pdf reader object\n",
    "file = PdfReader(r'C:\\Users\\trainee\\Downloads\\My CV.pdf')\n",
    " \n",
    "text = ''\n",
    "for i in range(len(file.pages)):\n",
    "    page = file.pages[i]\n",
    "    text = text + page.extract_text()\n",
    "print(len(text))\n",
    "text"
   ]
  },
  {
   "cell_type": "code",
   "execution_count": 643,
   "id": "8f382486",
   "metadata": {},
   "outputs": [],
   "source": [
    "cleantext = re.sub(r'(@[A-Za-z0-9]+)|([^0-9A-Za-z \\t])|(\\w+:\\/\\/\\S+)|^rt|http.+?|\\s+|\"',' ',text)"
   ]
  },
  {
   "cell_type": "code",
   "execution_count": 644,
   "id": "6330563a",
   "metadata": {
    "collapsed": true
   },
   "outputs": [
    {
     "data": {
      "text/plain": [
       "'up to date cv 10 2022   2 2023 2 2023   inprogress 10 2016   7 2021 1 2023 profile   i am interested in artificial intelligence  ai  and data analysis   loves working with data and converting it into knowledge that can use in a lot of helpful applications in the real world   i graduated from computer engineering and joined advanced data analysis course from udacity   after that i joined a 4  month diploma from nti to improve my skills in machine learning and deploy that on cloud   experienc e   machine learning engineer internship at hits solutions     prepare d and annotated data on iob format to use that in train crf classifie r   implemented named entity recognition  ner  to extract sk ills from resume using cr f classifie r   classif ied skills into a specific category using a multi  label classifier educatio n   diploma  machine learning on cloud 4  month program  national telecommunication institute  nti   egypt   aws dat a center   programming essential course  python  pcap   aws cloud foundation   machine learnin g on cloud   natural language processing  nlp    soft skills   business english   and project management   b  sc  in electrical engineering  gpa  3 77   distinct computer engineering department  faculty of engineering  ahram canadian university  acu   egypt graduation project  real  time traffic rules violation detection using yolo v5 projects    income classification using different machine learning a lgorithms     design er diagram for faculty database and create that database by using sql commands    connect four game using c       create a primitive website for a co  working space by html   css   javascript  php tools and technologies  technical knowledge    data structures and algorithms   relational database management systems    data cleaning  manipulation  and visualization   probability  statistics  linear algebra   machine learning   cloud foundation programming languages and frameworks    python   c     sql   pandas   numpy   matplotlib   and seaborn   scikit  learn   nltk   tensorflow  and kera s   tableau   web scraping   beautiful soup     aws cloud services certifications   aws certified cloud practitioner courses     advanced data analysis nanodegree program from udacity powered by egypt future work is digital  fwd      analyze a b test results using python    query a digital music store database    flight delays and cancellations data visualization using tableau    data analysis professional nanodegree program from udacity powered by egypt future work is digital  fwd      investigate a medical appointment no shows dataset   explore u s  bike share data systems using python   20 1 125656625 asyut   egypt ahmed omar ahmedomarnagar  com ahmedomar524 ahmed omar ml engineer 7 2022   10 2022 4 2022   5 2022 '"
      ]
     },
     "execution_count": 644,
     "metadata": {},
     "output_type": "execute_result"
    }
   ],
   "source": [
    "cleantext.lower()"
   ]
  },
  {
   "cell_type": "code",
   "execution_count": 645,
   "id": "0fdd87ed",
   "metadata": {},
   "outputs": [],
   "source": [
    "clean = []\n",
    "\n",
    "review = re.sub('(@[A-Za-z0-9]+)|([^0-9A-Za-z \\t])|(\\w+:\\/\\/\\S+)|^rt|http.+?\"', \" \", str(cleantext))\n",
    "review = review.lower()\n",
    "review = review.split()\n",
    "lm = WordNetLemmatizer()\n",
    "review = [lm.lemmatize(word) for word in review if not word in set(stopwords.words(\"english\"))]\n",
    "review = \" \".join(review)\n",
    "clean.append(review)"
   ]
  },
  {
   "cell_type": "code",
   "execution_count": 646,
   "id": "e7533853",
   "metadata": {
    "collapsed": true
   },
   "outputs": [
    {
     "data": {
      "text/plain": [
       "'date cv 10 2022 2 2023 2 2023 inprogress 10 2016 7 2021 1 2023 profile interested artificial intelligence ai data analysis love working data converting knowledge use lot helpful application real world graduated computer engineering joined advanced data analysis course udacity joined 4 month diploma nti improve skill machine learning deploy cloud experienc e machine learning engineer internship hit solution prepare annotated data iob format use train crf classifie r implemented named entity recognition ner extract sk ill resume using cr f classifie r classif ied skill specific category using multi label classifier educatio n diploma machine learning cloud 4 month program national telecommunication institute nti egypt aws dat center programming essential course python pcap aws cloud foundation machine learnin g cloud natural language processing nlp soft skill business english project management b sc electrical engineering gpa 3 77 distinct computer engineering department faculty engineering ahram canadian university acu egypt graduation project real time traffic rule violation detection using yolo v5 project income classification using different machine learning lgorithms design er diagram faculty database create database using sql command connect four game using c create primitive website co working space html cs javascript php tool technology technical knowledge data structure algorithm relational database management system data cleaning manipulation visualization probability statistic linear algebra machine learning cloud foundation programming language framework python c sql panda numpy matplotlib seaborn scikit learn nltk tensorflow kera tableau web scraping beautiful soup aws cloud service certification aws certified cloud practitioner course advanced data analysis nanodegree program udacity powered egypt future work digital fwd analyze b test result using python query digital music store database flight delay cancellation data visualization using tableau data analysis professional nanodegree program udacity powered egypt future work digital fwd investigate medical appointment show dataset explore u bike share data system using python 20 1 125656625 asyut egypt ahmed omar ahmedomarnagar com ahmedomar524 ahmed omar ml engineer 7 2022 10 2022 4 2022 5 2022'"
      ]
     },
     "execution_count": 646,
     "metadata": {},
     "output_type": "execute_result"
    }
   ],
   "source": [
    "resume_clean = ''.join(clean)\n",
    "resume_clean"
   ]
  },
  {
   "cell_type": "code",
   "execution_count": 650,
   "id": "6643e7a5",
   "metadata": {},
   "outputs": [
    {
     "name": "stdout",
     "output_type": "stream",
     "text": [
      "22\n"
     ]
    },
    {
     "data": {
      "text/plain": [
       "{'Skill                         - AI',\n",
       " 'Skill                         - ARTIFICIAL INTELLIGENCE',\n",
       " 'Skill                         - AWS',\n",
       " 'Skill                         - C',\n",
       " 'Skill                         - DATA ANALYSIS',\n",
       " 'Skill                         - DATA VISUALIZATION',\n",
       " 'Skill                         - DATABASE',\n",
       " 'Skill                         - DESIGN',\n",
       " 'Skill                         - DIAGRAM',\n",
       " 'Skill                         - ELECTRICAL ENGINEERING',\n",
       " 'Skill                         - HTML',\n",
       " 'Skill                         - JAVASCRIPT',\n",
       " 'Skill                         - MACHINE LEARNING',\n",
       " 'Skill                         - NATURAL LANGUAGE PROCESSING',\n",
       " 'Skill                         - NLP',\n",
       " 'Skill                         - PHP',\n",
       " 'Skill                         - PROJECT MANAGEMENT',\n",
       " 'Skill                         - PYTHON',\n",
       " 'Skill                         - R',\n",
       " 'Skill                         - SQL',\n",
       " 'Skill                         - TABLEAU',\n",
       " 'Skill                         - TENSORFLOW'}"
      ]
     },
     "execution_count": 650,
     "metadata": {},
     "output_type": "execute_result"
    }
   ],
   "source": [
    "resume = model(resume_clean)\n",
    "skills = []\n",
    "for ent in resume.ents:\n",
    "    x = f'{ent.label_.capitalize():{30}}- {ent.text.upper()}'\n",
    "    #x = f'{ent.label_.upper():{30}}- {ent.text.capitalize()}'\n",
    "    skills.append(x)\n",
    "'''entities = list(resume.ents)\n",
    "skill_list=[]\n",
    "for i in entities:\n",
    "     skill_list.append(i.text.capitalize())'''\n",
    "print(len(set(skills)))\n",
    "set(skills)"
   ]
  },
  {
   "cell_type": "code",
   "execution_count": 651,
   "id": "d2f4afd1",
   "metadata": {
    "collapsed": true
   },
   "outputs": [
    {
     "data": {
      "text/html": [
       "<span class=\"tex2jax_ignore\"><div class=\"entities\" style=\"line-height: 2.5; direction: ltr\">date cv 10 2022 2 2023 2 2023 inprogress 10 2016 7 2021 1 2023 profile interested \n",
       "<mark class=\"entity\" style=\"background: #ddd; padding: 0.45em 0.6em; margin: 0 0.25em; line-height: 1; border-radius: 0.35em;\">\n",
       "    artificial intelligence\n",
       "    <span style=\"font-size: 0.8em; font-weight: bold; line-height: 1; border-radius: 0.35em; vertical-align: middle; margin-left: 0.5rem\">SKILL</span>\n",
       "</mark>\n",
       " \n",
       "<mark class=\"entity\" style=\"background: #ddd; padding: 0.45em 0.6em; margin: 0 0.25em; line-height: 1; border-radius: 0.35em;\">\n",
       "    ai\n",
       "    <span style=\"font-size: 0.8em; font-weight: bold; line-height: 1; border-radius: 0.35em; vertical-align: middle; margin-left: 0.5rem\">SKILL</span>\n",
       "</mark>\n",
       " \n",
       "<mark class=\"entity\" style=\"background: #ddd; padding: 0.45em 0.6em; margin: 0 0.25em; line-height: 1; border-radius: 0.35em;\">\n",
       "    data analysis\n",
       "    <span style=\"font-size: 0.8em; font-weight: bold; line-height: 1; border-radius: 0.35em; vertical-align: middle; margin-left: 0.5rem\">SKILL</span>\n",
       "</mark>\n",
       " love working data converting knowledge use lot helpful application real world graduated computer engineering joined advanced \n",
       "<mark class=\"entity\" style=\"background: #ddd; padding: 0.45em 0.6em; margin: 0 0.25em; line-height: 1; border-radius: 0.35em;\">\n",
       "    data analysis\n",
       "    <span style=\"font-size: 0.8em; font-weight: bold; line-height: 1; border-radius: 0.35em; vertical-align: middle; margin-left: 0.5rem\">SKILL</span>\n",
       "</mark>\n",
       " course udacity joined 4 month diploma nti improve skill \n",
       "<mark class=\"entity\" style=\"background: #ddd; padding: 0.45em 0.6em; margin: 0 0.25em; line-height: 1; border-radius: 0.35em;\">\n",
       "    machine learning\n",
       "    <span style=\"font-size: 0.8em; font-weight: bold; line-height: 1; border-radius: 0.35em; vertical-align: middle; margin-left: 0.5rem\">SKILL</span>\n",
       "</mark>\n",
       " deploy cloud experienc e \n",
       "<mark class=\"entity\" style=\"background: #ddd; padding: 0.45em 0.6em; margin: 0 0.25em; line-height: 1; border-radius: 0.35em;\">\n",
       "    machine learning\n",
       "    <span style=\"font-size: 0.8em; font-weight: bold; line-height: 1; border-radius: 0.35em; vertical-align: middle; margin-left: 0.5rem\">SKILL</span>\n",
       "</mark>\n",
       " engineer internship hit solution prepare annotated data iob format use train crf classifie \n",
       "<mark class=\"entity\" style=\"background: #ddd; padding: 0.45em 0.6em; margin: 0 0.25em; line-height: 1; border-radius: 0.35em;\">\n",
       "    r\n",
       "    <span style=\"font-size: 0.8em; font-weight: bold; line-height: 1; border-radius: 0.35em; vertical-align: middle; margin-left: 0.5rem\">SKILL</span>\n",
       "</mark>\n",
       " implemented named entity recognition ner extract sk ill resume using cr f classifie \n",
       "<mark class=\"entity\" style=\"background: #ddd; padding: 0.45em 0.6em; margin: 0 0.25em; line-height: 1; border-radius: 0.35em;\">\n",
       "    r\n",
       "    <span style=\"font-size: 0.8em; font-weight: bold; line-height: 1; border-radius: 0.35em; vertical-align: middle; margin-left: 0.5rem\">SKILL</span>\n",
       "</mark>\n",
       " classif ied skill specific category using multi label classifier educatio n diploma \n",
       "<mark class=\"entity\" style=\"background: #ddd; padding: 0.45em 0.6em; margin: 0 0.25em; line-height: 1; border-radius: 0.35em;\">\n",
       "    machine learning\n",
       "    <span style=\"font-size: 0.8em; font-weight: bold; line-height: 1; border-radius: 0.35em; vertical-align: middle; margin-left: 0.5rem\">SKILL</span>\n",
       "</mark>\n",
       " cloud 4 month program national telecommunication institute nti egypt \n",
       "<mark class=\"entity\" style=\"background: #ddd; padding: 0.45em 0.6em; margin: 0 0.25em; line-height: 1; border-radius: 0.35em;\">\n",
       "    aws\n",
       "    <span style=\"font-size: 0.8em; font-weight: bold; line-height: 1; border-radius: 0.35em; vertical-align: middle; margin-left: 0.5rem\">SKILL</span>\n",
       "</mark>\n",
       " dat center programming essential course \n",
       "<mark class=\"entity\" style=\"background: #ddd; padding: 0.45em 0.6em; margin: 0 0.25em; line-height: 1; border-radius: 0.35em;\">\n",
       "    python\n",
       "    <span style=\"font-size: 0.8em; font-weight: bold; line-height: 1; border-radius: 0.35em; vertical-align: middle; margin-left: 0.5rem\">SKILL</span>\n",
       "</mark>\n",
       " pcap \n",
       "<mark class=\"entity\" style=\"background: #ddd; padding: 0.45em 0.6em; margin: 0 0.25em; line-height: 1; border-radius: 0.35em;\">\n",
       "    aws\n",
       "    <span style=\"font-size: 0.8em; font-weight: bold; line-height: 1; border-radius: 0.35em; vertical-align: middle; margin-left: 0.5rem\">SKILL</span>\n",
       "</mark>\n",
       " cloud foundation machine learnin g cloud \n",
       "<mark class=\"entity\" style=\"background: #ddd; padding: 0.45em 0.6em; margin: 0 0.25em; line-height: 1; border-radius: 0.35em;\">\n",
       "    natural language processing\n",
       "    <span style=\"font-size: 0.8em; font-weight: bold; line-height: 1; border-radius: 0.35em; vertical-align: middle; margin-left: 0.5rem\">SKILL</span>\n",
       "</mark>\n",
       " \n",
       "<mark class=\"entity\" style=\"background: #ddd; padding: 0.45em 0.6em; margin: 0 0.25em; line-height: 1; border-radius: 0.35em;\">\n",
       "    nlp\n",
       "    <span style=\"font-size: 0.8em; font-weight: bold; line-height: 1; border-radius: 0.35em; vertical-align: middle; margin-left: 0.5rem\">SKILL</span>\n",
       "</mark>\n",
       " soft skill business english \n",
       "<mark class=\"entity\" style=\"background: #ddd; padding: 0.45em 0.6em; margin: 0 0.25em; line-height: 1; border-radius: 0.35em;\">\n",
       "    project management\n",
       "    <span style=\"font-size: 0.8em; font-weight: bold; line-height: 1; border-radius: 0.35em; vertical-align: middle; margin-left: 0.5rem\">SKILL</span>\n",
       "</mark>\n",
       " b sc \n",
       "<mark class=\"entity\" style=\"background: #ddd; padding: 0.45em 0.6em; margin: 0 0.25em; line-height: 1; border-radius: 0.35em;\">\n",
       "    electrical engineering\n",
       "    <span style=\"font-size: 0.8em; font-weight: bold; line-height: 1; border-radius: 0.35em; vertical-align: middle; margin-left: 0.5rem\">SKILL</span>\n",
       "</mark>\n",
       " gpa 3 77 distinct computer engineering department faculty engineering ahram canadian university acu egypt graduation project real time traffic rule violation detection using yolo v5 project income classification using different \n",
       "<mark class=\"entity\" style=\"background: #ddd; padding: 0.45em 0.6em; margin: 0 0.25em; line-height: 1; border-radius: 0.35em;\">\n",
       "    machine learning\n",
       "    <span style=\"font-size: 0.8em; font-weight: bold; line-height: 1; border-radius: 0.35em; vertical-align: middle; margin-left: 0.5rem\">SKILL</span>\n",
       "</mark>\n",
       " lgorithms \n",
       "<mark class=\"entity\" style=\"background: #ddd; padding: 0.45em 0.6em; margin: 0 0.25em; line-height: 1; border-radius: 0.35em;\">\n",
       "    design\n",
       "    <span style=\"font-size: 0.8em; font-weight: bold; line-height: 1; border-radius: 0.35em; vertical-align: middle; margin-left: 0.5rem\">SKILL</span>\n",
       "</mark>\n",
       " er \n",
       "<mark class=\"entity\" style=\"background: #ddd; padding: 0.45em 0.6em; margin: 0 0.25em; line-height: 1; border-radius: 0.35em;\">\n",
       "    diagram\n",
       "    <span style=\"font-size: 0.8em; font-weight: bold; line-height: 1; border-radius: 0.35em; vertical-align: middle; margin-left: 0.5rem\">SKILL</span>\n",
       "</mark>\n",
       " faculty \n",
       "<mark class=\"entity\" style=\"background: #ddd; padding: 0.45em 0.6em; margin: 0 0.25em; line-height: 1; border-radius: 0.35em;\">\n",
       "    database\n",
       "    <span style=\"font-size: 0.8em; font-weight: bold; line-height: 1; border-radius: 0.35em; vertical-align: middle; margin-left: 0.5rem\">SKILL</span>\n",
       "</mark>\n",
       " create \n",
       "<mark class=\"entity\" style=\"background: #ddd; padding: 0.45em 0.6em; margin: 0 0.25em; line-height: 1; border-radius: 0.35em;\">\n",
       "    database\n",
       "    <span style=\"font-size: 0.8em; font-weight: bold; line-height: 1; border-radius: 0.35em; vertical-align: middle; margin-left: 0.5rem\">SKILL</span>\n",
       "</mark>\n",
       " using \n",
       "<mark class=\"entity\" style=\"background: #ddd; padding: 0.45em 0.6em; margin: 0 0.25em; line-height: 1; border-radius: 0.35em;\">\n",
       "    sql\n",
       "    <span style=\"font-size: 0.8em; font-weight: bold; line-height: 1; border-radius: 0.35em; vertical-align: middle; margin-left: 0.5rem\">SKILL</span>\n",
       "</mark>\n",
       " command connect four game using \n",
       "<mark class=\"entity\" style=\"background: #ddd; padding: 0.45em 0.6em; margin: 0 0.25em; line-height: 1; border-radius: 0.35em;\">\n",
       "    c\n",
       "    <span style=\"font-size: 0.8em; font-weight: bold; line-height: 1; border-radius: 0.35em; vertical-align: middle; margin-left: 0.5rem\">SKILL</span>\n",
       "</mark>\n",
       " create primitive website co working space \n",
       "<mark class=\"entity\" style=\"background: #ddd; padding: 0.45em 0.6em; margin: 0 0.25em; line-height: 1; border-radius: 0.35em;\">\n",
       "    html\n",
       "    <span style=\"font-size: 0.8em; font-weight: bold; line-height: 1; border-radius: 0.35em; vertical-align: middle; margin-left: 0.5rem\">SKILL</span>\n",
       "</mark>\n",
       " cs \n",
       "<mark class=\"entity\" style=\"background: #ddd; padding: 0.45em 0.6em; margin: 0 0.25em; line-height: 1; border-radius: 0.35em;\">\n",
       "    javascript\n",
       "    <span style=\"font-size: 0.8em; font-weight: bold; line-height: 1; border-radius: 0.35em; vertical-align: middle; margin-left: 0.5rem\">SKILL</span>\n",
       "</mark>\n",
       " \n",
       "<mark class=\"entity\" style=\"background: #ddd; padding: 0.45em 0.6em; margin: 0 0.25em; line-height: 1; border-radius: 0.35em;\">\n",
       "    php\n",
       "    <span style=\"font-size: 0.8em; font-weight: bold; line-height: 1; border-radius: 0.35em; vertical-align: middle; margin-left: 0.5rem\">SKILL</span>\n",
       "</mark>\n",
       " tool technology technical knowledge data structure algorithm relational \n",
       "<mark class=\"entity\" style=\"background: #ddd; padding: 0.45em 0.6em; margin: 0 0.25em; line-height: 1; border-radius: 0.35em;\">\n",
       "    database\n",
       "    <span style=\"font-size: 0.8em; font-weight: bold; line-height: 1; border-radius: 0.35em; vertical-align: middle; margin-left: 0.5rem\">SKILL</span>\n",
       "</mark>\n",
       " management system data cleaning manipulation visualization probability statistic linear algebra \n",
       "<mark class=\"entity\" style=\"background: #ddd; padding: 0.45em 0.6em; margin: 0 0.25em; line-height: 1; border-radius: 0.35em;\">\n",
       "    machine learning\n",
       "    <span style=\"font-size: 0.8em; font-weight: bold; line-height: 1; border-radius: 0.35em; vertical-align: middle; margin-left: 0.5rem\">SKILL</span>\n",
       "</mark>\n",
       " cloud foundation programming language framework \n",
       "<mark class=\"entity\" style=\"background: #ddd; padding: 0.45em 0.6em; margin: 0 0.25em; line-height: 1; border-radius: 0.35em;\">\n",
       "    python\n",
       "    <span style=\"font-size: 0.8em; font-weight: bold; line-height: 1; border-radius: 0.35em; vertical-align: middle; margin-left: 0.5rem\">SKILL</span>\n",
       "</mark>\n",
       " \n",
       "<mark class=\"entity\" style=\"background: #ddd; padding: 0.45em 0.6em; margin: 0 0.25em; line-height: 1; border-radius: 0.35em;\">\n",
       "    c\n",
       "    <span style=\"font-size: 0.8em; font-weight: bold; line-height: 1; border-radius: 0.35em; vertical-align: middle; margin-left: 0.5rem\">SKILL</span>\n",
       "</mark>\n",
       " \n",
       "<mark class=\"entity\" style=\"background: #ddd; padding: 0.45em 0.6em; margin: 0 0.25em; line-height: 1; border-radius: 0.35em;\">\n",
       "    sql\n",
       "    <span style=\"font-size: 0.8em; font-weight: bold; line-height: 1; border-radius: 0.35em; vertical-align: middle; margin-left: 0.5rem\">SKILL</span>\n",
       "</mark>\n",
       " panda numpy matplotlib seaborn scikit learn nltk \n",
       "<mark class=\"entity\" style=\"background: #ddd; padding: 0.45em 0.6em; margin: 0 0.25em; line-height: 1; border-radius: 0.35em;\">\n",
       "    tensorflow\n",
       "    <span style=\"font-size: 0.8em; font-weight: bold; line-height: 1; border-radius: 0.35em; vertical-align: middle; margin-left: 0.5rem\">SKILL</span>\n",
       "</mark>\n",
       " kera \n",
       "<mark class=\"entity\" style=\"background: #ddd; padding: 0.45em 0.6em; margin: 0 0.25em; line-height: 1; border-radius: 0.35em;\">\n",
       "    tableau\n",
       "    <span style=\"font-size: 0.8em; font-weight: bold; line-height: 1; border-radius: 0.35em; vertical-align: middle; margin-left: 0.5rem\">SKILL</span>\n",
       "</mark>\n",
       " web scraping beautiful soup \n",
       "<mark class=\"entity\" style=\"background: #ddd; padding: 0.45em 0.6em; margin: 0 0.25em; line-height: 1; border-radius: 0.35em;\">\n",
       "    aws\n",
       "    <span style=\"font-size: 0.8em; font-weight: bold; line-height: 1; border-radius: 0.35em; vertical-align: middle; margin-left: 0.5rem\">SKILL</span>\n",
       "</mark>\n",
       " cloud service certification \n",
       "<mark class=\"entity\" style=\"background: #ddd; padding: 0.45em 0.6em; margin: 0 0.25em; line-height: 1; border-radius: 0.35em;\">\n",
       "    aws\n",
       "    <span style=\"font-size: 0.8em; font-weight: bold; line-height: 1; border-radius: 0.35em; vertical-align: middle; margin-left: 0.5rem\">SKILL</span>\n",
       "</mark>\n",
       " certified cloud practitioner course advanced \n",
       "<mark class=\"entity\" style=\"background: #ddd; padding: 0.45em 0.6em; margin: 0 0.25em; line-height: 1; border-radius: 0.35em;\">\n",
       "    data analysis\n",
       "    <span style=\"font-size: 0.8em; font-weight: bold; line-height: 1; border-radius: 0.35em; vertical-align: middle; margin-left: 0.5rem\">SKILL</span>\n",
       "</mark>\n",
       " nanodegree program udacity powered egypt future work digital fwd analyze b test result using \n",
       "<mark class=\"entity\" style=\"background: #ddd; padding: 0.45em 0.6em; margin: 0 0.25em; line-height: 1; border-radius: 0.35em;\">\n",
       "    python\n",
       "    <span style=\"font-size: 0.8em; font-weight: bold; line-height: 1; border-radius: 0.35em; vertical-align: middle; margin-left: 0.5rem\">SKILL</span>\n",
       "</mark>\n",
       " query digital music store \n",
       "<mark class=\"entity\" style=\"background: #ddd; padding: 0.45em 0.6em; margin: 0 0.25em; line-height: 1; border-radius: 0.35em;\">\n",
       "    database\n",
       "    <span style=\"font-size: 0.8em; font-weight: bold; line-height: 1; border-radius: 0.35em; vertical-align: middle; margin-left: 0.5rem\">SKILL</span>\n",
       "</mark>\n",
       " flight delay cancellation \n",
       "<mark class=\"entity\" style=\"background: #ddd; padding: 0.45em 0.6em; margin: 0 0.25em; line-height: 1; border-radius: 0.35em;\">\n",
       "    data visualization\n",
       "    <span style=\"font-size: 0.8em; font-weight: bold; line-height: 1; border-radius: 0.35em; vertical-align: middle; margin-left: 0.5rem\">SKILL</span>\n",
       "</mark>\n",
       " using \n",
       "<mark class=\"entity\" style=\"background: #ddd; padding: 0.45em 0.6em; margin: 0 0.25em; line-height: 1; border-radius: 0.35em;\">\n",
       "    tableau\n",
       "    <span style=\"font-size: 0.8em; font-weight: bold; line-height: 1; border-radius: 0.35em; vertical-align: middle; margin-left: 0.5rem\">SKILL</span>\n",
       "</mark>\n",
       " \n",
       "<mark class=\"entity\" style=\"background: #ddd; padding: 0.45em 0.6em; margin: 0 0.25em; line-height: 1; border-radius: 0.35em;\">\n",
       "    data analysis\n",
       "    <span style=\"font-size: 0.8em; font-weight: bold; line-height: 1; border-radius: 0.35em; vertical-align: middle; margin-left: 0.5rem\">SKILL</span>\n",
       "</mark>\n",
       " professional nanodegree program udacity powered egypt future work digital fwd investigate medical appointment show dataset explore u bike share data system using \n",
       "<mark class=\"entity\" style=\"background: #ddd; padding: 0.45em 0.6em; margin: 0 0.25em; line-height: 1; border-radius: 0.35em;\">\n",
       "    python\n",
       "    <span style=\"font-size: 0.8em; font-weight: bold; line-height: 1; border-radius: 0.35em; vertical-align: middle; margin-left: 0.5rem\">SKILL</span>\n",
       "</mark>\n",
       " 20 1 125656625 asyut egypt ahmed omar ahmedomarnagar com ahmedomar524 ahmed omar ml engineer 7 2022 10 2022 4 2022 5 2022</div></span>"
      ],
      "text/plain": [
       "<IPython.core.display.HTML object>"
      ]
     },
     "metadata": {},
     "output_type": "display_data"
    }
   ],
   "source": [
    "from spacy import displacy\n",
    "displacy.render(resume, style='ent', jupyter=True)"
   ]
  },
  {
   "cell_type": "code",
   "execution_count": null,
   "id": "3f3e80d0",
   "metadata": {},
   "outputs": [],
   "source": []
  },
  {
   "cell_type": "markdown",
   "id": "dac3eecb",
   "metadata": {},
   "source": [
    "# =========================================================="
   ]
  },
  {
   "cell_type": "markdown",
   "id": "3f301fd6",
   "metadata": {},
   "source": [
    "## Testing The Model:"
   ]
  },
  {
   "cell_type": "code",
   "execution_count": null,
   "id": "955b34be",
   "metadata": {},
   "outputs": [],
   "source": []
  },
  {
   "cell_type": "code",
   "execution_count": null,
   "id": "5f88d8fb",
   "metadata": {},
   "outputs": [],
   "source": [
    "data_2 = pd.read_csv('job_skills_it.csv')\n",
    "data_2"
   ]
  },
  {
   "cell_type": "code",
   "execution_count": null,
   "id": "9560540a",
   "metadata": {},
   "outputs": [],
   "source": [
    "X_data_2 = data_2[:100]\n",
    "X_data_2"
   ]
  },
  {
   "cell_type": "code",
   "execution_count": null,
   "id": "8f579276",
   "metadata": {},
   "outputs": [],
   "source": [
    "normalizing_data(X_data_2 , X_data_2['Text'])"
   ]
  },
  {
   "cell_type": "code",
   "execution_count": null,
   "id": "585aedb1",
   "metadata": {},
   "outputs": [],
   "source": [
    "clean[0]"
   ]
  },
  {
   "cell_type": "code",
   "execution_count": null,
   "id": "6ddf5af2",
   "metadata": {},
   "outputs": [],
   "source": [
    "import re\n",
    "clean = []\n",
    "for i in range(X_data_2.shape[0]):\n",
    "    review = re.sub(\n",
    "        '(@[A-Za-z0-9]+)|([^0-9A-Za-z \\t])|(\\w+:\\/\\/\\S+)|^rt|http.+?\"',\" \", str(X_data_2[\"Text\"].iloc[i]))\n",
    "    review = review.lower()\n",
    "    review = review.split()\n",
    "    lm = WordNetLemmatizer()\n",
    "    review = [\n",
    "        lm.lemmatize(word)\n",
    "        for word in review\n",
    "        if not word in set(stopwords.words(\"english\"))\n",
    "    ]\n",
    "    review = \" \".join(review)\n",
    "    clean.append(review)"
   ]
  },
  {
   "cell_type": "code",
   "execution_count": null,
   "id": "e419507d",
   "metadata": {},
   "outputs": [],
   "source": [
    "output_data = annotate_the_data(data_1[\"Resume_Cleaned\"], NewSkills, label='SKILL')"
   ]
  },
  {
   "cell_type": "code",
   "execution_count": null,
   "id": "d5d0b4d0",
   "metadata": {},
   "outputs": [],
   "source": [
    "make_spacy_file(test_data, train_path)"
   ]
  },
  {
   "cell_type": "code",
   "execution_count": null,
   "id": "7308eb4d",
   "metadata": {},
   "outputs": [],
   "source": [
    "spacy evaluate ./my-model ./test-data.spacy"
   ]
  },
  {
   "cell_type": "markdown",
   "id": "229ee37e",
   "metadata": {},
   "source": [
    "# ============================================================="
   ]
  },
  {
   "cell_type": "markdown",
   "id": "56591bee",
   "metadata": {},
   "source": [
    "## Job Classification as per resumes:"
   ]
  },
  {
   "cell_type": "code",
   "execution_count": 327,
   "id": "ea03d17a",
   "metadata": {},
   "outputs": [
    {
     "name": "stderr",
     "output_type": "stream",
     "text": [
      "[nltk_data] Downloading package punkt to\n",
      "[nltk_data]     C:\\Users\\trainee\\AppData\\Roaming\\nltk_data...\n",
      "[nltk_data]   Package punkt is already up-to-date!\n",
      "[nltk_data] Downloading package stopwords to\n",
      "[nltk_data]     C:\\Users\\trainee\\AppData\\Roaming\\nltk_data...\n",
      "[nltk_data]   Package stopwords is already up-to-date!\n",
      "[nltk_data] Downloading package averaged_perceptron_tagger to\n",
      "[nltk_data]     C:\\Users\\trainee\\AppData\\Roaming\\nltk_data...\n",
      "[nltk_data]   Package averaged_perceptron_tagger is already up-to-\n",
      "[nltk_data]       date!\n",
      "[nltk_data] Downloading package wordnet to\n",
      "[nltk_data]     C:\\Users\\trainee\\AppData\\Roaming\\nltk_data...\n",
      "[nltk_data]   Package wordnet is already up-to-date!\n"
     ]
    },
    {
     "data": {
      "text/plain": [
       "True"
      ]
     },
     "execution_count": 327,
     "metadata": {},
     "output_type": "execute_result"
    }
   ],
   "source": [
    "from sklearn import preprocessing\n",
    "from sklearn.preprocessing import StandardScaler , LabelEncoder\n",
    "import pandas as pd\n",
    "import numpy as np\n",
    "import matplotlib.pyplot as plt\n",
    "import seaborn as sns\n",
    "plt.style.use('ggplot')\n",
    "import nltk\n",
    "from nltk import*\n",
    "import nltk, re\n",
    "from nltk.corpus import stopwords\n",
    "from nltk.stem import SnowballStemmer\n",
    "from nltk.tokenize import word_tokenize\n",
    "from sklearn.metrics import roc_auc_score, roc_curve, auc, confusion_matrix\n",
    "import matplotlib.pyplot as plt\n",
    "from datetime import datetime\n",
    "nltk.download('punkt')\n",
    "nltk.download('stopwords')\n",
    "nltk.download('averaged_perceptron_tagger')\n",
    "nltk.download('wordnet')\n"
   ]
  },
  {
   "cell_type": "code",
   "execution_count": 328,
   "id": "959cfd19",
   "metadata": {},
   "outputs": [
    {
     "data": {
      "text/html": [
       "<div>\n",
       "<style scoped>\n",
       "    .dataframe tbody tr th:only-of-type {\n",
       "        vertical-align: middle;\n",
       "    }\n",
       "\n",
       "    .dataframe tbody tr th {\n",
       "        vertical-align: top;\n",
       "    }\n",
       "\n",
       "    .dataframe thead th {\n",
       "        text-align: right;\n",
       "    }\n",
       "</style>\n",
       "<table border=\"1\" class=\"dataframe\">\n",
       "  <thead>\n",
       "    <tr style=\"text-align: right;\">\n",
       "      <th></th>\n",
       "      <th>index</th>\n",
       "      <th>Category</th>\n",
       "    </tr>\n",
       "  </thead>\n",
       "  <tbody>\n",
       "    <tr>\n",
       "      <th>0</th>\n",
       "      <td>Java Developer</td>\n",
       "      <td>84</td>\n",
       "    </tr>\n",
       "    <tr>\n",
       "      <th>1</th>\n",
       "      <td>Testing</td>\n",
       "      <td>70</td>\n",
       "    </tr>\n",
       "    <tr>\n",
       "      <th>2</th>\n",
       "      <td>DevOps Engineer</td>\n",
       "      <td>55</td>\n",
       "    </tr>\n",
       "    <tr>\n",
       "      <th>3</th>\n",
       "      <td>Python Developer</td>\n",
       "      <td>48</td>\n",
       "    </tr>\n",
       "    <tr>\n",
       "      <th>4</th>\n",
       "      <td>Web Designing</td>\n",
       "      <td>45</td>\n",
       "    </tr>\n",
       "    <tr>\n",
       "      <th>5</th>\n",
       "      <td>HR</td>\n",
       "      <td>44</td>\n",
       "    </tr>\n",
       "    <tr>\n",
       "      <th>6</th>\n",
       "      <td>Hadoop</td>\n",
       "      <td>42</td>\n",
       "    </tr>\n",
       "    <tr>\n",
       "      <th>7</th>\n",
       "      <td>Blockchain</td>\n",
       "      <td>40</td>\n",
       "    </tr>\n",
       "    <tr>\n",
       "      <th>8</th>\n",
       "      <td>ETL Developer</td>\n",
       "      <td>40</td>\n",
       "    </tr>\n",
       "    <tr>\n",
       "      <th>9</th>\n",
       "      <td>Operations Manager</td>\n",
       "      <td>40</td>\n",
       "    </tr>\n",
       "    <tr>\n",
       "      <th>10</th>\n",
       "      <td>Data Science</td>\n",
       "      <td>40</td>\n",
       "    </tr>\n",
       "    <tr>\n",
       "      <th>11</th>\n",
       "      <td>Sales</td>\n",
       "      <td>40</td>\n",
       "    </tr>\n",
       "    <tr>\n",
       "      <th>12</th>\n",
       "      <td>Mechanical Engineer</td>\n",
       "      <td>40</td>\n",
       "    </tr>\n",
       "    <tr>\n",
       "      <th>13</th>\n",
       "      <td>Arts</td>\n",
       "      <td>36</td>\n",
       "    </tr>\n",
       "    <tr>\n",
       "      <th>14</th>\n",
       "      <td>Database</td>\n",
       "      <td>33</td>\n",
       "    </tr>\n",
       "    <tr>\n",
       "      <th>15</th>\n",
       "      <td>Electrical Engineering</td>\n",
       "      <td>30</td>\n",
       "    </tr>\n",
       "    <tr>\n",
       "      <th>16</th>\n",
       "      <td>Health and fitness</td>\n",
       "      <td>30</td>\n",
       "    </tr>\n",
       "    <tr>\n",
       "      <th>17</th>\n",
       "      <td>PMO</td>\n",
       "      <td>30</td>\n",
       "    </tr>\n",
       "    <tr>\n",
       "      <th>18</th>\n",
       "      <td>Business Analyst</td>\n",
       "      <td>28</td>\n",
       "    </tr>\n",
       "    <tr>\n",
       "      <th>19</th>\n",
       "      <td>DotNet Developer</td>\n",
       "      <td>28</td>\n",
       "    </tr>\n",
       "    <tr>\n",
       "      <th>20</th>\n",
       "      <td>Automation Testing</td>\n",
       "      <td>26</td>\n",
       "    </tr>\n",
       "    <tr>\n",
       "      <th>21</th>\n",
       "      <td>Network Security Engineer</td>\n",
       "      <td>25</td>\n",
       "    </tr>\n",
       "    <tr>\n",
       "      <th>22</th>\n",
       "      <td>SAP Developer</td>\n",
       "      <td>24</td>\n",
       "    </tr>\n",
       "    <tr>\n",
       "      <th>23</th>\n",
       "      <td>Civil Engineer</td>\n",
       "      <td>24</td>\n",
       "    </tr>\n",
       "    <tr>\n",
       "      <th>24</th>\n",
       "      <td>Advocate</td>\n",
       "      <td>20</td>\n",
       "    </tr>\n",
       "  </tbody>\n",
       "</table>\n",
       "</div>"
      ],
      "text/plain": [
       "                        index  Category\n",
       "0              Java Developer        84\n",
       "1                     Testing        70\n",
       "2             DevOps Engineer        55\n",
       "3            Python Developer        48\n",
       "4               Web Designing        45\n",
       "5                          HR        44\n",
       "6                      Hadoop        42\n",
       "7                  Blockchain        40\n",
       "8               ETL Developer        40\n",
       "9          Operations Manager        40\n",
       "10               Data Science        40\n",
       "11                      Sales        40\n",
       "12        Mechanical Engineer        40\n",
       "13                       Arts        36\n",
       "14                   Database        33\n",
       "15     Electrical Engineering        30\n",
       "16         Health and fitness        30\n",
       "17                        PMO        30\n",
       "18           Business Analyst        28\n",
       "19           DotNet Developer        28\n",
       "20         Automation Testing        26\n",
       "21  Network Security Engineer        25\n",
       "22              SAP Developer        24\n",
       "23             Civil Engineer        24\n",
       "24                   Advocate        20"
      ]
     },
     "execution_count": 328,
     "metadata": {},
     "output_type": "execute_result"
    }
   ],
   "source": [
    "myData = data_1.copy()\n",
    "categories = myData['Category'].value_counts().reset_index()\n",
    "categories"
   ]
  },
  {
   "cell_type": "code",
   "execution_count": 329,
   "id": "38083b1b",
   "metadata": {},
   "outputs": [],
   "source": [
    "import re\n",
    "def clean_function(resumeText):\n",
    "    resumeText = re.sub('http\\S+\\s', ' ', resumeText)  # remove URLs\n",
    "    resumeText = re.sub('#\\S+', '', resumeText)  # remove hashtags\n",
    "    resumeText = re.sub('@\\S+', '  ', resumeText)  # remove mentions\n",
    "    resumeText = re.sub('[%s]' % re.escape(\"\"\"!\"#$%&'()*+,-./:;<=>?@[\\]^_`{|}~\"\"\"), ' ', resumeText)  # remove punctuations\n",
    "    resumeText = re.sub(r'[^\\x00-\\x7f]',r' ', resumeText) \n",
    "    resumeText = re.sub('\\s+', ' ', resumeText.lower())  # remove extra whitespace\n",
    "    return resumeText"
   ]
  },
  {
   "cell_type": "code",
   "execution_count": 330,
   "id": "c9f6e3d1",
   "metadata": {},
   "outputs": [
    {
     "data": {
      "text/html": [
       "<div>\n",
       "<style scoped>\n",
       "    .dataframe tbody tr th:only-of-type {\n",
       "        vertical-align: middle;\n",
       "    }\n",
       "\n",
       "    .dataframe tbody tr th {\n",
       "        vertical-align: top;\n",
       "    }\n",
       "\n",
       "    .dataframe thead th {\n",
       "        text-align: right;\n",
       "    }\n",
       "</style>\n",
       "<table border=\"1\" class=\"dataframe\">\n",
       "  <thead>\n",
       "    <tr style=\"text-align: right;\">\n",
       "      <th></th>\n",
       "      <th>Category</th>\n",
       "      <th>Resume</th>\n",
       "      <th>Resume_Cleaned</th>\n",
       "      <th>skills</th>\n",
       "    </tr>\n",
       "  </thead>\n",
       "  <tbody>\n",
       "    <tr>\n",
       "      <th>0</th>\n",
       "      <td>Data Science</td>\n",
       "      <td>Skills * Programming Languages: Python (pandas...</td>\n",
       "      <td>skills programming languages python pandas num...</td>\n",
       "      <td>[angular, mysql, computer vision, elasticsearc...</td>\n",
       "    </tr>\n",
       "    <tr>\n",
       "      <th>1</th>\n",
       "      <td>Data Science</td>\n",
       "      <td>Education Details \\r\\nMay 2013 to May 2017 B.E...</td>\n",
       "      <td>education details may 2013 to may 2017 b e uit...</td>\n",
       "      <td>[machine learning, outlier, business, feature ...</td>\n",
       "    </tr>\n",
       "    <tr>\n",
       "      <th>2</th>\n",
       "      <td>Data Science</td>\n",
       "      <td>Areas of Interest Deep Learning, Control Syste...</td>\n",
       "      <td>areas of interest deep learning control system...</td>\n",
       "      <td>[mysql, segmentation, analytics, github, segme...</td>\n",
       "    </tr>\n",
       "    <tr>\n",
       "      <th>3</th>\n",
       "      <td>Data Science</td>\n",
       "      <td>Skills â¢ R â¢ Python â¢ SAP HANA â¢ Table...</td>\n",
       "      <td>skills r python sap hana tableau sap hana sql ...</td>\n",
       "      <td>[data processing, segmentation, analytics, seg...</td>\n",
       "    </tr>\n",
       "    <tr>\n",
       "      <th>4</th>\n",
       "      <td>Data Science</td>\n",
       "      <td>Education Details \\r\\n MCA   YMCAUST,  Faridab...</td>\n",
       "      <td>education details mca ymcaust faridabad haryan...</td>\n",
       "      <td>[data analysis, python, data structure, databa...</td>\n",
       "    </tr>\n",
       "  </tbody>\n",
       "</table>\n",
       "</div>"
      ],
      "text/plain": [
       "       Category                                             Resume  \\\n",
       "0  Data Science  Skills * Programming Languages: Python (pandas...   \n",
       "1  Data Science  Education Details \\r\\nMay 2013 to May 2017 B.E...   \n",
       "2  Data Science  Areas of Interest Deep Learning, Control Syste...   \n",
       "3  Data Science  Skills â¢ R â¢ Python â¢ SAP HANA â¢ Table...   \n",
       "4  Data Science  Education Details \\r\\n MCA   YMCAUST,  Faridab...   \n",
       "\n",
       "                                      Resume_Cleaned  \\\n",
       "0  skills programming languages python pandas num...   \n",
       "1  education details may 2013 to may 2017 b e uit...   \n",
       "2  areas of interest deep learning control system...   \n",
       "3  skills r python sap hana tableau sap hana sql ...   \n",
       "4  education details mca ymcaust faridabad haryan...   \n",
       "\n",
       "                                              skills  \n",
       "0  [angular, mysql, computer vision, elasticsearc...  \n",
       "1  [machine learning, outlier, business, feature ...  \n",
       "2  [mysql, segmentation, analytics, github, segme...  \n",
       "3  [data processing, segmentation, analytics, seg...  \n",
       "4  [data analysis, python, data structure, databa...  "
      ]
     },
     "execution_count": 330,
     "metadata": {},
     "output_type": "execute_result"
    }
   ],
   "source": [
    "myData['Resume_Cleaned'] = myData['Resume'].apply(lambda x: clean_function(x))\n",
    "myData.head()"
   ]
  },
  {
   "cell_type": "code",
   "execution_count": 331,
   "id": "b7e6c09d",
   "metadata": {},
   "outputs": [
    {
     "data": {
      "text/plain": [
       "(962, 4)"
      ]
     },
     "execution_count": 331,
     "metadata": {},
     "output_type": "execute_result"
    }
   ],
   "source": [
    "myData.shape"
   ]
  },
  {
   "cell_type": "code",
   "execution_count": 332,
   "id": "92ac5b4e",
   "metadata": {
    "collapsed": true
   },
   "outputs": [
    {
     "name": "stdout",
     "output_type": "stream",
     "text": [
      "<class 'pandas.core.frame.DataFrame'>\n",
      "RangeIndex: 962 entries, 0 to 961\n",
      "Data columns (total 4 columns):\n",
      " #   Column          Non-Null Count  Dtype \n",
      "---  ------          --------------  ----- \n",
      " 0   Category        962 non-null    object\n",
      " 1   Resume          962 non-null    object\n",
      " 2   Resume_Cleaned  962 non-null    object\n",
      " 3   skills          962 non-null    object\n",
      "dtypes: object(4)\n",
      "memory usage: 30.2+ KB\n"
     ]
    }
   ],
   "source": [
    "myData.info()"
   ]
  },
  {
   "cell_type": "code",
   "execution_count": 333,
   "id": "a71a0e81",
   "metadata": {},
   "outputs": [
    {
     "data": {
      "text/plain": [
       "Category          0\n",
       "Resume            0\n",
       "Resume_Cleaned    0\n",
       "skills            0\n",
       "dtype: int64"
      ]
     },
     "execution_count": 333,
     "metadata": {},
     "output_type": "execute_result"
    }
   ],
   "source": [
    "myData.isnull().sum()"
   ]
  },
  {
   "cell_type": "code",
   "execution_count": 334,
   "id": "bcebff88",
   "metadata": {
    "collapsed": true
   },
   "outputs": [
    {
     "data": {
      "text/plain": [
       "Java Developer               84\n",
       "Testing                      70\n",
       "DevOps Engineer              55\n",
       "Python Developer             48\n",
       "Web Designing                45\n",
       "HR                           44\n",
       "Hadoop                       42\n",
       "Blockchain                   40\n",
       "ETL Developer                40\n",
       "Operations Manager           40\n",
       "Data Science                 40\n",
       "Sales                        40\n",
       "Mechanical Engineer          40\n",
       "Arts                         36\n",
       "Database                     33\n",
       "Electrical Engineering       30\n",
       "Health and fitness           30\n",
       "PMO                          30\n",
       "Business Analyst             28\n",
       "DotNet Developer             28\n",
       "Automation Testing           26\n",
       "Network Security Engineer    25\n",
       "SAP Developer                24\n",
       "Civil Engineer               24\n",
       "Advocate                     20\n",
       "Name: Category, dtype: int64"
      ]
     },
     "execution_count": 334,
     "metadata": {},
     "output_type": "execute_result"
    }
   ],
   "source": [
    "myData['Category'].value_counts()"
   ]
  },
  {
   "cell_type": "code",
   "execution_count": 335,
   "id": "839cda99",
   "metadata": {},
   "outputs": [],
   "source": [
    "from sklearn.preprocessing import LabelEncoder\n",
    "LabelEncoder = preprocessing.LabelEncoder()\n",
    "myData['Category'] = LabelEncoder.fit_transform(myData['Category'])"
   ]
  },
  {
   "cell_type": "code",
   "execution_count": 336,
   "id": "dd96e079",
   "metadata": {
    "collapsed": true
   },
   "outputs": [
    {
     "data": {
      "text/html": [
       "<div>\n",
       "<style scoped>\n",
       "    .dataframe tbody tr th:only-of-type {\n",
       "        vertical-align: middle;\n",
       "    }\n",
       "\n",
       "    .dataframe tbody tr th {\n",
       "        vertical-align: top;\n",
       "    }\n",
       "\n",
       "    .dataframe thead th {\n",
       "        text-align: right;\n",
       "    }\n",
       "</style>\n",
       "<table border=\"1\" class=\"dataframe\">\n",
       "  <thead>\n",
       "    <tr style=\"text-align: right;\">\n",
       "      <th></th>\n",
       "      <th>Category</th>\n",
       "      <th>Resume_Cleaned</th>\n",
       "      <th>skills</th>\n",
       "    </tr>\n",
       "  </thead>\n",
       "  <tbody>\n",
       "    <tr>\n",
       "      <th>0</th>\n",
       "      <td>6</td>\n",
       "      <td>skills programming languages python pandas num...</td>\n",
       "      <td>[angular, mysql, computer vision, elasticsearc...</td>\n",
       "    </tr>\n",
       "    <tr>\n",
       "      <th>1</th>\n",
       "      <td>6</td>\n",
       "      <td>education details may 2013 to may 2017 b e uit...</td>\n",
       "      <td>[machine learning, outlier, business, feature ...</td>\n",
       "    </tr>\n",
       "    <tr>\n",
       "      <th>2</th>\n",
       "      <td>6</td>\n",
       "      <td>areas of interest deep learning control system...</td>\n",
       "      <td>[mysql, segmentation, analytics, github, segme...</td>\n",
       "    </tr>\n",
       "    <tr>\n",
       "      <th>3</th>\n",
       "      <td>6</td>\n",
       "      <td>skills r python sap hana tableau sap hana sql ...</td>\n",
       "      <td>[data processing, segmentation, analytics, seg...</td>\n",
       "    </tr>\n",
       "    <tr>\n",
       "      <th>4</th>\n",
       "      <td>6</td>\n",
       "      <td>education details mca ymcaust faridabad haryan...</td>\n",
       "      <td>[data analysis, python, data structure, databa...</td>\n",
       "    </tr>\n",
       "    <tr>\n",
       "      <th>...</th>\n",
       "      <td>...</td>\n",
       "      <td>...</td>\n",
       "      <td>...</td>\n",
       "    </tr>\n",
       "    <tr>\n",
       "      <th>957</th>\n",
       "      <td>23</td>\n",
       "      <td>computer skills proficient in ms office word b...</td>\n",
       "      <td>[electrical engineering, diagram, relay, testing]</td>\n",
       "    </tr>\n",
       "    <tr>\n",
       "      <th>958</th>\n",
       "      <td>23</td>\n",
       "      <td>willingness to accept the challenges positive...</td>\n",
       "      <td>[engineering, documentation, debugging, system...</td>\n",
       "    </tr>\n",
       "    <tr>\n",
       "      <th>959</th>\n",
       "      <td>23</td>\n",
       "      <td>personal skills quick learner eagerness to lea...</td>\n",
       "      <td>[functional testing, support, engineering, doc...</td>\n",
       "    </tr>\n",
       "    <tr>\n",
       "      <th>960</th>\n",
       "      <td>23</td>\n",
       "      <td>computer skills software knowledge ms power po...</td>\n",
       "      <td>[software, latex, design]</td>\n",
       "    </tr>\n",
       "    <tr>\n",
       "      <th>961</th>\n",
       "      <td>23</td>\n",
       "      <td>skill set os windows xp 7 8 8 1 10 database my...</td>\n",
       "      <td>[security, java, tracking system, mysql, libra...</td>\n",
       "    </tr>\n",
       "  </tbody>\n",
       "</table>\n",
       "<p>962 rows × 3 columns</p>\n",
       "</div>"
      ],
      "text/plain": [
       "     Category                                     Resume_Cleaned  \\\n",
       "0           6  skills programming languages python pandas num...   \n",
       "1           6  education details may 2013 to may 2017 b e uit...   \n",
       "2           6  areas of interest deep learning control system...   \n",
       "3           6  skills r python sap hana tableau sap hana sql ...   \n",
       "4           6  education details mca ymcaust faridabad haryan...   \n",
       "..        ...                                                ...   \n",
       "957        23  computer skills proficient in ms office word b...   \n",
       "958        23   willingness to accept the challenges positive...   \n",
       "959        23  personal skills quick learner eagerness to lea...   \n",
       "960        23  computer skills software knowledge ms power po...   \n",
       "961        23  skill set os windows xp 7 8 8 1 10 database my...   \n",
       "\n",
       "                                                skills  \n",
       "0    [angular, mysql, computer vision, elasticsearc...  \n",
       "1    [machine learning, outlier, business, feature ...  \n",
       "2    [mysql, segmentation, analytics, github, segme...  \n",
       "3    [data processing, segmentation, analytics, seg...  \n",
       "4    [data analysis, python, data structure, databa...  \n",
       "..                                                 ...  \n",
       "957  [electrical engineering, diagram, relay, testing]  \n",
       "958  [engineering, documentation, debugging, system...  \n",
       "959  [functional testing, support, engineering, doc...  \n",
       "960                          [software, latex, design]  \n",
       "961  [security, java, tracking system, mysql, libra...  \n",
       "\n",
       "[962 rows x 3 columns]"
      ]
     },
     "execution_count": 336,
     "metadata": {},
     "output_type": "execute_result"
    }
   ],
   "source": [
    "myData.drop(columns=['Resume'] , inplace = True)\n",
    "myData"
   ]
  },
  {
   "cell_type": "code",
   "execution_count": 337,
   "id": "27a7e1db",
   "metadata": {
    "collapsed": true
   },
   "outputs": [
    {
     "data": {
      "text/plain": [
       "15    84\n",
       "23    70\n",
       "8     55\n",
       "20    48\n",
       "24    45\n",
       "12    44\n",
       "13    42\n",
       "3     40\n",
       "10    40\n",
       "18    40\n",
       "6     40\n",
       "22    40\n",
       "16    40\n",
       "1     36\n",
       "7     33\n",
       "11    30\n",
       "14    30\n",
       "19    30\n",
       "4     28\n",
       "9     28\n",
       "2     26\n",
       "17    25\n",
       "21    24\n",
       "5     24\n",
       "0     20\n",
       "Name: Category, dtype: int64"
      ]
     },
     "execution_count": 337,
     "metadata": {},
     "output_type": "execute_result"
    }
   ],
   "source": [
    "myData['Category'].value_counts()"
   ]
  },
  {
   "cell_type": "markdown",
   "id": "890b7207",
   "metadata": {},
   "source": [
    "### Splitting the data to Train & Test:"
   ]
  },
  {
   "cell_type": "code",
   "execution_count": 338,
   "id": "8ed3e3a6",
   "metadata": {},
   "outputs": [],
   "source": [
    "from sklearn.model_selection import train_test_split\n",
    "from sklearn.feature_extraction.text import TfidfVectorizer"
   ]
  },
  {
   "cell_type": "code",
   "execution_count": 339,
   "id": "b512f2ff",
   "metadata": {},
   "outputs": [],
   "source": [
    "from sklearn.multiclass import OneVsRestClassifier\n",
    "from sklearn import metrics\n",
    "from sklearn.metrics import accuracy_score\n",
    "from pandas.plotting import scatter_matrix\n",
    "from sklearn.neighbors import KNeighborsClassifier\n",
    "from sklearn import metrics"
   ]
  },
  {
   "cell_type": "code",
   "execution_count": 340,
   "id": "e61303ad",
   "metadata": {
    "collapsed": true
   },
   "outputs": [
    {
     "data": {
      "text/plain": [
       "array([ 6,  6,  6,  6,  6,  6,  6,  6,  6,  6,  6,  6,  6,  6,  6,  6,  6,\n",
       "        6,  6,  6,  6,  6,  6,  6,  6,  6,  6,  6,  6,  6,  6,  6,  6,  6,\n",
       "        6,  6,  6,  6,  6,  6, 12, 12, 12, 12, 12, 12, 12, 12, 12, 12, 12,\n",
       "       12, 12, 12, 12, 12, 12, 12, 12, 12, 12, 12, 12, 12, 12, 12, 12, 12,\n",
       "       12, 12, 12, 12, 12, 12, 12, 12, 12, 12, 12, 12, 12, 12, 12, 12,  0,\n",
       "        0,  0,  0,  0,  0,  0,  0,  0,  0,  0,  0,  0,  0,  0,  0,  0,  0,\n",
       "        0,  0,  1,  1,  1,  1,  1,  1,  1,  1,  1,  1,  1,  1,  1,  1,  1,\n",
       "        1,  1,  1,  1,  1,  1,  1,  1,  1,  1,  1,  1,  1,  1,  1,  1,  1,\n",
       "        1,  1,  1,  1, 24, 24, 24, 24, 24, 24, 24, 24, 24, 24, 24, 24, 24,\n",
       "       24, 24, 24, 24, 24, 24, 24, 24, 24, 24, 24, 24, 24, 24, 24, 24, 24,\n",
       "       24, 24, 24, 24, 24, 24, 24, 24, 24, 24, 24, 24, 24, 24, 24, 16, 16,\n",
       "       16, 16, 16, 16, 16, 16, 16, 16, 16, 16, 16, 16, 16, 16, 16, 16, 16,\n",
       "       16, 16, 16, 16, 16, 16, 16, 16, 16, 16, 16, 16, 16, 16, 16, 16, 16,\n",
       "       16, 16, 16, 16, 22, 22, 22, 22, 22, 22, 22, 22, 22, 22, 22, 22, 22,\n",
       "       22, 22, 22, 22, 22, 22, 22, 22, 22, 22, 22, 22, 22, 22, 22, 22, 22,\n",
       "       22, 22, 22, 22, 22, 22, 22, 22, 22, 22, 14, 14, 14, 14, 14, 14, 14,\n",
       "       14, 14, 14, 14, 14, 14, 14, 14, 14, 14, 14, 14, 14, 14, 14, 14, 14,\n",
       "       14, 14, 14, 14, 14, 14,  5,  5,  5,  5,  5,  5,  5,  5,  5,  5,  5,\n",
       "        5,  5,  5,  5,  5,  5,  5,  5,  5,  5,  5,  5,  5, 15, 15, 15, 15,\n",
       "       15, 15, 15, 15, 15, 15, 15, 15, 15, 15, 15, 15, 15, 15, 15, 15, 15,\n",
       "       15, 15, 15, 15, 15, 15, 15, 15, 15, 15, 15, 15, 15, 15, 15, 15, 15,\n",
       "       15, 15, 15, 15, 15, 15, 15, 15, 15, 15, 15, 15, 15, 15, 15, 15, 15,\n",
       "       15, 15, 15, 15, 15, 15, 15, 15, 15, 15, 15, 15, 15, 15, 15, 15, 15,\n",
       "       15, 15, 15, 15, 15, 15, 15, 15, 15, 15, 15, 15,  4,  4,  4,  4,  4,\n",
       "        4,  4,  4,  4,  4,  4,  4,  4,  4,  4,  4,  4,  4,  4,  4,  4,  4,\n",
       "        4,  4,  4,  4,  4,  4, 21, 21, 21, 21, 21, 21, 21, 21, 21, 21, 21,\n",
       "       21, 21, 21, 21, 21, 21, 21, 21, 21, 21, 21, 21, 21,  2,  2,  2,  2,\n",
       "        2,  2,  2,  2,  2,  2,  2,  2,  2,  2,  2,  2,  2,  2,  2,  2,  2,\n",
       "        2,  2,  2,  2,  2, 11, 11, 11, 11, 11, 11, 11, 11, 11, 11, 11, 11,\n",
       "       11, 11, 11, 11, 11, 11, 11, 11, 11, 11, 11, 11, 11, 11, 11, 11, 11,\n",
       "       11, 18, 18, 18, 18, 18, 18, 18, 18, 18, 18, 18, 18, 18, 18, 18, 18,\n",
       "       18, 18, 18, 18, 18, 18, 18, 18, 18, 18, 18, 18, 18, 18, 18, 18, 18,\n",
       "       18, 18, 18, 18, 18, 18, 18, 20, 20, 20, 20, 20, 20, 20, 20, 20, 20,\n",
       "       20, 20, 20, 20, 20, 20, 20, 20, 20, 20, 20, 20, 20, 20, 20, 20, 20,\n",
       "       20, 20, 20, 20, 20, 20, 20, 20, 20, 20, 20, 20, 20, 20, 20, 20, 20,\n",
       "       20, 20, 20, 20,  8,  8,  8,  8,  8,  8,  8,  8,  8,  8,  8,  8,  8,\n",
       "        8,  8,  8,  8,  8,  8,  8,  8,  8,  8,  8,  8,  8,  8,  8,  8,  8,\n",
       "        8,  8,  8,  8,  8,  8,  8,  8,  8,  8,  8,  8,  8,  8,  8,  8,  8,\n",
       "        8,  8,  8,  8,  8,  8,  8,  8, 17, 17, 17, 17, 17, 17, 17, 17, 17,\n",
       "       17, 17, 17, 17, 17, 17, 17, 17, 17, 17, 17, 17, 17, 17, 17, 17, 19,\n",
       "       19, 19, 19, 19, 19, 19, 19, 19, 19, 19, 19, 19, 19, 19, 19, 19, 19,\n",
       "       19, 19, 19, 19, 19, 19, 19, 19, 19, 19, 19, 19,  7,  7,  7,  7,  7,\n",
       "        7,  7,  7,  7,  7,  7,  7,  7,  7,  7,  7,  7,  7,  7,  7,  7,  7,\n",
       "        7,  7,  7,  7,  7,  7,  7,  7,  7,  7,  7, 13, 13, 13, 13, 13, 13,\n",
       "       13, 13, 13, 13, 13, 13, 13, 13, 13, 13, 13, 13, 13, 13, 13, 13, 13,\n",
       "       13, 13, 13, 13, 13, 13, 13, 13, 13, 13, 13, 13, 13, 13, 13, 13, 13,\n",
       "       13, 13, 10, 10, 10, 10, 10, 10, 10, 10, 10, 10, 10, 10, 10, 10, 10,\n",
       "       10, 10, 10, 10, 10, 10, 10, 10, 10, 10, 10, 10, 10, 10, 10, 10, 10,\n",
       "       10, 10, 10, 10, 10, 10, 10, 10,  9,  9,  9,  9,  9,  9,  9,  9,  9,\n",
       "        9,  9,  9,  9,  9,  9,  9,  9,  9,  9,  9,  9,  9,  9,  9,  9,  9,\n",
       "        9,  9,  3,  3,  3,  3,  3,  3,  3,  3,  3,  3,  3,  3,  3,  3,  3,\n",
       "        3,  3,  3,  3,  3,  3,  3,  3,  3,  3,  3,  3,  3,  3,  3,  3,  3,\n",
       "        3,  3,  3,  3,  3,  3,  3,  3, 23, 23, 23, 23, 23, 23, 23, 23, 23,\n",
       "       23, 23, 23, 23, 23, 23, 23, 23, 23, 23, 23, 23, 23, 23, 23, 23, 23,\n",
       "       23, 23, 23, 23, 23, 23, 23, 23, 23, 23, 23, 23, 23, 23, 23, 23, 23,\n",
       "       23, 23, 23, 23, 23, 23, 23, 23, 23, 23, 23, 23, 23, 23, 23, 23, 23,\n",
       "       23, 23, 23, 23, 23, 23, 23, 23, 23, 23])"
      ]
     },
     "execution_count": 340,
     "metadata": {},
     "output_type": "execute_result"
    }
   ],
   "source": [
    "text= myData['Resume_Cleaned'].values\n",
    "Target = myData['Category'].values\n",
    "Target"
   ]
  },
  {
   "cell_type": "code",
   "execution_count": null,
   "id": "d04a49f0",
   "metadata": {},
   "outputs": [],
   "source": [
    "myData['Resume_Cleaned'] =myData['text'].apply(clean,remove_stopwords)\n",
    "myData"
   ]
  },
  {
   "cell_type": "code",
   "execution_count": 341,
   "id": "4323cdf9",
   "metadata": {},
   "outputs": [
    {
     "data": {
      "text/plain": [
       "'word_vectorizer = TfidfVectorizer(sublinear_tf=True, stop_words=\\'english\\')\\nword_vectorizer.fit(text)\\nvectorizedData = word_vectorizer.transform(text)\\n\\nprint (\"Feature completed .....\")'"
      ]
     },
     "execution_count": 341,
     "metadata": {},
     "output_type": "execute_result"
    }
   ],
   "source": [
    "'''word_vectorizer = TfidfVectorizer(sublinear_tf=True, stop_words='english')\n",
    "word_vectorizer.fit(text)\n",
    "vectorizedData = word_vectorizer.transform(text)\n",
    "\n",
    "print (\"Feature completed .....\")'''"
   ]
  },
  {
   "cell_type": "code",
   "execution_count": 342,
   "id": "35d9f7dd",
   "metadata": {},
   "outputs": [],
   "source": [
    "def split_data(inputText):\n",
    "    train, test = train_test_split(inputText,\n",
    "                                                        \n",
    "                                                        test_size=0.2,\n",
    "                                                        shuffle=True,\n",
    "                                                        random_state=324,\n",
    "                                                        #stratify=Labeled_Data\n",
    "                                  )\n",
    "                                                                          \n",
    "    return train, test"
   ]
  },
  {
   "cell_type": "code",
   "execution_count": 343,
   "id": "1dbe4027",
   "metadata": {},
   "outputs": [
    {
     "name": "stdout",
     "output_type": "stream",
     "text": [
      "(769, 3)\n",
      "(193, 3)\n"
     ]
    }
   ],
   "source": [
    "train, test = split_data(myData)\n",
    "print(train.shape)\n",
    "print(test.shape)\n"
   ]
  },
  {
   "cell_type": "code",
   "execution_count": 344,
   "id": "2910b262",
   "metadata": {},
   "outputs": [
    {
     "name": "stdout",
     "output_type": "stream",
     "text": [
      "Datasets shapes before processing:  (769, 3) (193, 3)\n",
      "Datasets shapes after processing:  train_matrix: (769, 500) test_matrix: (193, 500)\n",
      "Wall time: 219 ms\n"
     ]
    }
   ],
   "source": [
    "%%time\n",
    "from sklearn.feature_extraction.text import CountVectorizer\n",
    "from sklearn.pipeline import Pipeline\n",
    "from sklearn.compose import ColumnTransformer\n",
    "\n",
    "inputText_features = 'Resume_Cleaned'\n",
    "Labeled_Data_target = 'Category'\n",
    "\n",
    "text_processor_0 = Pipeline([\n",
    "    ('text_vect_0', CountVectorizer(max_features=500))\n",
    "])\n",
    "\n",
    "data_preprocessor = ColumnTransformer([\n",
    "    ('text_pre_0', text_processor_0, inputText_features)\n",
    "])\n",
    "\n",
    "print('Datasets shapes before processing: ', train.shape, test.shape)\n",
    "train_matrix = data_preprocessor.fit_transform(train)\n",
    "test_matrix = data_preprocessor.transform(test)\n",
    "print('Datasets shapes after processing: ', f'train_matrix: {train_matrix.shape}', f'test_matrix: {test_matrix.shape}')"
   ]
  },
  {
   "cell_type": "code",
   "execution_count": 345,
   "id": "de33568f",
   "metadata": {},
   "outputs": [
    {
     "name": "stdout",
     "output_type": "stream",
     "text": [
      "(769, 500) (769,) (193, 500) (193,)\n"
     ]
    }
   ],
   "source": [
    "X_train , y_train = train_matrix ,train['Category']\n",
    "X_test , y_test =   test_matrix , test['Category']\n",
    "print(X_train.shape , y_train.shape , X_test.shape , y_test.shape)"
   ]
  },
  {
   "cell_type": "code",
   "execution_count": 116,
   "id": "3fac34d5",
   "metadata": {
    "scrolled": true
   },
   "outputs": [
    {
     "data": {
      "text/plain": [
       "<769x500 sparse matrix of type '<class 'numpy.int64'>'\n",
       "\twith 70727 stored elements in Compressed Sparse Row format>"
      ]
     },
     "execution_count": 116,
     "metadata": {},
     "output_type": "execute_result"
    }
   ],
   "source": [
    "train_matrix"
   ]
  },
  {
   "cell_type": "code",
   "execution_count": 370,
   "id": "af8e6859",
   "metadata": {},
   "outputs": [],
   "source": [
    "clf = OneVsRestClassifier(KNeighborsClassifier())"
   ]
  },
  {
   "cell_type": "markdown",
   "id": "5308c7d7",
   "metadata": {},
   "source": [
    "### TFIDF Vectorizer"
   ]
  },
  {
   "cell_type": "code",
   "execution_count": 371,
   "id": "a9a04333",
   "metadata": {},
   "outputs": [
    {
     "data": {
      "text/plain": [
       "OneVsRestClassifier(estimator=KNeighborsClassifier())"
      ]
     },
     "execution_count": 371,
     "metadata": {},
     "output_type": "execute_result"
    }
   ],
   "source": [
    "clf.fit(X_train, y_train)"
   ]
  },
  {
   "cell_type": "code",
   "execution_count": null,
   "id": "d4848997",
   "metadata": {},
   "outputs": [],
   "source": [
    "word_vectorizer = TfidfVectorizer(sublinear_tf=True, stop_words='english')\n",
    "word_vectorizer.fit(text2)\n",
    "vectorizedData = word_vectorizer.transform(text2)\n",
    "\n",
    "print (\"Feature completed .....\")"
   ]
  },
  {
   "cell_type": "code",
   "execution_count": 372,
   "id": "04674bcb",
   "metadata": {
    "scrolled": true
   },
   "outputs": [
    {
     "data": {
      "text/plain": [
       "<1x500 sparse matrix of type '<class 'numpy.int64'>'\n",
       "\twith 40 stored elements in Compressed Sparse Row format>"
      ]
     },
     "execution_count": 372,
     "metadata": {},
     "output_type": "execute_result"
    }
   ],
   "source": [
    "X_test[5]"
   ]
  },
  {
   "cell_type": "code",
   "execution_count": 373,
   "id": "fb99ac8d",
   "metadata": {},
   "outputs": [
    {
     "data": {
      "text/plain": [
       "array([12])"
      ]
     },
     "execution_count": 373,
     "metadata": {},
     "output_type": "execute_result"
    }
   ],
   "source": [
    "prediction = clf.predict(X_test[3])\n",
    "prediction"
   ]
  },
  {
   "cell_type": "code",
   "execution_count": 374,
   "id": "36c51848",
   "metadata": {},
   "outputs": [
    {
     "name": "stdout",
     "output_type": "stream",
     "text": [
      "Accuracy of KNeighbors Classifier on training set: 0.97\n",
      "Accuracy of KNeighbors Classifier on test set:     0.95\n"
     ]
    }
   ],
   "source": [
    "print('Accuracy of KNeighbors Classifier on training set: {:.2f}'.format(clf.score(X_train, y_train)))\n",
    "print('Accuracy of KNeighbors Classifier on test set:     {:.2f}'.format(clf.score(X_test, y_test)))"
   ]
  },
  {
   "cell_type": "code",
   "execution_count": 351,
   "id": "856e1771",
   "metadata": {},
   "outputs": [
    {
     "data": {
      "text/plain": [
       "array(['HR'], dtype=object)"
      ]
     },
     "execution_count": 351,
     "metadata": {},
     "output_type": "execute_result"
    }
   ],
   "source": [
    "pred = LabelEncoder.inverse_transform(prediction)\n",
    "pred"
   ]
  },
  {
   "cell_type": "code",
   "execution_count": 352,
   "id": "d4c8336d",
   "metadata": {},
   "outputs": [
    {
     "data": {
      "text/plain": [
       "(1, 500)"
      ]
     },
     "execution_count": 352,
     "metadata": {},
     "output_type": "execute_result"
    }
   ],
   "source": [
    "sample = ['system administrator engineer system administrator engineer wellsfargo tom river nj linux unix system administrator engineer talented passionate system engineer 6 year plus experience system engineer strong analytical troubleshooting ability deep understanding linux red hat networking virtualization management cloud computing aws devops automation puppet ansible excellent interpersonal skill experience working team productively troubleshoot resolve challenging technical issue career profile expertise rhel 567 racking stacking server provisioning experience setting different raid level experience building hypervisors installing vmware esxi bare metal machine experience provisioning server using pxeboot kickstart automate installation o expertise configuring managing troubleshooting different server nfs ni autofs yum repository server dns dhcp ftp samba ldap lamp experience disk partitioning using fdisk creation management physical volume volume group logical volume using lvm creating various file system logical volume well resizing includes extending shrinking using lvm experience configuring monitoring troubleshooting different file system ext 2 3 4 xfs well upgrading file system needed using tune f experience installation configuration backup recovery maintenance support red hat linux flavor applying patch security fix using ansible blade logic redhat satellite server experience yum rpm install various package redhat linux environment well actively applying security patch keep production development configuration nic bonding redundancy performance round robin active backup increase network bandwidth redundancy nic card experience creating managing virtual machine cluster migration vms host host using vmotion vcenter wrote script day day task groupuser administration start shutdown script crontabs experience configuring ansible server automation writing adhoc command playbook user management creating server deployment system build configuration using ansible puppet well monitoring setting sensor using nagios experience using various network protocol like ssh scp sftp http tcpip udp ftp smtp experience kernel tuning needed especially virtual memory swap space excellent verbal written communication skill experience direct internal external client relationship management ability learn adapt new different technology working depth quickly efficiently 247 customer support service delivery experience authorized work united state employer work experience system administrator engineer wellsfargo tom river nj january 2016 present knowledge aws administration includes deploying configuring ec2 instance s3 managing iam role installing maintaining administration troubleshooting linux unix system working directly vendor decommission thousand server networking equipment following company rule regulation working vendor replace server part ordering new hardware keeping track system inventory commissioning decommissioning hp asset deleting data server ensuring data destruction decommissioning asset securing ssh key based authentication rsa encryption setting autofs mounting home directory ni ldap configuration providing direct user support level 2 level 3 issue via email ticket system providing timely responsive assistance company employee troubleshooting problem reported helpdesk ticketing system experienced using network traffic monitoring tool wireshark tcpdump performing automated installation operating system network various distribution redhat centos ubuntu fedora well server provisioning tool hpsa working different storage container creating raid level 0 1 5 6 10 achieve redundancy performance compile opensource software source code generate necessary rpm package proper documentation replication across server environment performing daily system monitoring verifying integrity availability hardware server resource system key process reviewing system application log verifying completion scheduled job backup performing filesystem check repairing needed repairing rebuilding existing server per project requirement responsible backing system using netbackup 75 restoring file event data loss setup cron job schedule various backup monitoring task supported enterprise backup using netbackup monitoring netbackup queue failed backup job taking action fix responsible user management includes creating modifying renewing user account group linux ni ldap well active directory setting ni domain master server slave client resolving authentication issue mounting user home directory automount setting quota system installation esxi hypervisor server vsphere client vcenter server installing esxi server 55 60 building vcenter adding esxi server creating moving cloning vms using vcenter vsphere well vmotion automating aspect vmware vsphere infrastructure vmware vrealize orchestrator testing deploying security patch number system dev production environment perform software package installation upgrade update using yum rpm command maintaining inventory incoming outgoing equipment monitoring ups system generated alert monitoring infrastructure health using nagios proprietary data center monitoring tool working different file system ext3 ext4 xfs nfs partitioning using fdisk parted create different partition creating fixing file system maintaining yum repository server patch management well securing linux system using local repository installing upgrading application linux system helping user management creating modifying disabling account set home directory server added user appropriate group assigned sudo access requested created managed logical volume using lvm create volume volume group file system performing physical virtual machine conversion performing critical system administration task single user mode creating mount point database administrator supported mysql database configure ntp client server synchronize time zone ntp server responding alert generated nagios network connectivity issue critical system service application availability high cpu spike system resource maxed research evaluates recommends software hardware product actively participated data center operation building scaling server ordering hardware racking ability pick heavy equipment solid understanding working knowledge storage technology san na iscsi troubleshooting linux network security related issue capturing packet using tool iptables firewall tcp wrapper nmap troubleshooting maintaining tcpip apache http smtp dns application installing managing new server includes racking stacking cabling running fiber lan patch configured multiple website one apache http server using virtualhost container creatingupdating iptables rule linux system using hostbased firewall solving issue related user logon nfs server connectivity configuring nfs server mount exported nfs resource client side experience bash scripting creating modifying bash script automate daily task setup nfs samba file sharing setup linux window server machine conducting system performance tuning capacity planning solving challenging issue solid problemsolving approach monitored system log activity server resolved system process issue reported site scope worked hp integrated light ilo dell idrac ibm imm oracle ilom software remotely manage troubleshoot repair server developing maintaining installation configuration procedure researching recommending innovative possible automating approach system administration task configuring network adapter ip address resolving routing related issue experience configuring troubleshooting tcpip dhcp dns ftp ssh ldap ntp etc configuring managing vsftp server ticket assessmentprioritization daily basis rt platform daily system monitoring using nagios xi solarwinds monitoring resolving reported issue installed configure openstack linux system administrator kpmg montville nj february 2013 november 2015 installing managing new server includes racking stacking cabling running fiber lan patch responsible installation esxi bare metal server experience troubleshooting providing problem resolution software issue performed systemmonitoring tool like top sar vmstat iostat report system usage performance performing automated installation deployed rpm package using automation tool server automation pxeboot customized kick start file strongly experienced installing performing maintaining raid technology different raid level attempt recover data disk performed system security administration user administration using role based access control provided sudo access various user group elevated access create user group account network configuration manage password permission performed daily system monitoring verifying integrity availability hardware server resource system process viewing system application log verify completion scheduled job attached na da storage linux esxi server creating standard partition creating physical volume group volume logical volume extendingreducing logical volume server startup shutdown issue well service linux server managing file system utilization using script scheduling cron job maintain file system host security using chmod chown chgrp iptables configured network adapter ip address resolving routing related issue hand experience troubleshooting network memory cpu swap file system issue tcpip smtp linux server performed software package installation upgrade update using yum rpm command tested deployed security patch number system development production environment performing critical system administration task single user mode configured nfs server mounted exported nfs resource client side experience supporting 247 production computing environment experience providing oncall weekend support performed setting secured password le ssh authentication server using ssh key pair monitored system log activity server configure ntp client server synchronize time zone ntp server participated weekly meeting documentation environment linux system administrator comcast philadelphia pa march 2012 december 2013 managed maintained file directory group user account performed o installation configuration testing implementing server environment created simple linux script incorporating bash python server maintenance backup leveraged spiceworks deploy ticketing help desk client use window environment leveraged o ticket deploy support ticket system client use linux environment configured gmail account act smtp server order send email client administrator ticket update responded level 1 ticket escalated ticket necessary installed configured various linux service including ftp http postgresql mariadb php dns dhcp utilized remote desktop manager ssh access test production environment remotely monitored application process linux server troubleshooted application slowness education master skill dns 6 year ldap 5 year']\n",
    "count_vec = CountVectorizer(max_features=500)\n",
    "sample_count_vec = count_vec.fit_transform(sample)\n",
    "sample_count_vec.shape"
   ]
  },
  {
   "cell_type": "code",
   "execution_count": 353,
   "id": "cd64f663",
   "metadata": {},
   "outputs": [
    {
     "data": {
      "text/plain": [
       "array([8])"
      ]
     },
     "execution_count": 353,
     "metadata": {},
     "output_type": "execute_result"
    }
   ],
   "source": [
    "predictionsample = clf.predict(sample_count_vec)\n",
    "predictionsample"
   ]
  },
  {
   "cell_type": "code",
   "execution_count": 354,
   "id": "8ce5fa5c",
   "metadata": {},
   "outputs": [
    {
     "data": {
      "text/plain": [
       "array(['DevOps Engineer'], dtype=object)"
      ]
     },
     "execution_count": 354,
     "metadata": {},
     "output_type": "execute_result"
    }
   ],
   "source": [
    "predict = LabelEncoder.inverse_transform(predictionsample)\n",
    "predict"
   ]
  },
  {
   "cell_type": "markdown",
   "id": "817b468b",
   "metadata": {},
   "source": [
    "## Job Classifications as per resume Skills:"
   ]
  },
  {
   "cell_type": "code",
   "execution_count": 443,
   "id": "969b5207",
   "metadata": {},
   "outputs": [
    {
     "data": {
      "text/html": [
       "<div>\n",
       "<style scoped>\n",
       "    .dataframe tbody tr th:only-of-type {\n",
       "        vertical-align: middle;\n",
       "    }\n",
       "\n",
       "    .dataframe tbody tr th {\n",
       "        vertical-align: top;\n",
       "    }\n",
       "\n",
       "    .dataframe thead th {\n",
       "        text-align: right;\n",
       "    }\n",
       "</style>\n",
       "<table border=\"1\" class=\"dataframe\">\n",
       "  <thead>\n",
       "    <tr style=\"text-align: right;\">\n",
       "      <th></th>\n",
       "      <th>index</th>\n",
       "      <th>Category</th>\n",
       "    </tr>\n",
       "  </thead>\n",
       "  <tbody>\n",
       "    <tr>\n",
       "      <th>0</th>\n",
       "      <td>Java Developer</td>\n",
       "      <td>84</td>\n",
       "    </tr>\n",
       "    <tr>\n",
       "      <th>1</th>\n",
       "      <td>Testing</td>\n",
       "      <td>70</td>\n",
       "    </tr>\n",
       "    <tr>\n",
       "      <th>2</th>\n",
       "      <td>DevOps Engineer</td>\n",
       "      <td>55</td>\n",
       "    </tr>\n",
       "    <tr>\n",
       "      <th>3</th>\n",
       "      <td>Python Developer</td>\n",
       "      <td>48</td>\n",
       "    </tr>\n",
       "    <tr>\n",
       "      <th>4</th>\n",
       "      <td>Web Designing</td>\n",
       "      <td>45</td>\n",
       "    </tr>\n",
       "    <tr>\n",
       "      <th>5</th>\n",
       "      <td>HR</td>\n",
       "      <td>44</td>\n",
       "    </tr>\n",
       "    <tr>\n",
       "      <th>6</th>\n",
       "      <td>Hadoop</td>\n",
       "      <td>42</td>\n",
       "    </tr>\n",
       "    <tr>\n",
       "      <th>7</th>\n",
       "      <td>Blockchain</td>\n",
       "      <td>40</td>\n",
       "    </tr>\n",
       "    <tr>\n",
       "      <th>8</th>\n",
       "      <td>ETL Developer</td>\n",
       "      <td>40</td>\n",
       "    </tr>\n",
       "    <tr>\n",
       "      <th>9</th>\n",
       "      <td>Operations Manager</td>\n",
       "      <td>40</td>\n",
       "    </tr>\n",
       "    <tr>\n",
       "      <th>10</th>\n",
       "      <td>Data Science</td>\n",
       "      <td>40</td>\n",
       "    </tr>\n",
       "    <tr>\n",
       "      <th>11</th>\n",
       "      <td>Sales</td>\n",
       "      <td>40</td>\n",
       "    </tr>\n",
       "    <tr>\n",
       "      <th>12</th>\n",
       "      <td>Mechanical Engineer</td>\n",
       "      <td>40</td>\n",
       "    </tr>\n",
       "    <tr>\n",
       "      <th>13</th>\n",
       "      <td>Arts</td>\n",
       "      <td>36</td>\n",
       "    </tr>\n",
       "    <tr>\n",
       "      <th>14</th>\n",
       "      <td>Database</td>\n",
       "      <td>33</td>\n",
       "    </tr>\n",
       "    <tr>\n",
       "      <th>15</th>\n",
       "      <td>Electrical Engineering</td>\n",
       "      <td>30</td>\n",
       "    </tr>\n",
       "    <tr>\n",
       "      <th>16</th>\n",
       "      <td>Health and fitness</td>\n",
       "      <td>30</td>\n",
       "    </tr>\n",
       "    <tr>\n",
       "      <th>17</th>\n",
       "      <td>PMO</td>\n",
       "      <td>30</td>\n",
       "    </tr>\n",
       "    <tr>\n",
       "      <th>18</th>\n",
       "      <td>Business Analyst</td>\n",
       "      <td>28</td>\n",
       "    </tr>\n",
       "    <tr>\n",
       "      <th>19</th>\n",
       "      <td>DotNet Developer</td>\n",
       "      <td>28</td>\n",
       "    </tr>\n",
       "    <tr>\n",
       "      <th>20</th>\n",
       "      <td>Automation Testing</td>\n",
       "      <td>26</td>\n",
       "    </tr>\n",
       "    <tr>\n",
       "      <th>21</th>\n",
       "      <td>Network Security Engineer</td>\n",
       "      <td>25</td>\n",
       "    </tr>\n",
       "    <tr>\n",
       "      <th>22</th>\n",
       "      <td>SAP Developer</td>\n",
       "      <td>24</td>\n",
       "    </tr>\n",
       "    <tr>\n",
       "      <th>23</th>\n",
       "      <td>Civil Engineer</td>\n",
       "      <td>24</td>\n",
       "    </tr>\n",
       "    <tr>\n",
       "      <th>24</th>\n",
       "      <td>Advocate</td>\n",
       "      <td>20</td>\n",
       "    </tr>\n",
       "  </tbody>\n",
       "</table>\n",
       "</div>"
      ],
      "text/plain": [
       "                        index  Category\n",
       "0              Java Developer        84\n",
       "1                     Testing        70\n",
       "2             DevOps Engineer        55\n",
       "3            Python Developer        48\n",
       "4               Web Designing        45\n",
       "5                          HR        44\n",
       "6                      Hadoop        42\n",
       "7                  Blockchain        40\n",
       "8               ETL Developer        40\n",
       "9          Operations Manager        40\n",
       "10               Data Science        40\n",
       "11                      Sales        40\n",
       "12        Mechanical Engineer        40\n",
       "13                       Arts        36\n",
       "14                   Database        33\n",
       "15     Electrical Engineering        30\n",
       "16         Health and fitness        30\n",
       "17                        PMO        30\n",
       "18           Business Analyst        28\n",
       "19           DotNet Developer        28\n",
       "20         Automation Testing        26\n",
       "21  Network Security Engineer        25\n",
       "22              SAP Developer        24\n",
       "23             Civil Engineer        24\n",
       "24                   Advocate        20"
      ]
     },
     "execution_count": 443,
     "metadata": {},
     "output_type": "execute_result"
    }
   ],
   "source": [
    "myData2 = data_1.copy()\n",
    "categories = myData2['Category'].value_counts().reset_index()\n",
    "categories"
   ]
  },
  {
   "cell_type": "code",
   "execution_count": 161,
   "id": "fbb4a2d7",
   "metadata": {
    "collapsed": true
   },
   "outputs": [
    {
     "ename": "NotFittedError",
     "evalue": "This ColumnTransformer instance is not fitted yet. Call 'fit' with appropriate arguments before using this estimator.",
     "output_type": "error",
     "traceback": [
      "\u001b[1;31m---------------------------------------------------------------------------\u001b[0m",
      "\u001b[1;31mNotFittedError\u001b[0m                            Traceback (most recent call last)",
      "\u001b[1;32m~\\AppData\\Local\\Temp\\ipykernel_2240\\1343518195.py\u001b[0m in \u001b[0;36m<module>\u001b[1;34m\u001b[0m\n\u001b[0;32m      1\u001b[0m \u001b[1;31m#word_vectorizer.fit(sample)\u001b[0m\u001b[1;33m\u001b[0m\u001b[1;33m\u001b[0m\u001b[0m\n\u001b[1;32m----> 2\u001b[1;33m \u001b[0mvectorizedsample\u001b[0m \u001b[1;33m=\u001b[0m \u001b[0mdata_preprocessor\u001b[0m\u001b[1;33m.\u001b[0m\u001b[0mtransform\u001b[0m\u001b[1;33m(\u001b[0m\u001b[0mnp\u001b[0m\u001b[1;33m.\u001b[0m\u001b[0marray\u001b[0m\u001b[1;33m(\u001b[0m\u001b[0msample\u001b[0m\u001b[1;33m)\u001b[0m\u001b[1;33m)\u001b[0m\u001b[1;33m\u001b[0m\u001b[1;33m\u001b[0m\u001b[0m\n\u001b[0m\u001b[0;32m      3\u001b[0m \u001b[0mvectorizedsample\u001b[0m\u001b[1;33m.\u001b[0m\u001b[0mshape\u001b[0m\u001b[1;33m\u001b[0m\u001b[1;33m\u001b[0m\u001b[0m\n",
      "\u001b[1;32m~\\Anaconda3\\lib\\site-packages\\sklearn\\compose\\_column_transformer.py\u001b[0m in \u001b[0;36mtransform\u001b[1;34m(self, X)\u001b[0m\n\u001b[0;32m    716\u001b[0m             \u001b[0msparse\u001b[0m \u001b[0mmatrices\u001b[0m\u001b[1;33m.\u001b[0m\u001b[1;33m\u001b[0m\u001b[1;33m\u001b[0m\u001b[0m\n\u001b[0;32m    717\u001b[0m         \"\"\"\n\u001b[1;32m--> 718\u001b[1;33m         \u001b[0mcheck_is_fitted\u001b[0m\u001b[1;33m(\u001b[0m\u001b[0mself\u001b[0m\u001b[1;33m)\u001b[0m\u001b[1;33m\u001b[0m\u001b[1;33m\u001b[0m\u001b[0m\n\u001b[0m\u001b[0;32m    719\u001b[0m         \u001b[0mX\u001b[0m \u001b[1;33m=\u001b[0m \u001b[0m_check_X\u001b[0m\u001b[1;33m(\u001b[0m\u001b[0mX\u001b[0m\u001b[1;33m)\u001b[0m\u001b[1;33m\u001b[0m\u001b[1;33m\u001b[0m\u001b[0m\n\u001b[0;32m    720\u001b[0m \u001b[1;33m\u001b[0m\u001b[0m\n",
      "\u001b[1;32m~\\Anaconda3\\lib\\site-packages\\sklearn\\utils\\validation.py\u001b[0m in \u001b[0;36mcheck_is_fitted\u001b[1;34m(estimator, attributes, msg, all_or_any)\u001b[0m\n\u001b[0;32m   1220\u001b[0m \u001b[1;33m\u001b[0m\u001b[0m\n\u001b[0;32m   1221\u001b[0m     \u001b[1;32mif\u001b[0m \u001b[1;32mnot\u001b[0m \u001b[0mfitted\u001b[0m\u001b[1;33m:\u001b[0m\u001b[1;33m\u001b[0m\u001b[1;33m\u001b[0m\u001b[0m\n\u001b[1;32m-> 1222\u001b[1;33m         \u001b[1;32mraise\u001b[0m \u001b[0mNotFittedError\u001b[0m\u001b[1;33m(\u001b[0m\u001b[0mmsg\u001b[0m \u001b[1;33m%\u001b[0m \u001b[1;33m{\u001b[0m\u001b[1;34m\"name\"\u001b[0m\u001b[1;33m:\u001b[0m \u001b[0mtype\u001b[0m\u001b[1;33m(\u001b[0m\u001b[0mestimator\u001b[0m\u001b[1;33m)\u001b[0m\u001b[1;33m.\u001b[0m\u001b[0m__name__\u001b[0m\u001b[1;33m}\u001b[0m\u001b[1;33m)\u001b[0m\u001b[1;33m\u001b[0m\u001b[1;33m\u001b[0m\u001b[0m\n\u001b[0m\u001b[0;32m   1223\u001b[0m \u001b[1;33m\u001b[0m\u001b[0m\n\u001b[0;32m   1224\u001b[0m \u001b[1;33m\u001b[0m\u001b[0m\n",
      "\u001b[1;31mNotFittedError\u001b[0m: This ColumnTransformer instance is not fitted yet. Call 'fit' with appropriate arguments before using this estimator."
     ]
    }
   ],
   "source": [
    "#word_vectorizer.fit(sample)\n",
    "vectorizedsample = word_vectorizer.transform(np.array(sample))\n",
    "vectorizedsample.shape"
   ]
  },
  {
   "cell_type": "code",
   "execution_count": 444,
   "id": "c0a6f855",
   "metadata": {},
   "outputs": [],
   "source": [
    "import re\n",
    "def clean_function(resumeText):\n",
    "    resumeText = re.sub('http\\S+\\s', ' ', resumeText)  # remove URLs\n",
    "    resumeText = re.sub('#\\S+', '', resumeText)  # remove hashtags\n",
    "    resumeText = re.sub('@\\S+', '  ', resumeText)  # remove mentions\n",
    "    resumeText = re.sub('[%s]' % re.escape(\"\"\"!\"#$%&'()*+,-./:;<=>?@[\\]^_`{|}~\"\"\"), ' ', resumeText)  # remove punctuations\n",
    "    resumeText = re.sub(r'[^\\x00-\\x7f]',r' ', resumeText) \n",
    "    resumeText = re.sub('\\s+', ' ', resumeText.lower())  # remove extra whitespace\n",
    "    return resumeText"
   ]
  },
  {
   "cell_type": "code",
   "execution_count": 445,
   "id": "6e24a4f9",
   "metadata": {},
   "outputs": [
    {
     "data": {
      "text/html": [
       "<div>\n",
       "<style scoped>\n",
       "    .dataframe tbody tr th:only-of-type {\n",
       "        vertical-align: middle;\n",
       "    }\n",
       "\n",
       "    .dataframe tbody tr th {\n",
       "        vertical-align: top;\n",
       "    }\n",
       "\n",
       "    .dataframe thead th {\n",
       "        text-align: right;\n",
       "    }\n",
       "</style>\n",
       "<table border=\"1\" class=\"dataframe\">\n",
       "  <thead>\n",
       "    <tr style=\"text-align: right;\">\n",
       "      <th></th>\n",
       "      <th>Category</th>\n",
       "      <th>Resume</th>\n",
       "      <th>Resume_Cleaned</th>\n",
       "      <th>skills</th>\n",
       "    </tr>\n",
       "  </thead>\n",
       "  <tbody>\n",
       "    <tr>\n",
       "      <th>0</th>\n",
       "      <td>Data Science</td>\n",
       "      <td>Skills * Programming Languages: Python (pandas...</td>\n",
       "      <td>skill programming language python panda numpy ...</td>\n",
       "      <td>angular mysql computer vision elasticsearch an...</td>\n",
       "    </tr>\n",
       "    <tr>\n",
       "      <th>1</th>\n",
       "      <td>Data Science</td>\n",
       "      <td>Education Details \\r\\nMay 2013 to May 2017 B.E...</td>\n",
       "      <td>education detail may 2013 may 2017 b e uit rgp...</td>\n",
       "      <td>machine learning outlier business feature sele...</td>\n",
       "    </tr>\n",
       "    <tr>\n",
       "      <th>2</th>\n",
       "      <td>Data Science</td>\n",
       "      <td>Areas of Interest Deep Learning, Control Syste...</td>\n",
       "      <td>area interest deep learning control system des...</td>\n",
       "      <td>mysql segmentation analytics github segment so...</td>\n",
       "    </tr>\n",
       "    <tr>\n",
       "      <th>3</th>\n",
       "      <td>Data Science</td>\n",
       "      <td>Skills â¢ R â¢ Python â¢ SAP HANA â¢ Table...</td>\n",
       "      <td>skill r python sap hana tableau sap hana sql s...</td>\n",
       "      <td>data processing segmentation analytics segment...</td>\n",
       "    </tr>\n",
       "    <tr>\n",
       "      <th>4</th>\n",
       "      <td>Data Science</td>\n",
       "      <td>Education Details \\r\\n MCA   YMCAUST,  Faridab...</td>\n",
       "      <td>education detail mca ymcaust faridabad haryana...</td>\n",
       "      <td>data analysis python data structure database d...</td>\n",
       "    </tr>\n",
       "    <tr>\n",
       "      <th>...</th>\n",
       "      <td>...</td>\n",
       "      <td>...</td>\n",
       "      <td>...</td>\n",
       "      <td>...</td>\n",
       "    </tr>\n",
       "    <tr>\n",
       "      <th>957</th>\n",
       "      <td>Testing</td>\n",
       "      <td>Computer Skills: â¢ Proficient in MS office (...</td>\n",
       "      <td>computer skill proficient m office word basic ...</td>\n",
       "      <td>electrical engineering diagram relay testing</td>\n",
       "    </tr>\n",
       "    <tr>\n",
       "      <th>958</th>\n",
       "      <td>Testing</td>\n",
       "      <td>â Willingness to accept the challenges. â ...</td>\n",
       "      <td>willingness accept challenge positive thinking...</td>\n",
       "      <td>engineering documentation debugging system tes...</td>\n",
       "    </tr>\n",
       "    <tr>\n",
       "      <th>959</th>\n",
       "      <td>Testing</td>\n",
       "      <td>PERSONAL SKILLS â¢ Quick learner, â¢ Eagerne...</td>\n",
       "      <td>personal skill quick learner eagerness learn n...</td>\n",
       "      <td>functional testing support engineering documen...</td>\n",
       "    </tr>\n",
       "    <tr>\n",
       "      <th>960</th>\n",
       "      <td>Testing</td>\n",
       "      <td>COMPUTER SKILLS &amp; SOFTWARE KNOWLEDGE MS-Power ...</td>\n",
       "      <td>computer skill software knowledge m power poin...</td>\n",
       "      <td>software latex design</td>\n",
       "    </tr>\n",
       "    <tr>\n",
       "      <th>961</th>\n",
       "      <td>Testing</td>\n",
       "      <td>Skill Set OS Windows XP/7/8/8.1/10 Database MY...</td>\n",
       "      <td>skill set o window xp 7 8 8 1 10 database mysq...</td>\n",
       "      <td>security java tracking system mysql library mo...</td>\n",
       "    </tr>\n",
       "  </tbody>\n",
       "</table>\n",
       "<p>962 rows × 4 columns</p>\n",
       "</div>"
      ],
      "text/plain": [
       "         Category                                             Resume  \\\n",
       "0    Data Science  Skills * Programming Languages: Python (pandas...   \n",
       "1    Data Science  Education Details \\r\\nMay 2013 to May 2017 B.E...   \n",
       "2    Data Science  Areas of Interest Deep Learning, Control Syste...   \n",
       "3    Data Science  Skills â¢ R â¢ Python â¢ SAP HANA â¢ Table...   \n",
       "4    Data Science  Education Details \\r\\n MCA   YMCAUST,  Faridab...   \n",
       "..            ...                                                ...   \n",
       "957       Testing  Computer Skills: â¢ Proficient in MS office (...   \n",
       "958       Testing  â Willingness to accept the challenges. â ...   \n",
       "959       Testing  PERSONAL SKILLS â¢ Quick learner, â¢ Eagerne...   \n",
       "960       Testing  COMPUTER SKILLS & SOFTWARE KNOWLEDGE MS-Power ...   \n",
       "961       Testing  Skill Set OS Windows XP/7/8/8.1/10 Database MY...   \n",
       "\n",
       "                                        Resume_Cleaned  \\\n",
       "0    skill programming language python panda numpy ...   \n",
       "1    education detail may 2013 may 2017 b e uit rgp...   \n",
       "2    area interest deep learning control system des...   \n",
       "3    skill r python sap hana tableau sap hana sql s...   \n",
       "4    education detail mca ymcaust faridabad haryana...   \n",
       "..                                                 ...   \n",
       "957  computer skill proficient m office word basic ...   \n",
       "958  willingness accept challenge positive thinking...   \n",
       "959  personal skill quick learner eagerness learn n...   \n",
       "960  computer skill software knowledge m power poin...   \n",
       "961  skill set o window xp 7 8 8 1 10 database mysq...   \n",
       "\n",
       "                                                skills  \n",
       "0    angular mysql computer vision elasticsearch an...  \n",
       "1    machine learning outlier business feature sele...  \n",
       "2    mysql segmentation analytics github segment so...  \n",
       "3    data processing segmentation analytics segment...  \n",
       "4    data analysis python data structure database d...  \n",
       "..                                                 ...  \n",
       "957       electrical engineering diagram relay testing  \n",
       "958  engineering documentation debugging system tes...  \n",
       "959  functional testing support engineering documen...  \n",
       "960                              software latex design  \n",
       "961  security java tracking system mysql library mo...  \n",
       "\n",
       "[962 rows x 4 columns]"
      ]
     },
     "execution_count": 445,
     "metadata": {},
     "output_type": "execute_result"
    }
   ],
   "source": [
    "myData2['skills'] = [' '.join(map(str, l)) for l in myData2['skills']]\n",
    "myData2"
   ]
  },
  {
   "cell_type": "code",
   "execution_count": 447,
   "id": "45b45fa7",
   "metadata": {},
   "outputs": [
    {
     "name": "stdout",
     "output_type": "stream",
     "text": [
      "<class 'pandas.core.frame.DataFrame'>\n",
      "RangeIndex: 962 entries, 0 to 961\n",
      "Data columns (total 4 columns):\n",
      " #   Column          Non-Null Count  Dtype \n",
      "---  ------          --------------  ----- \n",
      " 0   Category        962 non-null    object\n",
      " 1   Resume          962 non-null    object\n",
      " 2   Resume_Cleaned  962 non-null    object\n",
      " 3   skills          962 non-null    object\n",
      "dtypes: object(4)\n",
      "memory usage: 30.2+ KB\n"
     ]
    }
   ],
   "source": [
    "myData2.info()"
   ]
  },
  {
   "cell_type": "code",
   "execution_count": 448,
   "id": "9991af15",
   "metadata": {},
   "outputs": [
    {
     "data": {
      "text/plain": [
       "Category          0\n",
       "Resume            0\n",
       "Resume_Cleaned    0\n",
       "skills            0\n",
       "dtype: int64"
      ]
     },
     "execution_count": 448,
     "metadata": {},
     "output_type": "execute_result"
    }
   ],
   "source": [
    "myData2.isnull().sum()"
   ]
  },
  {
   "cell_type": "code",
   "execution_count": 449,
   "id": "2825e64c",
   "metadata": {},
   "outputs": [
    {
     "data": {
      "text/plain": [
       "Java Developer               84\n",
       "Testing                      70\n",
       "DevOps Engineer              55\n",
       "Python Developer             48\n",
       "Web Designing                45\n",
       "HR                           44\n",
       "Hadoop                       42\n",
       "Blockchain                   40\n",
       "ETL Developer                40\n",
       "Operations Manager           40\n",
       "Data Science                 40\n",
       "Sales                        40\n",
       "Mechanical Engineer          40\n",
       "Arts                         36\n",
       "Database                     33\n",
       "Electrical Engineering       30\n",
       "Health and fitness           30\n",
       "PMO                          30\n",
       "Business Analyst             28\n",
       "DotNet Developer             28\n",
       "Automation Testing           26\n",
       "Network Security Engineer    25\n",
       "SAP Developer                24\n",
       "Civil Engineer               24\n",
       "Advocate                     20\n",
       "Name: Category, dtype: int64"
      ]
     },
     "execution_count": 449,
     "metadata": {},
     "output_type": "execute_result"
    }
   ],
   "source": [
    "myData2['Category'].value_counts()"
   ]
  },
  {
   "cell_type": "code",
   "execution_count": 450,
   "id": "390f23c5",
   "metadata": {},
   "outputs": [],
   "source": [
    "myData2.drop(columns=['Resume'] , inplace = True)"
   ]
  },
  {
   "cell_type": "code",
   "execution_count": 452,
   "id": "17f824b0",
   "metadata": {},
   "outputs": [],
   "source": [
    "from sklearn.preprocessing import LabelEncoder\n",
    "LabelEncoder = preprocessing.LabelEncoder()\n",
    "myData2['Category'] = LabelEncoder.fit_transform(myData2['Category'])"
   ]
  },
  {
   "cell_type": "code",
   "execution_count": 453,
   "id": "3a05b06d",
   "metadata": {},
   "outputs": [
    {
     "data": {
      "text/html": [
       "<div>\n",
       "<style scoped>\n",
       "    .dataframe tbody tr th:only-of-type {\n",
       "        vertical-align: middle;\n",
       "    }\n",
       "\n",
       "    .dataframe tbody tr th {\n",
       "        vertical-align: top;\n",
       "    }\n",
       "\n",
       "    .dataframe thead th {\n",
       "        text-align: right;\n",
       "    }\n",
       "</style>\n",
       "<table border=\"1\" class=\"dataframe\">\n",
       "  <thead>\n",
       "    <tr style=\"text-align: right;\">\n",
       "      <th></th>\n",
       "      <th>Category</th>\n",
       "      <th>Resume_Cleaned</th>\n",
       "      <th>skills</th>\n",
       "    </tr>\n",
       "  </thead>\n",
       "  <tbody>\n",
       "    <tr>\n",
       "      <th>0</th>\n",
       "      <td>6</td>\n",
       "      <td>skill programming language python panda numpy ...</td>\n",
       "      <td>angular mysql computer vision elasticsearch an...</td>\n",
       "    </tr>\n",
       "    <tr>\n",
       "      <th>1</th>\n",
       "      <td>6</td>\n",
       "      <td>education detail may 2013 may 2017 b e uit rgp...</td>\n",
       "      <td>machine learning outlier business feature sele...</td>\n",
       "    </tr>\n",
       "    <tr>\n",
       "      <th>2</th>\n",
       "      <td>6</td>\n",
       "      <td>area interest deep learning control system des...</td>\n",
       "      <td>mysql segmentation analytics github segment so...</td>\n",
       "    </tr>\n",
       "    <tr>\n",
       "      <th>3</th>\n",
       "      <td>6</td>\n",
       "      <td>skill r python sap hana tableau sap hana sql s...</td>\n",
       "      <td>data processing segmentation analytics segment...</td>\n",
       "    </tr>\n",
       "    <tr>\n",
       "      <th>4</th>\n",
       "      <td>6</td>\n",
       "      <td>education detail mca ymcaust faridabad haryana...</td>\n",
       "      <td>data analysis python data structure database d...</td>\n",
       "    </tr>\n",
       "  </tbody>\n",
       "</table>\n",
       "</div>"
      ],
      "text/plain": [
       "   Category                                     Resume_Cleaned  \\\n",
       "0         6  skill programming language python panda numpy ...   \n",
       "1         6  education detail may 2013 may 2017 b e uit rgp...   \n",
       "2         6  area interest deep learning control system des...   \n",
       "3         6  skill r python sap hana tableau sap hana sql s...   \n",
       "4         6  education detail mca ymcaust faridabad haryana...   \n",
       "\n",
       "                                              skills  \n",
       "0  angular mysql computer vision elasticsearch an...  \n",
       "1  machine learning outlier business feature sele...  \n",
       "2  mysql segmentation analytics github segment so...  \n",
       "3  data processing segmentation analytics segment...  \n",
       "4  data analysis python data structure database d...  "
      ]
     },
     "execution_count": 453,
     "metadata": {},
     "output_type": "execute_result"
    }
   ],
   "source": [
    "myData2.head()"
   ]
  },
  {
   "cell_type": "code",
   "execution_count": 455,
   "id": "8d366907",
   "metadata": {},
   "outputs": [
    {
     "data": {
      "text/plain": [
       "11"
      ]
     },
     "execution_count": 455,
     "metadata": {},
     "output_type": "execute_result"
    }
   ],
   "source": [
    "myData2['Category'][500]"
   ]
  },
  {
   "cell_type": "markdown",
   "id": "e6f5544f",
   "metadata": {},
   "source": [
    "## Splitting the data to Train & Test:"
   ]
  },
  {
   "cell_type": "code",
   "execution_count": 403,
   "id": "0b05f5fe",
   "metadata": {},
   "outputs": [
    {
     "data": {
      "text/plain": [
       "23"
      ]
     },
     "execution_count": 403,
     "metadata": {},
     "output_type": "execute_result"
    }
   ],
   "source": [
    "myData2['Category'][900]"
   ]
  },
  {
   "cell_type": "code",
   "execution_count": 282,
   "id": "ec149dd1",
   "metadata": {},
   "outputs": [
    {
     "data": {
      "text/plain": [
       "'linux selenium testing database software time constraint'"
      ]
     },
     "execution_count": 282,
     "metadata": {},
     "output_type": "execute_result"
    }
   ],
   "source": [
    "myData2['skills'][900]"
   ]
  },
  {
   "cell_type": "code",
   "execution_count": 404,
   "id": "6a2a7a00",
   "metadata": {
    "scrolled": true
   },
   "outputs": [],
   "source": [
    "text= myData2['skills'].values\n",
    "Target = myData2['Category'].values"
   ]
  },
  {
   "cell_type": "code",
   "execution_count": 405,
   "id": "f29e9a28",
   "metadata": {},
   "outputs": [],
   "source": [
    "def split_data(inputText):\n",
    "    train,test = train_test_split(inputText,\n",
    "                                            \n",
    "                                                        test_size=0.2,\n",
    "                                                        shuffle=True,\n",
    "                                                        random_state=324,\n",
    "                                                        #stratify=Labeled_Data\n",
    "                                                       )\n",
    "                                                                          \n",
    "    return train, test"
   ]
  },
  {
   "cell_type": "code",
   "execution_count": 406,
   "id": "ab60583f",
   "metadata": {},
   "outputs": [
    {
     "name": "stdout",
     "output_type": "stream",
     "text": [
      "(769, 3)\n",
      "(193, 3)\n"
     ]
    }
   ],
   "source": [
    "train, test = split_data(myData2)\n",
    "print(train.shape)\n",
    "print(test.shape)"
   ]
  },
  {
   "cell_type": "code",
   "execution_count": 407,
   "id": "19cdbb24",
   "metadata": {},
   "outputs": [
    {
     "name": "stdout",
     "output_type": "stream",
     "text": [
      "Datasets shapes before processing:  (769, 3) (193, 3)\n",
      "Datasets shapes after processing:  train_matrix: (769, 18) test_matrix: (193, 18)\n",
      "Wall time: 15.2 ms\n"
     ]
    }
   ],
   "source": [
    "%%time\n",
    "from sklearn.feature_extraction.text import CountVectorizer\n",
    "from sklearn.pipeline import Pipeline\n",
    "from sklearn.compose import ColumnTransformer\n",
    "\n",
    "inputText_features = 'skills'\n",
    "Labeled_Data_target = 'Category'\n",
    "\n",
    "text_processor_0 = Pipeline([\n",
    "    ('text_vect_0', CountVectorizer(max_features=18))\n",
    "])\n",
    "\n",
    "data_preprocessor = ColumnTransformer([\n",
    "    ('text_pre_0', text_processor_0, inputText_features)\n",
    "])\n",
    "\n",
    "print('Datasets shapes before processing: ', train.shape, test.shape)\n",
    "train_matrix = data_preprocessor.fit_transform(train)\n",
    "test_matrix = data_preprocessor.transform(test)\n",
    "print('Datasets shapes after processing: ', f'train_matrix: {train_matrix.shape}', f'test_matrix: {test_matrix.shape}')"
   ]
  },
  {
   "cell_type": "code",
   "execution_count": 408,
   "id": "ae230daa",
   "metadata": {},
   "outputs": [
    {
     "name": "stdout",
     "output_type": "stream",
     "text": [
      "(769, 18) (769,) (193, 18) (193,)\n"
     ]
    }
   ],
   "source": [
    "X_train , y_train = train_matrix ,train['Category']\n",
    "X_test , y_test =   test_matrix , test['Category']\n",
    "print(X_train.shape , y_train.shape , X_test.shape , y_test.shape)"
   ]
  },
  {
   "cell_type": "code",
   "execution_count": 409,
   "id": "4627800f",
   "metadata": {},
   "outputs": [],
   "source": [
    "OVR_Classifier = OneVsRestClassifier(KNeighborsClassifier())"
   ]
  },
  {
   "cell_type": "code",
   "execution_count": 410,
   "id": "7982ec6c",
   "metadata": {},
   "outputs": [
    {
     "data": {
      "text/plain": [
       "OneVsRestClassifier(estimator=KNeighborsClassifier())"
      ]
     },
     "execution_count": 410,
     "metadata": {},
     "output_type": "execute_result"
    }
   ],
   "source": [
    "OVR_Classifier.fit(X_train, y_train)"
   ]
  },
  {
   "cell_type": "code",
   "execution_count": 411,
   "id": "62b5da6e",
   "metadata": {},
   "outputs": [
    {
     "data": {
      "text/plain": [
       "<1x18 sparse matrix of type '<class 'numpy.int64'>'\n",
       "\twith 2 stored elements in Compressed Sparse Row format>"
      ]
     },
     "execution_count": 411,
     "metadata": {},
     "output_type": "execute_result"
    }
   ],
   "source": [
    "X_test[5]"
   ]
  },
  {
   "cell_type": "code",
   "execution_count": 131,
   "id": "8760d78a",
   "metadata": {
    "collapsed": true
   },
   "outputs": [
    {
     "data": {
      "text/plain": [
       "array([ 6,  6,  6,  6,  6,  6,  6,  6,  6,  6,  6,  6,  6,  6,  6,  6,  6,\n",
       "        6,  6,  6,  6,  6,  6,  6,  6,  6,  6,  6,  6,  6,  6,  6,  6,  6,\n",
       "        6,  6,  6,  6,  6,  6, 12, 12, 12, 12, 12, 12, 12, 12, 12, 12, 12,\n",
       "       12, 12, 12, 12, 12, 12, 12, 12, 12, 12, 12, 12, 12, 12, 12, 12, 12,\n",
       "       12, 12, 12, 12, 12, 12, 12, 12, 12, 12, 12, 12, 12, 12, 12, 12,  0,\n",
       "        0,  0,  0,  0,  0,  0,  0,  0,  0,  0,  0,  0,  0,  0,  0,  0,  0,\n",
       "        0,  0,  1,  1,  1,  1,  1,  1,  1,  1,  1,  1,  1,  1,  1,  1,  1,\n",
       "        1,  1,  1,  1,  1,  1,  1,  1,  1,  1,  1,  1,  1,  1,  1,  1,  1,\n",
       "        1,  1,  1,  1, 24, 24, 24, 24, 24, 24, 24, 24, 24, 24, 24, 24, 24,\n",
       "       24, 24, 24, 24, 24, 24, 24, 24, 24, 24, 24, 24, 24, 24, 24, 24, 24,\n",
       "       24, 24, 24, 24, 24, 24, 24, 24, 24, 24, 24, 24, 24, 24, 24, 16, 16,\n",
       "       16, 16, 16, 16, 16, 16, 16, 16, 16, 16, 16, 16, 16, 16, 16, 16, 16,\n",
       "       16, 16, 16, 16, 16, 16, 16, 16, 16, 16, 16, 16, 16, 16, 16, 16, 16,\n",
       "       16, 16, 16, 16, 22, 22, 22, 22, 22, 22, 22, 22, 22, 22, 22, 22, 22,\n",
       "       22, 22, 22, 22, 22, 22, 22, 22, 22, 22, 22, 22, 22, 22, 22, 22, 22,\n",
       "       22, 22, 22, 22, 22, 22, 22, 22, 22, 22, 14, 14, 14, 14, 14, 14, 14,\n",
       "       14, 14, 14, 14, 14, 14, 14, 14, 14, 14, 14, 14, 14, 14, 14, 14, 14,\n",
       "       14, 14, 14, 14, 14, 14,  5,  5,  5,  5,  5,  5,  5,  5,  5,  5,  5,\n",
       "        5,  5,  5,  5,  5,  5,  5,  5,  5,  5,  5,  5,  5, 15, 15, 15, 15,\n",
       "       15, 15, 15, 15, 15, 15, 15, 15, 15, 15, 15, 15, 15, 15, 15, 15, 15,\n",
       "       15, 15, 15, 15, 15, 15, 15, 15, 15, 15, 15, 15, 15, 15, 15, 15, 15,\n",
       "       15, 15, 15, 15, 15, 15, 15, 15, 15, 15, 15, 15, 15, 15, 15, 15, 15,\n",
       "       15, 15, 15, 15, 15, 15, 15, 15, 15, 15, 15, 15, 15, 15, 15, 15, 15,\n",
       "       15, 15, 15, 15, 15, 15, 15, 15, 15, 15, 15, 15,  4,  4,  4,  4,  4,\n",
       "        4,  4,  4,  4,  4,  4,  4,  4,  4,  4,  4,  4,  4,  4,  4,  4,  4,\n",
       "        4,  4,  4,  4,  4,  4, 21, 21, 21, 21, 21, 21, 21, 21, 21, 21, 21,\n",
       "       21, 21, 21, 21, 21, 21, 21, 21, 21, 21, 21, 21, 21,  2,  2,  2,  2,\n",
       "        2,  2,  2,  2,  2,  2,  2,  2,  2,  2,  2,  2,  2,  2,  2,  2,  2,\n",
       "        2,  2,  2,  2,  2, 11, 11, 11, 11, 11, 11, 11, 11, 11, 11, 11, 11,\n",
       "       11, 11, 11, 11, 11, 11, 11, 11, 11, 11, 11, 11, 11, 11, 11, 11, 11,\n",
       "       11, 18, 18, 18, 18, 18, 18, 18, 18, 18, 18, 18, 18, 18, 18, 18, 18,\n",
       "       18, 18, 18, 18, 18, 18, 18, 18, 18, 18, 18, 18, 18, 18, 18, 18, 18,\n",
       "       18, 18, 18, 18, 18, 18, 18, 20, 20, 20, 20, 20, 20, 20, 20, 20, 20,\n",
       "       20, 20, 20, 20, 20, 20, 20, 20, 20, 20, 20, 20, 20, 20, 20, 20, 20,\n",
       "       20, 20, 20, 20, 20, 20, 20, 20, 20, 20, 20, 20, 20, 20, 20, 20, 20,\n",
       "       20, 20, 20, 20,  8,  8,  8,  8,  8,  8,  8,  8,  8,  8,  8,  8,  8,\n",
       "        8,  8,  8,  8,  8,  8,  8,  8,  8,  8,  8,  8,  8,  8,  8,  8,  8,\n",
       "        8,  8,  8,  8,  8,  8,  8,  8,  8,  8,  8,  8,  8,  8,  8,  8,  8,\n",
       "        8,  8,  8,  8,  8,  8,  8,  8, 17, 17, 17, 17, 17, 17, 17, 17, 17,\n",
       "       17, 17, 17, 17, 17, 17, 17, 17, 17, 17, 17, 17, 17, 17, 17, 17, 19,\n",
       "       19, 19, 19, 19, 19, 19, 19, 19, 19, 19, 19, 19, 19, 19, 19, 19, 19,\n",
       "       19, 19, 19, 19, 19, 19, 19, 19, 19, 19, 19, 19,  7,  7,  7,  7,  7,\n",
       "        7,  7,  7,  7,  7,  7,  7,  7,  7,  7,  7,  7,  7,  7,  7,  7,  7,\n",
       "        7,  7,  7,  7,  7,  7,  7,  7,  7,  7,  7, 13, 13, 13, 13, 13, 13,\n",
       "       13, 13, 13, 13, 13, 13, 13, 13, 13, 13, 13, 13, 13, 13, 13, 13, 13,\n",
       "       13, 13, 13, 13, 13, 13, 13, 13, 13, 13, 13, 13, 13, 13, 13, 13, 13,\n",
       "       13, 13, 10, 10, 10, 10, 10, 10, 10, 10, 10, 10, 10, 10, 10, 10, 10,\n",
       "       10, 10, 10, 10, 10, 10, 10, 10, 10, 10, 10, 10, 10, 10, 10, 10, 10,\n",
       "       10, 10, 10, 10, 10, 10, 10, 10,  9,  9,  9,  9,  9,  9,  9,  9,  9,\n",
       "        9,  9,  9,  9,  9,  9,  9,  9,  9,  9,  9,  9,  9,  9,  9,  9,  9,\n",
       "        9,  9,  3,  3,  3,  3,  3,  3,  3,  3,  3,  3,  3,  3,  3,  3,  3,\n",
       "        3,  3,  3,  3,  3,  3,  3,  3,  3,  3,  3,  3,  3,  3,  3,  3,  3,\n",
       "        3,  3,  3,  3,  3,  3,  3,  3, 23, 23, 23, 23, 23, 23, 23, 23, 23,\n",
       "       23, 23, 23, 23, 23, 23, 23, 23, 23, 23, 23, 23, 23, 23, 23, 23, 23,\n",
       "       23, 23, 23, 23, 23, 23, 23, 23, 23, 23, 23, 23, 23, 23, 23, 23, 23,\n",
       "       23, 23, 23, 23, 23, 23, 23, 23, 23, 23, 23, 23, 23, 23, 23, 23, 23,\n",
       "       23, 23, 23, 23, 23, 23, 23, 23, 23, 23])"
      ]
     },
     "execution_count": 131,
     "metadata": {},
     "output_type": "execute_result"
    }
   ],
   "source": [
    "Target"
   ]
  },
  {
   "cell_type": "code",
   "execution_count": 412,
   "id": "65f826a5",
   "metadata": {},
   "outputs": [],
   "source": [
    "prediction = OVR_Classifier.predict(X_test)"
   ]
  },
  {
   "cell_type": "code",
   "execution_count": 413,
   "id": "d4d3a887",
   "metadata": {},
   "outputs": [
    {
     "name": "stdout",
     "output_type": "stream",
     "text": [
      "Accuracy of KNeighbors Classifier on training set: 0.87\n",
      "Accuracy of KNeighbors Classifier on test set:     0.78\n"
     ]
    }
   ],
   "source": [
    "print('Accuracy of KNeighbors Classifier on training set: {:.2f}'.format(OVR_Classifier.score(X_train, y_train)))\n",
    "print('Accuracy of KNeighbors Classifier on test set:     {:.2f}'.format(OVR_Classifier.score(X_test, y_test)))"
   ]
  },
  {
   "cell_type": "code",
   "execution_count": 414,
   "id": "afd00963",
   "metadata": {},
   "outputs": [],
   "source": [
    "pred = LabelEncoder.inverse_transform(prediction)"
   ]
  },
  {
   "cell_type": "code",
   "execution_count": 415,
   "id": "16a5cca5",
   "metadata": {},
   "outputs": [
    {
     "data": {
      "text/plain": [
       "(1, 18)"
      ]
     },
     "execution_count": 415,
     "metadata": {},
     "output_type": "execute_result"
    }
   ],
   "source": [
    "sample = ['operating system jquery search engine javascript ajax server mysql framework codeigniter design user interface database software java bootstrap']\n",
    "count_vec = CountVectorizer(max_features=20)\n",
    "sample_count_vec = count_vec.fit_transform(sample)\n",
    "sample_count_vec.shape"
   ]
  },
  {
   "cell_type": "code",
   "execution_count": 418,
   "id": "3bf10b7e",
   "metadata": {},
   "outputs": [
    {
     "data": {
      "text/plain": [
       "'vectorizedsample = word_vectorizer.transform(np.array(sample))\\nvectorizedsample.shape'"
      ]
     },
     "execution_count": 418,
     "metadata": {},
     "output_type": "execute_result"
    }
   ],
   "source": [
    "'''vectorizedsample = word_vectorizer.transform(np.array(sample))\n",
    "vectorizedsample.shape'''"
   ]
  },
  {
   "cell_type": "code",
   "execution_count": 419,
   "id": "85bfb482",
   "metadata": {},
   "outputs": [
    {
     "data": {
      "text/plain": [
       "array([15])"
      ]
     },
     "execution_count": 419,
     "metadata": {},
     "output_type": "execute_result"
    }
   ],
   "source": [
    "predictionsample = OVR_Classifier.predict(sample_count_vec)\n",
    "predictionsample"
   ]
  },
  {
   "cell_type": "code",
   "execution_count": 420,
   "id": "2712fc24",
   "metadata": {},
   "outputs": [
    {
     "data": {
      "text/plain": [
       "array(['Java Developer'], dtype=object)"
      ]
     },
     "execution_count": 420,
     "metadata": {},
     "output_type": "execute_result"
    }
   ],
   "source": [
    "pred = LabelEncoder.inverse_transform(predictionsample)\n",
    "pred"
   ]
  },
  {
   "cell_type": "code",
   "execution_count": null,
   "id": "7f1b7b72",
   "metadata": {},
   "outputs": [],
   "source": [
    "#!pip install xgboost"
   ]
  },
  {
   "cell_type": "markdown",
   "id": "99433891",
   "metadata": {},
   "source": [
    "### XGBoost Algorithm:"
   ]
  },
  {
   "cell_type": "code",
   "execution_count": 665,
   "id": "efd349b4",
   "metadata": {},
   "outputs": [],
   "source": [
    "import xgboost\n",
    "xgboost_classifier = xgboost.XGBClassifier()"
   ]
  },
  {
   "cell_type": "code",
   "execution_count": 666,
   "id": "031bff57",
   "metadata": {
    "scrolled": false
   },
   "outputs": [
    {
     "data": {
      "text/plain": [
       "XGBClassifier(base_score=None, booster=None, callbacks=None,\n",
       "              colsample_bylevel=None, colsample_bynode=None,\n",
       "              colsample_bytree=None, early_stopping_rounds=None,\n",
       "              enable_categorical=False, eval_metric=None, feature_types=None,\n",
       "              gamma=None, gpu_id=None, grow_policy=None, importance_type=None,\n",
       "              interaction_constraints=None, learning_rate=None, max_bin=None,\n",
       "              max_cat_threshold=None, max_cat_to_onehot=None,\n",
       "              max_delta_step=None, max_depth=None, max_leaves=None,\n",
       "              min_child_weight=None, missing=nan, monotone_constraints=None,\n",
       "              n_estimators=100, n_jobs=None, num_parallel_tree=None,\n",
       "              objective='multi:softprob', predictor=None, ...)"
      ]
     },
     "execution_count": 666,
     "metadata": {},
     "output_type": "execute_result"
    }
   ],
   "source": [
    "xgboost_classifier.fit(X_train,y_train)"
   ]
  },
  {
   "cell_type": "code",
   "execution_count": 667,
   "id": "cd566868",
   "metadata": {},
   "outputs": [
    {
     "data": {
      "text/plain": [
       "array([ 8, 15, 15, 15, 20,  3, 20, 24, 13, 14, 16, 24, 19, 15, 20, 13,  7,\n",
       "       20, 10, 19, 22, 24,  6, 11, 16,  7, 12,  1, 15, 15,  6,  3, 22, 21,\n",
       "        8,  5,  8, 23,  6, 10,  9, 14, 12, 18,  7, 23,  9, 24, 16,  2, 13,\n",
       "       23, 15, 16, 19,  1, 19, 18,  7,  6,  5,  4,  1, 15, 12, 24, 16, 15,\n",
       "       21, 18, 10, 24, 15, 13, 12, 23, 23, 22, 13, 23, 13,  3, 13, 23, 12,\n",
       "        8, 16, 12, 15, 23,  9, 17, 14,  3, 23,  4, 22, 17, 11,  3,  5, 20,\n",
       "        6, 16, 15, 15, 19,  8,  5, 11, 20, 17,  1, 12,  7, 21,  3,  1, 12,\n",
       "        8, 15, 23,  5, 18,  4, 22, 23, 12,  9, 22, 21,  3, 24,  6,  7, 20,\n",
       "        2, 21, 11,  8, 12,  9, 12, 11,  8,  8, 15, 18,  2, 23, 23,  8, 19,\n",
       "       16, 24, 10, 12, 12, 20, 23, 24,  6, 11, 22, 10, 22, 18, 17, 22, 20,\n",
       "       18,  4,  4,  6, 10,  2,  1, 18, 10, 15, 20, 17, 13, 12,  7,  8, 10,\n",
       "       12,  3, 12,  9, 15,  2], dtype=int64)"
      ]
     },
     "execution_count": 667,
     "metadata": {},
     "output_type": "execute_result"
    }
   ],
   "source": [
    "y_pred = xgboost_classifier.predict(X_test)\n",
    "y_pred"
   ]
  },
  {
   "cell_type": "code",
   "execution_count": 668,
   "id": "e803959e",
   "metadata": {
    "scrolled": true
   },
   "outputs": [
    {
     "name": "stdout",
     "output_type": "stream",
     "text": [
      "Accuracy of XGBoost Classifier on training set: 0.95\n",
      "Accuracy of XGBoost Classifier on test set:     0.96\n"
     ]
    }
   ],
   "source": [
    "print('Accuracy of XGBoost Classifier on training set: {:.2f}'.format(xgboost_classifier.score(X_train, y_train)))\n",
    "print('Accuracy of XGBoost Classifier on test set:     {:.2f}'.format(xgboost_classifier.score(X_test, y_test)))"
   ]
  },
  {
   "cell_type": "code",
   "execution_count": 669,
   "id": "50469609",
   "metadata": {},
   "outputs": [
    {
     "data": {
      "text/plain": [
       "0.9585492227979274"
      ]
     },
     "execution_count": 669,
     "metadata": {},
     "output_type": "execute_result"
    }
   ],
   "source": [
    "acc = accuracy_score(y_test, y_pred)\n",
    "acc"
   ]
  },
  {
   "cell_type": "markdown",
   "id": "26f3705e",
   "metadata": {},
   "source": [
    "#### Testing......"
   ]
  },
  {
   "cell_type": "markdown",
   "id": "7d23aab9",
   "metadata": {},
   "source": [
    "## Tfidf Vectorizer (Resume Skills):"
   ]
  },
  {
   "cell_type": "code",
   "execution_count": 387,
   "id": "3f33c2ce",
   "metadata": {},
   "outputs": [
    {
     "data": {
      "text/plain": [
       "962"
      ]
     },
     "execution_count": 387,
     "metadata": {},
     "output_type": "execute_result"
    }
   ],
   "source": [
    "myData2['skills'].value_counts().sum()"
   ]
  },
  {
   "cell_type": "code",
   "execution_count": 421,
   "id": "03558a88",
   "metadata": {},
   "outputs": [],
   "source": [
    "text2= myData2['skills'].values\n",
    "Target2 = myData['Category'].values"
   ]
  },
  {
   "cell_type": "code",
   "execution_count": 422,
   "id": "9774211b",
   "metadata": {},
   "outputs": [
    {
     "name": "stdout",
     "output_type": "stream",
     "text": [
      "Feature completed .....\n"
     ]
    }
   ],
   "source": [
    "word_vectorizer = TfidfVectorizer(sublinear_tf=True, stop_words='english')\n",
    "word_vectorizer.fit(text2)\n",
    "vectorizedData = word_vectorizer.transform(text2)\n",
    "\n",
    "print (\"Feature completed .....\")"
   ]
  },
  {
   "cell_type": "code",
   "execution_count": 423,
   "id": "0865fd1d",
   "metadata": {},
   "outputs": [],
   "source": [
    "def split_data(inputText, Labeled_Data):\n",
    "    X_train, X_test, y_train, y_test = train_test_split(inputText,\n",
    "                                                        Labeled_Data,\n",
    "                                                        test_size=0.2,\n",
    "                                                        shuffle=True,\n",
    "                                                        random_state=324,\n",
    "                                                        stratify=Labeled_Data)\n",
    "                                                                          \n",
    "    return X_train, X_test, y_train, y_test"
   ]
  },
  {
   "cell_type": "code",
   "execution_count": 424,
   "id": "1657a1e8",
   "metadata": {},
   "outputs": [
    {
     "name": "stdout",
     "output_type": "stream",
     "text": [
      "(769, 297)\n",
      "(193, 297)\n",
      "(769,)\n",
      "(193,)\n"
     ]
    }
   ],
   "source": [
    "X_train, X_test, y_train, y_test = split_data(vectorizedData, Target)\n",
    "print(X_train.shape)\n",
    "print(X_test.shape)\n",
    "print(y_train.shape)\n",
    "print(y_test.shape)"
   ]
  },
  {
   "cell_type": "code",
   "execution_count": 425,
   "id": "aa306bac",
   "metadata": {},
   "outputs": [
    {
     "data": {
      "text/plain": [
       "XGBClassifier(base_score=None, booster=None, callbacks=None,\n",
       "              colsample_bylevel=None, colsample_bynode=None,\n",
       "              colsample_bytree=None, early_stopping_rounds=None,\n",
       "              enable_categorical=False, eval_metric=None, feature_types=None,\n",
       "              gamma=None, gpu_id=None, grow_policy=None, importance_type=None,\n",
       "              interaction_constraints=None, learning_rate=None, max_bin=None,\n",
       "              max_cat_threshold=None, max_cat_to_onehot=None,\n",
       "              max_delta_step=None, max_depth=None, max_leaves=None,\n",
       "              min_child_weight=None, missing=nan, monotone_constraints=None,\n",
       "              n_estimators=100, n_jobs=None, num_parallel_tree=None,\n",
       "              objective='multi:softprob', predictor=None, ...)"
      ]
     },
     "execution_count": 425,
     "metadata": {},
     "output_type": "execute_result"
    }
   ],
   "source": [
    "xgboost_classifier.fit(X_train,y_train)"
   ]
  },
  {
   "cell_type": "code",
   "execution_count": 426,
   "id": "8fa8efca",
   "metadata": {},
   "outputs": [],
   "source": [
    "y_pred = xgboost_classifier.predict(X_test)"
   ]
  },
  {
   "cell_type": "code",
   "execution_count": 427,
   "id": "c44d20e3",
   "metadata": {},
   "outputs": [
    {
     "name": "stdout",
     "output_type": "stream",
     "text": [
      "Accuracy of XGBoost Classifier on training set: 0.95\n",
      "Accuracy of XGBoost Classifier on test set:     0.96\n"
     ]
    }
   ],
   "source": [
    "print('Accuracy of XGBoost Classifier on training set: {:.2f}'.format(xgboost_classifier.score(X_train, y_train)))\n",
    "print('Accuracy of XGBoost Classifier on test set:     {:.2f}'.format(xgboost_classifier.score(X_test, y_test)))"
   ]
  },
  {
   "cell_type": "code",
   "execution_count": 434,
   "id": "20c78869",
   "metadata": {
    "scrolled": true
   },
   "outputs": [],
   "source": [
    "sample = ['angular mysql computer vision elasticsearch analytics database sentiment analysis dimensionality reduction bot scikit learn monitoring tableau programming language time series deep learning numpy javascript regular expression parse decision tree bootstrap natural language processing data science jquery flask docker accounting random forest kafka file format plotly git machine learning security java python predictive coding cluster analysis logstash visualization']"
   ]
  },
  {
   "cell_type": "code",
   "execution_count": 435,
   "id": "a30153ed",
   "metadata": {},
   "outputs": [
    {
     "data": {
      "text/plain": [
       "(1, 297)"
      ]
     },
     "execution_count": 435,
     "metadata": {},
     "output_type": "execute_result"
    }
   ],
   "source": [
    "vectorizedsample = word_vectorizer.transform(np.array(sample))\n",
    "vectorizedsample.shape"
   ]
  },
  {
   "cell_type": "code",
   "execution_count": 428,
   "id": "1a153902",
   "metadata": {
    "scrolled": true
   },
   "outputs": [
    {
     "data": {
      "text/plain": [
       "'record and monitor cost budgets for capital requisition projects and labor services perform variance analysis on projects that run over budget and forecast quarterly spend based upon financial commitments  create monthend reports post entries for sab 101104 reporting determine monthly reserves for bad debt monitor credit card database and finance charges and create journal entries for government subsidized usac customers  supervise customer invoicing and provide guidance as needed including collection calls fixing deposit errors and allowing service interruption for payment delinquency close prior accounting periods in quickbooks  assist account managers in determining customer contractual liabilities and early termination fees manage customer cancellations and liability abatements  approve and code vendor bills for rent utilities and network overhead calculate commissions for agents partners and sales teams  provide front desk support and other clerical tasks as needed such as ordering office supplies aid auditors with research and document preparation  review alert logs and dump files to check for any problems related to the database  granting privileges and roles to new users running reports using sql  export import data between database schemas systems administrator chicago cares  chicago il june 2007 to december 2010  strategically plan coordinate and supervise all aspects of companys it structure  ensure appropriate inventory levels for all supplies and computer equipment serving 13room office complex negotiate effectively with outside vendors ensuring acquisition of highest quality goods at reasonable cost  code accounts payable coordinate company payroll prepare monthly and quarterly tax filings secretary of state filing and administer employee benefits  maintain financial records and create trial balances to report financial health to board of directors process monthly bank reconciliations  serve as key it pointofcontact to install more memory on desktop computers or to resolve issues on various user applications such as outlook  set up all 25 workstations and printers on network from patch panel to end user education bachelor of science in computer science economics northern illinois university dekalb dekalb il skills billing less than 1 year payroll 4 years payroll tax less than 1 year project management less than 1 year coding less than 1 year certificationslicenses certified public accountant cpa july 2011 to present additional information skills  billing and coding  purchasing  database sql query  project management  payroll tax  macro programming'"
      ]
     },
     "execution_count": 428,
     "metadata": {},
     "output_type": "execute_result"
    }
   ],
   "source": [
    "'Record and monitor cost budgets for capital requisition projects and labor services Perform variance analysis on projects that run over budget and forecast quarterly spend based upon financial commitments  Create monthend reports post entries for SAB 101104 reporting determine monthly reserves for bad debt monitor credit card database and finance charges and create journal entries for government subsidized USAC customers  Supervise customer invoicing and provide guidance as needed including collection calls fixing deposit errors and allowing service interruption for payment delinquency Close prior accounting periods in QuickBooks  Assist account managers in determining customer contractual liabilities and early termination fees Manage customer cancellations and liability abatements  Approve and code vendor bills for rent utilities and network overhead Calculate commissions for agents partners and sales teams  Provide front desk support and other clerical tasks as needed such as ordering office supplies Aid auditors with research and document preparation  Review alert logs and dump files to check for any problems related to the database  Granting privileges and roles to new users running reports using SQL  Export import data between database schemas Systems Administrator Chicago CARES  Chicago IL June 2007 to December 2010  Strategically plan coordinate and supervise all aspects of companys IT structure  Ensure appropriate inventory levels for all supplies and computer equipment serving 13room office complex negotiate effectively with outside vendors ensuring acquisition of highest quality goods at reasonable cost  Code accounts payable coordinate company payroll prepare monthly and quarterly tax filings Secretary of State filing and administer employee benefits  Maintain financial records and create trial balances to report financial health to Board of Directors process monthly bank reconciliations  Serve as key IT pointofcontact to install more memory on desktop computers or to resolve issues on various user applications such as Outlook  Set up all 25 workstations and printers on network from patch panel to end user Education Bachelor of Science in Computer Science Economics NORTHERN ILLINOIS UNIVERSITY DeKalb DeKalb IL Skills BILLING Less than 1 year PAYROLL 4 years PAYROLL TAX Less than 1 year PROJECT MANAGEMENT Less than 1 year CODING Less than 1 year CertificationsLicenses Certified Public Accountant CPA July 2011 to Present Additional Information SKILLS  Billing and Coding  Purchasing  Database SQL Query  Project Management  Payroll tax  Macro Programming'.lower()"
   ]
  },
  {
   "cell_type": "code",
   "execution_count": 436,
   "id": "33b54b2a",
   "metadata": {},
   "outputs": [
    {
     "data": {
      "text/plain": [
       "array([6], dtype=int64)"
      ]
     },
     "execution_count": 436,
     "metadata": {},
     "output_type": "execute_result"
    }
   ],
   "source": [
    "predictionsample = xgboost_classifier.predict(vectorizedsample)\n",
    "predictionsample"
   ]
  },
  {
   "cell_type": "code",
   "execution_count": 437,
   "id": "99667330",
   "metadata": {},
   "outputs": [
    {
     "data": {
      "text/plain": [
       "array(['Data Science'], dtype=object)"
      ]
     },
     "execution_count": 437,
     "metadata": {},
     "output_type": "execute_result"
    }
   ],
   "source": [
    "pred = LabelEncoder.inverse_transform(predictionsample)\n",
    "pred"
   ]
  }
 ],
 "metadata": {
  "kernelspec": {
   "display_name": "Python 3 (ipykernel)",
   "language": "python",
   "name": "python3"
  },
  "language_info": {
   "codemirror_mode": {
    "name": "ipython",
    "version": 3
   },
   "file_extension": ".py",
   "mimetype": "text/x-python",
   "name": "python",
   "nbconvert_exporter": "python",
   "pygments_lexer": "ipython3",
   "version": "3.9.13"
  }
 },
 "nbformat": 4,
 "nbformat_minor": 5
}
