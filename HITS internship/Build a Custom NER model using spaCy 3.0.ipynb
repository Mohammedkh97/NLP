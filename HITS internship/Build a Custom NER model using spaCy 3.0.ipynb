{
 "cells": [
  {
   "cell_type": "code",
   "execution_count": null,
   "id": "62862b4a",
   "metadata": {},
   "outputs": [],
   "source": [
    "#!pip install -U click"
   ]
  },
  {
   "cell_type": "code",
   "execution_count": null,
   "id": "306ca207",
   "metadata": {},
   "outputs": [],
   "source": [
    "#!python -m spacy download en_core_web_lg"
   ]
  },
  {
   "cell_type": "code",
   "execution_count": 2,
   "id": "6b447940",
   "metadata": {},
   "outputs": [],
   "source": [
    "import os\n",
    "import spacy \n",
    "import pickle\n",
    "import random\n",
    "import pandas as pd\n",
    "import numpy as np\n",
    "import nltk\n",
    "from __future__ import unicode_literals, print_function\n",
    "import plac\n",
    "import random\n",
    "from pathlib import Path\n",
    "import spacy\n",
    "from tqdm import tqdm\n",
    "from spacy import displacy\n",
    "#displacy.render(doc, style='ent', jupyter=True)"
   ]
  },
  {
   "cell_type": "code",
   "execution_count": 3,
   "id": "2ffffe96",
   "metadata": {},
   "outputs": [
    {
     "data": {
      "text/plain": [
       "['tok2vec', 'tagger', 'parser', 'attribute_ruler', 'lemmatizer', 'ner']"
      ]
     },
     "execution_count": 3,
     "metadata": {},
     "output_type": "execute_result"
    }
   ],
   "source": [
    "nlp = spacy.load('en_core_web_lg')\n",
    "nlp.pipe_names"
   ]
  },
  {
   "cell_type": "code",
   "execution_count": 5,
   "id": "ebd20aa0",
   "metadata": {},
   "outputs": [
    {
     "data": {
      "text/plain": [
       "{'classes': ['SKILLS'],\n",
       " 'annotations': [['1:::Senior Systems Administrator;Systems Administrator II:::Senior Systems Administrator Brownsville, TX Authorized to work in United States for any employer Work Experience Senior Systems Administrator Trico Products - Brownsville, TX October 2016 to October 2018 Senior Systems Administrator for Trico Products Corporation: Technical lead for the Infrastructure Group at the following Locations:  North America Locations: Brownville, Tx where I was based, Rochester Hills, MI, Logansport, IN, Marion, SC and Matamoros Tamaulipas Mexico.  Global Locations: UK, China, Australia, Argentina, Brazil Performed the following duties:  Project Manager  Technical Lead  Team Leader Projects Implemented:  Global MPLS service provider replacement  Global Router replacement  Cisco Nexus 3k and 9k core switch installations at 2 Datacenters  EMC VxRail HCI deployment at New Datacenter - Migration of virtual servers to new centralized Datacenter, Implemented new cloud backup system  Office 365 Global implementation and Email migration to Cloud including Skype and OneDrive  Carbon Black Antivirus Deployment Skills:  Cisco Routing and Switching configuration, implementation and troubleshooting  LAN/WAN support and troubleshooting  MPLS, BGP,EIGRP,OSPF  DHCP, DNS, WINS, Active Directory Administration  Motorola WING Wireless network configuration  VMware vSphere 5.0, 5.5, 6.5 Install, Configure, Manage  VxRail 4.5 , VSAN 6.5 Install, Configure, Manage  Cisco UCS and HP ProLiant Rack Servers  Windows Server 2008 R2, 2012R2, 2016  Windows 7 and Windows 10 Systems Administrator II Trico Products - Brownsville, TX June 2007 to October 2016 Systems Administrator for Trico Products Responsibilities:  Windows Server Administration  Citrix Xenapp Administration  Windows XP, Windows 7 OS support  LAN/WAN support and troubleshooting Education Associate in Drafting Technology University of Texas at Brownsville Brownsville, TXAugust 1990 to May 1993\\r',\n",
       "   {'entities': [[977, 987, 'SKILLS'],\n",
       "     [1049, 1054, 'SKILLS'],\n",
       "     [1059, 1067, 'SKILLS'],\n",
       "     [1112, 1125, 'SKILLS'],\n",
       "     [1130, 1153, 'SKILLS'],\n",
       "     [1155, 1169, 'SKILLS'],\n",
       "     [1174, 1189, 'SKILLS'],\n",
       "     [1191, 1206, 'SKILLS'],\n",
       "     [1228, 1232, 'SKILLS'],\n",
       "     [1234, 1237, 'SKILLS'],\n",
       "     [1238, 1243, 'SKILLS'],\n",
       "     [1244, 1248, 'SKILLS'],\n",
       "     [1250, 1254, 'SKILLS'],\n",
       "     [1256, 1259, 'SKILLS'],\n",
       "     [1261, 1265, 'SKILLS'],\n",
       "     [1267, 1283, 'SKILLS'],\n",
       "     [1346, 1352, 'SKILLS'],\n",
       "     [1353, 1360, 'SKILLS'],\n",
       "     [1493, 1515, 'SKILLS'],\n",
       "     [1531, 1540, 'SKILLS'],\n",
       "     [1545, 1555, 'SKILLS'],\n",
       "     [1738, 1759, 'SKILLS'],\n",
       "     [1761, 1771, 'SKILLS'],\n",
       "     [1773, 1782, 'SKILLS'],\n",
       "     [1783, 1793, 'SKILLS']]}],\n",
       "  ['2:::Systems Administrator:::Systems Administrator Metairie, LA Driven Technologist with a broad range of support skills and a knack for web development. Experienced in object-oriented programming; developing, testing and debugging code; and administering systems and networks. Junior Web developer able to build a Web presence from the ground up. Fast learner, hard worker and team player who is proficient in an array of scripting languages and multimedia Web tools. Authorized to work in United States for any employer Work Experience Systems Administrator BIOS Technologies - Metairie, LA April 2018 to Present System Administrator, BIOS Technologies; Metairie, LA - Q2 2018 - Present Promoted to system administrator role. Duties Include configuring, troubleshooting, and maintaining: centralized services, monitoring systems, backup and data recovery appliances. Providing ongoing management, performance-tuning, and Tier 3 support for approximately 1000 windows systems across 50 unique clients. Achievement Highlights: Centralized backup management for multiple softwares and clients to a single location (Connectwise automate). Currently working on Defining and configuring metrics for our monitoring systems so that maintenance tickets can be prioritized (started with over 40 tickets per day with a total of over 6,000) down to less than 3000 with an average of 10 per day. Service Desk Analyst, BIOS Technologies; Metairie, LA - Q2 2018 - Q3 2018 CompTIA A+ and CompTIA Network+ Certified professional providing software, hardware, client/server and networking technical support. Demonstrated strengths in rapidly diagnosing, troubleshooting and resolving client issues. Achievement Highlights: Handled 30+ technical/mission-critical calls daily and consistently met high service standards. Rectified many issues by instituting best practices in system log analysis, backups, user account/permissions management and systems/software auditing. Education Bachelor of Science in Computer Criminology Florida State University Tallahassee, FLJune 2012 to August 2016 Skills Microsoft Windows System Administration (3 years), Linux Command Line Interface (3 years), ESXI Configuration (Less than 1 year), Office 365 Administration (Less than 1 year), Active Directory / Group Policy (1 year), Backup and Disaster Recovery (Less than 1 year), HTML, CSS, Javascript, Python, C++ (Less than 1 year), active directory (Less than 1 year), sql (Less than 1 year), vpn (Less than 1 year), vmware (Less than 1 year), firewalls (Less than 1 year) Links http://www.amatthew.com:8080 Certifications/Licenses CompTIA A+ November 2017 to November 2020 CompTIA Network+ November 2017 to November 2020\\r',\n",
       "   {'entities': [[168, 195, 'SKILLS'],\n",
       "     [197, 207, 'SKILLS'],\n",
       "     [209, 216, 'SKILLS'],\n",
       "     [221, 230, 'SKILLS'],\n",
       "     [347, 359, 'SKILLS'],\n",
       "     [361, 372, 'SKILLS'],\n",
       "     [377, 388, 'SKILLS'],\n",
       "     [446, 467, 'SKILLS'],\n",
       "     [2131, 2159, 'SKILLS'],\n",
       "     [2210, 2220, 'SKILLS'],\n",
       "     [2256, 2272, 'SKILLS'],\n",
       "     [2347, 2351, 'SKILLS'],\n",
       "     [2353, 2356, 'SKILLS'],\n",
       "     [2358, 2368, 'SKILLS'],\n",
       "     [2370, 2376, 'SKILLS'],\n",
       "     [2378, 2381, 'SKILLS'],\n",
       "     [2402, 2418, 'SKILLS'],\n",
       "     [2439, 2442, 'SKILLS'],\n",
       "     [2463, 2466, 'SKILLS'],\n",
       "     [2487, 2493, 'SKILLS'],\n",
       "     [2514, 2523, 'SKILLS']]}],\n",
       "  ['3:::Systems Administrator;Computer Systems Assistant:::Systems Administrator Systems Administrator - Nord Gear Corporation Madison, WI Nord Gear Corporation  Deploy and Maintain Windows Server environment across USA, Canada, and Brazil.  Implemented Citrix to allow key applications to be deployed to individual users.  Migrated 20 physical Windows servers to 3-host VMware vSphere environment.  Standardized desktop O/S deployment to reduce deployment time of Windows O/S Services Plus, Inc.  Implemented reporting system to provide real-time production statics from ERP system. Work Experience Systems Administrator Nord Gear Corporation - Waunakee, WI January 2007 to Present  Performed migration of VMware 5.5 to 6.0 for locations in USA, Canada, and Brazil.  Replaced existing Backup Exec with CommVault Data Protection for all locations and implemented EMC Data Domains replicating between USA, Canada, and Brazil facilities.  Developed deployment strategy for Windows 10 across offices in the USA, Canada, and Brazil.  Implemented Windows server monitoring and alerting system using Solarwinds products  Deploy and maintain Citrix 7.15 Xenapp environment.  Deploy and maintain Symantec Altiris Deployment Solution 8.1 environment  Deploy and maintain Microsoft InTune MDM environment for iPhones Computer Systems Assistant Services Plus Inc - Green Bay, WI January 2005 to January 2007  Standardized XP Desktop configuration using Group Policies.  Centralized deployment of McAfee plus updates using Protection Pilot.  Build & Implement Internet usage monitoring and E-mail SPAM filtering Gateways.  Upgraded Novell 4.11/Groupwise to MS Server 2003/Exchange.  Administer Novell Network, LSA Visual Enterprise, Oracle 8i, and Crystal Reports. Education Certificate in Web Development University of Wisconsin Milwaukee, WIJanuary 2004 Bachelor of Science in Computer Information Systems DEVRY INSTITUTE OF TECHNOLOGY Phoenix, AZJanuary 1984 High school or equivalent El Capitan High School Lakeside, CASeptember 1977 to June 1981 Additional Information Seasoned IT professional with a proven track record in technology planning and deployment management. Background includes improving system administration, engineering, and integration processes at EDS/General Motors. Specializes in integrating multiple hardware platform systems in a manufacturing context. COMPUTER SKILLS Hardware: Apple, Microsoft, Dell, HP, IBM 10+ years Software: MS-Office 2010, Office365, SAP 10+ years Operating Systems: W2K16, Win10, W2K12, W2K8, Win7, Linux 10+ years Databases: MS-Access, SQL Server, Oracle 10+ years Systems Management Tools: CommVault, Altiris, Solarwinds NPM, SAM 10+ years Mail Systems: MS-Exchange 2007-2010 10+ years Security Services: AD, TrendMicro, Ironport, Barracuda, DansGuardian 10+ years File Services: Microsoft, Samba, NFS 10+ years Terminal Services: Citrix XenApp 7.15 5 years Network Skills: TCP/IP, FTP, DNS, WINS, DHCP, TFTP 10+ years Network Hardware: Cisco Routers, Cisco Switches 5 years Web Skills: SharePoint, Apache, IIS 5 years.\\r',\n",
       "   {'entities': [[367, 373, 'SKILLS'],\n",
       "     [568, 571, 'SKILLS'],\n",
       "     [703, 709, 'SKILLS'],\n",
       "     [967, 977, 'SKILLS'],\n",
       "     [1481, 1487, 'SKILLS'],\n",
       "     [1717, 1723, 'SKILLS'],\n",
       "     [2391, 2396, 'SKILLS'],\n",
       "     [2398, 2407, 'SKILLS'],\n",
       "     [2409, 2413, 'SKILLS'],\n",
       "     [2415, 2417, 'SKILLS'],\n",
       "     [2419, 2422, 'SKILLS'],\n",
       "     [2443, 2452, 'SKILLS'],\n",
       "     [2459, 2468, 'SKILLS'],\n",
       "     [2470, 2473, 'SKILLS'],\n",
       "     [2484, 2501, 'SKILLS'],\n",
       "     [2503, 2508, 'SKILLS'],\n",
       "     [2510, 2515, 'SKILLS'],\n",
       "     [2517, 2522, 'SKILLS'],\n",
       "     [2524, 2528, 'SKILLS'],\n",
       "     [2530, 2534, 'SKILLS'],\n",
       "     [2536, 2541, 'SKILLS'],\n",
       "     [2552, 2561, 'SKILLS'],\n",
       "     [2563, 2572, 'SKILLS'],\n",
       "     [2574, 2584, 'SKILLS'],\n",
       "     [2586, 2592, 'SKILLS'],\n",
       "     [2603, 2627, 'SKILLS'],\n",
       "     [2629, 2638, 'SKILLS'],\n",
       "     [2640, 2647, 'SKILLS'],\n",
       "     [2649, 2663, 'SKILLS'],\n",
       "     [2665, 2668, 'SKILLS'],\n",
       "     [2679, 2691, 'SKILLS'],\n",
       "     [2693, 2704, 'SKILLS'],\n",
       "     [2725, 2742, 'SKILLS'],\n",
       "     [2744, 2746, 'SKILLS'],\n",
       "     [2748, 2758, 'SKILLS'],\n",
       "     [2760, 2768, 'SKILLS'],\n",
       "     [2770, 2779, 'SKILLS'],\n",
       "     [2781, 2793, 'SKILLS'],\n",
       "     [2804, 2817, 'SKILLS'],\n",
       "     [2819, 2828, 'SKILLS'],\n",
       "     [2830, 2835, 'SKILLS'],\n",
       "     [2837, 2840, 'SKILLS'],\n",
       "     [2851, 2868, 'SKILLS'],\n",
       "     [2870, 2883, 'SKILLS'],\n",
       "     [2897, 2911, 'SKILLS'],\n",
       "     [2913, 2919, 'SKILLS'],\n",
       "     [2921, 2924, 'SKILLS'],\n",
       "     [2926, 2929, 'SKILLS'],\n",
       "     [2931, 2935, 'SKILLS'],\n",
       "     [2937, 2941, 'SKILLS'],\n",
       "     [2943, 2947, 'SKILLS'],\n",
       "     [2958, 2974, 'SKILLS'],\n",
       "     [2976, 2989, 'SKILLS'],\n",
       "     [2991, 3005, 'SKILLS'],\n",
       "     [3014, 3024, 'SKILLS'],\n",
       "     [3026, 3036, 'SKILLS'],\n",
       "     [3038, 3044, 'SKILLS'],\n",
       "     [3046, 3049, 'SKILLS']]}],\n",
       "  ['4:::;Systems Administrator;Network Administrator:::Jobseeker Computer technician Hightstown, NJ Over 2 years of experience in fiber optical supervisor, follow the instructions and details of laying of optical fiber in the ground as well as in lead in the small room and gutter. Over 3 years of experience as a Network Administrator. Experienced Cisco/Linux/Windows systems administrator. Internet technology skills including TCP/IP, VPN, fiirewall setup and administration. Excellent communication and interpersonal skills. Detail oriented, with very strong organizational and planning skills. Known to keep a clean and organized work area. Works well in a team environment as well as independently. Work Experience Roti Mediterranean grill - North Bethesda, MD January 2013 to June 2018 240) 283- 9541  Delivery  Grill Chef and catering Systems Administrator Direct TIC LLC - Alexandria, VA January 2014 to January 2015  Supported several users  Troubleshoot computer system problems and provide solutions using specific system utilities, and other available resources  Set up new computers, built servers, maintained the Internet access. Network Administrator SARITEL, Cotonou - BJ April 2008 to December 2010  Follow the optical fiber installation  Maintain and administer computer networks and related computing environments including computer hardware, systems software  Assisted in the following: Securing wireless network, join new computers to domain, configure Active Directory group policies, Server Configuration, Network shared drive configuration, Network printer setup, VPN access setup  Perform data backups and disaster recovery operations.  Worked with and assisted users with resolving issues  Troubleshoot Network related issues Education Certified technician in Telecommunication CERCO Institute January 2008 Skills PUNCTUAL (Less than 1 year) Certifications/Licenses Certified technician Additional Information Technical Skills  Patient and punctual  Great attention to detail  Hardworking and dedicated  Safely maintain confidential reports\\r',\n",
       "   {'entities': [[388, 407, 'SKILLS'],\n",
       "     [425, 431, 'SKILLS'],\n",
       "     [433, 436, 'SKILLS'],\n",
       "     [438, 447, 'SKILLS'],\n",
       "     [1403, 1428, 'SKILLS'],\n",
       "     [1430, 1458, 'SKILLS'],\n",
       "     [1460, 1501, 'SKILLS'],\n",
       "     [1503, 1523, 'SKILLS'],\n",
       "     [1525, 1559, 'SKILLS'],\n",
       "     [1561, 1582, 'SKILLS'],\n",
       "     [1584, 1600, 'SKILLS'],\n",
       "     [1615, 1656, 'SKILLS']]}],\n",
       "  ['5:::Systems Administrator;Field Systems Technician:::Systems Administrator Systems Administrator - BEX Realty Deerfield Beach, FL To seek employment as a Linux Systems Administrator. Authorized to work in United States for any employer Work Experience Systems Administrator BEX Realty - Boca Raton, FL January 2017 to Present Responsible for all technical operations, support, and hardware at BEX Realty. Maintained and operated CentOS7 servers running the website, databases & email server. Designed internal office network incorporating VPNs and VLANs. Designed and implemented robust backup policy. Operated VoIP software and hardware to run in-house call center. Provided basic technical supports to all office staff and Realtors. Responsible for purchasing all technology. Field Systems Technician H&R Block - Fort Pierce, FL January 2015 to January 2017 Setup Windows computers and maintained all technical hardware for 14 offices. Responsible for all technology in the St. Luice and Indian River County offices. Needed to be on call in case any server, desktop or hardware failure Education Bachelor of Science in Statistics University of Florida Gainesville, FLJanuary 2008 to January 2015 Associate of Arts in Engineering Indian River State College Fort Pierce, FLJanuary 2006 to January 2008 Skills AWS (1 year), Bash (3 years), Database (2 years), FreeBSD (3 years), VoIP (1 year), System Administrator (2 years), Linux (8 years), Vmware (1 year), Redhat (Less than 1 year), System Admin (Less than 1 year), Linux Administrator (Less than 1 year) Links http://boredstatistician.com Certifications/Licenses Red Hat Certified System Administrator August 2016 to August 2019 Additional Information Computer skills Linux Skills Linux user since 2005. Operated physical, virtual, and cloud Linux servers in produc- tion and testing environment Linux Distributions CentOS7/RHEL7, cPanel, Debian, Ubuntu, Arch Linux Other OSes pfSense/FreeNAS/FreeBSD, OpenBSD Cloud Solutions Experience with AWS and Vultr. Visualization Used VMWare and Proxmox in production environment Networking Site-to-Site VPN with OpenVPN. Complimented VLANs, QoS, and traffic shaping VoIP Installed and maintained 3CX PBX Phone Server. Programming A Bash Scripting, Python, R, LTEX Database Ran and operated MySQL 5.6 Master/Slave cluster. Reasonable for database main- Administration tenance, upgrades and troubleshooting\\r',\n",
       "   {'entities': [[154, 167, 'SKILLS'],\n",
       "     [466, 475, 'SKILLS'],\n",
       "     [478, 491, 'SKILLS'],\n",
       "     [539, 543, 'SKILLS'],\n",
       "     [548, 554, 'SKILLS'],\n",
       "     [611, 624, 'SKILLS'],\n",
       "     [1309, 1312, 'SKILLS'],\n",
       "     [1323, 1327, 'SKILLS'],\n",
       "     [1339, 1347, 'SKILLS'],\n",
       "     [1359, 1366, 'SKILLS'],\n",
       "     [1378, 1382, 'SKILLS'],\n",
       "     [1393, 1413, 'SKILLS'],\n",
       "     [1425, 1430, 'SKILLS'],\n",
       "     [1442, 1448, 'SKILLS'],\n",
       "     [1459, 1465, 'SKILLS'],\n",
       "     [1486, 1498, 'SKILLS'],\n",
       "     [1519, 1538, 'SKILLS'],\n",
       "     [1722, 1727, 'SKILLS'],\n",
       "     [1735, 1740, 'SKILLS'],\n",
       "     [1790, 1809, 'SKILLS'],\n",
       "     [1850, 1869, 'SKILLS'],\n",
       "     [1885, 1891, 'SKILLS'],\n",
       "     [1893, 1899, 'SKILLS'],\n",
       "     [1901, 1907, 'SKILLS'],\n",
       "     [1909, 1919, 'SKILLS'],\n",
       "     [1956, 1969, 'SKILLS'],\n",
       "     [1996, 1999, 'SKILLS'],\n",
       "     [2030, 2036, 'SKILLS'],\n",
       "     [2086, 2102, 'SKILLS'],\n",
       "     [2108, 2116, 'SKILLS'],\n",
       "     [2130, 2135, 'SKILLS'],\n",
       "     [2137, 2140, 'SKILLS'],\n",
       "     [2162, 2166, 'SKILLS'],\n",
       "     [2192, 2195, 'SKILLS'],\n",
       "     [2196, 2199, 'SKILLS'],\n",
       "     [2200, 2213, 'SKILLS'],\n",
       "     [2228, 2242, 'SKILLS'],\n",
       "     [2244, 2250, 'SKILLS'],\n",
       "     [2252, 2253, 'SKILLS'],\n",
       "     [2255, 2268, 'SKILLS'],\n",
       "     [2286, 2291, 'SKILLS']]}],\n",
       "  [\"6:::Systems Administrator / Engineer;Linux Systems Administrator;Linux Systems Administrator:::Systems Administrator / Engineer Systems Administrator / Engineer - WellsFargo, Toms Rivers, NJ Linux/Unix Systems Administrator/Engineer - Talented and passionate system engineer with 6 years plus of experience as a systems engineer. Strong analytical and troubleshooting abilities, with a deep understanding of Linux Red Hat, networking, virtualization management, cloud computing, AWS, DevOps, automation with puppet and Ansible, and more. Excellent interpersonal skills with experience working with teams to productively troubleshoot and resolve challenging technical issues. CAREER PROFILE * Expertise in RHEL 5/6/7. * Racking and stacking of Servers for provisioning. * Experience with setting different RAID levels. * Experience with building hypervisors by installing VMWare ESXi on bare metal machines. * Experience in provisioning servers using pxeboot and kickstart to automate installation of OS. * Expertise in configuring, managing and troubleshooting of different servers such as NFS, NIS with autofs, Yum Repository Server, DNS, DHCP, FTP, Samba, LDAP, LAMP. * Experience in disk partitioning using FDISK. * Creation and Management of Physical Volumes, Volume Groups, Logical Volumes using LVM. * Creating various file systems on logical volumes as well as resizing which includes extending and shrinking using LVM. * Experience with configuring, monitoring, and troubleshooting of different file systems such as EXT 2, 3, 4 and XFS as well as upgrading file systems as needed using tune FS. * Experience in Installation, Configuration, Backup, Recovery, Maintenance, Support of Red Hat Linux and other flavors. * Applying patches for security fixes using Ansible, blade logic, Redhat Satellite Server. * Experience with Yum and RPM to install various Packages on Redhat Linux Environments as well as actively applying Security Patches to keep Production / Development * Configuration of NIC Bonding for redundancy and performance such as Round Robin and Active backup to increase network bandwidth and redundancy for NIC Cards. * Experience with creating and managing virtual machines, clusters and migration of VMs from host to host using vmotion on Vcenter. * Wrote Scripts for Day to Day tasks such as group/user administration, start up and shutdown scripts, Crontabs. * Experience with configuring an ansible server for automation, writing adhoc commands and playbooks for user management, and creating servers. * Deployment and system build configuration using ansible and puppet as well as monitoring and setting sensors using Nagios. * Experience in using various network protocols like SSH, SCP, SFTP, HTTP, TCP/IP, UDP, FTP, SMTP * Experience with Kernel tuning as needed especially for virtual memory (swap space) * Excellent verbal and written communication skills with experience in direct internal and external client relationship management. * Ability to learn and adapt to new and different technologies to a working depth quickly and efficiently. * 24/7 customer support and service delivery experience. Authorized to work in United States for any employer Work Experience Systems Administrator / Engineer WellsFargo, Toms Rivers, NJ January 2016 to Present * Knowledge of AWS administration which includes deploying and configuring EC2 instances and S3, and managing IAM roles * Installing, maintaining, administration and troubleshooting of Linux and Unix Systems * Working directly with Vendor to decommission thousands of servers and networking equipment following Company rules and regulations * Working with vendors to replace server parts and ordering new hardware. * Keeping track of system inventory; commissioning and decommissioning HP assets and deleting data from servers. * Ensuring data destructions before decommissioning assets * Securing SSH with key based authentication with RSA encryption * Setting up auto-fs mounting for home directories with NIS and LDAP configurations * Providing direct user support for level 2 and level 3 issues via email and ticket system * Providing timely and responsive assistance to company employees by troubleshooting problems as reported the helpdesk ticketing system. * Experienced using network traffic monitoring tools such as Wireshark and tcpdump. * Performing automated installations of operating systems over the network for various distributions, such as Redhat, CentOS, Ubuntu, Fedora as well as Server Provisioning tool such as HPSA. * Working with different storage containers, creating RAID levels (0, 1, 5, 6, 10) to achieve redundancy and performance. * Compile open-source software from source code. Generate necessary RPM packages for proper documentation and replication across server environment. * Performing daily system monitoring, verifying the integrity and availability of all hardware, server resources, systems and key processes, reviewing system and application logs, and verifying completion of scheduled jobs such as backups. * Performing filesystem checks and repairing when needed * Repairing and rebuilding existing servers as per project requirement * Responsible for backing up all systems using NetBackup 7.5 and restoring files in the event of data loss. * Setup cron jobs schedules for various backup and monitoring tasks, supported with enterprise backups using Netbackup * Monitoring Netbackup queue for failed backup jobs and taking actions to fix them. * Responsible for User management which includes creating, modifying, renewing user accounts and groups on Linux (NIS, Ldap) as well as Active directory. * Setting up NIS domains, master server, slave and clients and resolving authentication issues. * Mounting user home directories through automount and setting up quota system. * Installation of ESXi Hypervisor Servers, VSphere clients and Vcenter Servers * Installing ESXI servers 5.5, 6.0 * Building Vcenter and adding ESXI servers to it. * Creating, moving, and cloning VMs using Vcenter, Vsphere as well as Vmotion. * Automating all aspects of VMware VSphere infrastructure with VMware VRealize Orchestrator * Testing and Deploying security patches to number of systems on Dev and Production environment * Perform software package installation, upgrades and updates using yum and rpm commands * Maintaining inventory of all incoming and outgoing equipment * Monitoring the UPS systems for generated alerts * Monitoring the infrastructure health using Nagios and proprietary data center monitoring tools * Working with different file systems such as ext3, ext4, xfs and NFS, partitioning using fdisk, parted to create different partitions, creating and fixing file systems. * Maintaining the YUM repository server for patch management as well as securing Linux systems using local repository and installing, upgrading applications on Linux Systems. * Helping with user management such as creating, modifying and disabling accounts. I set up home directories on servers, added users to appropriate groups and assigned sudo access when requested. * Created and managed Logical Volume using LVM to create volumes on the volume groups, and file systems * Performing physical to virtual machine conversions * Performing critical system administration tasks from Single user mode * Creating mount points for database administrators; Supported MySQL database * Configure NTP client on servers to synchronize time zone with the NTP server * Responding to the alerts generated by Nagios such as network connectivity issues, critical system services, application availability, high CPU spikes and systems resources being maxed out. * Researches, evaluates and recommends software and hardware products * Actively participated in data center operations, building, scaling servers from ordering hardware to racking them up. Ability to pick up heavy equipment. * Solid understanding and working knowledge of storage technologies such as SAN, NAS and ISCSI * Troubleshooting Linux network, security related issues, capturing packets using tools such as IPtables, firewall, TCP wrappers, NMAP. * Troubleshooting and maintaining of TCP/IP, Apache HTTP/S, SMTP, and DNS applications. * Installing and managing new servers which includes racking, stacking, cabling, running fiber and LAN patch * Configured multiple websites on one Apache http server using VirtualHost containers * Creating/updating iptables rules on Linux systems using host-based firewall * Solving issues related to user logon, NFS and server connectivity * Configuring NFS server and mount exported NFS resources at the client side * Experience with bash scripting * Creating and modifying bash scripts to automate my daily tasks * Setup NFS and Samba File sharing setup on Linux for Windows servers and machines. * Conducting system performance tuning and capacity planning * Solving challenging issues through solid problem-solving approach * Monitored system logs and activity on all servers * Resolved systems and process issues reported by Site scope * Worked with HP Integrated Lights Out (ILO), Dell IDRAC, IBM IMM, and Oracle ILOM software to remotely manage, troubleshoot, and repair servers. * Developing and maintaining installation and configuration procedures. * Researching and recommending innovative, and where possible, automating approaches for system administration tasks. * Configuring network adapters for IP addresses and resolving routing related issues * Experience configuring and troubleshooting TCP/IP; DHCP, DNS, FTP, SSH, LDAP, NTP, etc. * Configuring and managing VSFTP servers * Ticket assessment/prioritization on daily basis on RT platform * Daily system monitoring using Nagios XI and SolarWinds monitoring, resolving reported issues. * Installed and configure openstack. Linux Systems Administrator KPMG - Montville, NJ February 2013 to November 2015 * Installing and managing new servers which includes racking, stacking, cabling, running fiber and LAN patch. * Responsible for installation of ESXi on bare metal servers. * Experience Troubleshooting and providing problems resolution of software issues. * Performed system-monitoring tools like TOP, SAR, VMSTAT, IOSTAT to report systems usage and performance. * Performing automated installations and deployed rpm packages using automation tools such as Server Automation and PXE-boot with customized kick start files. * Strongly experienced in Installing, Performing, and maintaining RAID Technologies with different RAID levels and attempt to recover data on disk. * Performed Systems Security Administration and User administration using Role Based Access control and provided SUDO access to various users and groups for elevated access. * Create user and group accounts, network configuration, manage passwords and permissions. * Performed daily system monitoring, verifying the integrity and availability of all hardware, server resources, system processes, viewing system and application logs and verify completion of scheduled jobs. * Attached NAS, DAS storage to Linux and ESXI servers, creating standard partitions, creating physical volumes, group volumes, logical volumes and extending/reducing logical volumes. * Server startup and shutdown issues as well the services on the Linux Servers, Managing file systems utilization using script scheduling as cron job. * Maintain file system and host security using chmod, chown, chgrp, iptables. * Configured network adapters for IP addresses and resolving routing related issues * Hands on experience of troubleshooting Network, memory, CPU, Swap File system issues, TCP/IP and SMTP in Linux servers. * Performed software package installation, upgrades and updates using yum and rpm commands. * Tested and Deployed security patches to number of systems on Development and Production environments. * Performing critical system administration tasks from Single user mode. * Configured NFS server and mounted exported NFS resources at the client side. * Experience supporting 24/7 production computing environments. Experience providing on-call and weekend support. * Performed Setting up secured password less SSH authentication on servers using SSH key pair. * Monitored system logs and activity on all servers. * Configure NTP client on servers to synchronize time zone with the NTP server. * Participated in weekly meetings and documentation of the environment. Linux Systems Administrator Comcast - Philadelphia, PA March 2012 to December 2013 * Managed and maintained files, directories, groups and user accounts. * Performed OS installations and configuration for testing and implementing server environment. * Created simple Linux scripts incorporating Bash and Python for server maintenance and backups. * Leveraged Spiceworks to deploy a ticketing help desk for client use in a Windows environment. * Leveraged OS Ticket to deploy a support ticket system for client use in a Linux environment * Configured a gmail account to act as an SMTP server in order to send emails to clients and administrators for ticket updates. * Responded to level 1 tickets and escalated tickets where necessary * Installed and configured various Linux services including FTP, HTTP, PostgreSQL, MariaDB, PHP, DNS, DHCP. * Utilized Remote Desktop Manager and SSH to access test and production environments remotely. * Monitored application processes on Linux servers and troubleshooted application slowness. Education Master's Skills DNS (6 years), LDAP (5 years)\\r\",\n",
       "   {'entities': [[37, 50, 'SKILLS'],\n",
       "     [65, 78, 'SKILLS'],\n",
       "     [191, 209, 'SKILLS'],\n",
       "     [408, 413, 'SKILLS'],\n",
       "     [414, 421, 'SKILLS'],\n",
       "     [423, 433, 'SKILLS'],\n",
       "     [435, 460, 'SKILLS'],\n",
       "     [462, 477, 'SKILLS'],\n",
       "     [479, 482, 'SKILLS'],\n",
       "     [484, 490, 'SKILLS'],\n",
       "     [508, 514, 'SKILLS'],\n",
       "     [519, 526, 'SKILLS'],\n",
       "     [871, 877, 'SKILLS'],\n",
       "     [950, 957, 'SKILLS'],\n",
       "     [962, 971, 'SKILLS'],\n",
       "     [1090, 1093, 'SKILLS'],\n",
       "     [1095, 1098, 'SKILLS'],\n",
       "     [1104, 1110, 'SKILLS'],\n",
       "     [1112, 1133, 'SKILLS'],\n",
       "     [1135, 1138, 'SKILLS'],\n",
       "     [1140, 1144, 'SKILLS'],\n",
       "     [1146, 1149, 'SKILLS'],\n",
       "     [1151, 1156, 'SKILLS'],\n",
       "     [1158, 1162, 'SKILLS'],\n",
       "     [1164, 1169, 'SKILLS'],\n",
       "     [1210, 1216, 'SKILLS'],\n",
       "     [1301, 1305, 'SKILLS'],\n",
       "     [1422, 1426, 'SKILLS'],\n",
       "     [1524, 1527, 'SKILLS'],\n",
       "     [1540, 1543, 'SKILLS'],\n",
       "     [1594, 1602, 'SKILLS'],\n",
       "     [1690, 1697, 'SKILLS'],\n",
       "     [1698, 1703, 'SKILLS'],\n",
       "     [1767, 1774, 'SKILLS'],\n",
       "     [1776, 1787, 'SKILLS'],\n",
       "     [1789, 1813, 'SKILLS'],\n",
       "     [1832, 1835, 'SKILLS'],\n",
       "     [1840, 1843, 'SKILLS'],\n",
       "     [1875, 1881, 'SKILLS'],\n",
       "     [1882, 1887, 'SKILLS'],\n",
       "     [2707, 2710, 'SKILLS'],\n",
       "     [2712, 2715, 'SKILLS'],\n",
       "     [2717, 2721, 'SKILLS'],\n",
       "     [2723, 2728, 'SKILLS'],\n",
       "     [2729, 2735, 'SKILLS'],\n",
       "     [2737, 2740, 'SKILLS'],\n",
       "     [2742, 2746, 'SKILLS'],\n",
       "     [2747, 2751, 'SKILLS'],\n",
       "     [2770, 2783, 'SKILLS'],\n",
       "     [3362, 3375, 'SKILLS'],\n",
       "     [3380, 3382, 'SKILLS'],\n",
       "     [3397, 3406, 'SKILLS'],\n",
       "     [3472, 3477, 'SKILLS'],\n",
       "     [3482, 3494, 'SKILLS'],\n",
       "     [3885, 3888, 'SKILLS'],\n",
       "     [3924, 3938, 'SKILLS'],\n",
       "     [3995, 3998, 'SKILLS'],\n",
       "     [4003, 4007, 'SKILLS'],\n",
       "     [4445, 4451, 'SKILLS'],\n",
       "     [4453, 4459, 'SKILLS'],\n",
       "     [4461, 4467, 'SKILLS'],\n",
       "     [4469, 4475, 'SKILLS'],\n",
       "     [4520, 4525, 'SKILLS'],\n",
       "     [4580, 4584, 'SKILLS'],\n",
       "     [4716, 4719, 'SKILLS'],\n",
       "     [5212, 5221, 'SKILLS'],\n",
       "     [5382, 5391, 'SKILLS'],\n",
       "     [5405, 5414, 'SKILLS'],\n",
       "     [5583, 5588, 'SKILLS'],\n",
       "     [5590, 5593, 'SKILLS'],\n",
       "     [5595, 5599, 'SKILLS'],\n",
       "     [5612, 5629, 'SKILLS'],\n",
       "     [5643, 5646, 'SKILLS'],\n",
       "     [5824, 5828, 'SKILLS'],\n",
       "     [5849, 5856, 'SKILLS'],\n",
       "     [5869, 5876, 'SKILLS'],\n",
       "     [5898, 5902, 'SKILLS'],\n",
       "     [5950, 5954, 'SKILLS'],\n",
       "     [6002, 6005, 'SKILLS'],\n",
       "     [6012, 6019, 'SKILLS'],\n",
       "     [6021, 6028, 'SKILLS'],\n",
       "     [6040, 6048, 'SKILLS'],\n",
       "     [6077, 6083, 'SKILLS'],\n",
       "     [6084, 6091, 'SKILLS'],\n",
       "     [6112, 6118, 'SKILLS'],\n",
       "     [6119, 6127, 'SKILLS'],\n",
       "     [6582, 6586, 'SKILLS'],\n",
       "     [6588, 6592, 'SKILLS'],\n",
       "     [6594, 6597, 'SKILLS'],\n",
       "     [6602, 6605, 'SKILLS'],\n",
       "     [6724, 6727, 'SKILLS'],\n",
       "     [6787, 6792, 'SKILLS'],\n",
       "     [6866, 6871, 'SKILLS'],\n",
       "     [7369, 7374, 'SKILLS'],\n",
       "     [7375, 7383, 'SKILLS'],\n",
       "     [7956, 7959, 'SKILLS'],\n",
       "     [7961, 7964, 'SKILLS'],\n",
       "     [7969, 7974, 'SKILLS'],\n",
       "     [7993, 7998, 'SKILLS'],\n",
       "     [8081, 8089, 'SKILLS'],\n",
       "     [8091, 8094, 'SKILLS'],\n",
       "     [8105, 8110, 'SKILLS'],\n",
       "     [8148, 8154, 'SKILLS'],\n",
       "     [8156, 8162, 'SKILLS'],\n",
       "     [8163, 8169, 'SKILLS'],\n",
       "     [8171, 8175, 'SKILLS'],\n",
       "     [8181, 8184, 'SKILLS'],\n",
       "     [13187, 13190, 'SKILLS'],\n",
       "     [13192, 13196, 'SKILLS'],\n",
       "     [13198, 13208, 'SKILLS'],\n",
       "     [13210, 13217, 'SKILLS'],\n",
       "     [13219, 13222, 'SKILLS'],\n",
       "     [13224, 13227, 'SKILLS'],\n",
       "     [13229, 13234, 'SKILLS'],\n",
       "     [13246, 13260, 'SKILLS'],\n",
       "     [13273, 13276, 'SKILLS']]}],\n",
       "  ['7:::IT CONSULTANT;Systems Administrator;SYSTEMS ADMINISTRATOR;Systems Administrator:::IT CONSULTANT IT CONSULTANT - PARKHURST VENTURES, INC Dripping Springs, TX Authorized to work in United States for any employer Work Experience IT CONSULTANT PARKHURST VENTURES, INC January 2017 to Present Key Contributions:  Served as technical lead for implementation of new capabilities in accordance system development lifecycle phases including planning, design, installation, configuration, testing and maintenance, as applicable. Projects included implementation of: ? Cisco Identity Services Engine (ISE), including management of access control lists for specialized groups ? GFI LANguard in multiple domain environment with 150+ nodes Systems Administrator Parkhurst Ventures, Inc. January 2017 to Present along with accompanying database and application server  Integrated Cisco ISE and Duo Security for Two-Factor Authentication as well as MAC Filtering  Implemented a remote office relocation including the setup and configuration of a new Internet Service Provider, Ubiquiti Wi-Fi and Vonage VOIP  Ensured resolution of service requests and trained Helpdesk technicians on high-end technologies  Assisted account managers and clients with SSL implementation, URL redirects and Load Balancing  Created new users and distribution groups within an Office 365 environment  Use Microsoft SCCM to deploy and maintain endpoint virus protection as well as simple software packages in Software Library SYSTEMS ADMINISTRATOR ARISTOTLE INTERNATIONAL, INC January 2012 to January 2017 Responsibilities included management and maintenance of a 150+ mixed windows server environment (ensuring 99.9% or better uptime) and evaluation, monitoring and enhancement of IT infrastructure with emphasis on availability, reliability, scalability, security, data confidentiality and system integrity. Key Contributions:  Managed planning, installation, configuration, testing and deployment of IT capabilities, including: Systems Administrator ARISTOTLE INTERNATIONAL, INC January 2016 to January 2016 backup subnet, including replication to an offsite location  Managed users in AD as well as DNS, DHCP, DFS for 2008R2 and 2012R2 domain functional levels  Performed full audit of Cisco ASA 5500 series firewall and NAT/ACL rules, plugging security holes as well as creating new NAT/ACL as needed for client websites  Executed rolling upgrade of Hyper-V host cluster from Windows Server 2012 R2 to 2016  Performed regularly scheduled as well as emergency maintenance at our data warehouse which included 40+ physical servers, redundant Cisco ASAs, 10+ switches, 4 EqualLogic SANs, and 7 subnets  Created volumes on Dell EqualLogic SANs for the purpose of CSVs for Hyper-V virtual machines within failover cluster using iSCSI initiator with ACL based on IP Education B.S. in INFORMATION SYSTEMS STRAYER UNIVERSITY January 2012 Skills Active Directory (Less than 1 year) Links http://WWW.LINKEDIN.COM/IN/ROBERT-PARKHURST-2A443A80\\r',\n",
       "   {'entities': [[562, 592, 'SKILLS'],\n",
       "     [869, 878, 'SKILLS'],\n",
       "     [1074, 1079, 'SKILLS'],\n",
       "     [1091, 1095, 'SKILLS'],\n",
       "     [1238, 1241, 'SKILLS'],\n",
       "     [1344, 1354, 'SKILLS'],\n",
       "     [1372, 1386, 'SKILLS'],\n",
       "     [2169, 2172, 'SKILLS'],\n",
       "     [2174, 2178, 'SKILLS'],\n",
       "     [2180, 2183, 'SKILLS'],\n",
       "     [2256, 2261, 'SKILLS'],\n",
       "     [2421, 2428, 'SKILLS'],\n",
       "     [2447, 2466, 'SKILLS'],\n",
       "     [2611, 2621, 'SKILLS'],\n",
       "     [2639, 2654, 'SKILLS']]}],\n",
       "  ['8:::Systems Analyst;Systems Administrator;Systems Analyst:::Systems Analyst Verona, PA Authorized to work in United States for any employer Work Experience Systems Analyst Allegheny Health Network - Pittsburgh, PA June 2016 to Present Experience Systems Analyst Allegheny Health Network (June 2016- Present) Support Cardiology, Cardiac Rehab, Vascular Surgery, Urgent Care, Endocrinology, Rheumatology, specialties as a member of the EpicCare Ambulatory Team Serve as Tier 2 Production Support for customer questions and issues Triage incoming incidents and determine resolution or level of effort required to handle build Work with Clinical Informatics to accurately define requirements for build and validate outcomes related to incident requests Routine maintenance of system settings and application SmartTools to provide efficient functional capabilities for customer use and impact positive patient outcomes Collaborate with other application teams in order to meet deadlines and assure requested build does not negatively impact the system or existing functionalities Perform routine maintenance of records for doctors and other care providers to assure accuracy in contact information Coordinate with physicians, nurses and ancillary staff to fully understand requests for new build or enhancements to outline clinical and business requirements are complete Manage multiple tasks and aspects of system requirements in order to meet deadlines and goals for clinical users Systems Administrator Willman & Silvaggio May 2011 to Present Assisted in updating and modernizing marketing techniques and views.  Review files, records, and other documents to obtain information and respond to requests.  Scanning, uploading and saving legal documents to an internal share drive.  Converting legal records from a paper system to an electronic paperless system.  Managing data warehouse of legal depositions.  Editing and updating Access database records.  Training employees to use the systems and computers for various projects.  Extensive experience with document management and preparation. Systems Analyst Allegheny Health Network (Corporate) - Pittsburgh, PA November 2015 to June 2016 Allegheny Health Network November 2015- Present Member of the Epic Direct team with primary function for first level support, issues triage, troubleshooting and resolution within Epic Electronic Medical Record. June 2016 joined the Epic Ambulatory team. Receive end user calls and generate tickets via Cherwell for documentation and tracking. Document and maintain communication with end users through entire issue lifecycle from discovery to resolution or hand off. Coordination with clinical application teams for component specific content issues within Epic to assist with resolution or completion of warm hand off regarding issues for more detailed build requirements. Complete build requests as member of the Ambulatory application team. Coordinate with other application teams to complete build requirements for go lives and other projects. Triage incoming issues and assign priority to new items and work to resolve tickets in a timely manner. Work with informatics team to meet the requirements of request submitted by end users. Education Masters in Information Systems Management La Roche College Pittsburgh, PAJanuary 2015 to January 2016 Bachelor of Science in Business Administration Duquesne University September 2008 to March 2012 Skills System Analyst (Less than 1 year) Certifications/Licenses Epicare Ambulatory Proficiency Present Additional Information Skills  Extensive work with Microsoft Office Products  Internet Marketing  Advertising Solution Development  Targeted phone calls and one on one sales  Ideas and design for marketing on a Facebook page  Communication between organization and customer  Project Management  Social Media Marketing  Experience with cold calls and customer interaction\\r',\n",
       "   {'entities': [[1868, 1882, 'SKILLS'], [3590, 3606, 'SKILLS']]}],\n",
       "  [\"9:::Systems Administrator:::Systems Administrator I.T. Systems Administrator Cleveland, OH Work Experience Systems Administrator HEINEN'S - Warrensville Heights, OH September 2011 to October 2018 Reported to technical services manager and CIO. Responsible for engineering, implementing, and administrating information technologies and systems. ? Managed and supported 100+ virtual servers (vSphere), 30+ physical servers (PowerEdge), various network hardware ? Managed and supported 700+ Dell workstations, laptops, & Surface/mobile devices remotely across 24 locations ? Managed a hybrid Office 365 / on-premise environment ? Performed workstation / server upgrades, maintenance, and deployments ? Responsible for quoting, configuring, and deciding hardware purchases / standards ? Research, chose, and deployed various technology solutions such as LogMeIn, Citrix XenApp/ShareFile, vSphere ESXi, various mobile devices uses Education Cuyahoga Community College Parma, OHJanuary 2009 to January 2011 Skills DHCP (Less than 1 year), TCP/IP (Less than 1 year), VMware vSphere (5 years), Windows OS (7 years), Windows Servers (7 years), Active Directory (5 years), Customer Service (10+ years), Servers (7 years), Office 365 (2 years), Microsoft Office (7 years), Server Administration (7 years), POS (6 years), Mac OS X (7 years), Video Conferencing (7 years), Remote Support (7 years) Links http://www.linkedin.com/in/nickbucciere Additional Information SUMMARY OF SKILLS ? Configuration, and Managing of Servers and Workstations (Windows/Mac/Linux) ? Microsoft Server 2008/2012/2016 administration ? Very proficient in all aspects of AD; domain user and computer account management, organizational objects, groups, security privileges, reporting ? Very proficient in administration functions; DHCP, DNS, TCP/IP, DFS, RDP TS, Group Policy & WSUS ? VMware vSphere/vCenter 4.x-6.5 administration and engineering ? Microsoft Office 365 administration ? Microsoft Office 2007/2010/2013/2016 ? Knowledge of basic scripting languages for automation of tasks; PowerShell, Batch script ? Monitoring of scheduled backups and disaster recovery solutions ? Monitoring of servers and various network devices via SNMP or other tools ? Auditing AD environment with reports via tools such as PDQ, Varonis, or other network discovery means ? Application, hardware, and end-user support in use with a ticketing system ? Mobile device management and support ? Audio / video conference technologies ? Good troubleshooting and remote support ? Good verbal and written communication ? Able to work well in team environments and adapt quickly to change\\r\",\n",
       "   {'entities': [[390, 397, 'SKILLS'],\n",
       "     [422, 431, 'SKILLS'],\n",
       "     [589, 599, 'SKILLS'],\n",
       "     [850, 857, 'SKILLS'],\n",
       "     [859, 882, 'SKILLS'],\n",
       "     [884, 896, 'SKILLS'],\n",
       "     [1008, 1012, 'SKILLS'],\n",
       "     [1033, 1039, 'SKILLS'],\n",
       "     [1060, 1074, 'SKILLS'],\n",
       "     [1086, 1096, 'SKILLS'],\n",
       "     [1108, 1123, 'SKILLS'],\n",
       "     [1135, 1151, 'SKILLS'],\n",
       "     [1163, 1179, 'SKILLS'],\n",
       "     [1193, 1200, 'SKILLS'],\n",
       "     [1212, 1222, 'SKILLS'],\n",
       "     [1234, 1250, 'SKILLS'],\n",
       "     [1262, 1283, 'SKILLS'],\n",
       "     [1295, 1298, 'SKILLS'],\n",
       "     [1310, 1318, 'SKILLS'],\n",
       "     [1330, 1348, 'SKILLS'],\n",
       "     [1360, 1374, 'SKILLS'],\n",
       "     [1794, 1798, 'SKILLS'],\n",
       "     [1800, 1803, 'SKILLS'],\n",
       "     [1805, 1811, 'SKILLS'],\n",
       "     [1813, 1816, 'SKILLS'],\n",
       "     [1818, 1824, 'SKILLS'],\n",
       "     [1826, 1838, 'SKILLS'],\n",
       "     [1841, 1845, 'SKILLS'],\n",
       "     [1848, 1854, 'SKILLS'],\n",
       "     [1912, 1932, 'SKILLS'],\n",
       "     [1950, 1966, 'SKILLS'],\n",
       "     [2053, 2063, 'SKILLS'],\n",
       "     [2065, 2077, 'SKILLS'],\n",
       "     [2200, 2204, 'SKILLS'],\n",
       "     [2277, 2281, 'SKILLS'],\n",
       "     [2282, 2289, 'SKILLS']]}],\n",
       "  ['10:::Systems Administrator II;Systems Administrator:::Systems Administrator II Systems Administrator II - Criminal Justice Coordinating Council Atlanta, GA Multifaceted, driven and highly self-motivated IT professional seeks career in a technical, engineering, management or supervisory capacity; offering years of complimented by proven skill to significantly enhance objectives by utilizing the following areas of expertise: Work Experience Systems Administrator II Criminal Justice Coordinating Council January 2015 to Present State of Georgia (Criminal Justice Coordinating Council) Systems Administrator Rean Clinical Research Services July 2010 to November 2014 Performed IT support related work which includes but not limited to application security, network security and OS security. Primarily responsible for user access provisioning and de-provisioning, network related issues, user onboarding and off boarding, remote access related issues and overall desktop/laptop and software related issues ? Performed User administration activities within SAP which includes Creating, modifying, locking/unlocking, deleting and password resetting based on the change request ? Provide technical support for remote and onsite users ? Prepare, maintain and troubleshoot - MDTs, Tablets, laptops and desktops ? Work with System Administrators to identify and resolve user permission errors, provide and troubleshoot printer access, and manage AD group membership. ? Work with Network Administrators to troubleshoot isolated network issues which includes support of but not limited to engaging local Internet Service Providers and maintaining network switch, patch panel, and WAP equipment ? Troubleshoot hard & soft phone connection issues on the ShoreTel VOIP platform ? Troubleshoot local & remote hardware problems including home TeleWorker configurations and peripheral set up. ? Participate in the New User Onboarding and Off boarding process which includes account and hardware provisioning. ? Advanced knowledge of Microsoft operating systems and Office Suite software ? Responsible for component level testing, Board level replacements, and identification of faulty level component. ? Responsible for advanced troubleshooting of desktop, workstation, laptop, software and other electronic equipment. ? Responsible for meeting specified service level standards. ? Performed SAP security related task to support M&A and Security Custom Role development and administration. Assisted in role design, testing troubleshooting and deployment into other system landscape as required ? Defined R3 security roles according to restriction requirements for the following business areas: core finance (FI), procurement to pay (PTP) and order to cash (OTC). ? Designed security roles in the following SAP modules (FI, CO, SD, MM, PTP, OTC modules), CRM and BI systems. ? Performed Unit test of the roles after role modifications, released the transports via SE10 and worked with Business Analysts in getting the roles tested in QA system, before moving the roles to Production System ? Provided timely support and solutions to complicated security issues in all business areas leveraging Su24, ST01 and Su53 ? Utilized CATT Scripts to establish 12k+ user IDs on SAP systems. ? Created all necessary documentation per project and audit requirements. ? Collaborate with SAP business IT, SOX and internal audit teams in an effort to analyze security risks and develop mitigating strategies. ? Successful implementation of single sign on solution utilized by over 1,000 plus users, including eliminating call center call costs. ? Assisted in the roll out of SAP GRC access risks analysis ARA and Emergency Access Management EAM components of Access Control. Education BS Degree in Information System Security ITT Technical Institute Atlanta, GAMarch 2012 AS Degree in Computer Network Systems ITT Technical Institute Atlanta, GAJune 2010 Skills SAP (4 years), R/3 (Less than 1 year), ACTIVE DIRECTORY (Less than 1 year), DHCP (Less than 1 year), SECURITY (4 years) Additional Information SKILLS ? SAP R/3 and ECC 6.0 ? Active Directory ? VMWare/Hyper-V ? Veeam Backup System ? SCCM and SCSM systems ? Global VPN Client ? Windows 7/10 and Server 2008r2 to 2016 ? ShoreTel Communicator ? Malwarebytes, Symantec, Tred Micro Security Virus Protection ? Efax ? Office 365 ? IT Security Management ? TCP/IP, DNS and DHCP\\r',\n",
       "   {'entities': [[678, 688, 'SKILLS'],\n",
       "     [758, 774, 'SKILLS'],\n",
       "     [779, 791, 'SKILLS'],\n",
       "     [1056, 1059, 'SKILLS'],\n",
       "     [1753, 1757, 'SKILLS'],\n",
       "     [2019, 2046, 'SKILLS'],\n",
       "     [2051, 2072, 'SKILLS'],\n",
       "     [2378, 2381, 'SKILLS'],\n",
       "     [2792, 2795, 'SKILLS'],\n",
       "     [2840, 2843, 'SKILLS'],\n",
       "     [2848, 2850, 'SKILLS'],\n",
       "     [3210, 3222, 'SKILLS'],\n",
       "     [3253, 3256, 'SKILLS'],\n",
       "     [3359, 3374, 'SKILLS'],\n",
       "     [3645, 3648, 'SKILLS'],\n",
       "     [3932, 3935, 'SKILLS'],\n",
       "     [3947, 3950, 'SKILLS'],\n",
       "     [3971, 3987, 'SKILLS'],\n",
       "     [4008, 4012, 'SKILLS'],\n",
       "     [4033, 4041, 'SKILLS'],\n",
       "     [4084, 4087, 'SKILLS'],\n",
       "     [4088, 4091, 'SKILLS'],\n",
       "     [4096, 4103, 'SKILLS'],\n",
       "     [4106, 4122, 'SKILLS'],\n",
       "     [4125, 4139, 'SKILLS'],\n",
       "     [4164, 4168, 'SKILLS'],\n",
       "     [4173, 4177, 'SKILLS'],\n",
       "     [4188, 4205, 'SKILLS'],\n",
       "     [4208, 4220, 'SKILLS'],\n",
       "     [4343, 4353, 'SKILLS'],\n",
       "     [4381, 4387, 'SKILLS'],\n",
       "     [4389, 4392, 'SKILLS'],\n",
       "     [4397, 4401, 'SKILLS']]}]]}"
      ]
     },
     "execution_count": 5,
     "metadata": {},
     "output_type": "execute_result"
    }
   ],
   "source": [
    "import json\n",
    "# https://www.kaggle.com/datasets/finalepoch/medical-ner \n",
    "with open(r'C:\\Users\\trainee\\Downloads\\Mohammed Khalaf\\annotations.json', 'r') as f:\n",
    "    trainData = json.load(f)\n",
    "#trainData=list(trainData)\n",
    "trainData"
   ]
  },
  {
   "cell_type": "code",
   "execution_count": 26,
   "id": "e3e9949f",
   "metadata": {
    "scrolled": true
   },
   "outputs": [
    {
     "data": {
      "text/plain": [
       "'1:::Senior Systems Administrator;Systems Administrator II:::Senior Systems Administrator Brownsville, TX Authorized to work in United States for any employer Work Experience Senior Systems Administrator Trico Products - Brownsville, TX October 2016 to October 2018 Senior Systems Administrator for Trico Products Corporation: Technical lead for the Infrastructure Group at the following Locations:  North America Locations: Brownville, Tx where I was based, Rochester Hills, MI, Logansport, IN, Marion, SC and Matamoros Tamaulipas Mexico.  Global Locations: UK, China, Australia, Argentina, Brazil Performed the following duties:  Project Manager  Technical Lead  Team Leader Projects Implemented:  Global MPLS service provider replacement  Global Router replacement  Cisco Nexus 3k and 9k core switch installations at 2 Datacenters  EMC VxRail HCI deployment at New Datacenter - Migration of virtual servers to new centralized Datacenter, Implemented new cloud backup system  Office 365 Global implementation and Email migration to Cloud including Skype and OneDrive  Carbon Black Antivirus Deployment Skills:  Cisco Routing and Switching configuration, implementation and troubleshooting  LAN/WAN support and troubleshooting  MPLS, BGP,EIGRP,OSPF  DHCP, DNS, WINS, Active Directory Administration  Motorola WING Wireless network configuration  VMware vSphere 5.0, 5.5, 6.5 Install, Configure, Manage  VxRail 4.5 , VSAN 6.5 Install, Configure, Manage  Cisco UCS and HP ProLiant Rack Servers  Windows Server 2008 R2, 2012R2, 2016  Windows 7 and Windows 10 Systems Administrator II Trico Products - Brownsville, TX June 2007 to October 2016 Systems Administrator for Trico Products Responsibilities:  Windows Server Administration  Citrix Xenapp Administration  Windows XP, Windows 7 OS support  LAN/WAN support and troubleshooting Education Associate in Drafting Technology University of Texas at Brownsville Brownsville, TXAugust 1990 to May 1993\\r'"
      ]
     },
     "execution_count": 26,
     "metadata": {},
     "output_type": "execute_result"
    }
   ],
   "source": [
    "trainData['annotations'][0][0]"
   ]
  },
  {
   "cell_type": "code",
   "execution_count": 6,
   "id": "ae2bc16f",
   "metadata": {
    "collapsed": true
   },
   "outputs": [
    {
     "ename": "TypeError",
     "evalue": "string indices must be integers",
     "output_type": "error",
     "traceback": [
      "\u001b[1;31m---------------------------------------------------------------------------\u001b[0m",
      "\u001b[1;31mTypeError\u001b[0m                                 Traceback (most recent call last)",
      "\u001b[1;32m~\\AppData\\Local\\Temp\\ipykernel_18688\\752941548.py\u001b[0m in \u001b[0;36m<module>\u001b[1;34m\u001b[0m\n\u001b[0;32m      1\u001b[0m \u001b[1;31m#[[]]\u001b[0m\u001b[1;33m\u001b[0m\u001b[1;33m\u001b[0m\u001b[0m\n\u001b[0;32m      2\u001b[0m \u001b[1;32mfor\u001b[0m \u001b[0ment\u001b[0m \u001b[1;32min\u001b[0m \u001b[0mtrainData\u001b[0m\u001b[1;33m:\u001b[0m\u001b[1;33m\u001b[0m\u001b[1;33m\u001b[0m\u001b[0m\n\u001b[1;32m----> 3\u001b[1;33m     \u001b[1;32mfor\u001b[0m \u001b[0mentity\u001b[0m \u001b[1;32min\u001b[0m \u001b[0ment\u001b[0m\u001b[1;33m[\u001b[0m\u001b[1;36m1\u001b[0m\u001b[1;33m]\u001b[0m\u001b[1;33m[\u001b[0m\u001b[1;34m'entities'\u001b[0m\u001b[1;33m]\u001b[0m\u001b[1;33m:\u001b[0m\u001b[1;33m\u001b[0m\u001b[1;33m\u001b[0m\u001b[0m\n\u001b[0m\u001b[0;32m      4\u001b[0m         \u001b[0mentity\u001b[0m\u001b[1;33m[\u001b[0m\u001b[1;36m2\u001b[0m\u001b[1;33m]\u001b[0m \u001b[1;33m=\u001b[0m \u001b[0mentity\u001b[0m\u001b[1;33m[\u001b[0m\u001b[1;36m2\u001b[0m\u001b[1;33m]\u001b[0m\u001b[1;33m.\u001b[0m\u001b[0mupper\u001b[0m\u001b[1;33m(\u001b[0m\u001b[1;33m)\u001b[0m\u001b[1;33m.\u001b[0m\u001b[0mreplace\u001b[0m\u001b[1;33m(\u001b[0m\u001b[1;34m\" \"\u001b[0m\u001b[1;33m,\u001b[0m\u001b[1;34m\"_\"\u001b[0m\u001b[1;33m)\u001b[0m\u001b[1;33m\u001b[0m\u001b[1;33m\u001b[0m\u001b[0m\n\u001b[0;32m      5\u001b[0m \u001b[0mprint\u001b[0m\u001b[1;33m(\u001b[0m\u001b[0mtrainData\u001b[0m\u001b[1;33m)\u001b[0m\u001b[1;33m\u001b[0m\u001b[1;33m\u001b[0m\u001b[0m\n",
      "\u001b[1;31mTypeError\u001b[0m: string indices must be integers"
     ]
    }
   ],
   "source": [
    "#[[]]\n",
    "for ent in trainData:\n",
    "    for entity in ent[1]['entities']:\n",
    "        entity[2] = entity[2].upper().replace(\" \",\"_\")\n",
    "print(trainData)      "
   ]
  },
  {
   "cell_type": "code",
   "execution_count": null,
   "id": "895e2019",
   "metadata": {},
   "outputs": [],
   "source": [
    "train_Data = [['skill programming language python panda numpy scipy scikit learn matplotlib sql java javascript jquery machine learning regression svm na bayes knn random forest decision tree boosting technique cluster analysis word embedding sentiment analysis natural language processing dimensionality reduction topic modelling lda nmf pca neural net database visualization mysql sqlserver cassandra hbase elasticsearch d3 j dc j plotly kibana matplotlib ggplot tableau others regular expression html cs angular 6 logstash kafka python flask git docker computer vision open cv understanding deep learning education detail data science assurance associate data science assurance associate ernst young llp skill detail javascript exprience 24 month jquery exprience 24 month python exprience 24 monthscompany detail company ernst young llp description fraud investigation dispute service assurance technology assisted review tar technology assisted review assist accelerating review process run analytics generate report core member team helped developing automated review platform tool scratch assisting e discovery domain tool implement predictive coding topic modelling automating review resulting reduced labor cost time spent lawyer review understand end end flow solution research development classification model predictive analysis mining information present text data worked analyzing output precision monitoring entire tool tar assist predictive coding topic modelling evidence following ey standard developed classifier model order identify red flag fraud related issue tool technology python scikit learn tfidf word2vec doc2vec cosine similarity na bayes lda nmf topic modelling vader text blob sentiment analysis matplot lib tableau dashboard reporting multiple data science analytic project usa client text analytics motor vehicle customer review data received customer feedback survey data past one year performed sentiment positive negative neutral time series analysis customer comment across 4 category created heat map term survey category based frequency word extracted positive negative word across survey category plotted word cloud created customized tableau dashboard effective reporting visualization chatbot developed user friendly chatbot one product handle simple question hour operation reservation option chat bot serf entire product related question giving overview tool via qa platform also give recommendation response user question build chain relevant answer intelligence build pipeline question per user requirement asks relevant recommended question tool technology python natural language processing nltk spacy topic modelling sentiment analysis word embedding scikit learn javascript jquery sqlserver information governance organization make informed decision information store integrated information governance portfolio synthesizes intelligence across unstructured data source facilitates action ensure organization best positioned counter information risk scan data multiple source format parse different file format extract meta data information push result indexing elastic search created customized interactive dashboard using kibana preforming rot analysis data give information data help identify content either redundant outdated trivial preforming full text search analysis elastic search predefined method tag pii personally identifiable information social security number address name etc frequently targeted cyber attack tool technology python flask elastic search kibana fraud analytic platform fraud analytics investigative platform review red flag case fap fraud analytics investigative platform inbuilt case manager suite analytics various erp system used client interrogate accounting system identifying anomaly indicator fraud running advanced analytics tool technology html javascript sqlserver jquery cs bootstrap node j d3 j dc j',\n",
    "               {'entities': [(3716, 3726, 'SKILLS'), (96, 102, 'SKILLS'), (734, 740, 'SKILLS'), (2708, 2714, 'SKILLS'), (3839, 3845, 'SKILLS'), (2325, 2328, 'SKILLS'), (3016, 3021, 'SKILLS'), (3392, 3400, 'SKILLS'), (540, 555, 'SKILLS'), (387, 392, 'SKILLS'), (1950, 1961, 'SKILLS'), (274, 298, 'SKILLS'), (1396, 1406, 'SKILLS'), (80, 84, 'SKILLS'), (980, 989, 'SKILLS'), (1806, 1815, 'SKILLS'), (3539, 3548, 'SKILLS'), (3603, 3612, 'SKILLS'), (3663, 3672, 'SKILLS'), (3787, 3796, 'SKILLS'), (417, 423, 'SKILLS'), (578, 591, 'SKILLS'), (103, 119, 'SKILLS'), (227, 245, 'SKILLS'), (1692, 1710, 'SKILLS'), (2650, 2668, 'SKILLS'), (529, 532, 'SKILLS'), (76, 79, 'SKILLS'), (533, 539, 'SKILLS'), (334, 337, 'SKILLS'), (609, 621, 'SKILLS'), (642, 654, 'SKILLS'), (1760, 1772, 'SKILLS'), (27, 33, 'SKILLS'), (516, 522, 'SKILLS'), (760, 766, 'SKILLS'), (1582, 1588, 'SKILLS'), (2588, 2594, 'SKILLS'), (3474, 3480, 'SKILLS'), (449, 456, 'SKILLS'), (1723, 1730, 'SKILLS'), (2159, 2166, 'SKILLS'), (393, 406, 'SKILLS'), (464, 482, 'SKILLS'), (40, 45, 'SKILLS'), (148, 161, 'SKILLS'), (52, 64, 'SKILLS'), (1589, 1601, 'SKILLS'), (2684, 2696, 'SKILLS'), (3032, 3043, 'SKILLS'), (3849, 3858, 'SKILLS'), (85, 95, 'SKILLS'), (704, 714, 'SKILLS'), (2697, 2707, 'SKILLS'), (3818, 3828, 'SKILLS'), (510, 515, 'SKILLS'), (424, 430, 'SKILLS'), (3157, 3163, 'SKILLS'), (3502, 3508, 'SKILLS'), (246, 262, 'SKILLS'), (2595, 2611, 'SKILLS'), (6, 26, 'SKILLS'), (80, 84, 'SKILLS'), (338, 346, 'SKILLS'), (501, 509, 'SKILLS'), (195, 211, 'SKILLS'), (491, 498, 'SKILLS'), (377, 386, 'SKILLS'), (333, 337, 'SKILLS'), (347, 360, 'SKILLS'), (2197, 2210, 'SKILLS'), (361, 366, 'SKILLS'), (523, 528, 'SKILLS'), (3481, 3486, 'SKILLS'), (246, 273, 'SKILLS'), (2595, 2622, 'SKILLS'), (1124, 1141, 'SKILLS'), (1430, 1447, 'SKILLS'), (162, 175, 'SKILLS'), (483, 487, 'SKILLS'), (3813, 3817, 'SKILLS'), (449, 457, 'SKILLS'), (1723, 1731, 'SKILLS'), (2159, 2167, 'SKILLS'), (417, 424, 'SKILLS'), (40, 46, 'SKILLS'), (3392, 3401, 'SKILLS'), (529, 533, 'SKILLS'), (510, 516, 'SKILLS'), (980, 990, 'SKILLS'), (1806, 1816, 'SKILLS'), (3539, 3549, 'SKILLS'), (3603, 3613, 'SKILLS'), (3663, 3673, 'SKILLS'), (3787, 3797, 'SKILLS'), (338, 347, 'SKILLS'), (1396, 1407, 'SKILLS'), (2325, 2329, 'SKILLS'), (501, 510, 'SKILLS'), (347, 361, 'SKILLS'), (2197, 2211, 'SKILLS'), (85, 96, 'SKILLS'), (704, 715, 'SKILLS'), (2697, 2708, 'SKILLS'), (3818, 3829, 'SKILLS'), (80, 85, 'SKILLS'), (96, 103, 'SKILLS'), (734, 741, 'SKILLS'), (2708, 2715, 'SKILLS'), (3839, 3846, 'SKILLS'), (393, 407, 'SKILLS'), (3016, 3022, 'SKILLS'), (3716, 3727, 'SKILLS'), (533, 540, 'SKILLS'), (27, 34, 'SKILLS'), (516, 523, 'SKILLS'), (760, 767, 'SKILLS'), (1582, 1589, 'SKILLS'), (2588, 2595, 'SKILLS'), (3474, 3481, 'SKILLS'), (491, 499, 'SKILLS'), (523, 529, 'SKILLS'), (3481, 3487, 'SKILLS'), (361, 367, 'SKILLS'), (3849, 3859, 'SKILLS'), (387, 393, 'SKILLS'), (410, 412, 'SKILLS'), (415, 417, 'SKILLS'), (3864, 3866, 'SKILLS'), (3869, 3871, 'SKILLS')]}] ,\n",
    "              ['software proficiency language basic c sql pl sql java javaee javascript html cs jquery mysql spring hibernate software tool xillinx modelsim matlab multisim operating system window xp vista 07 08 ubuntu project profile b e project fpga implementation team size 4 role programmer aes algorithm aes advanced encryption standard used cryptography protect data encrypted secret key e project sorting robot team size 3 role mechanism designer tc 230 sensor sort rgb color ball according color diploma project rfid based student team size 4 role interface attendance system using gsm student show rfid card message send via gsm parent ward present education detail may 2016 b e savitribai phule pune maharashtra pune university march 2010 c maharashtra board devops engineer skill detail c exprience 6 month c exprience 6 month sql exprience 6 month pl sql exprience 6 month core java exprience 6 month javascript exprience le 1 year month html exprience le 1 year month cs exprience le 1 year month jquery exprience le 1 year month javaee exprience le 1 year month mysql exprience le 1 year month python exprience 6 monthscompany detail company parkar consulting lab description working devops team parkar consulting lab hand aws well python', \n",
    "               {'entities': [(80, 86, 'SKILLS'), (994, 1000, 'SKILLS'), (49, 53, 'SKILLS'), (874, 878, 'SKILLS'), (388, 395, 'SKILLS'), (38, 41, 'SKILLS'), (45, 48, 'SKILLS'), (822, 825, 'SKILLS'), (847, 850, 'SKILLS'), (0, 8, 'SKILLS'), (110, 118, 'SKILLS'), (36, 37, 'SKILLS'), (733, 734, 'SKILLS'), (782, 783, 'SKILLS'), (802, 803, 'SKILLS'), (1092, 1098, 'SKILLS'), (1230, 1236, 'SKILLS'), (753, 759, 'SKILLS'), (1182, 1188, 'SKILLS'), (141, 147, 'SKILLS'), (574, 577, 'SKILLS'), (618, 621, 'SKILLS'), (100, 109, 'SKILLS'), (61, 71, 'SKILLS'), (897, 907, 'SKILLS'), (396, 401, 'SKILLS'), (93, 99, 'SKILLS'), (157, 173, 'SKILLS'), (196, 202, 'SKILLS'), (49, 53, 'SKILLS'), (874, 878, 'SKILLS'), (283, 292, 'SKILLS'), (331, 343, 'SKILLS'), (87, 92, 'SKILLS'), (1060, 1065, 'SKILLS'), (306, 316, 'SKILLS'), (72, 76, 'SKILLS'), (934, 938, 'SKILLS'), (61, 72, 'SKILLS'), (897, 908, 'SKILLS'), (49, 54, 'SKILLS'), (874, 879, 'SKILLS'), (80, 87, 'SKILLS'), (994, 1001, 'SKILLS'), (1092, 1099, 'SKILLS'), (87, 93, 'SKILLS'), (1060, 1066, 'SKILLS'), (196, 203, 'SKILLS'), (0, 9, 'SKILLS'), (110, 119, 'SKILLS'), (283, 293, 'SKILLS'), (93, 100, 'SKILLS'), (100, 110, 'SKILLS'), (396, 402, 'SKILLS'), (388, 396, 'SKILLS'), (753, 760, 'SKILLS'), (1182, 1189, 'SKILLS'), (306, 317, 'SKILLS'), (331, 344, 'SKILLS'), (36, 38, 'SKILLS'), (733, 735, 'SKILLS'), (782, 784, 'SKILLS'), (802, 804, 'SKILLS')]}]]\n",
    "train_Data"
   ]
  },
  {
   "cell_type": "code",
   "execution_count": 7,
   "id": "1c7aca6f",
   "metadata": {},
   "outputs": [],
   "source": [
    "import spacy\n",
    "from spacy.tokens import DocBin\n",
    "from tqdm import tqdm\n",
    "nlp = spacy.blank('en') # load a new spacy model\n",
    "db = DocBin() # create a DocBin object"
   ]
  },
  {
   "cell_type": "code",
   "execution_count": 8,
   "id": "a28ca578",
   "metadata": {},
   "outputs": [],
   "source": [
    "#doc.ents[0] , type(doc.ents[0])"
   ]
  },
  {
   "cell_type": "code",
   "execution_count": 11,
   "id": "f785f20a",
   "metadata": {
    "scrolled": true
   },
   "outputs": [
    {
     "name": "stderr",
     "output_type": "stream",
     "text": [
      "100%|██████████| 10/10 [00:00<00:00, 126.75it/s]\n"
     ]
    }
   ],
   "source": [
    "from spacy.util import filter_spans\n",
    "\n",
    "for text, annot in tqdm(trainData['annotations']): # data in previous format\n",
    "    doc = nlp.make_doc(text) # create doc object from text\n",
    "    ents = []\n",
    "    for start, end, label in annot['entities']: # add character indexes\n",
    "        span = doc.char_span(start, end, label=label, alignment_mode='contract')\n",
    "        if span is None:\n",
    "            print('Skipping entity')\n",
    "        else:\n",
    "            ents.append(span)\n",
    "    try:\n",
    "        doc.ents = ents # label the text with the ents\n",
    "        db.add(doc)\n",
    "    except:\n",
    "        print(text, annot)\n",
    "db.to_disk('./train.spacy') # save the docbin object"
   ]
  },
  {
   "cell_type": "code",
   "execution_count": 12,
   "id": "f9c5a398",
   "metadata": {},
   "outputs": [
    {
     "name": "stdout",
     "output_type": "stream",
     "text": [
      "\u001b[38;5;2m[+] Auto-filled config with all values\u001b[0m\n",
      "\u001b[38;5;2m[+] Saved config\u001b[0m\n",
      "config.cfg\n",
      "You can now add your data and train your pipeline:\n",
      "python -m spacy train config.cfg --paths.train ./train.spacy --paths.dev ./dev.spacy\n"
     ]
    }
   ],
   "source": [
    "!python -m spacy init fill-config base_config.cfg config.cfg"
   ]
  },
  {
   "cell_type": "code",
   "execution_count": 13,
   "id": "cf479644",
   "metadata": {
    "scrolled": true
   },
   "outputs": [
    {
     "name": "stdout",
     "output_type": "stream",
     "text": [
      "\u001b[38;5;4m[i] Saving to output directory: output\u001b[0m\n",
      "\u001b[38;5;4m[i] Using CPU\u001b[0m\n",
      "\u001b[1m\n",
      "=========================== Initializing pipeline ===========================\u001b[0m\n",
      "\u001b[38;5;2m[+] Initialized pipeline\u001b[0m\n",
      "\u001b[1m\n",
      "============================= Training pipeline =============================\u001b[0m\n",
      "\u001b[38;5;4m[i] Pipeline: ['tok2vec', 'ner']\u001b[0m\n",
      "\u001b[38;5;4m[i] Initial learn rate: 0.001\u001b[0m\n",
      "E    #       LOSS TOK2VEC  LOSS NER  ENTS_F  ENTS_P  ENTS_R  SCORE \n",
      "---  ------  ------------  --------  ------  ------  ------  ------\n",
      "  0       0          0.00    206.17    1.10    0.71    2.51    0.01\n",
      " 20     200         64.68   8671.61   96.55   95.63   97.49    0.97\n",
      " 40     400        123.17    783.18   96.75   94.20   99.44    0.97\n",
      " 60     600        168.85    507.22   99.45   98.90  100.00    0.99\n",
      " 80     800        106.50    227.80   99.03   98.35   99.72    0.99\n",
      "100    1000        341.41    383.09  100.00  100.00  100.00    1.00\n",
      "120    1200        107.05    140.39   99.86   99.72  100.00    1.00\n",
      "140    1400        129.83    159.12  100.00  100.00  100.00    1.00\n",
      "160    1600         64.70     79.14  100.00  100.00  100.00    1.00\n",
      "180    1800         98.24    121.66  100.00  100.00  100.00    1.00\n",
      "200    2000         56.48     69.77  100.00  100.00  100.00    1.00\n",
      "220    2200        169.25    178.34  100.00  100.00  100.00    1.00\n",
      "240    2400         67.42     72.01  100.00  100.00  100.00    1.00\n",
      "260    2600         34.19     30.04   99.58  100.00   99.16    1.00\n",
      "\u001b[38;5;2m[+] Saved pipeline to output directory\u001b[0m\n",
      "output\\model-last\n"
     ]
    },
    {
     "name": "stderr",
     "output_type": "stream",
     "text": [
      "[2023-02-22 10:59:33,868] [INFO] Set up nlp object from config\n",
      "[2023-02-22 10:59:33,878] [INFO] Pipeline: ['tok2vec', 'ner']\n",
      "[2023-02-22 10:59:33,886] [INFO] Created vocabulary\n",
      "[2023-02-22 10:59:35,030] [INFO] Added vectors: en_core_web_lg\n",
      "[2023-02-22 10:59:36,037] [INFO] Finished initializing nlp object\n",
      "[2023-02-22 10:59:41,031] [INFO] Initialized pipeline components: ['tok2vec', 'ner']\n"
     ]
    }
   ],
   "source": [
    "!python -m spacy train config.cfg --output ./output --paths.train ./train.spacy --paths.dev ./train.spacy"
   ]
  },
  {
   "cell_type": "code",
   "execution_count": null,
   "id": "0014a09c",
   "metadata": {
    "scrolled": false
   },
   "outputs": [],
   "source": [
    "#!python -m spacy debug data config.cfg --code --ignore-warnings --verbose --no-format --overrides ./train.spacy"
   ]
  },
  {
   "cell_type": "markdown",
   "id": "3096419e",
   "metadata": {},
   "source": [
    "# Test the model"
   ]
  },
  {
   "cell_type": "code",
   "execution_count": 54,
   "id": "73b05f8c",
   "metadata": {},
   "outputs": [
    {
     "ename": "SyntaxError",
     "evalue": "invalid syntax (2055913322.py, line 1)",
     "output_type": "error",
     "traceback": [
      "\u001b[1;36m  File \u001b[1;32m\"C:\\Users\\trainee\\AppData\\Local\\Temp\\ipykernel_18688\\2055913322.py\"\u001b[1;36m, line \u001b[1;32m1\u001b[0m\n\u001b[1;33m    spacy evaluate .output\\model-last ./test-data.spacy\u001b[0m\n\u001b[1;37m          ^\u001b[0m\n\u001b[1;31mSyntaxError\u001b[0m\u001b[1;31m:\u001b[0m invalid syntax\n"
     ]
    }
   ],
   "source": [
    "spacy evaluate .output\\model-last ./test-data.spacy"
   ]
  },
  {
   "cell_type": "code",
   "execution_count": 38,
   "id": "18e092dd",
   "metadata": {},
   "outputs": [],
   "source": [
    "import spacy\n",
    "nlp = spacy.load('output\\model-best') #load the model"
   ]
  },
  {
   "cell_type": "code",
   "execution_count": 39,
   "id": "b8ba9e4b",
   "metadata": {},
   "outputs": [
    {
     "data": {
      "text/html": [
       "<span class=\"tex2jax_ignore\"><div class=\"entities\" style=\"line-height: 2.5; direction: ltr\">We are looking for a Backend Developer who has 4-6 years of experience in designing, \n",
       "<mark class=\"entity\" style=\"background: #ddd; padding: 0.45em 0.6em; margin: 0 0.25em; line-height: 1; border-radius: 0.35em;\">\n",
       "    developing\n",
       "    <span style=\"font-size: 0.8em; font-weight: bold; line-height: 1; border-radius: 0.35em; vertical-align: middle; margin-left: 0.5rem\">SKILLS</span>\n",
       "</mark>\n",
       " and implementing backend services using \n",
       "<mark class=\"entity\" style=\"background: #ddd; padding: 0.45em 0.6em; margin: 0 0.25em; line-height: 1; border-radius: 0.35em;\">\n",
       "    Python\n",
       "    <span style=\"font-size: 0.8em; font-weight: bold; line-height: 1; border-radius: 0.35em; vertical-align: middle; margin-left: 0.5rem\">SKILLS</span>\n",
       "</mark>\n",
       " and \n",
       "<mark class=\"entity\" style=\"background: #ddd; padding: 0.45em 0.6em; margin: 0 0.25em; line-height: 1; border-radius: 0.35em;\">\n",
       "    Django.\n",
       "    <span style=\"font-size: 0.8em; font-weight: bold; line-height: 1; border-radius: 0.35em; vertical-align: middle; margin-left: 0.5rem\">SKILLS</span>\n",
       "</mark>\n",
       "</div></span>"
      ],
      "text/plain": [
       "<IPython.core.display.HTML object>"
      ]
     },
     "metadata": {},
     "output_type": "display_data"
    }
   ],
   "source": [
    "sentence = 'We are looking for a Backend Developer who has 4-6 years of experience in designing, developing and implementing backend services using Python and Django.'\n",
    "doc = nlp(sentence)\n",
    "from spacy import displacy\n",
    "displacy.render(doc, style='ent', jupyter=True)"
   ]
  },
  {
   "cell_type": "code",
   "execution_count": 40,
   "id": "0f14c8e5",
   "metadata": {
    "collapsed": true
   },
   "outputs": [
    {
     "data": {
      "text/plain": [
       "'1:::Senior Systems Administrator;Systems Administrator II:::Senior Systems Administrator Brownsville, TX Authorized to work in United States for any employer Work Experience Senior Systems Administrator Trico Products - Brownsville, TX October 2016 to October 2018 Senior Systems Administrator for Trico Products Corporation: Technical lead for the Infrastructure Group at the following Locations:  North America Locations: Brownville, Tx where I was based, Rochester Hills, MI, Logansport, IN, Marion, SC and Matamoros Tamaulipas Mexico.  Global Locations: UK, China, Australia, Argentina, Brazil Performed the following duties:  Project Manager  Technical Lead  Team Leader Projects Implemented:  Global MPLS service provider replacement  Global Router replacement  Cisco Nexus 3k and 9k core switch installations at 2 Datacenters  EMC VxRail HCI deployment at New Datacenter - Migration of virtual servers to new centralized Datacenter, Implemented new cloud backup system  Office 365 Global implementation and Email migration to Cloud including Skype and OneDrive  Carbon Black Antivirus Deployment Skills:  Cisco Routing and Switching configuration, implementation and troubleshooting  LAN/WAN support and troubleshooting  MPLS, BGP,EIGRP,OSPF  DHCP, DNS, WINS, Active Directory Administration  Motorola WING Wireless network configuration  VMware vSphere 5.0, 5.5, 6.5 Install, Configure, Manage  VxRail 4.5 , VSAN 6.5 Install, Configure, Manage  Cisco UCS and HP ProLiant Rack Servers  Windows Server 2008 R2, 2012R2, 2016  Windows 7 and Windows 10 Systems Administrator II Trico Products - Brownsville, TX June 2007 to October 2016 Systems Administrator for Trico Products Responsibilities:  Windows Server Administration  Citrix Xenapp Administration  Windows XP, Windows 7 OS support  LAN/WAN support and troubleshooting Education Associate in Drafting Technology University of Texas at Brownsville Brownsville, TXAugust 1990 to May 1993\\r'"
      ]
     },
     "execution_count": 40,
     "metadata": {},
     "output_type": "execute_result"
    }
   ],
   "source": [
    "trainData['annotations'][0][0]\n"
   ]
  },
  {
   "cell_type": "code",
   "execution_count": 42,
   "id": "b497b298",
   "metadata": {
    "collapsed": true
   },
   "outputs": [
    {
     "name": "stdout",
     "output_type": "stream",
     "text": [
      "SKILLS                        - Office 365\n",
      "SKILLS                        - Skype\n",
      "SKILLS                        - OneDrive\n",
      "SKILLS                        - Cisco Routing\n",
      "SKILLS                        - Switching configuration\n",
      "SKILLS                        - implementation\n",
      "SKILLS                        - troubleshooting\n",
      "SKILLS                        - LAN/WAN support\n",
      "SKILLS                        - MPLS\n",
      "SKILLS                        - BGP\n",
      "SKILLS                        - EIGRP\n",
      "SKILLS                        - OSPF\n",
      "SKILLS                        - DHCP\n",
      "SKILLS                        - DNS\n",
      "SKILLS                        - WINS\n",
      "SKILLS                        - Active Directory\n",
      "SKILLS                        - VMware\n",
      "SKILLS                        - vSphere\n",
      "SKILLS                        - Windows Server 2008 R2\n",
      "SKILLS                        - Windows 7\n",
      "SKILLS                        - Windows 10\n",
      "SKILLS                        - Xenapp Administration\n",
      "SKILLS                        - Windows XP\n",
      "SKILLS                        - Windows 7\n",
      "SKILLS                        - OS support\n"
     ]
    }
   ],
   "source": [
    "doc = nlp(trainData['annotations'][0][0])\n",
    "for ent in doc.ents:\n",
    "    print(f'{ent.label_.upper():{30}}- {ent.text}')"
   ]
  },
  {
   "cell_type": "code",
   "execution_count": 44,
   "id": "cd607242",
   "metadata": {},
   "outputs": [],
   "source": [
    "sent = 'Vineeth Vijayan \"Store Executive\" - Orange City Hospital & Research Institute  Nagpur, Maharashtra, Maharashtra - Email me on Indeed: indeed.com/r/Vineeth-Vijayan/ ee84e7ea0695181f  I have over 2 years of experience working as a \"Store Executive\" in a reputed big organisation based in India. I am a hard worker and a very good learner. I aspire to grow in my career by joining a good organisation.  I am good at work and people management. I possess good computer knowledge. I have underwent training in courses like MS Excel Level 1, 2 &amp; 3. MS Word &amp; Powerpoint. I have experience working in ERP. I am a certified ISO 27001: 2013 Internal Auditor.  Willing to relocate: Anywhere  WORK EXPERIENCE  \"Store Executive\"  Orange City Hospital & Research Institute -  Nagpur, Maharashtra -  March 2016 to Present  Job Profile: - 1. Keep records to maintain inventory control, cost containment and to assure proper stock levels. 2. Rotate stock and arrange for disposal of surpluses. 3. Plan and perform work that involves ordering, receiving, inspecting, returning, unloading, shelving, packing, labeling and maintaining a perpetual inventory of items. 4. Coordinate freight handling, equipment moving and minor repairs. 5. Perform peripheral site-specific duties as required and instructed by supervisors. 6. Monitoring and updating stock details etc. in Mednet store software. Use ABC, VED &amp; FSN Stock Analysis methods when required. 7. Report any stock discrepancy to supervisor for appropriate action.  \"HR Officer \"  Gulf Warehousing Company Qatar - Agility Group -  January 2012 to July 2015  a multinational company catering Customers in the field of Warehousing, Freight Forwarding, Records Management, Courier and International Relocation Services.  Job Profile: - 1. Deliver new hires orientation program to enable new hires to adjust themselves to new working environment and facilitating newcomers joining formalities. 2. Design and develop Training Calendar and budget for all type of training programs, for the year ahead for all designations within the company, according to the needs of the business and Training Need Analysis survey results.  https://www.indeed.com/r/Vineeth-Vijayan/ee84e7ea0695181f?isid=rex-download&ikw=download-top&co=IN https://www.indeed.com/r/Vineeth-Vijayan/ee84e7ea0695181f?isid=rex-download&ikw=download-top&co=IN   3. Sourcing and coordinating with external vendors for training that are requested by line managers/departments. 4. Maintaining employee training records and updating it on a regular basis. 5. Assist Supervisors in developing and implementing changes in HR policies and procedures. 6. Coordinate in conducting employee engagement programs. 7. Support departments in complying with ISO Quality Management requirements and facilitate various HR related welfare activities.  \"Training Coordinator\"  M-Squared Software & Services - Kerala -  Kerala, IN -  July 2010 to December 2011  a US based company with headquarters in Nevada, Las Vegas that deals with security gadgets, medical transcription and software development.  Job Profile: - 1. Perform regular office administration duties that includes: Office infrastructure management, housekeeping supervision, responding and sending e-mails to head office and clients, monitoring time-in &amp; time-out of employees, managing employee leave status and office cash management. 2. Handle walk-in enquires, attend telephone calls and conduct course induction sessions for new joiners. 3. Train the students in work related processes. 4. Anchoring and conducting course related seminars in well-established educational institutions. 5. Manage training materials that are stipulated within the company regulations. 6. Formulating training programs and sending it to training manager and to all concerned departments for approval. 7. Preparing tools for training. 8. Organize the training that includes: distribution of training materials, monitor trainees in training and support trainers in training. 9. Record training plans and training programs. 10. Maintain employees and students database. 11. Record results of evaluation and training. 12. Archive records of training, including course content, the training, number of students, results, and feedback. 13. Conduct team huddles/counseling sessions for trainees when required.  \"Manager\"  Nair IT Pvt. Ltd -  Nagpur, Maharashtra -  September 2008 to July 2010  Client: Accentia Oak Technologies.  Job Profile: - 1. To manage the day-to-day planning, operation and problem-solving of the team to meet the required service level components, quality and productivity targets of the client.    2. Delivery of team statistics, quality and productivity targets &amp; indicators, taking note any downtime during the day and report it to the management level superiors. 3. Operational Management: Managing the floor, adherence to schedule and monitoring of attendance. Submits daily report to the management level superiors. 4. Monitoring the portal periodically, prioritizing jobs according to TAT, and assigning jobs to correct work pool. 5. Coaching and relaying feedback to MTs/Editors. 6. To motivate the team to achieve the client targets. Update the team on the status of work at the start and end of each shift. 7. Compiling reports on team\\'s performance and client feedback.  \"Process Executive\" in Infosys BPO Limited, Bangalore  CISCO -  Bengaluru, Karnataka -  January 2006 to July 2008  Job Profile: - 1. To handle end to end order placement process of Cisco. 2. Book orders for customers as per Cisco\\'s booking policies. 3. Customer advocacy. 4. Check and avail special discounts, services, licensing, upgrades etc., to the customers. 5. Receive customer feedback on products, services etc., and resolve them if any. 6. To work along with logistic team to ensure that the products reach precise destinations safely. 7. Provide round the clock 24/7 customer service to the client.  \"Sr. Medical Transcriptionist\"  DTS Information Systems Pvt. Ltd -  Bengaluru, Karnataka -  December 2004 to January 2006  in DTS Information Systems Pvt. Ltd, Bangalore (A wholly owned subsidiary of DTS America Inc., Tennessee, USA) from Dec 2004 - Jan 2006. Client: Vanderbilt University Medical Center, Nashville, Tennessee.  Job Profile: - 1. To transcribe documents pertaining to patient\\'s summary of illness, diseases and diagnostic procedures etc. to avail medical insurance claims as per American transcription guidelines. 2. To ensure that finished end document meets the clients TAT and Quality requirements. 3. To counsel MT\\'s regarding their errors etc and if needed conduct team huddles. Computer Exposure  Operating System: Windows XP Microsoft Office Package: MS Excel, MS Word, MS Access and Power Point. Experience in working on Oracle.  ❖ Completed MS Excel Level 1, 2 &amp; 3 Courses from New Horizons Computer Training Center, Qatar.    EDUCATION  B.Sc. in Microbiology in Microbiology  S.N.G College, Bharathiar University  April 2004  SKILLS  Storekeeping / Inventory Management / Purchase (2 years), People & Time Management (2 years)  ADDITIONAL INFORMATION  Competencies  ❖ Effective communications skills, excellent interpersonal skills, good time management skills, results-oriented individual and a very good team player. ❖ Sincere, hardworking and willing to take up challenging assignments.  Other Qualifications  ❖ ISO 27001: 2013 Internal Auditor Certification from Coms Vantage Consultancy, Qatar in October 2014 ❖ ISO 27001: 2013 Awareness Certification from Coms Vantage Consultancy, Qatar in September 2014 ❖ Carriage of Dangerous Goods by Road Certification in 2012 from IRU Academy in tie up with Mowasalat - State of Qatar owned Transport Company. ❖ First class in Hindi Parichaya Examination conducted by Dakshina Bharat Hindi Prachar Sabha. ❖ Second class in Prathamic Examination conducted by Dakshina Bharat Hindi Prachar Sabha'\n"
   ]
  },
  {
   "cell_type": "code",
   "execution_count": 45,
   "id": "2df649b4",
   "metadata": {},
   "outputs": [
    {
     "name": "stdout",
     "output_type": "stream",
     "text": [
      "SKILLS                        - MS Excel\n",
      "SKILLS                        - CISCO -\n",
      "SKILLS                        - Cisco.\n",
      "SKILLS                        - Windows XP\n",
      "SKILLS                        - MS Excel\n",
      "SKILLS                        - MS Word\n",
      "SKILLS                        - MS Access\n",
      "SKILLS                        - People &\n",
      "SKILLS                        - team\n"
     ]
    }
   ],
   "source": [
    "doc = nlp(sent)\n",
    "for ent in doc.ents:\n",
    "    print(f'{ent.label_.upper():{30}}- {ent.text}')"
   ]
  },
  {
   "cell_type": "code",
   "execution_count": 34,
   "id": "44ac1cb8",
   "metadata": {
    "collapsed": true
   },
   "outputs": [
    {
     "name": "stdout",
     "output_type": "stream",
     "text": [
      "Collecting fitz\n",
      "  Downloading fitz-0.0.1.dev2-py2.py3-none-any.whl (20 kB)\n",
      "Collecting configobj\n",
      "  Downloading configobj-5.0.8-py2.py3-none-any.whl (36 kB)\n",
      "Requirement already satisfied: pandas in c:\\users\\trainee\\anaconda3\\lib\\site-packages (from fitz) (1.4.4)\n",
      "Collecting configparser\n",
      "  Downloading configparser-5.3.0-py3-none-any.whl (19 kB)\n",
      "Requirement already satisfied: numpy in c:\\users\\trainee\\anaconda3\\lib\\site-packages (from fitz) (1.21.5)\n",
      "Collecting pyxnat\n",
      "  Downloading pyxnat-1.5-py3-none-any.whl (95 kB)\n",
      "     -------------------------------------- 95.3/95.3 kB 340.3 kB/s eta 0:00:00\n",
      "Collecting nipype\n",
      "  Downloading nipype-1.8.5-py3-none-any.whl (3.2 MB)\n",
      "     ---------------------------------------- 3.2/3.2 MB 4.1 MB/s eta 0:00:00\n",
      "Collecting httplib2\n",
      "  Downloading httplib2-0.21.0-py3-none-any.whl (96 kB)\n",
      "     -------------------------------------- 96.8/96.8 kB 503.2 kB/s eta 0:00:00\n",
      "Collecting nibabel\n",
      "  Downloading nibabel-5.0.1-py3-none-any.whl (3.3 MB)\n",
      "     ---------------------------------------- 3.3/3.3 MB 4.3 MB/s eta 0:00:00\n",
      "Requirement already satisfied: scipy in c:\\users\\trainee\\anaconda3\\lib\\site-packages (from fitz) (1.9.1)\n",
      "Requirement already satisfied: six in c:\\users\\trainee\\anaconda3\\lib\\site-packages (from configobj->fitz) (1.16.0)\n",
      "Requirement already satisfied: pyparsing!=3.0.0,!=3.0.1,!=3.0.2,!=3.0.3,<4,>=2.4.2 in c:\\users\\trainee\\anaconda3\\lib\\site-packages (from httplib2->fitz) (3.0.9)\n",
      "Requirement already satisfied: packaging>=17 in c:\\users\\trainee\\anaconda3\\lib\\site-packages (from nibabel->fitz) (21.3)\n",
      "Requirement already satisfied: setuptools in c:\\users\\trainee\\anaconda3\\lib\\site-packages (from nibabel->fitz) (63.4.1)\n",
      "Collecting pydot>=1.2.3\n",
      "  Downloading pydot-1.4.2-py2.py3-none-any.whl (21 kB)\n",
      "Requirement already satisfied: networkx>=2.0 in c:\\users\\trainee\\anaconda3\\lib\\site-packages (from nipype->fitz) (2.8.4)\n",
      "Collecting traits!=5.0,<6.4,>=4.6\n",
      "  Downloading traits-6.3.2-cp39-cp39-win_amd64.whl (5.0 MB)\n",
      "     ---------------------------------------- 5.0/5.0 MB 1.8 MB/s eta 0:00:00\n",
      "Collecting simplejson>=3.8.0\n",
      "  Downloading simplejson-3.18.3-cp39-cp39-win_amd64.whl (74 kB)\n",
      "     ---------------------------------------- 74.9/74.9 kB 1.0 MB/s eta 0:00:00\n",
      "Requirement already satisfied: click>=6.6.0 in c:\\users\\trainee\\anaconda3\\lib\\site-packages (from nipype->fitz) (8.0.4)\n",
      "Collecting prov>=1.5.2\n",
      "  Downloading prov-2.0.0-py3-none-any.whl (421 kB)\n",
      "     -------------------------------------- 421.5/421.5 kB 2.6 MB/s eta 0:00:00\n",
      "Requirement already satisfied: filelock>=3.0.0 in c:\\users\\trainee\\anaconda3\\lib\\site-packages (from nipype->fitz) (3.6.0)\n",
      "Collecting rdflib>=5.0.0\n",
      "  Downloading rdflib-6.2.0-py3-none-any.whl (500 kB)\n",
      "     -------------------------------------- 500.3/500.3 kB 2.0 MB/s eta 0:00:00\n",
      "Collecting etelemetry>=0.2.0\n",
      "  Downloading etelemetry-0.3.0-py3-none-any.whl (6.3 kB)\n",
      "Requirement already satisfied: python-dateutil>=2.2 in c:\\users\\trainee\\anaconda3\\lib\\site-packages (from nipype->fitz) (2.8.2)\n",
      "Collecting looseversion\n",
      "  Downloading looseversion-1.1.1-py3-none-any.whl (8.1 kB)\n",
      "Requirement already satisfied: pytz>=2020.1 in c:\\users\\trainee\\anaconda3\\lib\\site-packages (from pandas->fitz) (2022.1)\n",
      "Requirement already satisfied: lxml>=4.3 in c:\\users\\trainee\\anaconda3\\lib\\site-packages (from pyxnat->fitz) (4.9.1)\n",
      "Requirement already satisfied: requests>=2.20 in c:\\users\\trainee\\anaconda3\\lib\\site-packages (from pyxnat->fitz) (2.28.1)\n",
      "Requirement already satisfied: pathlib>=1.0 in c:\\users\\trainee\\anaconda3\\lib\\site-packages (from pyxnat->fitz) (1.0.1)\n",
      "Requirement already satisfied: future>=0.16 in c:\\users\\trainee\\anaconda3\\lib\\site-packages (from pyxnat->fitz) (0.18.2)\n",
      "Requirement already satisfied: colorama in c:\\users\\trainee\\anaconda3\\lib\\site-packages (from click>=6.6.0->nipype->fitz) (0.4.6)\n",
      "Collecting ci-info>=0.2\n",
      "  Downloading ci_info-0.3.0-py3-none-any.whl (7.8 kB)\n",
      "Collecting isodate\n",
      "  Downloading isodate-0.6.1-py2.py3-none-any.whl (41 kB)\n",
      "     -------------------------------------- 41.7/41.7 kB 403.6 kB/s eta 0:00:00\n",
      "Requirement already satisfied: charset-normalizer<3,>=2 in c:\\users\\trainee\\anaconda3\\lib\\site-packages (from requests>=2.20->pyxnat->fitz) (2.0.4)\n",
      "Requirement already satisfied: certifi>=2017.4.17 in c:\\users\\trainee\\anaconda3\\lib\\site-packages (from requests>=2.20->pyxnat->fitz) (2022.9.14)\n",
      "Requirement already satisfied: idna<4,>=2.5 in c:\\users\\trainee\\anaconda3\\lib\\site-packages (from requests>=2.20->pyxnat->fitz) (3.3)\n",
      "Requirement already satisfied: urllib3<1.27,>=1.21.1 in c:\\users\\trainee\\anaconda3\\lib\\site-packages (from requests>=2.20->pyxnat->fitz) (1.26.11)\n",
      "Installing collected packages: traits, simplejson, pydot, looseversion, isodate, httplib2, configparser, configobj, ci-info, rdflib, pyxnat, nibabel, etelemetry, prov, nipype, fitz\n",
      "Successfully installed ci-info-0.3.0 configobj-5.0.8 configparser-5.3.0 etelemetry-0.3.0 fitz-0.0.1.dev2 httplib2-0.21.0 isodate-0.6.1 looseversion-1.1.1 nibabel-5.0.1 nipype-1.8.5 prov-2.0.0 pydot-1.4.2 pyxnat-1.5 rdflib-6.2.0 simplejson-3.18.3 traits-6.3.2\n"
     ]
    }
   ],
   "source": [
    "#!pip install fitz"
   ]
  },
  {
   "cell_type": "code",
   "execution_count": 35,
   "id": "e70f7540",
   "metadata": {
    "collapsed": true
   },
   "outputs": [
    {
     "name": "stdout",
     "output_type": "stream",
     "text": [
      "Collecting frontend\n",
      "  Downloading frontend-0.0.3-py3-none-any.whl (32 kB)\n",
      "Collecting uvicorn>=0.7.1\n",
      "  Downloading uvicorn-0.20.0-py3-none-any.whl (56 kB)\n",
      "     -------------------------------------- 56.9/56.9 kB 740.3 kB/s eta 0:00:00\n",
      "Collecting aiofiles\n",
      "  Downloading aiofiles-23.1.0-py3-none-any.whl (14 kB)\n",
      "Collecting starlette>=0.12.0\n",
      "  Downloading starlette-0.25.0-py3-none-any.whl (66 kB)\n",
      "     -------------------------------------- 66.4/66.4 kB 891.6 kB/s eta 0:00:00\n",
      "Requirement already satisfied: itsdangerous>=1.1.0 in c:\\users\\trainee\\anaconda3\\lib\\site-packages (from frontend) (2.0.1)\n",
      "Requirement already satisfied: anyio<5,>=3.4.0 in c:\\users\\trainee\\anaconda3\\lib\\site-packages (from starlette>=0.12.0->frontend) (3.5.0)\n",
      "Requirement already satisfied: typing-extensions>=3.10.0 in c:\\users\\trainee\\anaconda3\\lib\\site-packages (from starlette>=0.12.0->frontend) (4.3.0)\n",
      "Requirement already satisfied: click>=7.0 in c:\\users\\trainee\\anaconda3\\lib\\site-packages (from uvicorn>=0.7.1->frontend) (8.0.4)\n",
      "Collecting h11>=0.8\n",
      "  Downloading h11-0.14.0-py3-none-any.whl (58 kB)\n",
      "     -------------------------------------- 58.3/58.3 kB 510.8 kB/s eta 0:00:00\n",
      "Requirement already satisfied: idna>=2.8 in c:\\users\\trainee\\anaconda3\\lib\\site-packages (from anyio<5,>=3.4.0->starlette>=0.12.0->frontend) (3.3)\n",
      "Requirement already satisfied: sniffio>=1.1 in c:\\users\\trainee\\anaconda3\\lib\\site-packages (from anyio<5,>=3.4.0->starlette>=0.12.0->frontend) (1.2.0)\n",
      "Requirement already satisfied: colorama in c:\\users\\trainee\\anaconda3\\lib\\site-packages (from click>=7.0->uvicorn>=0.7.1->frontend) (0.4.6)\n",
      "Installing collected packages: h11, aiofiles, uvicorn, starlette, frontend\n",
      "Successfully installed aiofiles-23.1.0 frontend-0.0.3 h11-0.14.0 starlette-0.25.0 uvicorn-0.20.0\n"
     ]
    }
   ],
   "source": [
    "#!pip install frontend"
   ]
  },
  {
   "cell_type": "code",
   "execution_count": 36,
   "id": "3747b618",
   "metadata": {
    "collapsed": true
   },
   "outputs": [
    {
     "name": "stdout",
     "output_type": "stream",
     "text": [
      "Collecting pymupdf\n",
      "  Downloading PyMuPDF-1.21.1-cp39-cp39-win_amd64.whl (11.7 MB)\n",
      "     ---------------------------------------- 11.7/11.7 MB 5.0 MB/s eta 0:00:00\n",
      "Installing collected packages: pymupdf\n",
      "Successfully installed pymupdf-1.21.1\n"
     ]
    }
   ],
   "source": [
    "#!pip install pymupdf"
   ]
  },
  {
   "cell_type": "code",
   "execution_count": 37,
   "id": "324d78a1",
   "metadata": {
    "scrolled": false
   },
   "outputs": [],
   "source": [
    "import sys\n",
    "import fitz\n",
    "import os"
   ]
  },
  {
   "cell_type": "code",
   "execution_count": 48,
   "id": "132fbee9",
   "metadata": {},
   "outputs": [],
   "source": [
    "resume_txt = \"\"\"RESUME  Abneet Wats      Vasai Virar, Mumbai 401208 abneetwats24@gmail.com +91 9373119739  To be a part of a challenging environment that enhances my skills, through which I would like to enrich the knowledge resource of the company and work towards its success.  EXPERIENCE  SKILLS  Openspace Services Pvt. Ltd., Mumbai-Python Developer JAN 2020 - PRESENT Working on Computer Vision and Natural Language Processing using Deep Neural Network.  INTERNSHIPS  Openspace Services Pvt. Ltd., Mumbai-Python Developer - Intern DEC 2019 - DEC 2020 Worked on rule based text extraction, tesseract, classification model using Convolution Neural Network.  Dongre Technoquip Pvt. Ltd., Mumbai  Software Engineer - PHP(Intern) JUN 2019 - NOV 2019 Worked designing and optimizing the database of CRM for Bisleri and the core product of the company.  EDUCATION  Government Engineering College, Patan  BE Computer Science JUN 2016 - JUN 2020 CGPA : 8.29/10  Kendriya Vidyalaya No 2, Surat  HSC APR 2015 - MAY 2016 Percentage : 76.8%.  Technologies : Python, MySQL  Theory : Neural Network, Computer Vision, Vector Algebra, Classification and regression ML algorithms  Library : OpenCV, Tensorflow2.0, Hugging Face NLP, Scikit-Learn, Keras  ACHIEVEMENTS  Grand Finalist of Smart India Hackathon 2017(SIH-17)  Grand Finalist of Smart City Rajkot Hackathon 2017  VOLUNTEERSHIP  National Service Scheme(2017-2019)  LANGUAGES  English, Hindi  WORK SAMPLE  abneetwats24 (Abneet Wats)  GitHub    \\x0c  CERTIFICATIONS  Python for Data Science and AI by IBM (Online Coursera)  Machine Learning by Andrew Ng (Online Coursera Stanford University)  Kendriya Vidyalaya No 3, Gandhinagar  SSC APR 2013 - MAY 2014 CGPA : 9/10  PROJECTS  Resume Data Extraction  (OPENSPACE SERVICES) Information like Name, CollegeName, Skills are extracted from resumes of any format. Manual sequence tagging is done for training the neural network.  Technologies : Natural Language Processing, Named Entity Recognition, Tensorflow2.0, Python3   Algorithm : BiDirectional LSTM output layer  with Glove6B100d embedding layer  Invoice Entity Detection  (OPENSPACE SERVICES) Entity like Invoice No., Invoice Date, GST No. are to be detected from Invoice. Using custom training of pre-trained tensorflow ssd-mobilenet model  Technologies : Computer Vision, Tensorflow Object Detection from pretrained model, Python3  Algorithm : Object Detection in image then applying NLP to extract structured data using NER  Hindi International Phonetic Alphabet(IPA) Predictor  (OPENSPACE SERVICES)(POC) Predictive POC project which predicts  the Hindi IPA pronunciation of english words.  Technologies : NLP, Sequence2Sequence encoder decoder, Tensorflow2.0, Python3  Algorithm : Recurrent Neural Network  Health Report Data Retrieval  (OPENSPACE SERVICES) Details like test name, patient test value, reference  value are extracted from scanned and soft copies of the health report using rule based text extraction.  Technologies : Convolution Neural Network, Tesseract, Rule - based text extraction, Python3  \\x0cAI-Letterpad  (BE MAJOR PROJECT) AI empowered blogging site whose functions includes: OCR of handwritten text for posting blogs.  Technologies : Tesseract(custom training), Laravel  House Price Prediction  (COURSE PROJECT) House Price Prediction implemented in octave  application using Linear Regression with Multiple Feature includes functions like: plotting data, feature normalization, cost computation, gradient descent, normal equation.  Technologies : Octave, Linear Regression\"\"\""
   ]
  },
  {
   "cell_type": "code",
   "execution_count": 51,
   "id": "d6c5cafd",
   "metadata": {},
   "outputs": [
    {
     "name": "stdout",
     "output_type": "stream",
     "text": [
      "Entities [('Python', 'SKILLS'), ('MySQL', 'SKILLS'), ('Scikit-Learn', 'SKILLS'), ('GitHub', 'SKILLS'), ('IBM', 'SKILLS'), ('Glove6B100d', 'SKILLS'), ('layer', 'SKILLS'), ('Python3', 'SKILLS'), ('Sequence2Sequence', 'SKILLS'), ('Rule -', 'SKILLS'), ('Python3', 'SKILLS'), ('AI-Letterpad', 'SKILLS')]\n",
      "SKILLS                        - Python\n",
      "SKILLS                        - MySQL\n",
      "SKILLS                        - Scikit-Learn\n",
      "SKILLS                        - GitHub\n",
      "SKILLS                        - IBM\n",
      "SKILLS                        - Glove6B100d\n",
      "SKILLS                        - layer\n",
      "SKILLS                        - Python3\n",
      "SKILLS                        - Sequence2Sequence\n",
      "SKILLS                        - Rule -\n",
      "SKILLS                        - Python3\n",
      "SKILLS                        - AI-Letterpad\n"
     ]
    }
   ],
   "source": [
    "#model = spacy.load('output\\model-best')\n",
    "resume = model(resume_txt)\n",
    "print(\"Entities\", [(ent.text, ent.label_) for ent in resume.ents])\n",
    "for ent in resume.ents:\n",
    "    print(f'{ent.label_.upper():{30}}- {ent.text}')"
   ]
  },
  {
   "cell_type": "code",
   "execution_count": null,
   "id": "3f490cc9",
   "metadata": {},
   "outputs": [],
   "source": []
  },
  {
   "cell_type": "markdown",
   "id": "609388d2",
   "metadata": {},
   "source": [
    "Load PDF files and convert to text:"
   ]
  },
  {
   "cell_type": "code",
   "execution_count": 53,
   "id": "e7ac54b5",
   "metadata": {
    "collapsed": true
   },
   "outputs": [
    {
     "ename": "AttributeError",
     "evalue": "'Page' object has no attribute 'getText'",
     "output_type": "error",
     "traceback": [
      "\u001b[1;31m---------------------------------------------------------------------------\u001b[0m",
      "\u001b[1;31mAttributeError\u001b[0m                            Traceback (most recent call last)",
      "\u001b[1;32m~\\AppData\\Local\\Temp\\ipykernel_18688\\3418272926.py\u001b[0m in \u001b[0;36m<module>\u001b[1;34m\u001b[0m\n\u001b[0;32m      3\u001b[0m \u001b[0mtext\u001b[0m \u001b[1;33m=\u001b[0m \u001b[1;34m\"\"\u001b[0m\u001b[1;33m\u001b[0m\u001b[1;33m\u001b[0m\u001b[0m\n\u001b[0;32m      4\u001b[0m \u001b[1;32mfor\u001b[0m \u001b[0mpage\u001b[0m \u001b[1;32min\u001b[0m \u001b[0mdoc\u001b[0m\u001b[1;33m:\u001b[0m\u001b[1;33m\u001b[0m\u001b[1;33m\u001b[0m\u001b[0m\n\u001b[1;32m----> 5\u001b[1;33m     \u001b[0mtext\u001b[0m \u001b[1;33m=\u001b[0m \u001b[0mtext\u001b[0m \u001b[1;33m+\u001b[0m \u001b[0mstr\u001b[0m\u001b[1;33m(\u001b[0m\u001b[0mpage\u001b[0m\u001b[1;33m.\u001b[0m\u001b[0mgetText\u001b[0m\u001b[1;33m(\u001b[0m\u001b[1;33m)\u001b[0m\u001b[1;33m)\u001b[0m\u001b[1;33m\u001b[0m\u001b[1;33m\u001b[0m\u001b[0m\n\u001b[0m\u001b[0;32m      6\u001b[0m \u001b[1;33m\u001b[0m\u001b[0m\n\u001b[0;32m      7\u001b[0m \u001b[0mtx\u001b[0m \u001b[1;33m=\u001b[0m \u001b[1;34m\" \"\u001b[0m\u001b[1;33m.\u001b[0m\u001b[0mjoin\u001b[0m\u001b[1;33m(\u001b[0m\u001b[0mtext\u001b[0m\u001b[1;33m.\u001b[0m\u001b[0msplit\u001b[0m\u001b[1;33m(\u001b[0m\u001b[1;34m'\\n'\u001b[0m\u001b[1;33m)\u001b[0m\u001b[1;33m)\u001b[0m\u001b[1;33m\u001b[0m\u001b[1;33m\u001b[0m\u001b[0m\n",
      "\u001b[1;31mAttributeError\u001b[0m: 'Page' object has no attribute 'getText'"
     ]
    }
   ],
   "source": [
    "fname = r'C:\\Users\\trainee\\Downloads\\Mohammed Khalaf\\CV.pdf'\n",
    "doc = fitz.open(fname)\n",
    "text = \"\"\n",
    "for page in doc:\n",
    "    text = text + str(page.getText())\n",
    "\n",
    "tx = \" \".join(text.split('\\n'))\n",
    "print(tx)"
   ]
  }
 ],
 "metadata": {
  "kernelspec": {
   "display_name": "Python 3 (ipykernel)",
   "language": "python",
   "name": "python3"
  },
  "language_info": {
   "codemirror_mode": {
    "name": "ipython",
    "version": 3
   },
   "file_extension": ".py",
   "mimetype": "text/x-python",
   "name": "python",
   "nbconvert_exporter": "python",
   "pygments_lexer": "ipython3",
   "version": "3.9.13"
  }
 },
 "nbformat": 4,
 "nbformat_minor": 5
}
